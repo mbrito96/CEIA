{
 "cells": [
  {
   "cell_type": "code",
   "execution_count": 1,
   "metadata": {},
   "outputs": [],
   "source": [
    "import pandas as pd\n",
    "from matplotlib import pyplot as plt\n",
    "from statsmodels.graphics.tsaplots import plot_acf\n",
    "import numpy as np\n",
    "import numpy as np\n",
    "import pandas as pd\n",
    "import seaborn as sns\n",
    "from sklearn.preprocessing import StandardScaler\n",
    "from sklearn.model_selection import train_test_split\n",
    "from sklearn.metrics import mean_squared_error\n",
    "from sklearn.metrics import r2_score\n",
    "from math import sqrt\n",
    "import matplotlib.pyplot as plt\n",
    "from mlxtend.plotting import scatterplotmatrix\n",
    "import warnings\n",
    "warnings.filterwarnings(\"ignore\")\n",
    "from imblearn.under_sampling import RandomUnderSampler\n",
    "from sklearn.tree import DecisionTreeClassifier\n",
    "from sklearn.ensemble import RandomForestClassifier\n",
    "from sklearn.metrics import accuracy_score,plot_confusion_matrix,roc_auc_score, classification_report, confusion_matrix, precision_recall_curve\n",
    "from sklearn.metrics import recall_score\n",
    "from sklearn.metrics import f1_score\n",
    "from sklearn.metrics import precision_score\n",
    "from sklearn.model_selection import RepeatedStratifiedKFold\n",
    "from sklearn.metrics import plot_confusion_matrix\n",
    "from imblearn.ensemble import BalancedRandomForestClassifier\n",
    "from statistics import mean\n",
    "from matplotlib import pyplot\n",
    "from sklearn.model_selection import train_test_split\n",
    "from sklearn.model_selection import cross_validate\n",
    "from sklearn.model_selection import RepeatedStratifiedKFold\n",
    "from sklearn.metrics import plot_confusion_matrix\n",
    "from sklearn.ensemble import RandomForestClassifier\n",
    "from imblearn.over_sampling import SMOTE\n",
    "import mlflow\n",
    "from pycaret.classification import *\n",
    "from pycaret.datasets import get_data"
   ]
  },
  {
   "cell_type": "code",
   "execution_count": 3,
   "metadata": {},
   "outputs": [],
   "source": [
    "def DecisionTree(X_train,X_test,y_train,y_test):\n",
    "\n",
    "    tree=DecisionTreeClassifier(criterion='gini',min_samples_split=20,random_state=99)\n",
    "    tree.fit(X_train,y_train)\n",
    "    predictions=tree.predict(X_test)\n",
    "    plot_confusion_matrix(tree,X_test,y_test,display_labels=['No falla', 'Falla'],cmap='Blues')\n",
    "    print(classification_report(y_test, predictions))\n"
   ]
  },
  {
   "cell_type": "code",
   "execution_count": 22,
   "metadata": {},
   "outputs": [],
   "source": [
    "def RandomForest(X_train,X_test,y_train,y_test):\n",
    "    #Build SRF model\n",
    "    SRF = RandomForestClassifier(n_estimators=2, random_state=0)\n",
    "    #Create Stratified K-fold cross validation\n",
    "    cv = RepeatedStratifiedKFold(n_splits=2, n_repeats=3, random_state=1)\n",
    "    scoring = ('f1', 'recall', 'precision')\n",
    "    #Evaluate SRF model\n",
    "    scores = cross_validate(SRF, X_train, y_train, scoring=scoring, cv=cv)\n",
    "    #Get average evaluation metrics\n",
    "    print('Mean f1: %.3f' % mean(scores['test_f1']))\n",
    "    print('Mean recall: %.3f' % mean(scores['test_recall']))\n",
    "    print('Mean precision: %.3f' % mean(scores['test_precision']))\n",
    "    SRF.fit(X_train, y_train)\n",
    "    #SRF prediction result\n",
    "    y_pred = SRF.predict(X_test)\n",
    "    #Create confusion matrix\n",
    "    fig = plot_confusion_matrix(SRF, X_test, y_test, display_labels=['No Falla', 'Falla'], cmap='Blues')\n",
    "    plt.title('Standard Random Forest Confusion Matrix')\n",
    "    plt.show()\n",
    "    print(classification_report(y_test, y_pred))\n",
    "    print(\"Precision\",precision_score(y_test,y_pred))\n",
    "    print(\"Acc:\",accuracy_score(y_test,y_pred))  \n",
    "    print(\"Recall:\",recall_score(y_test, y_pred, average='weighted'))\n",
    "    print(\"f1 score:\",f1_score(y_test, y_pred, average='weighted'))"
   ]
  },
  {
   "cell_type": "code",
   "execution_count": 15,
   "metadata": {},
   "outputs": [],
   "source": [
    "def RandomForestBalanced(X_train,X_test,y_train,y_test):\n",
    "        #Build SRF model\n",
    "    BRFC = BalancedRandomForestClassifier(n_estimators=2, random_state=2)\n",
    "    #Create Stratified K-fold cross validation\n",
    "    cv = RepeatedStratifiedKFold(n_splits=10, n_repeats=3, random_state=1)\n",
    "    scoring = ('f1', 'recall', 'precision')\n",
    "    #Evaluate BRFC model\n",
    "    scores = cross_validate(BRFC, X_train, y_train, scoring=scoring, cv=cv)\n",
    "    #Get average evaluation metrics\n",
    "    print('Mean f1: %.3f' % mean(scores['test_f1']))\n",
    "    print('Mean recall: %.3f' % mean(scores['test_recall']))\n",
    "    print('Mean precision: %.3f' % mean(scores['test_precision']))\n",
    "\n",
    "    #Train BRFC\n",
    "    BRFC.fit(X_train, y_train)\n",
    "    #BRFC prediction result\n",
    "    y_pred = BRFC.predict(X_test)\n",
    "    #Create confusion matrix\n",
    "    fig = plot_confusion_matrix(BRFC, X_test, y_test, display_labels=['No Falla', 'Falla'], cmap='Blues')\n",
    "    plt.title('Balanced Random Forest Confusion Matrix')\n",
    "    plt.show()"
   ]
  },
  {
   "cell_type": "code",
   "execution_count": 19,
   "metadata": {},
   "outputs": [],
   "source": [
    "def RandomForestOversampling(X_train,X_test,y_train,y_test):\n",
    "        #Use SMOTE to oversample the minority class\n",
    "    oversample = SMOTE()\n",
    "    over_X, over_y = oversample.fit_resample(X_train, y_train)\n",
    "    over_X_train, over_X_test, over_y_train, over_y_test = train_test_split(over_X, over_y, test_size=0.1, stratify=over_y)\n",
    "    #Build SMOTE SRF model\n",
    "    SMOTE_SRF = RandomForestClassifier(n_estimators=2, random_state=0)\n",
    "    #Create Stratified K-fold cross validation\n",
    "    cv = RepeatedStratifiedKFold(n_splits=10, n_repeats=3, random_state=1)\n",
    "    scoring = ('f1', 'recall', 'precision')\n",
    "    #Evaluate SMOTE SRF model\n",
    "    scores = cross_validate(SMOTE_SRF, over_X, over_y, scoring=scoring, cv=cv)\n",
    "    #Get average evaluation metrics\n",
    "    print('Mean f1: %.3f' % mean(scores['test_f1']))\n",
    "    print('Mean recall: %.3f' % mean(scores['test_recall']))\n",
    "    print('Mean precision: %.3f' % mean(scores['test_precision']))\n",
    "\n",
    "    #Randomly spilt dataset to test and train set\n",
    "    #Train SMOTE SRF\n",
    "    SMOTE_SRF.fit(over_X_train, over_y_train)\n",
    "    #SMOTE SRF prediction result\n",
    "    y_pred = SMOTE_SRF.predict(X_test)\n",
    "    #Create confusion matrix\n",
    "    fig = plot_confusion_matrix(SMOTE_SRF, X_test, y_test, display_labels=['No Falla', 'Falla'], cmap='Blues')\n",
    "    plt.title('SMOTE + Standard Random Forest Confusion Matrix')\n",
    "    plt.show()\n",
    "    print(classification_report(y_test, y_pred))"
   ]
  },
  {
   "cell_type": "code",
   "execution_count": 16,
   "metadata": {},
   "outputs": [],
   "source": [
    "def RandomForestUndersampling(X_train,X_test,y_train,y_test):\n",
    "    \n",
    "    rus=RandomUnderSampler(sampling_strategy=1)\n",
    "    #ax=y_res.value_counts()#.plot.pie(autopct='%.2f')\n",
    "    #_=ax.set_title(\"Under-samplig\")\n",
    "    Under_X, Under_y = rus.fit_resample(X_train, y_train)\n",
    "    Under_X_train, Under_X_test, Under_y_train, Under_y_test = train_test_split(Under_X, Under_y, test_size=0.1, stratify=Under_y)\n",
    "    #Build SMOTE SRF model\n",
    "    SMOTE_SRF = RandomForestClassifier(n_estimators=2, random_state=0)\n",
    "    #Create Stratified K-fold cross validation\n",
    "    cv = RepeatedStratifiedKFold(n_splits=10, n_repeats=3, random_state=1)\n",
    "    scoring = ('f1', 'recall', 'precision')\n",
    "    #Evaluate SMOTE SRF model\n",
    "    scores = cross_validate(SMOTE_SRF, Under_X, Under_y, scoring=scoring, cv=cv)\n",
    "    #Get average evaluation metrics\n",
    "    print('Mean f1: %.3f' % mean(scores['test_f1']))\n",
    "    print('Mean recall: %.3f' % mean(scores['test_recall']))\n",
    "    print('Mean precision: %.3f' % mean(scores['test_precision']))\n",
    "\n",
    "    #Randomly spilt dataset to test and train set\n",
    "    #Train SMOTE SRF\n",
    "    SMOTE_SRF.fit(Under_X_train, Under_y_train)\n",
    "    #SMOTE SRF prediction result\n",
    "    y_pred = SMOTE_SRF.predict(X_test)\n",
    "    #Create confusion matrix\n",
    "    fig = plot_confusion_matrix(SMOTE_SRF, X_test, y_test, display_labels=['No Falla', 'Falla'], cmap='Blues')\n",
    "    plt.title('SMOTE + Standard Random Forest Confusion Matrix')\n",
    "    plt.show()\n",
    "    print(classification_report(y_test, y_pred))"
   ]
  },
  {
   "cell_type": "code",
   "execution_count": 8,
   "metadata": {},
   "outputs": [],
   "source": [
    "def split_df(df):\n",
    "    features=df.iloc[:,:-1]\n",
    "    target=df.iloc[:,-1]\n",
    "    return features,target"
   ]
  },
  {
   "cell_type": "code",
   "execution_count": 9,
   "metadata": {},
   "outputs": [],
   "source": [
    "df = pd.read_csv('datasetTRAIN.csv')\n",
    "df_test=pd.read_csv('datasetTEST.csv')"
   ]
  },
  {
   "cell_type": "code",
   "execution_count": 10,
   "metadata": {},
   "outputs": [],
   "source": [
    "x_=df.iloc[:,:-1]\n",
    "y_=df.iloc[:,-1:]"
   ]
  },
  {
   "cell_type": "code",
   "execution_count": 11,
   "metadata": {},
   "outputs": [
    {
     "data": {
      "text/plain": [
       "y0 \n",
       "0.0    686\n",
       "1.0    288\n",
       "dtype: int64"
      ]
     },
     "execution_count": 11,
     "metadata": {},
     "output_type": "execute_result"
    }
   ],
   "source": [
    "y_.value_counts()#.plot.pie(autopct='%.2f')"
   ]
  },
  {
   "cell_type": "markdown",
   "metadata": {},
   "source": [
    "Dividir el conjunto de datos"
   ]
  },
  {
   "cell_type": "code",
   "execution_count": 12,
   "metadata": {},
   "outputs": [],
   "source": [
    "X_train, X_val, y_train, y_val = train_test_split(x_, y_, test_size=0.2, random_state=10,stratify=y_)"
   ]
  },
  {
   "cell_type": "code",
   "execution_count": 13,
   "metadata": {},
   "outputs": [],
   "source": [
    "#X_train,y_train=split_df(df)\n",
    "X_test,y_test=split_df(df_test)"
   ]
  },
  {
   "cell_type": "markdown",
   "metadata": {},
   "source": [
    "Dataset de Validacion"
   ]
  },
  {
   "cell_type": "code",
   "execution_count": 14,
   "metadata": {},
   "outputs": [
    {
     "name": "stdout",
     "output_type": "stream",
     "text": [
      "              precision    recall  f1-score   support\n",
      "\n",
      "         0.0       0.99      0.99      0.99       137\n",
      "         1.0       0.97      0.97      0.97        58\n",
      "\n",
      "    accuracy                           0.98       195\n",
      "   macro avg       0.98      0.98      0.98       195\n",
      "weighted avg       0.98      0.98      0.98       195\n",
      "\n"
     ]
    },
    {
     "data": {
      "image/png": "[encoded data removed]",
      "text/plain": [
       "<Figure size 432x288 with 2 Axes>"
      ]
     },
     "metadata": {
      "needs_background": "light"
     },
     "output_type": "display_data"
    }
   ],
   "source": [
    "DecisionTree(X_train, X_val, y_train, y_val)"
   ]
  },
  {
   "cell_type": "code",
   "execution_count": 26,
   "metadata": {},
   "outputs": [
    {
     "name": "stdout",
     "output_type": "stream",
     "text": [
      "Mean f1: 0.975\n",
      "Mean recall: 0.959\n",
      "Mean precision: 0.993\n"
     ]
    },
    {
     "data": {
      "image/png": "[encoded data removed]",
      "text/plain": [
       "<Figure size 432x288 with 2 Axes>"
      ]
     },
     "metadata": {
      "needs_background": "light"
     },
     "output_type": "display_data"
    },
    {
     "name": "stdout",
     "output_type": "stream",
     "text": [
      "              precision    recall  f1-score   support\n",
      "\n",
      "         0.0       1.00      1.00      1.00       137\n",
      "         1.0       1.00      1.00      1.00        58\n",
      "\n",
      "    accuracy                           1.00       195\n",
      "   macro avg       1.00      1.00      1.00       195\n",
      "weighted avg       1.00      1.00      1.00       195\n",
      "\n",
      "Precision 1.0\n",
      "Acc: 1.0\n",
      "Recall: 1.0\n",
      "f1 score: 1.0\n"
     ]
    }
   ],
   "source": [
    "RandomForest(X_train, X_val, y_train, y_val)"
   ]
  },
  {
   "cell_type": "code",
   "execution_count": 17,
   "metadata": {},
   "outputs": [
    {
     "name": "stdout",
     "output_type": "stream",
     "text": [
      "Mean f1: 0.998\n",
      "Mean recall: 0.998\n",
      "Mean precision: 0.998\n"
     ]
    },
    {
     "data": {
      "image/png": "[encoded data removed]",
      "text/plain": [
       "<Figure size 432x288 with 2 Axes>"
      ]
     },
     "metadata": {
      "needs_background": "light"
     },
     "output_type": "display_data"
    },
    {
     "name": "stdout",
     "output_type": "stream",
     "text": [
      "              precision    recall  f1-score   support\n",
      "\n",
      "         0.0       0.98      1.00      0.99      6026\n",
      "         1.0       1.00      0.54      0.70       288\n",
      "\n",
      "    accuracy                           0.98      6314\n",
      "   macro avg       0.99      0.77      0.84      6314\n",
      "weighted avg       0.98      0.98      0.98      6314\n",
      "\n"
     ]
    }
   ],
   "source": [
    "RandomForestOversampling(X_train, X_test, y_train, y_test)"
   ]
  },
  {
   "cell_type": "markdown",
   "metadata": {},
   "source": [
    "DataSet Test"
   ]
  },
  {
   "cell_type": "code",
   "execution_count": 24,
   "metadata": {},
   "outputs": [
    {
     "name": "stdout",
     "output_type": "stream",
     "text": [
      "              precision    recall  f1-score   support\n",
      "\n",
      "         0.0       0.98      1.00      0.99      6026\n",
      "         1.0       0.99      0.54      0.70       288\n",
      "\n",
      "    accuracy                           0.98      6314\n",
      "   macro avg       0.98      0.77      0.84      6314\n",
      "weighted avg       0.98      0.98      0.98      6314\n",
      "\n"
     ]
    },
    {
     "data": {
      "image/png": "[encoded data removed]",
      "text/plain": [
       "<Figure size 432x288 with 2 Axes>"
      ]
     },
     "metadata": {
      "needs_background": "light"
     },
     "output_type": "display_data"
    }
   ],
   "source": [
    "DecisionTree(X_train, X_test, y_train, y_test)"
   ]
  },
  {
   "cell_type": "code",
   "execution_count": 23,
   "metadata": {},
   "outputs": [
    {
     "name": "stdout",
     "output_type": "stream",
     "text": [
      "Mean f1: 0.975\n",
      "Mean recall: 0.959\n",
      "Mean precision: 0.993\n"
     ]
    },
    {
     "data": {
      "image/png": "[encoded data removed]",
      "text/plain": [
       "<Figure size 432x288 with 2 Axes>"
      ]
     },
     "metadata": {
      "needs_background": "light"
     },
     "output_type": "display_data"
    },
    {
     "name": "stdout",
     "output_type": "stream",
     "text": [
      "              precision    recall  f1-score   support\n",
      "\n",
      "         0.0       0.98      1.00      0.99      6026\n",
      "         1.0       1.00      0.54      0.70       288\n",
      "\n",
      "    accuracy                           0.98      6314\n",
      "   macro avg       0.99      0.77      0.84      6314\n",
      "weighted avg       0.98      0.98      0.98      6314\n",
      "\n",
      "Precision 1.0\n",
      "Acc: 0.9789356984478935\n",
      "Recall: 0.9789356984478935\n",
      "f1 score: 0.9758886348067829\n"
     ]
    }
   ],
   "source": [
    "RandomForest(X_train, X_test, y_train, y_test)"
   ]
  },
  {
   "cell_type": "code",
   "execution_count": 25,
   "metadata": {},
   "outputs": [
    {
     "name": "stdout",
     "output_type": "stream",
     "text": [
      "Mean f1: 0.949\n",
      "Mean recall: 0.936\n",
      "Mean precision: 0.965\n"
     ]
    },
    {
     "data": {
      "image/png": "[encoded data removed]",
      "text/plain": [
       "<Figure size 432x288 with 2 Axes>"
      ]
     },
     "metadata": {
      "needs_background": "light"
     },
     "output_type": "display_data"
    }
   ],
   "source": [
    "RandomForestBalanced(X_train, X_test, y_train, y_test)"
   ]
  },
  {
   "cell_type": "markdown",
   "metadata": {},
   "source": []
  }
 ],
 "metadata": {
  "kernelspec": {
   "display_name": "Python 3.9.6 64-bit",
   "language": "python",
   "name": "python3"
  },
  "language_info": {
   "codemirror_mode": {
    "name": "ipython",
    "version": 3
   },
   "file_extension": ".py",
   "mimetype": "text/x-python",
   "name": "python",
   "nbconvert_exporter": "python",
   "pygments_lexer": "ipython3",
   "version": "3.9.6"
  },
  "orig_nbformat": 4,
  "vscode": {
   "interpreter": {
    "hash": "ac89dbf135de3ba50f0c4188f4f908fa9273f5adb06897823e082ae6e551143b"
   }
  }
 },
 "nbformat": 4,
 "nbformat_minor": 2
}
