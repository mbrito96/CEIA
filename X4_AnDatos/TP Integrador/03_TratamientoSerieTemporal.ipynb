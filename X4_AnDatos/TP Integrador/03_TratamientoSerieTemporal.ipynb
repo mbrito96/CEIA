{
 "cells": [
  {
   "cell_type": "code",
   "execution_count": 3,
   "metadata": {},
   "outputs": [],
   "source": [
    "import pandas as pd\n",
    "from matplotlib import pyplot as plt\n",
    "from statsmodels.graphics.tsaplots import plot_acf\n",
    "import numpy as np\n",
    "import numpy as np\n",
    "import pandas as pd\n",
    "import seaborn as sns\n",
    "from sklearn.preprocessing import StandardScaler\n",
    "from sklearn.model_selection import train_test_split\n",
    "from sklearn.linear_model import LinearRegression\n",
    "from sklearn.metrics import mean_squared_error\n",
    "from sklearn.metrics import r2_score\n",
    "from math import sqrt\n",
    "import matplotlib.pyplot as plt\n",
    "from mlxtend.plotting import scatterplotmatrix\n",
    "from sklearn.linear_model import Lasso\n",
    "import warnings\n",
    "warnings.filterwarnings(\"ignore\")\n",
    "from sklearn.linear_model import Ridge\n",
    "from sklearn.linear_model import Lasso, LassoCV\n",
    "import seaborn as sns\n",
    "from matplotlib import pyplot as plt"
   ]
  },
  {
   "cell_type": "code",
   "execution_count": 4,
   "metadata": {},
   "outputs": [],
   "source": [
    "\n",
    "df_0 = pd.read_csv('dataset02-RED-24hs.csv')\n",
    "df_2=pd.read_csv('dataset03-RED-24hs.csv')\n"
   ]
  },
  {
   "cell_type": "code",
   "execution_count": 6,
   "metadata": {},
   "outputs": [
    {
     "data": {
      "text/plain": [
       "array(['irq_0', 'skew_0', 'kurtosis_0', 'f0_0', 'Pf0_0', 'zeroX_0',\n",
       "       'p2p_0', 'crest_0', 'irq_1', 'skew_1', 'kurtosis_1', 'f0_1',\n",
       "       'Pf0_1', 'zeroX_1', 'p2p_1', 'crest_1', 'irq_2', 'skew_2',\n",
       "       'kurtosis_2', 'f0_2', 'Pf0_2', 'zeroX_2', 'p2p_2', 'crest_2',\n",
       "       'irq_3', 'skew_3', 'kurtosis_3', 'f0_3', 'Pf0_3', 'zeroX_3',\n",
       "       'p2p_3', 'crest_3', 'covar_01', 'covar_02', 'covar_03', 'covar_12',\n",
       "       'covar_13', 'covar_23', 'y0', 'y1', 'y2', 'y3'], dtype=object)"
      ]
     },
     "execution_count": 6,
     "metadata": {},
     "output_type": "execute_result"
    }
   ],
   "source": [
    "df_0.columns.values"
   ]
  },
  {
   "cell_type": "markdown",
   "metadata": {},
   "source": []
  },
  {
   "cell_type": "code",
   "execution_count": 8,
   "metadata": {},
   "outputs": [
    {
     "data": {
      "text/plain": [
       "array(['irq_0', 'skew_0', 'kurtosis_0', 'f0_0', 'Pf0_0', 'zeroX_0',\n",
       "       'p2p_0', 'crest_0', 'irq_1', 'skew_1', 'kurtosis_1', 'f0_1',\n",
       "       'Pf0_1', 'zeroX_1', 'p2p_1', 'crest_1', 'irq_2', 'skew_2',\n",
       "       'kurtosis_2', 'f0_2', 'Pf0_2', 'zeroX_2', 'p2p_2', 'crest_2',\n",
       "       'irq_3', 'skew_3', 'kurtosis_3', 'f0_3', 'Pf0_3', 'zeroX_3',\n",
       "       'p2p_3', 'crest_3', 'covar_01', 'covar_02', 'covar_03', 'covar_12',\n",
       "       'covar_13', 'covar_23', 'y0', 'y1', 'y2', 'y3'], dtype=object)"
      ]
     },
     "execution_count": 8,
     "metadata": {},
     "output_type": "execute_result"
    }
   ],
   "source": [
    "df_2.columns.values"
   ]
  },
  {
   "cell_type": "markdown",
   "metadata": {},
   "source": [
    "Creamos dos nuevos dataframes para hacer predicciones sobre el rodamiento del cual tenemos la informacion que fue el primero en fallar, en este caso para un conjunto de datos fallo b0 (usado para train) y para el otro b2 (usado para test)"
   ]
  },
  {
   "cell_type": "code",
   "execution_count": 10,
   "metadata": {},
   "outputs": [],
   "source": [
    "new_features2=['irq_2', 'skew_2', 'kurtosis_2', 'f0_2', 'Pf0_2',\n",
    "       'zeroX_2', 'p2p_2', 'crest_2', 'covar_02',\n",
    "       'covar_12','covar_23']"
   ]
  },
  {
   "cell_type": "code",
   "execution_count": 11,
   "metadata": {},
   "outputs": [],
   "source": [
    "new_features0=['irq_0', 'skew_0', 'kurtosis_0', 'f0_0', 'Pf0_0', 'zeroX_0', 'p2p_0',\n",
    "       'crest_0','covar_01', 'covar_02',\n",
    "       'covar_03'] \n"
   ]
  },
  {
   "cell_type": "code",
   "execution_count": 12,
   "metadata": {},
   "outputs": [],
   "source": [
    "df_2_tr=df_2[new_features2]\n",
    "df_0_tr=df_0[new_features0]\n"
   ]
  },
  {
   "cell_type": "code",
   "execution_count": 13,
   "metadata": {},
   "outputs": [
    {
     "data": {
      "text/html": [
       "<div>\n",
       "<style scoped>\n",
       "    .dataframe tbody tr th:only-of-type {\n",
       "        vertical-align: middle;\n",
       "    }\n",
       "\n",
       "    .dataframe tbody tr th {\n",
       "        vertical-align: top;\n",
       "    }\n",
       "\n",
       "    .dataframe thead th {\n",
       "        text-align: right;\n",
       "    }\n",
       "</style>\n",
       "<table border=\"1\" class=\"dataframe\">\n",
       "  <thead>\n",
       "    <tr style=\"text-align: right;\">\n",
       "      <th></th>\n",
       "      <th>irq_0</th>\n",
       "      <th>skew_0</th>\n",
       "      <th>kurtosis_0</th>\n",
       "      <th>f0_0</th>\n",
       "      <th>Pf0_0</th>\n",
       "      <th>zeroX_0</th>\n",
       "      <th>p2p_0</th>\n",
       "      <th>crest_0</th>\n",
       "      <th>covar_01</th>\n",
       "      <th>covar_02</th>\n",
       "      <th>covar_03</th>\n",
       "    </tr>\n",
       "  </thead>\n",
       "  <tbody>\n",
       "    <tr>\n",
       "      <th>0</th>\n",
       "      <td>0.096</td>\n",
       "      <td>0.083993</td>\n",
       "      <td>0.628763</td>\n",
       "      <td>985.351562</td>\n",
       "      <td>52.733122</td>\n",
       "      <td>6593.0</td>\n",
       "      <td>0.840</td>\n",
       "      <td>6.120331</td>\n",
       "      <td>0.001398</td>\n",
       "      <td>-0.000501</td>\n",
       "      <td>-0.000304</td>\n",
       "    </tr>\n",
       "    <tr>\n",
       "      <th>1</th>\n",
       "      <td>0.097</td>\n",
       "      <td>0.052142</td>\n",
       "      <td>0.648291</td>\n",
       "      <td>985.351562</td>\n",
       "      <td>51.201049</td>\n",
       "      <td>6867.0</td>\n",
       "      <td>0.757</td>\n",
       "      <td>4.895038</td>\n",
       "      <td>0.001287</td>\n",
       "      <td>-0.000289</td>\n",
       "      <td>-0.000188</td>\n",
       "    </tr>\n",
       "    <tr>\n",
       "      <th>2</th>\n",
       "      <td>0.100</td>\n",
       "      <td>0.032808</td>\n",
       "      <td>0.513475</td>\n",
       "      <td>985.351562</td>\n",
       "      <td>50.779361</td>\n",
       "      <td>6637.0</td>\n",
       "      <td>0.903</td>\n",
       "      <td>6.598472</td>\n",
       "      <td>0.001349</td>\n",
       "      <td>-0.000503</td>\n",
       "      <td>-0.000284</td>\n",
       "    </tr>\n",
       "    <tr>\n",
       "      <th>3</th>\n",
       "      <td>0.100</td>\n",
       "      <td>0.041486</td>\n",
       "      <td>1.157953</td>\n",
       "      <td>985.351562</td>\n",
       "      <td>51.079815</td>\n",
       "      <td>6659.0</td>\n",
       "      <td>1.184</td>\n",
       "      <td>7.723217</td>\n",
       "      <td>0.001410</td>\n",
       "      <td>-0.000455</td>\n",
       "      <td>-0.000221</td>\n",
       "    </tr>\n",
       "    <tr>\n",
       "      <th>4</th>\n",
       "      <td>0.103</td>\n",
       "      <td>0.028224</td>\n",
       "      <td>0.603177</td>\n",
       "      <td>985.351562</td>\n",
       "      <td>50.279226</td>\n",
       "      <td>6765.0</td>\n",
       "      <td>0.782</td>\n",
       "      <td>4.982524</td>\n",
       "      <td>0.001668</td>\n",
       "      <td>-0.000510</td>\n",
       "      <td>-0.000310</td>\n",
       "    </tr>\n",
       "  </tbody>\n",
       "</table>\n",
       "</div>"
      ],
      "text/plain": [
       "   irq_0    skew_0  kurtosis_0        f0_0      Pf0_0  zeroX_0  p2p_0  \\\n",
       "0  0.096  0.083993    0.628763  985.351562  52.733122   6593.0  0.840   \n",
       "1  0.097  0.052142    0.648291  985.351562  51.201049   6867.0  0.757   \n",
       "2  0.100  0.032808    0.513475  985.351562  50.779361   6637.0  0.903   \n",
       "3  0.100  0.041486    1.157953  985.351562  51.079815   6659.0  1.184   \n",
       "4  0.103  0.028224    0.603177  985.351562  50.279226   6765.0  0.782   \n",
       "\n",
       "    crest_0  covar_01  covar_02  covar_03  \n",
       "0  6.120331  0.001398 -0.000501 -0.000304  \n",
       "1  4.895038  0.001287 -0.000289 -0.000188  \n",
       "2  6.598472  0.001349 -0.000503 -0.000284  \n",
       "3  7.723217  0.001410 -0.000455 -0.000221  \n",
       "4  4.982524  0.001668 -0.000510 -0.000310  "
      ]
     },
     "execution_count": 13,
     "metadata": {},
     "output_type": "execute_result"
    }
   ],
   "source": [
    "df_0_tr.head()"
   ]
  },
  {
   "cell_type": "code",
   "execution_count": 24,
   "metadata": {},
   "outputs": [
    {
     "data": {
      "text/html": [
       "<div>\n",
       "<style scoped>\n",
       "    .dataframe tbody tr th:only-of-type {\n",
       "        vertical-align: middle;\n",
       "    }\n",
       "\n",
       "    .dataframe tbody tr th {\n",
       "        vertical-align: top;\n",
       "    }\n",
       "\n",
       "    .dataframe thead th {\n",
       "        text-align: right;\n",
       "    }\n",
       "</style>\n",
       "<table border=\"1\" class=\"dataframe\">\n",
       "  <thead>\n",
       "    <tr style=\"text-align: right;\">\n",
       "      <th></th>\n",
       "      <th>irq_2</th>\n",
       "      <th>skew_2</th>\n",
       "      <th>kurtosis_2</th>\n",
       "      <th>f0_2</th>\n",
       "      <th>Pf0_2</th>\n",
       "      <th>zeroX_2</th>\n",
       "      <th>p2p_2</th>\n",
       "      <th>crest_2</th>\n",
       "      <th>covar_02</th>\n",
       "      <th>covar_12</th>\n",
       "      <th>covar_23</th>\n",
       "    </tr>\n",
       "  </thead>\n",
       "  <tbody>\n",
       "    <tr>\n",
       "      <th>0</th>\n",
       "      <td>0.086</td>\n",
       "      <td>0.083455</td>\n",
       "      <td>0.592253</td>\n",
       "      <td>984.375000</td>\n",
       "      <td>45.123977</td>\n",
       "      <td>7990.0</td>\n",
       "      <td>0.671</td>\n",
       "      <td>5.437565</td>\n",
       "      <td>-0.000123</td>\n",
       "      <td>-0.000131</td>\n",
       "      <td>0.000086</td>\n",
       "    </tr>\n",
       "    <tr>\n",
       "      <th>1</th>\n",
       "      <td>0.086</td>\n",
       "      <td>0.011829</td>\n",
       "      <td>0.360079</td>\n",
       "      <td>985.351562</td>\n",
       "      <td>45.995787</td>\n",
       "      <td>8024.0</td>\n",
       "      <td>0.590</td>\n",
       "      <td>4.450449</td>\n",
       "      <td>-0.000138</td>\n",
       "      <td>-0.000254</td>\n",
       "      <td>0.000128</td>\n",
       "    </tr>\n",
       "    <tr>\n",
       "      <th>2</th>\n",
       "      <td>0.093</td>\n",
       "      <td>0.049060</td>\n",
       "      <td>0.214038</td>\n",
       "      <td>231.445312</td>\n",
       "      <td>47.827940</td>\n",
       "      <td>7895.0</td>\n",
       "      <td>0.572</td>\n",
       "      <td>4.133782</td>\n",
       "      <td>-0.000110</td>\n",
       "      <td>-0.000303</td>\n",
       "      <td>0.000162</td>\n",
       "    </tr>\n",
       "    <tr>\n",
       "      <th>3</th>\n",
       "      <td>0.093</td>\n",
       "      <td>0.002209</td>\n",
       "      <td>0.299358</td>\n",
       "      <td>231.445312</td>\n",
       "      <td>45.885568</td>\n",
       "      <td>7831.0</td>\n",
       "      <td>0.659</td>\n",
       "      <td>5.084751</td>\n",
       "      <td>-0.000261</td>\n",
       "      <td>-0.000360</td>\n",
       "      <td>0.000235</td>\n",
       "    </tr>\n",
       "    <tr>\n",
       "      <th>4</th>\n",
       "      <td>0.088</td>\n",
       "      <td>0.031886</td>\n",
       "      <td>0.396086</td>\n",
       "      <td>986.328125</td>\n",
       "      <td>45.616624</td>\n",
       "      <td>7928.0</td>\n",
       "      <td>0.762</td>\n",
       "      <td>5.750781</td>\n",
       "      <td>-0.000290</td>\n",
       "      <td>-0.000473</td>\n",
       "      <td>0.000248</td>\n",
       "    </tr>\n",
       "  </tbody>\n",
       "</table>\n",
       "</div>"
      ],
      "text/plain": [
       "   irq_2    skew_2  kurtosis_2        f0_2      Pf0_2  zeroX_2  p2p_2  \\\n",
       "0  0.086  0.083455    0.592253  984.375000  45.123977   7990.0  0.671   \n",
       "1  0.086  0.011829    0.360079  985.351562  45.995787   8024.0  0.590   \n",
       "2  0.093  0.049060    0.214038  231.445312  47.827940   7895.0  0.572   \n",
       "3  0.093  0.002209    0.299358  231.445312  45.885568   7831.0  0.659   \n",
       "4  0.088  0.031886    0.396086  986.328125  45.616624   7928.0  0.762   \n",
       "\n",
       "    crest_2  covar_02  covar_12  covar_23  \n",
       "0  5.437565 -0.000123 -0.000131  0.000086  \n",
       "1  4.450449 -0.000138 -0.000254  0.000128  \n",
       "2  4.133782 -0.000110 -0.000303  0.000162  \n",
       "3  5.084751 -0.000261 -0.000360  0.000235  \n",
       "4  5.750781 -0.000290 -0.000473  0.000248  "
      ]
     },
     "execution_count": 24,
     "metadata": {},
     "output_type": "execute_result"
    }
   ],
   "source": [
    "df_2_tr.head()"
   ]
  },
  {
   "cell_type": "code",
   "execution_count": 23,
   "metadata": {},
   "outputs": [],
   "source": [
    "#for i in df_0_tr.columns:\n",
    " # plot_acf(df_0_tr[i],alpha=0.01,title=i)"
   ]
  },
  {
   "cell_type": "markdown",
   "metadata": {},
   "source": [
    "Transformacion del dataset"
   ]
  },
  {
   "cell_type": "code",
   "execution_count": 16,
   "metadata": {},
   "outputs": [],
   "source": [
    "from pandas import DataFrame\n",
    "from pandas import concat\n",
    " \n",
    "def series_to_supervised(data, n_in=1, n_out=1, dropnan=True):\n",
    "\t\"\"\"\n",
    "\tFrame a time series as a supervised learning dataset.\n",
    "\tArguments:\n",
    "\t\tdata: Sequence of observations as a list or NumPy array.\n",
    "\t\tn_in: Number of lag observations as input (X).\n",
    "\t\tn_out: Number of observations as output (y).\n",
    "\t\tdropnan: Boolean whether or not to drop rows with NaN values.\n",
    "\tReturns:\n",
    "\t\tPandas DataFrame of series framed for supervised learning.\n",
    "\t\"\"\"\n",
    "\tn_vars = 1 if type(data) is list else data.shape[1]\n",
    "\tdf = DataFrame(data)\n",
    "\tcols, names = list(), list()\n",
    "\t# input sequence (t-n, ... t-1)\n",
    "\tfor i in range(n_in, 0, -1):\n",
    "\t\tcols.append(df.shift(i))\n",
    "\t\tnames += [('var%d(t-%d)' % (j+1, i)) for j in range(n_vars)]\n",
    "\t# forecast sequence (t, t+1, ... t+n)\n",
    "\tfor i in range(0, n_out):\n",
    "\t\tcols.append(df.shift(-i))\n",
    "\t\tif i == 0:\n",
    "\t\t\tnames += [('var%d(t)' % (j+1)) for j in range(n_vars)]\n",
    "\t\telse:\n",
    "\t\t\tnames += [('var%d(t+%d)' % (j+1, i)) for j in range(n_vars)]\n",
    "\t# put it all together\n",
    "\tagg = concat(cols, axis=1)\n",
    "\tagg.columns = names\n",
    "\t# drop rows with NaN values\n",
    "\tif dropnan:\n",
    "\t\tagg.dropna(inplace=True)\n",
    "\treturn agg\n",
    " \n"
   ]
  },
  {
   "cell_type": "code",
   "execution_count": 18,
   "metadata": {},
   "outputs": [],
   "source": [
    "df_tr0 = series_to_supervised(df_0_tr, 10)\n",
    "df_tr2 = series_to_supervised(df_2_tr, 10)\n"
   ]
  },
  {
   "cell_type": "code",
   "execution_count": 21,
   "metadata": {},
   "outputs": [],
   "source": [
    "target2=df_2['y2'][10:]\n",
    "target0=df_0['y0'][10:]"
   ]
  },
  {
   "cell_type": "code",
   "execution_count": 22,
   "metadata": {},
   "outputs": [],
   "source": [
    "df_out_2 = pd.concat([df_tr2, target2], axis=1)\n",
    "df_out_0 = pd.concat([df_tr0, target0], axis=1)"
   ]
  },
  {
   "cell_type": "code",
   "execution_count": 26,
   "metadata": {},
   "outputs": [],
   "source": [
    "# Save to CSV\n",
    "PATH_DATASET = \"./datasetTEST-24hs.csv\"\n",
    "df_out_2.to_csv(PATH_DATASET, index=False)"
   ]
  },
  {
   "cell_type": "code",
   "execution_count": 27,
   "metadata": {},
   "outputs": [],
   "source": [
    "PATH_DATASET = \"./datasetTRAIN-24hs.csv\"\n",
    "df_out_0.to_csv(PATH_DATASET, index=False)"
   ]
  },
  {
   "cell_type": "markdown",
   "metadata": {},
   "source": []
  }
 ],
 "metadata": {
  "kernelspec": {
   "display_name": "Python 3.9.6 64-bit",
   "language": "python",
   "name": "python3"
  },
  "language_info": {
   "codemirror_mode": {
    "name": "ipython",
    "version": 3
   },
   "file_extension": ".py",
   "mimetype": "text/x-python",
   "name": "python",
   "nbconvert_exporter": "python",
   "pygments_lexer": "ipython3",
   "version": "3.9.6"
  },
  "orig_nbformat": 4,
  "vscode": {
   "interpreter": {
    "hash": "ac89dbf135de3ba50f0c4188f4f908fa9273f5adb06897823e082ae6e551143b"
   }
  }
 },
 "nbformat": 4,
 "nbformat_minor": 2
}
