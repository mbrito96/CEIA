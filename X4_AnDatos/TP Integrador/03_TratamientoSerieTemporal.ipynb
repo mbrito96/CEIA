{
 "cells": [
  {
   "cell_type": "code",
   "execution_count": 1,
   "metadata": {},
   "outputs": [],
   "source": [
    "import pandas as pd\n",
    "from matplotlib import pyplot as plt\n",
    "from statsmodels.graphics.tsaplots import plot_acf\n",
    "import numpy as np\n",
    "import numpy as np\n",
    "import pandas as pd\n",
    "import seaborn as sns\n",
    "from sklearn.preprocessing import StandardScaler\n",
    "from sklearn.model_selection import train_test_split\n",
    "from sklearn.linear_model import LinearRegression\n",
    "from sklearn.metrics import mean_squared_error\n",
    "from sklearn.metrics import r2_score\n",
    "from math import sqrt\n",
    "import matplotlib.pyplot as plt\n",
    "from mlxtend.plotting import scatterplotmatrix\n",
    "from sklearn.linear_model import Lasso\n",
    "import warnings\n",
    "warnings.filterwarnings(\"ignore\")\n",
    "from sklearn.linear_model import Ridge\n",
    "from sklearn.linear_model import Lasso, LassoCV"
   ]
  },
  {
   "cell_type": "code",
   "execution_count": 2,
   "metadata": {},
   "outputs": [],
   "source": [
    "# Have some time series data (via pandas)\n",
    "df = pd.read_csv('dataset02.csv')\n"
   ]
  },
  {
   "cell_type": "code",
   "execution_count": 3,
   "metadata": {},
   "outputs": [
    {
     "data": {
      "text/html": [
       "<div>\n",
       "<style scoped>\n",
       "    .dataframe tbody tr th:only-of-type {\n",
       "        vertical-align: middle;\n",
       "    }\n",
       "\n",
       "    .dataframe tbody tr th {\n",
       "        vertical-align: top;\n",
       "    }\n",
       "\n",
       "    .dataframe thead th {\n",
       "        text-align: right;\n",
       "    }\n",
       "</style>\n",
       "<table border=\"1\" class=\"dataframe\">\n",
       "  <thead>\n",
       "    <tr style=\"text-align: right;\">\n",
       "      <th></th>\n",
       "      <th>aMean_0</th>\n",
       "      <th>std_0</th>\n",
       "      <th>irq_0</th>\n",
       "      <th>skew_0</th>\n",
       "      <th>kurtosis_0</th>\n",
       "      <th>f0_0</th>\n",
       "      <th>Pf0_0</th>\n",
       "      <th>Xrms_0</th>\n",
       "      <th>zeroX_0</th>\n",
       "      <th>p2p_0</th>\n",
       "      <th>...</th>\n",
       "      <th>covar_01</th>\n",
       "      <th>covar_02</th>\n",
       "      <th>covar_03</th>\n",
       "      <th>covar_12</th>\n",
       "      <th>covar_13</th>\n",
       "      <th>covar_23</th>\n",
       "      <th>y0</th>\n",
       "      <th>y1</th>\n",
       "      <th>y2</th>\n",
       "      <th>y3</th>\n",
       "    </tr>\n",
       "  </thead>\n",
       "  <tbody>\n",
       "    <tr>\n",
       "      <th>0</th>\n",
       "      <td>0.058332</td>\n",
       "      <td>0.073477</td>\n",
       "      <td>0.096</td>\n",
       "      <td>0.083993</td>\n",
       "      <td>0.628763</td>\n",
       "      <td>985.351562</td>\n",
       "      <td>52.733122</td>\n",
       "      <td>0.074179</td>\n",
       "      <td>6593.0</td>\n",
       "      <td>0.840</td>\n",
       "      <td>...</td>\n",
       "      <td>0.001398</td>\n",
       "      <td>-0.000501</td>\n",
       "      <td>-0.000304</td>\n",
       "      <td>-0.000295</td>\n",
       "      <td>-0.000837</td>\n",
       "      <td>0.000214</td>\n",
       "      <td>0.0</td>\n",
       "      <td>0.0</td>\n",
       "      <td>0.0</td>\n",
       "      <td>0.0</td>\n",
       "    </tr>\n",
       "    <tr>\n",
       "      <th>1</th>\n",
       "      <td>0.058997</td>\n",
       "      <td>0.075340</td>\n",
       "      <td>0.097</td>\n",
       "      <td>0.052142</td>\n",
       "      <td>0.648291</td>\n",
       "      <td>985.351562</td>\n",
       "      <td>51.201049</td>\n",
       "      <td>0.075382</td>\n",
       "      <td>6867.0</td>\n",
       "      <td>0.757</td>\n",
       "      <td>...</td>\n",
       "      <td>0.001287</td>\n",
       "      <td>-0.000289</td>\n",
       "      <td>-0.000188</td>\n",
       "      <td>-0.000216</td>\n",
       "      <td>-0.000852</td>\n",
       "      <td>0.000322</td>\n",
       "      <td>0.0</td>\n",
       "      <td>0.0</td>\n",
       "      <td>0.0</td>\n",
       "      <td>0.0</td>\n",
       "    </tr>\n",
       "    <tr>\n",
       "      <th>2</th>\n",
       "      <td>0.060239</td>\n",
       "      <td>0.076191</td>\n",
       "      <td>0.100</td>\n",
       "      <td>0.032808</td>\n",
       "      <td>0.513475</td>\n",
       "      <td>985.351562</td>\n",
       "      <td>50.779361</td>\n",
       "      <td>0.076230</td>\n",
       "      <td>6637.0</td>\n",
       "      <td>0.903</td>\n",
       "      <td>...</td>\n",
       "      <td>0.001349</td>\n",
       "      <td>-0.000503</td>\n",
       "      <td>-0.000284</td>\n",
       "      <td>-0.000487</td>\n",
       "      <td>-0.001030</td>\n",
       "      <td>0.000356</td>\n",
       "      <td>0.0</td>\n",
       "      <td>0.0</td>\n",
       "      <td>0.0</td>\n",
       "      <td>0.0</td>\n",
       "    </tr>\n",
       "    <tr>\n",
       "      <th>3</th>\n",
       "      <td>0.061453</td>\n",
       "      <td>0.078693</td>\n",
       "      <td>0.100</td>\n",
       "      <td>0.041486</td>\n",
       "      <td>1.157953</td>\n",
       "      <td>985.351562</td>\n",
       "      <td>51.079815</td>\n",
       "      <td>0.078724</td>\n",
       "      <td>6659.0</td>\n",
       "      <td>1.184</td>\n",
       "      <td>...</td>\n",
       "      <td>0.001410</td>\n",
       "      <td>-0.000455</td>\n",
       "      <td>-0.000221</td>\n",
       "      <td>-0.000525</td>\n",
       "      <td>-0.000961</td>\n",
       "      <td>0.000272</td>\n",
       "      <td>0.0</td>\n",
       "      <td>0.0</td>\n",
       "      <td>0.0</td>\n",
       "      <td>0.0</td>\n",
       "    </tr>\n",
       "    <tr>\n",
       "      <th>4</th>\n",
       "      <td>0.061361</td>\n",
       "      <td>0.078439</td>\n",
       "      <td>0.103</td>\n",
       "      <td>0.028224</td>\n",
       "      <td>0.603177</td>\n",
       "      <td>985.351562</td>\n",
       "      <td>50.279226</td>\n",
       "      <td>0.078474</td>\n",
       "      <td>6765.0</td>\n",
       "      <td>0.782</td>\n",
       "      <td>...</td>\n",
       "      <td>0.001668</td>\n",
       "      <td>-0.000510</td>\n",
       "      <td>-0.000310</td>\n",
       "      <td>-0.000548</td>\n",
       "      <td>-0.001050</td>\n",
       "      <td>0.000355</td>\n",
       "      <td>0.0</td>\n",
       "      <td>0.0</td>\n",
       "      <td>0.0</td>\n",
       "      <td>0.0</td>\n",
       "    </tr>\n",
       "  </tbody>\n",
       "</table>\n",
       "<p>5 rows × 66 columns</p>\n",
       "</div>"
      ],
      "text/plain": [
       "    aMean_0     std_0  irq_0    skew_0  kurtosis_0        f0_0      Pf0_0  \\\n",
       "0  0.058332  0.073477  0.096  0.083993    0.628763  985.351562  52.733122   \n",
       "1  0.058997  0.075340  0.097  0.052142    0.648291  985.351562  51.201049   \n",
       "2  0.060239  0.076191  0.100  0.032808    0.513475  985.351562  50.779361   \n",
       "3  0.061453  0.078693  0.100  0.041486    1.157953  985.351562  51.079815   \n",
       "4  0.061361  0.078439  0.103  0.028224    0.603177  985.351562  50.279226   \n",
       "\n",
       "     Xrms_0  zeroX_0  p2p_0  ...  covar_01  covar_02  covar_03  covar_12  \\\n",
       "0  0.074179   6593.0  0.840  ...  0.001398 -0.000501 -0.000304 -0.000295   \n",
       "1  0.075382   6867.0  0.757  ...  0.001287 -0.000289 -0.000188 -0.000216   \n",
       "2  0.076230   6637.0  0.903  ...  0.001349 -0.000503 -0.000284 -0.000487   \n",
       "3  0.078724   6659.0  1.184  ...  0.001410 -0.000455 -0.000221 -0.000525   \n",
       "4  0.078474   6765.0  0.782  ...  0.001668 -0.000510 -0.000310 -0.000548   \n",
       "\n",
       "   covar_13  covar_23   y0   y1   y2   y3  \n",
       "0 -0.000837  0.000214  0.0  0.0  0.0  0.0  \n",
       "1 -0.000852  0.000322  0.0  0.0  0.0  0.0  \n",
       "2 -0.001030  0.000356  0.0  0.0  0.0  0.0  \n",
       "3 -0.000961  0.000272  0.0  0.0  0.0  0.0  \n",
       "4 -0.001050  0.000355  0.0  0.0  0.0  0.0  \n",
       "\n",
       "[5 rows x 66 columns]"
      ]
     },
     "execution_count": 3,
     "metadata": {},
     "output_type": "execute_result"
    }
   ],
   "source": [
    "df.head()"
   ]
  },
  {
   "cell_type": "code",
   "execution_count": 4,
   "metadata": {},
   "outputs": [],
   "source": [
    "idx=0\n",
    "for i in range(len(df)):\n",
    "    idx+=1\n",
    "    if idx>(len(df)-288):\n",
    "        df.iloc[i]['y0']=1\n"
   ]
  },
  {
   "cell_type": "code",
   "execution_count": 5,
   "metadata": {},
   "outputs": [
    {
     "data": {
      "text/plain": [
       "0.0    696\n",
       "1.0    288\n",
       "Name: y0, dtype: int64"
      ]
     },
     "execution_count": 5,
     "metadata": {},
     "output_type": "execute_result"
    }
   ],
   "source": [
    "df['y0'].value_counts()"
   ]
  },
  {
   "cell_type": "code",
   "execution_count": 6,
   "metadata": {},
   "outputs": [
    {
     "data": {
      "text/plain": [
       "array(['aMean_0', 'std_0', 'irq_0', 'skew_0', 'kurtosis_0', 'f0_0',\n",
       "       'Pf0_0', 'Xrms_0', 'zeroX_0', 'p2p_0', 'crest_0', 'clearance_0',\n",
       "       'shape_0', 'impulse_0', 'aMean_1', 'std_1', 'irq_1', 'skew_1',\n",
       "       'kurtosis_1', 'f0_1', 'Pf0_1', 'Xrms_1', 'zeroX_1', 'p2p_1',\n",
       "       'crest_1', 'clearance_1', 'shape_1', 'impulse_1', 'aMean_2',\n",
       "       'std_2', 'irq_2', 'skew_2', 'kurtosis_2', 'f0_2', 'Pf0_2',\n",
       "       'Xrms_2', 'zeroX_2', 'p2p_2', 'crest_2', 'clearance_2', 'shape_2',\n",
       "       'impulse_2', 'aMean_3', 'std_3', 'irq_3', 'skew_3', 'kurtosis_3',\n",
       "       'f0_3', 'Pf0_3', 'Xrms_3', 'zeroX_3', 'p2p_3', 'crest_3',\n",
       "       'clearance_3', 'shape_3', 'impulse_3', 'covar_01', 'covar_02',\n",
       "       'covar_03', 'covar_12', 'covar_13', 'covar_23', 'y0', 'y1', 'y2',\n",
       "       'y3'], dtype=object)"
      ]
     },
     "execution_count": 6,
     "metadata": {},
     "output_type": "execute_result"
    }
   ],
   "source": [
    "df.columns.values"
   ]
  },
  {
   "cell_type": "markdown",
   "metadata": {},
   "source": [
    "creamos un nuevo dataframe para hacer predicciones sobre el rodamiento del cual tenemos la informacion que fue el primero en fallar."
   ]
  },
  {
   "cell_type": "code",
   "execution_count": 31,
   "metadata": {},
   "outputs": [],
   "source": [
    "new_features=['irq_0', 'skew_0', 'kurtosis_0', 'f0_0',\n",
    "       'Pf0_0', 'Xrms_0', 'zeroX_0', 'p2p_0', 'crest_0', 'clearance_0','shape_0'] #media,desvio e impulso no lo incluimos por lo de la otra note\n"
   ]
  },
  {
   "cell_type": "code",
   "execution_count": 32,
   "metadata": {},
   "outputs": [],
   "source": [
    "df0=df[new_features]"
   ]
  },
  {
   "cell_type": "code",
   "execution_count": 35,
   "metadata": {},
   "outputs": [
    {
     "name": "stdout",
     "output_type": "stream",
     "text": [
      "irq_0\n",
      "skew_0\n",
      "kurtosis_0\n",
      "f0_0\n",
      "Pf0_0\n",
      "Xrms_0\n",
      "zeroX_0\n",
      "p2p_0\n",
      "crest_0\n",
      "clearance_0\n",
      "shape_0\n"
     ]
    },
    {
     "data": {
      "image/png": "[encoded data removed]",
      "text/plain": [
       "<Figure size 432x288 with 1 Axes>"
      ]
     },
     "metadata": {
      "needs_background": "light"
     },
     "output_type": "display_data"
    },
    {
     "data": {
      "image/png": "[encoded data removed]",
      "text/plain": [
       "<Figure size 432x288 with 1 Axes>"
      ]
     },
     "metadata": {
      "needs_background": "light"
     },
     "output_type": "display_data"
    },
    {
     "data": {
      "image/png": "[encoded data removed]",
      "text/plain": [
       "<Figure size 432x288 with 1 Axes>"
      ]
     },
     "metadata": {
      "needs_background": "light"
     },
     "output_type": "display_data"
    },
    {
     "data": {
      "image/png": "[encoded data removed]",
      "text/plain": [
       "<Figure size 432x288 with 1 Axes>"
      ]
     },
     "metadata": {
      "needs_background": "light"
     },
     "output_type": "display_data"
    },
    {
     "data": {
      "image/png": "[encoded data removed]",
      "text/plain": [
       "<Figure size 432x288 with 1 Axes>"
      ]
     },
     "metadata": {
      "needs_background": "light"
     },
     "output_type": "display_data"
    },
    {
     "data": {
      "image/png": "[encoded data removed]",
      "text/plain": [
       "<Figure size 432x288 with 1 Axes>"
      ]
     },
     "metadata": {
      "needs_background": "light"
     },
     "output_type": "display_data"
    },
    {
     "data": {
      "image/png": "[encoded data removed]",
      "text/plain": [
       "<Figure size 432x288 with 1 Axes>"
      ]
     },
     "metadata": {
      "needs_background": "light"
     },
     "output_type": "display_data"
    },
    {
     "data": {
      "image/png": "[encoded data removed]",
      "text/plain": [
       "<Figure size 432x288 with 1 Axes>"
      ]
     },
     "metadata": {
      "needs_background": "light"
     },
     "output_type": "display_data"
    },
    {
     "data": {
      "image/png": "[encoded data removed]",
      "text/plain": [
       "<Figure size 432x288 with 1 Axes>"
      ]
     },
     "metadata": {
      "needs_background": "light"
     },
     "output_type": "display_data"
    },
    {
     "data": {
      "image/png": "[encoded data removed]",
      "text/plain": [
       "<Figure size 432x288 with 1 Axes>"
      ]
     },
     "metadata": {
      "needs_background": "light"
     },
     "output_type": "display_data"
    },
    {
     "data": {
      "image/png": "[encoded data removed]",
      "text/plain": [
       "<Figure size 432x288 with 1 Axes>"
      ]
     },
     "metadata": {
      "needs_background": "light"
     },
     "output_type": "display_data"
    }
   ],
   "source": [
    "for i in df0.columns:\n",
    "    #acf_plot=plot_acf(df2[i])\n",
    "    print(i)\n",
    "    plot_acf(df0[i],alpha=0.01)"
   ]
  },
  {
   "cell_type": "code",
   "execution_count": 36,
   "metadata": {},
   "outputs": [],
   "source": [
    "features=['irq_0', 'skew_0', 'kurtosis_0', 'f0_0',\n",
    "       'Pf0_0', 'Xrms_0', 'zeroX_0', 'p2p_0', 'crest_0', 'clearance_0','shape_0','y0']"
   ]
  },
  {
   "cell_type": "code",
   "execution_count": 37,
   "metadata": {},
   "outputs": [],
   "source": [
    "df_new=df[features]"
   ]
  },
  {
   "cell_type": "code",
   "execution_count": 38,
   "metadata": {},
   "outputs": [
    {
     "data": {
      "text/html": [
       "<div>\n",
       "<style scoped>\n",
       "    .dataframe tbody tr th:only-of-type {\n",
       "        vertical-align: middle;\n",
       "    }\n",
       "\n",
       "    .dataframe tbody tr th {\n",
       "        vertical-align: top;\n",
       "    }\n",
       "\n",
       "    .dataframe thead th {\n",
       "        text-align: right;\n",
       "    }\n",
       "</style>\n",
       "<table border=\"1\" class=\"dataframe\">\n",
       "  <thead>\n",
       "    <tr style=\"text-align: right;\">\n",
       "      <th></th>\n",
       "      <th>irq_0</th>\n",
       "      <th>skew_0</th>\n",
       "      <th>kurtosis_0</th>\n",
       "      <th>f0_0</th>\n",
       "      <th>Pf0_0</th>\n",
       "      <th>Xrms_0</th>\n",
       "      <th>zeroX_0</th>\n",
       "      <th>p2p_0</th>\n",
       "      <th>crest_0</th>\n",
       "      <th>clearance_0</th>\n",
       "      <th>shape_0</th>\n",
       "      <th>y0</th>\n",
       "    </tr>\n",
       "  </thead>\n",
       "  <tbody>\n",
       "    <tr>\n",
       "      <th>0</th>\n",
       "      <td>0.096</td>\n",
       "      <td>0.083993</td>\n",
       "      <td>0.628763</td>\n",
       "      <td>985.351562</td>\n",
       "      <td>52.733122</td>\n",
       "      <td>0.074179</td>\n",
       "      <td>6593.0</td>\n",
       "      <td>0.840</td>\n",
       "      <td>6.120331</td>\n",
       "      <td>9.258404</td>\n",
       "      <td>1.271660</td>\n",
       "      <td>0.0</td>\n",
       "    </tr>\n",
       "    <tr>\n",
       "      <th>1</th>\n",
       "      <td>0.097</td>\n",
       "      <td>0.052142</td>\n",
       "      <td>0.648291</td>\n",
       "      <td>985.351562</td>\n",
       "      <td>51.201049</td>\n",
       "      <td>0.075382</td>\n",
       "      <td>6867.0</td>\n",
       "      <td>0.757</td>\n",
       "      <td>4.895038</td>\n",
       "      <td>7.450864</td>\n",
       "      <td>1.277742</td>\n",
       "      <td>0.0</td>\n",
       "    </tr>\n",
       "    <tr>\n",
       "      <th>2</th>\n",
       "      <td>0.100</td>\n",
       "      <td>0.032808</td>\n",
       "      <td>0.513475</td>\n",
       "      <td>985.351562</td>\n",
       "      <td>50.779361</td>\n",
       "      <td>0.076230</td>\n",
       "      <td>6637.0</td>\n",
       "      <td>0.903</td>\n",
       "      <td>6.598472</td>\n",
       "      <td>9.907938</td>\n",
       "      <td>1.265456</td>\n",
       "      <td>0.0</td>\n",
       "    </tr>\n",
       "    <tr>\n",
       "      <th>3</th>\n",
       "      <td>0.100</td>\n",
       "      <td>0.041486</td>\n",
       "      <td>1.157953</td>\n",
       "      <td>985.351562</td>\n",
       "      <td>51.079815</td>\n",
       "      <td>0.078724</td>\n",
       "      <td>6659.0</td>\n",
       "      <td>1.184</td>\n",
       "      <td>7.723217</td>\n",
       "      <td>11.794197</td>\n",
       "      <td>1.281033</td>\n",
       "      <td>0.0</td>\n",
       "    </tr>\n",
       "    <tr>\n",
       "      <th>4</th>\n",
       "      <td>0.103</td>\n",
       "      <td>0.028224</td>\n",
       "      <td>0.603177</td>\n",
       "      <td>985.351562</td>\n",
       "      <td>50.279226</td>\n",
       "      <td>0.078474</td>\n",
       "      <td>6765.0</td>\n",
       "      <td>0.782</td>\n",
       "      <td>4.982524</td>\n",
       "      <td>7.622802</td>\n",
       "      <td>1.278896</td>\n",
       "      <td>0.0</td>\n",
       "    </tr>\n",
       "  </tbody>\n",
       "</table>\n",
       "</div>"
      ],
      "text/plain": [
       "   irq_0    skew_0  kurtosis_0        f0_0      Pf0_0    Xrms_0  zeroX_0  \\\n",
       "0  0.096  0.083993    0.628763  985.351562  52.733122  0.074179   6593.0   \n",
       "1  0.097  0.052142    0.648291  985.351562  51.201049  0.075382   6867.0   \n",
       "2  0.100  0.032808    0.513475  985.351562  50.779361  0.076230   6637.0   \n",
       "3  0.100  0.041486    1.157953  985.351562  51.079815  0.078724   6659.0   \n",
       "4  0.103  0.028224    0.603177  985.351562  50.279226  0.078474   6765.0   \n",
       "\n",
       "   p2p_0   crest_0  clearance_0   shape_0   y0  \n",
       "0  0.840  6.120331     9.258404  1.271660  0.0  \n",
       "1  0.757  4.895038     7.450864  1.277742  0.0  \n",
       "2  0.903  6.598472     9.907938  1.265456  0.0  \n",
       "3  1.184  7.723217    11.794197  1.281033  0.0  \n",
       "4  0.782  4.982524     7.622802  1.278896  0.0  "
      ]
     },
     "execution_count": 38,
     "metadata": {},
     "output_type": "execute_result"
    }
   ],
   "source": [
    "df_new.head()"
   ]
  },
  {
   "cell_type": "code",
   "execution_count": 41,
   "metadata": {},
   "outputs": [
    {
     "data": {
      "text/html": [
       "<div>\n",
       "<style scoped>\n",
       "    .dataframe tbody tr th:only-of-type {\n",
       "        vertical-align: middle;\n",
       "    }\n",
       "\n",
       "    .dataframe tbody tr th {\n",
       "        vertical-align: top;\n",
       "    }\n",
       "\n",
       "    .dataframe thead th {\n",
       "        text-align: right;\n",
       "    }\n",
       "</style>\n",
       "<table border=\"1\" class=\"dataframe\">\n",
       "  <thead>\n",
       "    <tr style=\"text-align: right;\">\n",
       "      <th></th>\n",
       "      <th>irq_0</th>\n",
       "      <th>skew_0</th>\n",
       "      <th>kurtosis_0</th>\n",
       "      <th>f0_0</th>\n",
       "      <th>Pf0_0</th>\n",
       "      <th>Xrms_0</th>\n",
       "      <th>zeroX_0</th>\n",
       "      <th>p2p_0</th>\n",
       "      <th>crest_0</th>\n",
       "      <th>clearance_0</th>\n",
       "      <th>shape_0</th>\n",
       "    </tr>\n",
       "  </thead>\n",
       "  <tbody>\n",
       "    <tr>\n",
       "      <th>0</th>\n",
       "      <td>0.096</td>\n",
       "      <td>0.083993</td>\n",
       "      <td>0.628763</td>\n",
       "      <td>985.351562</td>\n",
       "      <td>52.733122</td>\n",
       "      <td>0.074179</td>\n",
       "      <td>6593.0</td>\n",
       "      <td>0.840</td>\n",
       "      <td>6.120331</td>\n",
       "      <td>9.258404</td>\n",
       "      <td>1.271660</td>\n",
       "    </tr>\n",
       "    <tr>\n",
       "      <th>1</th>\n",
       "      <td>0.097</td>\n",
       "      <td>0.052142</td>\n",
       "      <td>0.648291</td>\n",
       "      <td>985.351562</td>\n",
       "      <td>51.201049</td>\n",
       "      <td>0.075382</td>\n",
       "      <td>6867.0</td>\n",
       "      <td>0.757</td>\n",
       "      <td>4.895038</td>\n",
       "      <td>7.450864</td>\n",
       "      <td>1.277742</td>\n",
       "    </tr>\n",
       "    <tr>\n",
       "      <th>2</th>\n",
       "      <td>0.100</td>\n",
       "      <td>0.032808</td>\n",
       "      <td>0.513475</td>\n",
       "      <td>985.351562</td>\n",
       "      <td>50.779361</td>\n",
       "      <td>0.076230</td>\n",
       "      <td>6637.0</td>\n",
       "      <td>0.903</td>\n",
       "      <td>6.598472</td>\n",
       "      <td>9.907938</td>\n",
       "      <td>1.265456</td>\n",
       "    </tr>\n",
       "    <tr>\n",
       "      <th>3</th>\n",
       "      <td>0.100</td>\n",
       "      <td>0.041486</td>\n",
       "      <td>1.157953</td>\n",
       "      <td>985.351562</td>\n",
       "      <td>51.079815</td>\n",
       "      <td>0.078724</td>\n",
       "      <td>6659.0</td>\n",
       "      <td>1.184</td>\n",
       "      <td>7.723217</td>\n",
       "      <td>11.794197</td>\n",
       "      <td>1.281033</td>\n",
       "    </tr>\n",
       "    <tr>\n",
       "      <th>4</th>\n",
       "      <td>0.103</td>\n",
       "      <td>0.028224</td>\n",
       "      <td>0.603177</td>\n",
       "      <td>985.351562</td>\n",
       "      <td>50.279226</td>\n",
       "      <td>0.078474</td>\n",
       "      <td>6765.0</td>\n",
       "      <td>0.782</td>\n",
       "      <td>4.982524</td>\n",
       "      <td>7.622802</td>\n",
       "      <td>1.278896</td>\n",
       "    </tr>\n",
       "  </tbody>\n",
       "</table>\n",
       "</div>"
      ],
      "text/plain": [
       "   irq_0    skew_0  kurtosis_0        f0_0      Pf0_0    Xrms_0  zeroX_0  \\\n",
       "0  0.096  0.083993    0.628763  985.351562  52.733122  0.074179   6593.0   \n",
       "1  0.097  0.052142    0.648291  985.351562  51.201049  0.075382   6867.0   \n",
       "2  0.100  0.032808    0.513475  985.351562  50.779361  0.076230   6637.0   \n",
       "3  0.100  0.041486    1.157953  985.351562  51.079815  0.078724   6659.0   \n",
       "4  0.103  0.028224    0.603177  985.351562  50.279226  0.078474   6765.0   \n",
       "\n",
       "   p2p_0   crest_0  clearance_0   shape_0  \n",
       "0  0.840  6.120331     9.258404  1.271660  \n",
       "1  0.757  4.895038     7.450864  1.277742  \n",
       "2  0.903  6.598472     9.907938  1.265456  \n",
       "3  1.184  7.723217    11.794197  1.281033  \n",
       "4  0.782  4.982524     7.622802  1.278896  "
      ]
     },
     "execution_count": 41,
     "metadata": {},
     "output_type": "execute_result"
    }
   ],
   "source": [
    "df0.head()"
   ]
  },
  {
   "cell_type": "markdown",
   "metadata": {},
   "source": [
    "Transformacion del dataset"
   ]
  },
  {
   "cell_type": "code",
   "execution_count": 40,
   "metadata": {},
   "outputs": [],
   "source": [
    "from pandas import DataFrame\n",
    "from pandas import concat\n",
    " \n",
    "def series_to_supervised(data, n_in=1, n_out=1, dropnan=True):\n",
    "\t\"\"\"\n",
    "\tFrame a time series as a supervised learning dataset.\n",
    "\tArguments:\n",
    "\t\tdata: Sequence of observations as a list or NumPy array.\n",
    "\t\tn_in: Number of lag observations as input (X).\n",
    "\t\tn_out: Number of observations as output (y).\n",
    "\t\tdropnan: Boolean whether or not to drop rows with NaN values.\n",
    "\tReturns:\n",
    "\t\tPandas DataFrame of series framed for supervised learning.\n",
    "\t\"\"\"\n",
    "\tn_vars = 1 if type(data) is list else data.shape[1]\n",
    "\tdf = DataFrame(data)\n",
    "\tcols, names = list(), list()\n",
    "\t# input sequence (t-n, ... t-1)\n",
    "\tfor i in range(n_in, 0, -1):\n",
    "\t\tcols.append(df.shift(i))\n",
    "\t\tnames += [('var%d(t-%d)' % (j+1, i)) for j in range(n_vars)]\n",
    "\t# forecast sequence (t, t+1, ... t+n)\n",
    "\tfor i in range(0, n_out):\n",
    "\t\tcols.append(df.shift(-i))\n",
    "\t\tif i == 0:\n",
    "\t\t\tnames += [('var%d(t)' % (j+1)) for j in range(n_vars)]\n",
    "\t\telse:\n",
    "\t\t\tnames += [('var%d(t+%d)' % (j+1, i)) for j in range(n_vars)]\n",
    "\t# put it all together\n",
    "\tagg = concat(cols, axis=1)\n",
    "\tagg.columns = names\n",
    "\t# drop rows with NaN values\n",
    "\tif dropnan:\n",
    "\t\tagg.dropna(inplace=True)\n",
    "\treturn agg\n",
    " \n",
    " \n"
   ]
  },
  {
   "cell_type": "code",
   "execution_count": 42,
   "metadata": {},
   "outputs": [],
   "source": [
    "\n",
    "df_tr = series_to_supervised(df0, 5)\n"
   ]
  },
  {
   "cell_type": "code",
   "execution_count": 45,
   "metadata": {},
   "outputs": [
    {
     "data": {
      "text/plain": [
       "(984, 11)"
      ]
     },
     "execution_count": 45,
     "metadata": {},
     "output_type": "execute_result"
    }
   ],
   "source": [
    "df0.shape"
   ]
  },
  {
   "cell_type": "code",
   "execution_count": 43,
   "metadata": {},
   "outputs": [
    {
     "data": {
      "text/html": [
       "<div>\n",
       "<style scoped>\n",
       "    .dataframe tbody tr th:only-of-type {\n",
       "        vertical-align: middle;\n",
       "    }\n",
       "\n",
       "    .dataframe tbody tr th {\n",
       "        vertical-align: top;\n",
       "    }\n",
       "\n",
       "    .dataframe thead th {\n",
       "        text-align: right;\n",
       "    }\n",
       "</style>\n",
       "<table border=\"1\" class=\"dataframe\">\n",
       "  <thead>\n",
       "    <tr style=\"text-align: right;\">\n",
       "      <th></th>\n",
       "      <th>var1(t-5)</th>\n",
       "      <th>var2(t-5)</th>\n",
       "      <th>var3(t-5)</th>\n",
       "      <th>var4(t-5)</th>\n",
       "      <th>var5(t-5)</th>\n",
       "      <th>var6(t-5)</th>\n",
       "      <th>var7(t-5)</th>\n",
       "      <th>var8(t-5)</th>\n",
       "      <th>var9(t-5)</th>\n",
       "      <th>var10(t-5)</th>\n",
       "      <th>...</th>\n",
       "      <th>var2(t)</th>\n",
       "      <th>var3(t)</th>\n",
       "      <th>var4(t)</th>\n",
       "      <th>var5(t)</th>\n",
       "      <th>var6(t)</th>\n",
       "      <th>var7(t)</th>\n",
       "      <th>var8(t)</th>\n",
       "      <th>var9(t)</th>\n",
       "      <th>var10(t)</th>\n",
       "      <th>var11(t)</th>\n",
       "    </tr>\n",
       "  </thead>\n",
       "  <tbody>\n",
       "    <tr>\n",
       "      <th>5</th>\n",
       "      <td>0.096</td>\n",
       "      <td>0.083993</td>\n",
       "      <td>0.628763</td>\n",
       "      <td>985.351562</td>\n",
       "      <td>52.733122</td>\n",
       "      <td>0.074179</td>\n",
       "      <td>6593.0</td>\n",
       "      <td>0.840</td>\n",
       "      <td>6.120331</td>\n",
       "      <td>9.258404</td>\n",
       "      <td>...</td>\n",
       "      <td>0.026853</td>\n",
       "      <td>0.456094</td>\n",
       "      <td>986.328125</td>\n",
       "      <td>49.566302</td>\n",
       "      <td>0.078315</td>\n",
       "      <td>6729.0</td>\n",
       "      <td>0.805</td>\n",
       "      <td>5.605593</td>\n",
       "      <td>8.467789</td>\n",
       "      <td>1.269929</td>\n",
       "    </tr>\n",
       "    <tr>\n",
       "      <th>6</th>\n",
       "      <td>0.097</td>\n",
       "      <td>0.052142</td>\n",
       "      <td>0.648291</td>\n",
       "      <td>985.351562</td>\n",
       "      <td>51.201049</td>\n",
       "      <td>0.075382</td>\n",
       "      <td>6867.0</td>\n",
       "      <td>0.757</td>\n",
       "      <td>4.895038</td>\n",
       "      <td>7.450864</td>\n",
       "      <td>...</td>\n",
       "      <td>0.058595</td>\n",
       "      <td>0.478615</td>\n",
       "      <td>985.351562</td>\n",
       "      <td>52.829410</td>\n",
       "      <td>0.078632</td>\n",
       "      <td>6566.0</td>\n",
       "      <td>0.796</td>\n",
       "      <td>4.934350</td>\n",
       "      <td>7.455333</td>\n",
       "      <td>1.269413</td>\n",
       "    </tr>\n",
       "    <tr>\n",
       "      <th>7</th>\n",
       "      <td>0.100</td>\n",
       "      <td>0.032808</td>\n",
       "      <td>0.513475</td>\n",
       "      <td>985.351562</td>\n",
       "      <td>50.779361</td>\n",
       "      <td>0.076230</td>\n",
       "      <td>6637.0</td>\n",
       "      <td>0.903</td>\n",
       "      <td>6.598472</td>\n",
       "      <td>9.907938</td>\n",
       "      <td>...</td>\n",
       "      <td>0.082582</td>\n",
       "      <td>0.471982</td>\n",
       "      <td>985.351562</td>\n",
       "      <td>51.773658</td>\n",
       "      <td>0.077773</td>\n",
       "      <td>6602.0</td>\n",
       "      <td>0.749</td>\n",
       "      <td>5.336050</td>\n",
       "      <td>8.061922</td>\n",
       "      <td>1.270148</td>\n",
       "    </tr>\n",
       "    <tr>\n",
       "      <th>8</th>\n",
       "      <td>0.100</td>\n",
       "      <td>0.041486</td>\n",
       "      <td>1.157953</td>\n",
       "      <td>985.351562</td>\n",
       "      <td>51.079815</td>\n",
       "      <td>0.078724</td>\n",
       "      <td>6659.0</td>\n",
       "      <td>1.184</td>\n",
       "      <td>7.723217</td>\n",
       "      <td>11.794197</td>\n",
       "      <td>...</td>\n",
       "      <td>-0.008060</td>\n",
       "      <td>0.404514</td>\n",
       "      <td>986.328125</td>\n",
       "      <td>51.458994</td>\n",
       "      <td>0.079029</td>\n",
       "      <td>6643.0</td>\n",
       "      <td>0.747</td>\n",
       "      <td>4.884256</td>\n",
       "      <td>7.375026</td>\n",
       "      <td>1.268910</td>\n",
       "    </tr>\n",
       "    <tr>\n",
       "      <th>9</th>\n",
       "      <td>0.103</td>\n",
       "      <td>0.028224</td>\n",
       "      <td>0.603177</td>\n",
       "      <td>985.351562</td>\n",
       "      <td>50.279226</td>\n",
       "      <td>0.078474</td>\n",
       "      <td>6765.0</td>\n",
       "      <td>0.782</td>\n",
       "      <td>4.982524</td>\n",
       "      <td>7.622802</td>\n",
       "      <td>...</td>\n",
       "      <td>0.046321</td>\n",
       "      <td>0.325203</td>\n",
       "      <td>986.328125</td>\n",
       "      <td>49.821537</td>\n",
       "      <td>0.075718</td>\n",
       "      <td>6508.0</td>\n",
       "      <td>0.722</td>\n",
       "      <td>4.992237</td>\n",
       "      <td>7.486311</td>\n",
       "      <td>1.264218</td>\n",
       "    </tr>\n",
       "  </tbody>\n",
       "</table>\n",
       "<p>5 rows × 66 columns</p>\n",
       "</div>"
      ],
      "text/plain": [
       "   var1(t-5)  var2(t-5)  var3(t-5)   var4(t-5)  var5(t-5)  var6(t-5)  \\\n",
       "5      0.096   0.083993   0.628763  985.351562  52.733122   0.074179   \n",
       "6      0.097   0.052142   0.648291  985.351562  51.201049   0.075382   \n",
       "7      0.100   0.032808   0.513475  985.351562  50.779361   0.076230   \n",
       "8      0.100   0.041486   1.157953  985.351562  51.079815   0.078724   \n",
       "9      0.103   0.028224   0.603177  985.351562  50.279226   0.078474   \n",
       "\n",
       "   var7(t-5)  var8(t-5)  var9(t-5)  var10(t-5)  ...   var2(t)   var3(t)  \\\n",
       "5     6593.0      0.840   6.120331    9.258404  ...  0.026853  0.456094   \n",
       "6     6867.0      0.757   4.895038    7.450864  ...  0.058595  0.478615   \n",
       "7     6637.0      0.903   6.598472    9.907938  ...  0.082582  0.471982   \n",
       "8     6659.0      1.184   7.723217   11.794197  ... -0.008060  0.404514   \n",
       "9     6765.0      0.782   4.982524    7.622802  ...  0.046321  0.325203   \n",
       "\n",
       "      var4(t)    var5(t)   var6(t)  var7(t)  var8(t)   var9(t)  var10(t)  \\\n",
       "5  986.328125  49.566302  0.078315   6729.0    0.805  5.605593  8.467789   \n",
       "6  985.351562  52.829410  0.078632   6566.0    0.796  4.934350  7.455333   \n",
       "7  985.351562  51.773658  0.077773   6602.0    0.749  5.336050  8.061922   \n",
       "8  986.328125  51.458994  0.079029   6643.0    0.747  4.884256  7.375026   \n",
       "9  986.328125  49.821537  0.075718   6508.0    0.722  4.992237  7.486311   \n",
       "\n",
       "   var11(t)  \n",
       "5  1.269929  \n",
       "6  1.269413  \n",
       "7  1.270148  \n",
       "8  1.268910  \n",
       "9  1.264218  \n",
       "\n",
       "[5 rows x 66 columns]"
      ]
     },
     "execution_count": 43,
     "metadata": {},
     "output_type": "execute_result"
    }
   ],
   "source": [
    "df_tr.head()"
   ]
  },
  {
   "cell_type": "code",
   "execution_count": 46,
   "metadata": {},
   "outputs": [
    {
     "data": {
      "text/html": [
       "<div>\n",
       "<style scoped>\n",
       "    .dataframe tbody tr th:only-of-type {\n",
       "        vertical-align: middle;\n",
       "    }\n",
       "\n",
       "    .dataframe tbody tr th {\n",
       "        vertical-align: top;\n",
       "    }\n",
       "\n",
       "    .dataframe thead th {\n",
       "        text-align: right;\n",
       "    }\n",
       "</style>\n",
       "<table border=\"1\" class=\"dataframe\">\n",
       "  <thead>\n",
       "    <tr style=\"text-align: right;\">\n",
       "      <th></th>\n",
       "      <th>var1(t-5)</th>\n",
       "      <th>var2(t-5)</th>\n",
       "      <th>var3(t-5)</th>\n",
       "      <th>var4(t-5)</th>\n",
       "      <th>var5(t-5)</th>\n",
       "      <th>var6(t-5)</th>\n",
       "      <th>var7(t-5)</th>\n",
       "      <th>var8(t-5)</th>\n",
       "      <th>var9(t-5)</th>\n",
       "      <th>var10(t-5)</th>\n",
       "      <th>...</th>\n",
       "      <th>var3(t)</th>\n",
       "      <th>var4(t)</th>\n",
       "      <th>var5(t)</th>\n",
       "      <th>var6(t)</th>\n",
       "      <th>var7(t)</th>\n",
       "      <th>var8(t)</th>\n",
       "      <th>var9(t)</th>\n",
       "      <th>var10(t)</th>\n",
       "      <th>var11(t)</th>\n",
       "      <th>y0</th>\n",
       "    </tr>\n",
       "  </thead>\n",
       "  <tbody>\n",
       "    <tr>\n",
       "      <th>5</th>\n",
       "      <td>0.096</td>\n",
       "      <td>0.083993</td>\n",
       "      <td>0.628763</td>\n",
       "      <td>985.351562</td>\n",
       "      <td>52.733122</td>\n",
       "      <td>0.074179</td>\n",
       "      <td>6593.0</td>\n",
       "      <td>0.840</td>\n",
       "      <td>6.120331</td>\n",
       "      <td>9.258404</td>\n",
       "      <td>...</td>\n",
       "      <td>0.456094</td>\n",
       "      <td>986.328125</td>\n",
       "      <td>49.566302</td>\n",
       "      <td>0.078315</td>\n",
       "      <td>6729.0</td>\n",
       "      <td>0.805</td>\n",
       "      <td>5.605593</td>\n",
       "      <td>8.467789</td>\n",
       "      <td>1.269929</td>\n",
       "      <td>0.0</td>\n",
       "    </tr>\n",
       "    <tr>\n",
       "      <th>6</th>\n",
       "      <td>0.097</td>\n",
       "      <td>0.052142</td>\n",
       "      <td>0.648291</td>\n",
       "      <td>985.351562</td>\n",
       "      <td>51.201049</td>\n",
       "      <td>0.075382</td>\n",
       "      <td>6867.0</td>\n",
       "      <td>0.757</td>\n",
       "      <td>4.895038</td>\n",
       "      <td>7.450864</td>\n",
       "      <td>...</td>\n",
       "      <td>0.478615</td>\n",
       "      <td>985.351562</td>\n",
       "      <td>52.829410</td>\n",
       "      <td>0.078632</td>\n",
       "      <td>6566.0</td>\n",
       "      <td>0.796</td>\n",
       "      <td>4.934350</td>\n",
       "      <td>7.455333</td>\n",
       "      <td>1.269413</td>\n",
       "      <td>0.0</td>\n",
       "    </tr>\n",
       "    <tr>\n",
       "      <th>7</th>\n",
       "      <td>0.100</td>\n",
       "      <td>0.032808</td>\n",
       "      <td>0.513475</td>\n",
       "      <td>985.351562</td>\n",
       "      <td>50.779361</td>\n",
       "      <td>0.076230</td>\n",
       "      <td>6637.0</td>\n",
       "      <td>0.903</td>\n",
       "      <td>6.598472</td>\n",
       "      <td>9.907938</td>\n",
       "      <td>...</td>\n",
       "      <td>0.471982</td>\n",
       "      <td>985.351562</td>\n",
       "      <td>51.773658</td>\n",
       "      <td>0.077773</td>\n",
       "      <td>6602.0</td>\n",
       "      <td>0.749</td>\n",
       "      <td>5.336050</td>\n",
       "      <td>8.061922</td>\n",
       "      <td>1.270148</td>\n",
       "      <td>0.0</td>\n",
       "    </tr>\n",
       "    <tr>\n",
       "      <th>8</th>\n",
       "      <td>0.100</td>\n",
       "      <td>0.041486</td>\n",
       "      <td>1.157953</td>\n",
       "      <td>985.351562</td>\n",
       "      <td>51.079815</td>\n",
       "      <td>0.078724</td>\n",
       "      <td>6659.0</td>\n",
       "      <td>1.184</td>\n",
       "      <td>7.723217</td>\n",
       "      <td>11.794197</td>\n",
       "      <td>...</td>\n",
       "      <td>0.404514</td>\n",
       "      <td>986.328125</td>\n",
       "      <td>51.458994</td>\n",
       "      <td>0.079029</td>\n",
       "      <td>6643.0</td>\n",
       "      <td>0.747</td>\n",
       "      <td>4.884256</td>\n",
       "      <td>7.375026</td>\n",
       "      <td>1.268910</td>\n",
       "      <td>0.0</td>\n",
       "    </tr>\n",
       "    <tr>\n",
       "      <th>9</th>\n",
       "      <td>0.103</td>\n",
       "      <td>0.028224</td>\n",
       "      <td>0.603177</td>\n",
       "      <td>985.351562</td>\n",
       "      <td>50.279226</td>\n",
       "      <td>0.078474</td>\n",
       "      <td>6765.0</td>\n",
       "      <td>0.782</td>\n",
       "      <td>4.982524</td>\n",
       "      <td>7.622802</td>\n",
       "      <td>...</td>\n",
       "      <td>0.325203</td>\n",
       "      <td>986.328125</td>\n",
       "      <td>49.821537</td>\n",
       "      <td>0.075718</td>\n",
       "      <td>6508.0</td>\n",
       "      <td>0.722</td>\n",
       "      <td>4.992237</td>\n",
       "      <td>7.486311</td>\n",
       "      <td>1.264218</td>\n",
       "      <td>0.0</td>\n",
       "    </tr>\n",
       "  </tbody>\n",
       "</table>\n",
       "<p>5 rows × 67 columns</p>\n",
       "</div>"
      ],
      "text/plain": [
       "   var1(t-5)  var2(t-5)  var3(t-5)   var4(t-5)  var5(t-5)  var6(t-5)  \\\n",
       "5      0.096   0.083993   0.628763  985.351562  52.733122   0.074179   \n",
       "6      0.097   0.052142   0.648291  985.351562  51.201049   0.075382   \n",
       "7      0.100   0.032808   0.513475  985.351562  50.779361   0.076230   \n",
       "8      0.100   0.041486   1.157953  985.351562  51.079815   0.078724   \n",
       "9      0.103   0.028224   0.603177  985.351562  50.279226   0.078474   \n",
       "\n",
       "   var7(t-5)  var8(t-5)  var9(t-5)  var10(t-5)  ...   var3(t)     var4(t)  \\\n",
       "5     6593.0      0.840   6.120331    9.258404  ...  0.456094  986.328125   \n",
       "6     6867.0      0.757   4.895038    7.450864  ...  0.478615  985.351562   \n",
       "7     6637.0      0.903   6.598472    9.907938  ...  0.471982  985.351562   \n",
       "8     6659.0      1.184   7.723217   11.794197  ...  0.404514  986.328125   \n",
       "9     6765.0      0.782   4.982524    7.622802  ...  0.325203  986.328125   \n",
       "\n",
       "     var5(t)   var6(t)  var7(t)  var8(t)   var9(t)  var10(t)  var11(t)   y0  \n",
       "5  49.566302  0.078315   6729.0    0.805  5.605593  8.467789  1.269929  0.0  \n",
       "6  52.829410  0.078632   6566.0    0.796  4.934350  7.455333  1.269413  0.0  \n",
       "7  51.773658  0.077773   6602.0    0.749  5.336050  8.061922  1.270148  0.0  \n",
       "8  51.458994  0.079029   6643.0    0.747  4.884256  7.375026  1.268910  0.0  \n",
       "9  49.821537  0.075718   6508.0    0.722  4.992237  7.486311  1.264218  0.0  \n",
       "\n",
       "[5 rows x 67 columns]"
      ]
     },
     "execution_count": 46,
     "metadata": {},
     "output_type": "execute_result"
    }
   ],
   "source": [
    "target=df['y0']\n",
    "df_tr['y0']=target\n",
    "df_tr.head()"
   ]
  },
  {
   "cell_type": "code",
   "execution_count": 47,
   "metadata": {},
   "outputs": [
    {
     "data": {
      "text/plain": [
       "array(['var1(t-5)', 'var2(t-5)', 'var3(t-5)', 'var4(t-5)', 'var5(t-5)',\n",
       "       'var6(t-5)', 'var7(t-5)', 'var8(t-5)', 'var9(t-5)', 'var10(t-5)',\n",
       "       'var11(t-5)', 'var1(t-4)', 'var2(t-4)', 'var3(t-4)', 'var4(t-4)',\n",
       "       'var5(t-4)', 'var6(t-4)', 'var7(t-4)', 'var8(t-4)', 'var9(t-4)',\n",
       "       'var10(t-4)', 'var11(t-4)', 'var1(t-3)', 'var2(t-3)', 'var3(t-3)',\n",
       "       'var4(t-3)', 'var5(t-3)', 'var6(t-3)', 'var7(t-3)', 'var8(t-3)',\n",
       "       'var9(t-3)', 'var10(t-3)', 'var11(t-3)', 'var1(t-2)', 'var2(t-2)',\n",
       "       'var3(t-2)', 'var4(t-2)', 'var5(t-2)', 'var6(t-2)', 'var7(t-2)',\n",
       "       'var8(t-2)', 'var9(t-2)', 'var10(t-2)', 'var11(t-2)', 'var1(t-1)',\n",
       "       'var2(t-1)', 'var3(t-1)', 'var4(t-1)', 'var5(t-1)', 'var6(t-1)',\n",
       "       'var7(t-1)', 'var8(t-1)', 'var9(t-1)', 'var10(t-1)', 'var11(t-1)',\n",
       "       'var1(t)', 'var2(t)', 'var3(t)', 'var4(t)', 'var5(t)', 'var6(t)',\n",
       "       'var7(t)', 'var8(t)', 'var9(t)', 'var10(t)', 'var11(t)', 'y0'],\n",
       "      dtype=object)"
      ]
     },
     "execution_count": 47,
     "metadata": {},
     "output_type": "execute_result"
    }
   ],
   "source": [
    "df_tr.columns.values"
   ]
  },
  {
   "cell_type": "code",
   "execution_count": 48,
   "metadata": {},
   "outputs": [],
   "source": [
    "features=['var1(t-5)', 'var2(t-5)', 'var3(t-5)', 'var4(t-5)', 'var5(t-5)',\n",
    "       'var6(t-5)', 'var7(t-5)', 'var8(t-5)', 'var9(t-5)', 'var10(t-5)',\n",
    "       'var11(t-5)', 'var1(t-4)', 'var2(t-4)', 'var3(t-4)', 'var4(t-4)',\n",
    "       'var5(t-4)', 'var6(t-4)', 'var7(t-4)', 'var8(t-4)', 'var9(t-4)',\n",
    "       'var10(t-4)', 'var11(t-4)', 'var1(t-3)', 'var2(t-3)', 'var3(t-3)',\n",
    "       'var4(t-3)', 'var5(t-3)', 'var6(t-3)', 'var7(t-3)', 'var8(t-3)',\n",
    "       'var9(t-3)', 'var10(t-3)', 'var11(t-3)', 'var1(t-2)', 'var2(t-2)',\n",
    "       'var3(t-2)', 'var4(t-2)', 'var5(t-2)', 'var6(t-2)', 'var7(t-2)',\n",
    "       'var8(t-2)', 'var9(t-2)', 'var10(t-2)', 'var11(t-2)', 'var1(t-1)',\n",
    "       'var2(t-1)', 'var3(t-1)', 'var4(t-1)', 'var5(t-1)', 'var6(t-1)',\n",
    "       'var7(t-1)', 'var8(t-1)', 'var9(t-1)', 'var10(t-1)', 'var11(t-1)',\n",
    "       'var1(t)', 'var2(t)', 'var3(t)', 'var4(t)', 'var5(t)', 'var6(t)',\n",
    "       'var7(t)', 'var8(t)', 'var9(t)', 'var10(t)', 'var11(t)']\n",
    "ytarget='y0'"
   ]
  },
  {
   "cell_type": "code",
   "execution_count": 49,
   "metadata": {},
   "outputs": [],
   "source": [
    "x_=df_tr[features]\n",
    "y_=df_tr[ytarget]"
   ]
  },
  {
   "cell_type": "markdown",
   "metadata": {},
   "source": []
  },
  {
   "cell_type": "code",
   "execution_count": 50,
   "metadata": {},
   "outputs": [],
   "source": [
    "X_train, X_test, y_train, y_test = train_test_split(x_, y_, test_size=0.2, random_state=10)"
   ]
  },
  {
   "cell_type": "code",
   "execution_count": 51,
   "metadata": {},
   "outputs": [],
   "source": [
    "from sklearn.preprocessing import StandardScaler\n",
    "sc = StandardScaler()\n",
    "X_train_array = sc.fit_transform(X_train.values)\n",
    "X_train = pd.DataFrame(X_train_array, index=X_train.index, columns=X_train.columns)\n",
    "X_test_array = sc.transform(X_test.values)\n",
    "X_test = pd.DataFrame(X_test_array, index=X_test.index, columns=X_test.columns)"
   ]
  },
  {
   "cell_type": "code",
   "execution_count": 52,
   "metadata": {},
   "outputs": [
    {
     "data": {
      "text/html": [
       "<style>#sk-container-id-3 {color: black;background-color: white;}#sk-container-id-3 pre{padding: 0;}#sk-container-id-3 div.sk-toggleable {background-color: white;}#sk-container-id-3 label.sk-toggleable__label {cursor: pointer;display: block;width: 100%;margin-bottom: 0;padding: 0.3em;box-sizing: border-box;text-align: center;}#sk-container-id-3 label.sk-toggleable__label-arrow:before {content: \"▸\";float: left;margin-right: 0.25em;color: #696969;}#sk-container-id-3 label.sk-toggleable__label-arrow:hover:before {color: black;}#sk-container-id-3 div.sk-estimator:hover label.sk-toggleable__label-arrow:before {color: black;}#sk-container-id-3 div.sk-toggleable__content {max-height: 0;max-width: 0;overflow: hidden;text-align: left;background-color: #f0f8ff;}#sk-container-id-3 div.sk-toggleable__content pre {margin: 0.2em;color: black;border-radius: 0.25em;background-color: #f0f8ff;}#sk-container-id-3 input.sk-toggleable__control:checked~div.sk-toggleable__content {max-height: 200px;max-width: 100%;overflow: auto;}#sk-container-id-3 input.sk-toggleable__control:checked~label.sk-toggleable__label-arrow:before {content: \"▾\";}#sk-container-id-3 div.sk-estimator input.sk-toggleable__control:checked~label.sk-toggleable__label {background-color: #d4ebff;}#sk-container-id-3 div.sk-label input.sk-toggleable__control:checked~label.sk-toggleable__label {background-color: #d4ebff;}#sk-container-id-3 input.sk-hidden--visually {border: 0;clip: rect(1px 1px 1px 1px);clip: rect(1px, 1px, 1px, 1px);height: 1px;margin: -1px;overflow: hidden;padding: 0;position: absolute;width: 1px;}#sk-container-id-3 div.sk-estimator {font-family: monospace;background-color: #f0f8ff;border: 1px dotted black;border-radius: 0.25em;box-sizing: border-box;margin-bottom: 0.5em;}#sk-container-id-3 div.sk-estimator:hover {background-color: #d4ebff;}#sk-container-id-3 div.sk-parallel-item::after {content: \"\";width: 100%;border-bottom: 1px solid gray;flex-grow: 1;}#sk-container-id-3 div.sk-label:hover label.sk-toggleable__label {background-color: #d4ebff;}#sk-container-id-3 div.sk-serial::before {content: \"\";position: absolute;border-left: 1px solid gray;box-sizing: border-box;top: 0;bottom: 0;left: 50%;z-index: 0;}#sk-container-id-3 div.sk-serial {display: flex;flex-direction: column;align-items: center;background-color: white;padding-right: 0.2em;padding-left: 0.2em;position: relative;}#sk-container-id-3 div.sk-item {position: relative;z-index: 1;}#sk-container-id-3 div.sk-parallel {display: flex;align-items: stretch;justify-content: center;background-color: white;position: relative;}#sk-container-id-3 div.sk-item::before, #sk-container-id-3 div.sk-parallel-item::before {content: \"\";position: absolute;border-left: 1px solid gray;box-sizing: border-box;top: 0;bottom: 0;left: 50%;z-index: -1;}#sk-container-id-3 div.sk-parallel-item {display: flex;flex-direction: column;z-index: 1;position: relative;background-color: white;}#sk-container-id-3 div.sk-parallel-item:first-child::after {align-self: flex-end;width: 50%;}#sk-container-id-3 div.sk-parallel-item:last-child::after {align-self: flex-start;width: 50%;}#sk-container-id-3 div.sk-parallel-item:only-child::after {width: 0;}#sk-container-id-3 div.sk-dashed-wrapped {border: 1px dashed gray;margin: 0 0.4em 0.5em 0.4em;box-sizing: border-box;padding-bottom: 0.4em;background-color: white;}#sk-container-id-3 div.sk-label label {font-family: monospace;font-weight: bold;display: inline-block;line-height: 1.2em;}#sk-container-id-3 div.sk-label-container {text-align: center;}#sk-container-id-3 div.sk-container {/* jupyter's `normalize.less` sets `[hidden] { display: none; }` but bootstrap.min.css set `[hidden] { display: none !important; }` so we also need the `!important` here to be able to override the default hidden behavior on the sphinx rendered scikit-learn.org. See: https://github.com/scikit-learn/scikit-learn/issues/21755 */display: inline-block !important;position: relative;}#sk-container-id-3 div.sk-text-repr-fallback {display: none;}</style><div id=\"sk-container-id-3\" class=\"sk-top-container\"><div class=\"sk-text-repr-fallback\"><pre>DecisionTreeClassifier(min_samples_split=20, random_state=99)</pre><b>In a Jupyter environment, please rerun this cell to show the HTML representation or trust the notebook. <br />On GitHub, the HTML representation is unable to render, please try loading this page with nbviewer.org.</b></div><div class=\"sk-container\" hidden><div class=\"sk-item\"><div class=\"sk-estimator sk-toggleable\"><input class=\"sk-toggleable__control sk-hidden--visually\" id=\"sk-estimator-id-3\" type=\"checkbox\" checked><label for=\"sk-estimator-id-3\" class=\"sk-toggleable__label sk-toggleable__label-arrow\">DecisionTreeClassifier</label><div class=\"sk-toggleable__content\"><pre>DecisionTreeClassifier(min_samples_split=20, random_state=99)</pre></div></div></div></div></div>"
      ],
      "text/plain": [
       "DecisionTreeClassifier(min_samples_split=20, random_state=99)"
      ]
     },
     "execution_count": 52,
     "metadata": {},
     "output_type": "execute_result"
    }
   ],
   "source": [
    "from imblearn.under_sampling import RandomUnderSampler\n",
    "from sklearn.tree import DecisionTreeClassifier\n",
    "tree=DecisionTreeClassifier(criterion='gini',min_samples_split=20,random_state=99)\n",
    "tree.fit(X_train,y_train)"
   ]
  },
  {
   "cell_type": "code",
   "execution_count": 54,
   "metadata": {},
   "outputs": [
    {
     "data": {
      "text/plain": [
       "array([0., 0., 1., 0., 0., 0., 1., 1., 0., 0., 0., 1., 0., 1., 0., 1., 0.,\n",
       "       0., 0., 0., 0., 0., 1., 0., 0., 0., 1., 0., 0., 0., 0., 0., 0., 1.,\n",
       "       0., 0., 0., 1., 0., 0., 1., 0., 0., 0., 1., 0., 1., 1., 0., 1., 0.,\n",
       "       0., 0., 1., 0., 0., 0., 0., 0., 0., 1., 1., 0., 1., 1., 0., 1., 0.,\n",
       "       0., 0., 0., 1., 0., 0., 0., 0., 0., 0., 0., 0., 0., 0., 0., 0., 0.,\n",
       "       1., 0., 0., 0., 0., 0., 1., 0., 0., 0., 0., 1., 0., 0., 0., 0., 0.,\n",
       "       0., 1., 0., 0., 1., 1., 0., 1., 0., 0., 0., 1., 0., 0., 0., 0., 0.,\n",
       "       0., 1., 0., 1., 0., 1., 0., 0., 0., 0., 0., 1., 1., 0., 0., 1., 1.,\n",
       "       0., 0., 0., 0., 1., 0., 0., 1., 0., 1., 0., 1., 1., 0., 0., 0., 0.,\n",
       "       1., 0., 0., 1., 1., 0., 0., 0., 0., 1., 0., 0., 0., 0., 0., 1., 0.,\n",
       "       1., 0., 0., 0., 0., 0., 0., 0., 0., 1., 0., 1., 1., 0., 1., 1., 1.,\n",
       "       1., 0., 0., 1., 1., 0., 0., 0., 0.])"
      ]
     },
     "execution_count": 54,
     "metadata": {},
     "output_type": "execute_result"
    }
   ],
   "source": [
    "predictions=tree.predict(X_test)\n",
    "predictions"
   ]
  },
  {
   "cell_type": "code",
   "execution_count": 55,
   "metadata": {},
   "outputs": [
    {
     "data": {
      "text/plain": [
       "0.9744897959183674"
      ]
     },
     "execution_count": 55,
     "metadata": {},
     "output_type": "execute_result"
    }
   ],
   "source": [
    "from sklearn.metrics import accuracy_score\n",
    "accuracy_score(y_test,predictions)"
   ]
  },
  {
   "cell_type": "code",
   "execution_count": 56,
   "metadata": {},
   "outputs": [
    {
     "data": {
      "text/plain": [
       "array([[138,   4],\n",
       "       [  1,  53]], dtype=int64)"
      ]
     },
     "execution_count": 56,
     "metadata": {},
     "output_type": "execute_result"
    }
   ],
   "source": [
    "from sklearn.metrics import confusion_matrix\n",
    "confusion_matrix(y_test,predictions,labels=[0,1])"
   ]
  },
  {
   "cell_type": "code",
   "execution_count": 57,
   "metadata": {},
   "outputs": [],
   "source": [
    "from sklearn.ensemble import RandomForestClassifier"
   ]
  },
  {
   "cell_type": "code",
   "execution_count": 58,
   "metadata": {},
   "outputs": [
    {
     "data": {
      "text/html": [
       "<style>#sk-container-id-4 {color: black;background-color: white;}#sk-container-id-4 pre{padding: 0;}#sk-container-id-4 div.sk-toggleable {background-color: white;}#sk-container-id-4 label.sk-toggleable__label {cursor: pointer;display: block;width: 100%;margin-bottom: 0;padding: 0.3em;box-sizing: border-box;text-align: center;}#sk-container-id-4 label.sk-toggleable__label-arrow:before {content: \"▸\";float: left;margin-right: 0.25em;color: #696969;}#sk-container-id-4 label.sk-toggleable__label-arrow:hover:before {color: black;}#sk-container-id-4 div.sk-estimator:hover label.sk-toggleable__label-arrow:before {color: black;}#sk-container-id-4 div.sk-toggleable__content {max-height: 0;max-width: 0;overflow: hidden;text-align: left;background-color: #f0f8ff;}#sk-container-id-4 div.sk-toggleable__content pre {margin: 0.2em;color: black;border-radius: 0.25em;background-color: #f0f8ff;}#sk-container-id-4 input.sk-toggleable__control:checked~div.sk-toggleable__content {max-height: 200px;max-width: 100%;overflow: auto;}#sk-container-id-4 input.sk-toggleable__control:checked~label.sk-toggleable__label-arrow:before {content: \"▾\";}#sk-container-id-4 div.sk-estimator input.sk-toggleable__control:checked~label.sk-toggleable__label {background-color: #d4ebff;}#sk-container-id-4 div.sk-label input.sk-toggleable__control:checked~label.sk-toggleable__label {background-color: #d4ebff;}#sk-container-id-4 input.sk-hidden--visually {border: 0;clip: rect(1px 1px 1px 1px);clip: rect(1px, 1px, 1px, 1px);height: 1px;margin: -1px;overflow: hidden;padding: 0;position: absolute;width: 1px;}#sk-container-id-4 div.sk-estimator {font-family: monospace;background-color: #f0f8ff;border: 1px dotted black;border-radius: 0.25em;box-sizing: border-box;margin-bottom: 0.5em;}#sk-container-id-4 div.sk-estimator:hover {background-color: #d4ebff;}#sk-container-id-4 div.sk-parallel-item::after {content: \"\";width: 100%;border-bottom: 1px solid gray;flex-grow: 1;}#sk-container-id-4 div.sk-label:hover label.sk-toggleable__label {background-color: #d4ebff;}#sk-container-id-4 div.sk-serial::before {content: \"\";position: absolute;border-left: 1px solid gray;box-sizing: border-box;top: 0;bottom: 0;left: 50%;z-index: 0;}#sk-container-id-4 div.sk-serial {display: flex;flex-direction: column;align-items: center;background-color: white;padding-right: 0.2em;padding-left: 0.2em;position: relative;}#sk-container-id-4 div.sk-item {position: relative;z-index: 1;}#sk-container-id-4 div.sk-parallel {display: flex;align-items: stretch;justify-content: center;background-color: white;position: relative;}#sk-container-id-4 div.sk-item::before, #sk-container-id-4 div.sk-parallel-item::before {content: \"\";position: absolute;border-left: 1px solid gray;box-sizing: border-box;top: 0;bottom: 0;left: 50%;z-index: -1;}#sk-container-id-4 div.sk-parallel-item {display: flex;flex-direction: column;z-index: 1;position: relative;background-color: white;}#sk-container-id-4 div.sk-parallel-item:first-child::after {align-self: flex-end;width: 50%;}#sk-container-id-4 div.sk-parallel-item:last-child::after {align-self: flex-start;width: 50%;}#sk-container-id-4 div.sk-parallel-item:only-child::after {width: 0;}#sk-container-id-4 div.sk-dashed-wrapped {border: 1px dashed gray;margin: 0 0.4em 0.5em 0.4em;box-sizing: border-box;padding-bottom: 0.4em;background-color: white;}#sk-container-id-4 div.sk-label label {font-family: monospace;font-weight: bold;display: inline-block;line-height: 1.2em;}#sk-container-id-4 div.sk-label-container {text-align: center;}#sk-container-id-4 div.sk-container {/* jupyter's `normalize.less` sets `[hidden] { display: none; }` but bootstrap.min.css set `[hidden] { display: none !important; }` so we also need the `!important` here to be able to override the default hidden behavior on the sphinx rendered scikit-learn.org. See: https://github.com/scikit-learn/scikit-learn/issues/21755 */display: inline-block !important;position: relative;}#sk-container-id-4 div.sk-text-repr-fallback {display: none;}</style><div id=\"sk-container-id-4\" class=\"sk-top-container\"><div class=\"sk-text-repr-fallback\"><pre>RandomForestClassifier(n_estimators=500, n_jobs=2, oob_score=True)</pre><b>In a Jupyter environment, please rerun this cell to show the HTML representation or trust the notebook. <br />On GitHub, the HTML representation is unable to render, please try loading this page with nbviewer.org.</b></div><div class=\"sk-container\" hidden><div class=\"sk-item\"><div class=\"sk-estimator sk-toggleable\"><input class=\"sk-toggleable__control sk-hidden--visually\" id=\"sk-estimator-id-4\" type=\"checkbox\" checked><label for=\"sk-estimator-id-4\" class=\"sk-toggleable__label sk-toggleable__label-arrow\">RandomForestClassifier</label><div class=\"sk-toggleable__content\"><pre>RandomForestClassifier(n_estimators=500, n_jobs=2, oob_score=True)</pre></div></div></div></div></div>"
      ],
      "text/plain": [
       "RandomForestClassifier(n_estimators=500, n_jobs=2, oob_score=True)"
      ]
     },
     "execution_count": 58,
     "metadata": {},
     "output_type": "execute_result"
    }
   ],
   "source": [
    "forest=RandomForestClassifier(n_jobs=2,oob_score=True,n_estimators=500)\n",
    "forest.fit(X_train,y_train)"
   ]
  },
  {
   "cell_type": "code",
   "execution_count": 59,
   "metadata": {},
   "outputs": [
    {
     "data": {
      "text/plain": [
       "0.9974457215836526"
      ]
     },
     "execution_count": 59,
     "metadata": {},
     "output_type": "execute_result"
    }
   ],
   "source": [
    "forest.oob_score_ "
   ]
  },
  {
   "cell_type": "markdown",
   "metadata": {},
   "source": [
    "Pycaret"
   ]
  },
  {
   "cell_type": "code",
   "execution_count": 60,
   "metadata": {},
   "outputs": [],
   "source": [
    "from pycaret.classification import *"
   ]
  },
  {
   "cell_type": "code",
   "execution_count": 65,
   "metadata": {},
   "outputs": [
    {
     "data": {
      "application/vnd.jupyter.widget-view+json": {
       "model_id": "485627be98324db396eeca5f2ac8afb1",
       "version_major": 2,
       "version_minor": 0
      },
      "text/plain": [
       "IntProgress(value=0, description='Processing: ', max=3)"
      ]
     },
     "metadata": {},
     "output_type": "display_data"
    },
    {
     "data": {
      "text/html": [
       "<div>\n",
       "<style scoped>\n",
       "    .dataframe tbody tr th:only-of-type {\n",
       "        vertical-align: middle;\n",
       "    }\n",
       "\n",
       "    .dataframe tbody tr th {\n",
       "        vertical-align: top;\n",
       "    }\n",
       "\n",
       "    .dataframe thead th {\n",
       "        text-align: right;\n",
       "    }\n",
       "</style>\n",
       "<table border=\"1\" class=\"dataframe\">\n",
       "  <thead>\n",
       "    <tr style=\"text-align: right;\">\n",
       "      <th></th>\n",
       "      <th></th>\n",
       "      <th></th>\n",
       "    </tr>\n",
       "    <tr>\n",
       "      <th></th>\n",
       "      <th></th>\n",
       "      <th></th>\n",
       "    </tr>\n",
       "  </thead>\n",
       "  <tbody>\n",
       "    <tr>\n",
       "      <th>Initiated</th>\n",
       "      <td>. . . . . . . . . . . . . . . . . .</td>\n",
       "      <td>23:57:18</td>\n",
       "    </tr>\n",
       "    <tr>\n",
       "      <th>Status</th>\n",
       "      <td>. . . . . . . . . . . . . . . . . .</td>\n",
       "      <td>Preprocessing Data</td>\n",
       "    </tr>\n",
       "  </tbody>\n",
       "</table>\n",
       "</div>"
      ],
      "text/plain": [
       "                                                                  \n",
       "                                                                  \n",
       "Initiated  . . . . . . . . . . . . . . . . . .            23:57:18\n",
       "Status     . . . . . . . . . . . . . . . . . .  Preprocessing Data"
      ]
     },
     "metadata": {},
     "output_type": "display_data"
    },
    {
     "data": {
      "application/vnd.jupyter.widget-view+json": {
       "model_id": "61ee033df8ef4469aff0450e24e0d716",
       "version_major": 2,
       "version_minor": 0
      },
      "text/plain": [
       "Text(value=\"Following data types have been inferred automatically, if they are correct press enter to continue…"
      ]
     },
     "metadata": {},
     "output_type": "display_data"
    },
    {
     "data": {
      "text/html": [
       "<div>\n",
       "<style scoped>\n",
       "    .dataframe tbody tr th:only-of-type {\n",
       "        vertical-align: middle;\n",
       "    }\n",
       "\n",
       "    .dataframe tbody tr th {\n",
       "        vertical-align: top;\n",
       "    }\n",
       "\n",
       "    .dataframe thead th {\n",
       "        text-align: right;\n",
       "    }\n",
       "</style>\n",
       "<table border=\"1\" class=\"dataframe\">\n",
       "  <thead>\n",
       "    <tr style=\"text-align: right;\">\n",
       "      <th></th>\n",
       "      <th>Data Type</th>\n",
       "    </tr>\n",
       "  </thead>\n",
       "  <tbody>\n",
       "    <tr>\n",
       "      <th>var1(t-5)</th>\n",
       "      <td>Numeric</td>\n",
       "    </tr>\n",
       "    <tr>\n",
       "      <th>var2(t-5)</th>\n",
       "      <td>Numeric</td>\n",
       "    </tr>\n",
       "    <tr>\n",
       "      <th>var3(t-5)</th>\n",
       "      <td>Numeric</td>\n",
       "    </tr>\n",
       "    <tr>\n",
       "      <th>var4(t-5)</th>\n",
       "      <td>Numeric</td>\n",
       "    </tr>\n",
       "    <tr>\n",
       "      <th>var5(t-5)</th>\n",
       "      <td>Numeric</td>\n",
       "    </tr>\n",
       "    <tr>\n",
       "      <th>...</th>\n",
       "      <td>...</td>\n",
       "    </tr>\n",
       "    <tr>\n",
       "      <th>var8(t)</th>\n",
       "      <td>Numeric</td>\n",
       "    </tr>\n",
       "    <tr>\n",
       "      <th>var9(t)</th>\n",
       "      <td>Numeric</td>\n",
       "    </tr>\n",
       "    <tr>\n",
       "      <th>var10(t)</th>\n",
       "      <td>Numeric</td>\n",
       "    </tr>\n",
       "    <tr>\n",
       "      <th>var11(t)</th>\n",
       "      <td>Numeric</td>\n",
       "    </tr>\n",
       "    <tr>\n",
       "      <th>y0</th>\n",
       "      <td>Label</td>\n",
       "    </tr>\n",
       "  </tbody>\n",
       "</table>\n",
       "<p>67 rows × 1 columns</p>\n",
       "</div>"
      ],
      "text/plain": [
       "          Data Type\n",
       "var1(t-5)   Numeric\n",
       "var2(t-5)   Numeric\n",
       "var3(t-5)   Numeric\n",
       "var4(t-5)   Numeric\n",
       "var5(t-5)   Numeric\n",
       "...             ...\n",
       "var8(t)     Numeric\n",
       "var9(t)     Numeric\n",
       "var10(t)    Numeric\n",
       "var11(t)    Numeric\n",
       "y0            Label\n",
       "\n",
       "[67 rows x 1 columns]"
      ]
     },
     "metadata": {},
     "output_type": "display_data"
    }
   ],
   "source": [
    "exp=setup(df_tr,target='y0',fold_shuffle=True)"
   ]
  },
  {
   "cell_type": "code",
   "execution_count": null,
   "metadata": {},
   "outputs": [],
   "source": []
  }
 ],
 "metadata": {
  "kernelspec": {
   "display_name": "Python 3.9.6 64-bit",
   "language": "python",
   "name": "python3"
  },
  "language_info": {
   "codemirror_mode": {
    "name": "ipython",
    "version": 3
   },
   "file_extension": ".py",
   "mimetype": "text/x-python",
   "name": "python",
   "nbconvert_exporter": "python",
   "pygments_lexer": "ipython3",
   "version": "3.9.6"
  },
  "orig_nbformat": 4,
  "vscode": {
   "interpreter": {
    "hash": "ac89dbf135de3ba50f0c4188f4f908fa9273f5adb06897823e082ae6e551143b"
   }
  }
 },
 "nbformat": 4,
 "nbformat_minor": 2
}
