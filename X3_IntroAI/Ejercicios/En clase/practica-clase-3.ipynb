{
 "cells": [
  {
   "cell_type": "code",
   "execution_count": 1,
   "id": "cf840511",
   "metadata": {},
   "outputs": [
    {
     "name": "stdout",
     "output_type": "stream",
     "text": [
      "Requirement already satisfied: pandas in c:\\users\\mdevo\\appdata\\local\\programs\\python\\python310\\lib\\site-packages (1.4.2)\n",
      "Requirement already satisfied: pytz>=2020.1 in c:\\users\\mdevo\\appdata\\local\\programs\\python\\python310\\lib\\site-packages (from pandas) (2022.1)\n",
      "Requirement already satisfied: python-dateutil>=2.8.1 in c:\\users\\mdevo\\appdata\\local\\programs\\python\\python310\\lib\\site-packages (from pandas) (2.8.2)\n",
      "Requirement already satisfied: numpy>=1.21.0 in c:\\users\\mdevo\\appdata\\local\\programs\\python\\python310\\lib\\site-packages (from pandas) (1.21.4)\n",
      "Requirement already satisfied: six>=1.5 in c:\\users\\mdevo\\appdata\\local\\programs\\python\\python310\\lib\\site-packages (from python-dateutil>=2.8.1->pandas) (1.16.0)\n"
     ]
    },
    {
     "name": "stderr",
     "output_type": "stream",
     "text": [
      "WARNING: There was an error checking the latest version of pip.\n"
     ]
    },
    {
     "name": "stdout",
     "output_type": "stream",
     "text": [
      "Requirement already satisfied: sklearn in c:\\users\\mdevo\\appdata\\local\\programs\\python\\python310\\lib\\site-packages (0.0)\n",
      "Requirement already satisfied: scikit-learn in c:\\users\\mdevo\\appdata\\local\\programs\\python\\python310\\lib\\site-packages (from sklearn) (1.1.0)\n",
      "Requirement already satisfied: threadpoolctl>=2.0.0 in c:\\users\\mdevo\\appdata\\local\\programs\\python\\python310\\lib\\site-packages (from scikit-learn->sklearn) (3.1.0)\n",
      "Requirement already satisfied: scipy>=1.3.2 in c:\\users\\mdevo\\appdata\\local\\programs\\python\\python310\\lib\\site-packages (from scikit-learn->sklearn) (1.8.0)\n",
      "Requirement already satisfied: numpy>=1.17.3 in c:\\users\\mdevo\\appdata\\local\\programs\\python\\python310\\lib\\site-packages (from scikit-learn->sklearn) (1.21.4)\n",
      "Requirement already satisfied: joblib>=1.0.0 in c:\\users\\mdevo\\appdata\\local\\programs\\python\\python310\\lib\\site-packages (from scikit-learn->sklearn) (1.1.0)\n"
     ]
    },
    {
     "name": "stderr",
     "output_type": "stream",
     "text": [
      "WARNING: There was an error checking the latest version of pip.\n"
     ]
    }
   ],
   "source": [
    "!pip install pandas\n",
    "!pip install sklearn"
   ]
  },
  {
   "cell_type": "code",
   "execution_count": 4,
   "id": "aaf94e0a",
   "metadata": {},
   "outputs": [],
   "source": [
    "import numpy as np\n",
    "import pandas as pd\n",
    "from sklearn import *"
   ]
  },
  {
   "cell_type": "code",
   "execution_count": 5,
   "id": "65843123",
   "metadata": {},
   "outputs": [],
   "source": [
    "data = np.loadtxt('./clase3v2.csv', delimiter = ';')"
   ]
  },
  {
   "cell_type": "markdown",
   "id": "bc637a8c",
   "metadata": {},
   "source": [
    "El dataset 'clase3v2.csv' es un dataset sintético para un problema de regresión. Su columna target es la última. "
   ]
  },
  {
   "cell_type": "code",
   "execution_count": 6,
   "id": "b3be1893",
   "metadata": {},
   "outputs": [],
   "source": [
    "data_p = pd.DataFrame(data)"
   ]
  },
  {
   "cell_type": "code",
   "execution_count": 7,
   "id": "2a631a9f",
   "metadata": {},
   "outputs": [
    {
     "data": {
      "text/html": [
       "<div>\n",
       "<style scoped>\n",
       "    .dataframe tbody tr th:only-of-type {\n",
       "        vertical-align: middle;\n",
       "    }\n",
       "\n",
       "    .dataframe tbody tr th {\n",
       "        vertical-align: top;\n",
       "    }\n",
       "\n",
       "    .dataframe thead th {\n",
       "        text-align: right;\n",
       "    }\n",
       "</style>\n",
       "<table border=\"1\" class=\"dataframe\">\n",
       "  <thead>\n",
       "    <tr style=\"text-align: right;\">\n",
       "      <th></th>\n",
       "      <th>0</th>\n",
       "      <th>1</th>\n",
       "      <th>2</th>\n",
       "      <th>3</th>\n",
       "      <th>4</th>\n",
       "      <th>5</th>\n",
       "      <th>6</th>\n",
       "    </tr>\n",
       "  </thead>\n",
       "  <tbody>\n",
       "    <tr>\n",
       "      <th>25</th>\n",
       "      <td>0.629213</td>\n",
       "      <td>-2.159589</td>\n",
       "      <td>4.203420</td>\n",
       "      <td>0.983685</td>\n",
       "      <td>-7.623845</td>\n",
       "      <td>2.735694</td>\n",
       "      <td>3.194306</td>\n",
       "    </tr>\n",
       "    <tr>\n",
       "      <th>26</th>\n",
       "      <td>2.426831</td>\n",
       "      <td>-1.556721</td>\n",
       "      <td>2.048743</td>\n",
       "      <td>-0.573126</td>\n",
       "      <td>-2.427306</td>\n",
       "      <td>-6.137065</td>\n",
       "      <td>-15.932060</td>\n",
       "    </tr>\n",
       "    <tr>\n",
       "      <th>27</th>\n",
       "      <td>9.912187</td>\n",
       "      <td>1.147657</td>\n",
       "      <td>1.927163</td>\n",
       "      <td>1.188438</td>\n",
       "      <td>6.116798</td>\n",
       "      <td>-0.213551</td>\n",
       "      <td>20.960242</td>\n",
       "    </tr>\n",
       "    <tr>\n",
       "      <th>28</th>\n",
       "      <td>-2.460121</td>\n",
       "      <td>4.720852</td>\n",
       "      <td>5.899637</td>\n",
       "      <td>2.592763</td>\n",
       "      <td>1.342859</td>\n",
       "      <td>-3.246913</td>\n",
       "      <td>0.814673</td>\n",
       "    </tr>\n",
       "    <tr>\n",
       "      <th>29</th>\n",
       "      <td>-8.561979</td>\n",
       "      <td>5.498146</td>\n",
       "      <td>6.299866</td>\n",
       "      <td>1.423574</td>\n",
       "      <td>2.725473</td>\n",
       "      <td>-15.768971</td>\n",
       "      <td>-51.964828</td>\n",
       "    </tr>\n",
       "    <tr>\n",
       "      <th>...</th>\n",
       "      <td>...</td>\n",
       "      <td>...</td>\n",
       "      <td>...</td>\n",
       "      <td>...</td>\n",
       "      <td>...</td>\n",
       "      <td>...</td>\n",
       "      <td>...</td>\n",
       "    </tr>\n",
       "    <tr>\n",
       "      <th>95</th>\n",
       "      <td>0.029921</td>\n",
       "      <td>5.364063</td>\n",
       "      <td>9.676388</td>\n",
       "      <td>2.644617</td>\n",
       "      <td>1.877694</td>\n",
       "      <td>-7.677102</td>\n",
       "      <td>24.897925</td>\n",
       "    </tr>\n",
       "    <tr>\n",
       "      <th>96</th>\n",
       "      <td>-1.775782</td>\n",
       "      <td>5.393318</td>\n",
       "      <td>3.854789</td>\n",
       "      <td>3.186040</td>\n",
       "      <td>-1.403002</td>\n",
       "      <td>-3.622327</td>\n",
       "      <td>18.237007</td>\n",
       "    </tr>\n",
       "    <tr>\n",
       "      <th>97</th>\n",
       "      <td>13.162143</td>\n",
       "      <td>0.164868</td>\n",
       "      <td>12.263580</td>\n",
       "      <td>3.105625</td>\n",
       "      <td>-0.426276</td>\n",
       "      <td>-1.829889</td>\n",
       "      <td>43.654064</td>\n",
       "    </tr>\n",
       "    <tr>\n",
       "      <th>98</th>\n",
       "      <td>7.060369</td>\n",
       "      <td>4.293074</td>\n",
       "      <td>3.590226</td>\n",
       "      <td>-0.066123</td>\n",
       "      <td>-2.039099</td>\n",
       "      <td>-3.643987</td>\n",
       "      <td>18.831133</td>\n",
       "    </tr>\n",
       "    <tr>\n",
       "      <th>99</th>\n",
       "      <td>-23.815965</td>\n",
       "      <td>3.424658</td>\n",
       "      <td>1.601140</td>\n",
       "      <td>1.270134</td>\n",
       "      <td>-2.037267</td>\n",
       "      <td>6.164295</td>\n",
       "      <td>-69.318103</td>\n",
       "    </tr>\n",
       "  </tbody>\n",
       "</table>\n",
       "<p>75 rows × 7 columns</p>\n",
       "</div>"
      ],
      "text/plain": [
       "            0         1          2         3         4          5          6\n",
       "25   0.629213 -2.159589   4.203420  0.983685 -7.623845   2.735694   3.194306\n",
       "26   2.426831 -1.556721   2.048743 -0.573126 -2.427306  -6.137065 -15.932060\n",
       "27   9.912187  1.147657   1.927163  1.188438  6.116798  -0.213551  20.960242\n",
       "28  -2.460121  4.720852   5.899637  2.592763  1.342859  -3.246913   0.814673\n",
       "29  -8.561979  5.498146   6.299866  1.423574  2.725473 -15.768971 -51.964828\n",
       "..        ...       ...        ...       ...       ...        ...        ...\n",
       "95   0.029921  5.364063   9.676388  2.644617  1.877694  -7.677102  24.897925\n",
       "96  -1.775782  5.393318   3.854789  3.186040 -1.403002  -3.622327  18.237007\n",
       "97  13.162143  0.164868  12.263580  3.105625 -0.426276  -1.829889  43.654064\n",
       "98   7.060369  4.293074   3.590226 -0.066123 -2.039099  -3.643987  18.831133\n",
       "99 -23.815965  3.424658   1.601140  1.270134 -2.037267   6.164295 -69.318103\n",
       "\n",
       "[75 rows x 7 columns]"
      ]
     },
     "execution_count": 7,
     "metadata": {},
     "output_type": "execute_result"
    }
   ],
   "source": [
    "data_p.dropna()"
   ]
  },
  {
   "cell_type": "markdown",
   "id": "c51994ab",
   "metadata": {},
   "source": [
    "# Ejercicio 1\n",
    "\n",
    "Crear una función que remueva filas y columnas con NaNs."
   ]
  },
  {
   "cell_type": "code",
   "execution_count": null,
   "id": "3cfc1af6",
   "metadata": {},
   "outputs": [],
   "source": [
    "def func():\n",
    "    \n",
    "    return NotImplemented"
   ]
  },
  {
   "cell_type": "markdown",
   "id": "808ffcaa",
   "metadata": {},
   "source": [
    "# Ejercicio 2\n",
    "\n",
    "Crear una función que reemplace NaN por la media y otra con la mediana de la columna."
   ]
  },
  {
   "cell_type": "code",
   "execution_count": null,
   "id": "4d824cde",
   "metadata": {},
   "outputs": [],
   "source": [
    "def replace_nan_with_mean():\n",
    "    mean = data[i]\n",
    "    return NotImplemented"
   ]
  },
  {
   "cell_type": "markdown",
   "id": "b77ad81a",
   "metadata": {},
   "source": [
    "# Ejercicio 3\n",
    "\n",
    "Crear una función que separe los datos en train-validation-test 70-20-10\n",
    "\n",
    "\n",
    "Hints: \n",
    "\n",
    "* Usar Indexing y slicing\n",
    "* Usar np.random.[...]"
   ]
  },
  {
   "cell_type": "code",
   "execution_count": 27,
   "id": "1aa81f0d",
   "metadata": {},
   "outputs": [
    {
     "name": "stdout",
     "output_type": "stream",
     "text": [
      "100\n",
      "100\n",
      "100\n"
     ]
    }
   ],
   "source": [
    "import numpy as np\n",
    "\n",
    "def data_split(data):\n",
    "    i = (np.random.rand(len(data)) * len(data)).astype(int)\n",
    "    new_data = data[i]\n",
    "    return new_data*0.7, new_data*0.2, new_data*0.1\n",
    "\n",
    "train, test, val = data_split(data)\n",
    "print(len(train))\n",
    "print(len(test))\n",
    "print(len(val))\n"
   ]
  },
  {
   "cell_type": "markdown",
   "id": "d481762b",
   "metadata": {},
   "source": [
    "# Ejercicio 4\n",
    "\n",
    "Tomar una matrix numpy y agregarle **una columna y una fila** de 1's\n",
    "\n",
    "Puede usar \n",
    "\n",
    "$$\n",
    "  A =\n",
    "  \\left[ {\\begin{array}{ccc}\n",
    "    -2 & -4 & 2 \\\\\n",
    "    -2 & 1 & 2 \\\\\n",
    "    4 & 2 & 5 \\\\\n",
    "  \\end{array} } \\right]\n",
    "$$\n",
    "\n"
   ]
  },
  {
   "cell_type": "markdown",
   "id": "cea5e862",
   "metadata": {},
   "source": [
    "# Ejercicio 5\n",
    "\n",
    "Implementar la función regresión lineal **con término independiente**. \n",
    "\n",
    "Considerar el caso en que $X^TX$ no sea invertible. "
   ]
  },
  {
   "cell_type": "code",
   "execution_count": null,
   "id": "0f842b37",
   "metadata": {},
   "outputs": [],
   "source": [
    "def regresion_lineal(x,y):\n",
    "    return NotImplemented"
   ]
  },
  {
   "cell_type": "markdown",
   "id": "f086c2c6",
   "metadata": {},
   "source": [
    "# Ejercicio 6\n",
    "\n",
    "Fittear la regresión lineal a los datos cargados. "
   ]
  },
  {
   "cell_type": "code",
   "execution_count": null,
   "id": "13a00ffc",
   "metadata": {},
   "outputs": [],
   "source": []
  },
  {
   "cell_type": "markdown",
   "id": "53d5f573",
   "metadata": {},
   "source": [
    "# Ejercicio 7\n",
    "\n",
    "Graficar los puntos y la recta ajustada."
   ]
  },
  {
   "cell_type": "markdown",
   "id": "217f6ccf",
   "metadata": {},
   "source": [
    "# Ejercicio 8 \n",
    "\n",
    "Repetir el ajuste anterior utilizando la regresión lineal de sklearn."
   ]
  },
  {
   "cell_type": "code",
   "execution_count": null,
   "id": "f447fe76",
   "metadata": {},
   "outputs": [],
   "source": []
  }
 ],
 "metadata": {
  "kernelspec": {
   "display_name": "Python 3 (ipykernel)",
   "language": "python",
   "name": "python3"
  },
  "language_info": {
   "codemirror_mode": {
    "name": "ipython",
    "version": 3
   },
   "file_extension": ".py",
   "mimetype": "text/x-python",
   "name": "python",
   "nbconvert_exporter": "python",
   "pygments_lexer": "ipython3",
   "version": "3.10.1"
  }
 },
 "nbformat": 4,
 "nbformat_minor": 5
}
