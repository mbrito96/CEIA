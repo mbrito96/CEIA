{
 "cells": [
  {
   "cell_type": "markdown",
   "id": "683c97ba",
   "metadata": {},
   "source": [
    "Sea la matriz:\n",
    "\n",
    "$$\n",
    "  A =\n",
    "  \\left[ {\\begin{array}{ccc}\n",
    "    1 & 2 & 3 \\\\\n",
    "    -2 & -1 & 1 \\\\\n",
    "    2 & 1 & 5 \\\\\n",
    "  \\end{array} } \\right]\n",
    "$$\n",
    "\n",
    "y los vectores \n",
    "\n",
    "$$\n",
    "V_1 = \n",
    "\\left[ {\\begin{array}{c}\n",
    "    1 \\\\\n",
    "    1 \\\\\n",
    "    1 \\\\\n",
    "  \\end{array} } \\right]\n",
    "$$\n",
    "\n",
    "y \n",
    "\n",
    "$$\n",
    "V_2 = \n",
    "\\left[ {\\begin{array}{c}\n",
    "    1 \\\\\n",
    "    2 \\\\\n",
    "    3 \\\\\n",
    "  \\end{array} } \\right] \n",
    "$$"
   ]
  },
  {
   "cell_type": "markdown",
   "id": "0a1ba10e",
   "metadata": {},
   "source": [
    "# Ejercicio 0\n",
    "\n",
    "Crear la matriz y los vectores anteriores en numpy."
   ]
  },
  {
   "cell_type": "code",
   "execution_count": 1,
   "id": "826eead1",
   "metadata": {},
   "outputs": [],
   "source": [
    "import numpy as np"
   ]
  },
  {
   "cell_type": "code",
   "execution_count": 12,
   "id": "82be9dfd",
   "metadata": {},
   "outputs": [],
   "source": [
    "A = np.array([[1, 2, 3], [-2, -1, 1], [2, 1, 5]])\n",
    "V1 = np.array([1, 1, 1])\n",
    "V2 = np.array([1,2,3])"
   ]
  },
  {
   "cell_type": "markdown",
   "id": "4b1679ca",
   "metadata": {},
   "source": [
    "# Ejercicio 1\n",
    "Dada una matriz en formato numpy array, donde cada fila de la matriz representa un vector matemático, se\n",
    "requiere computar las normas l0, l1, l2, l-infinity, según la siguientes definiciones:\n",
    "\n",
    "$||x||_0 =$ cantidad de elementos diferentes a cero en el vector. \n",
    "\n",
    "$||x||_p := \\big( \\sum_{i=1}^{n} |x_i|^p \\big)$\n",
    "\n",
    "$||x||_{\\infty} := max_{i} |x_i|$\n"
   ]
  },
  {
   "cell_type": "code",
   "execution_count": 30,
   "id": "bbea57b0",
   "metadata": {},
   "outputs": [
    {
     "name": "stdout",
     "output_type": "stream",
     "text": [
      "[2, 3, 3]\n"
     ]
    }
   ],
   "source": [
    "def norma0(matrix):\n",
    "    result = []\n",
    "    for i in range(np.shape(matrix)[0]): # For each row in matrix\n",
    "        vec = matrix[i,:]\n",
    "        result.append(np.count_nonzero(vec))\n",
    "    return result\n",
    "\n",
    "B = np.array([[1, 2, 0], [-2, -1, 1], [2, 1, 5]])\n",
    "print(norma0(B))"
   ]
  },
  {
   "cell_type": "code",
   "execution_count": 41,
   "id": "ce63c2b9",
   "metadata": {},
   "outputs": [
    {
     "name": "stdout",
     "output_type": "stream",
     "text": [
      "[5, 6, 30]\n"
     ]
    }
   ],
   "source": [
    "def norma(norm, matrix):\n",
    "    result = []\n",
    "    for i in range(np.shape(matrix)[0]): # For each row in matrix\n",
    "        vec = matrix[i,:]\n",
    "        n = 0\n",
    "        for j in vec:\n",
    "            n = n + abs(j)**norm\n",
    "        result.append(n)\n",
    "    return result\n",
    "\n",
    "\n",
    "B = np.array([[1, 2, 0], [-2, -1, 1], [2, 1, 5]])\n",
    "print(norma(2,B))"
   ]
  },
  {
   "cell_type": "code",
   "execution_count": 36,
   "id": "0445919f",
   "metadata": {},
   "outputs": [
    {
     "name": "stdout",
     "output_type": "stream",
     "text": [
      "[2, 2, 5]\n"
     ]
    }
   ],
   "source": [
    "def norma_inf(matrix):\n",
    "    result = []\n",
    "    for i in range(np.shape(matrix)[0]): # For each row in matrix\n",
    "        vec = matrix[i,:]\n",
    "        result.append(np.max(abs(vec)))\n",
    "    return result\n",
    "\n",
    "B = np.array([[1, 2, 0], [-2, -1, 1], [2, 1, -5]])\n",
    "print(norma_inf(B))"
   ]
  },
  {
   "cell_type": "markdown",
   "id": "17e45a08",
   "metadata": {},
   "source": [
    "# Ejercicio 2\n",
    "Dada una matriz en formato numpy array, donde cada fila de la matriz representa un vector matemático, se\n",
    "requiere computar la norma l2 de cada vector.\n",
    "Una vez obtenida la norma l2 de cada vector, se debe ordenar las normas de mayor a menor.\n",
    "Finalmente, obtener la matriz original ordenada por fila según la norma l2.\n",
    "Todas las operaciones debe ser vectorizadas.\n",
    "\n",
    "**Utilizar el resultado del ejercicio anterior.** "
   ]
  },
  {
   "cell_type": "code",
   "execution_count": 49,
   "id": "8c913592",
   "metadata": {},
   "outputs": [
    {
     "name": "stdout",
     "output_type": "stream",
     "text": [
      "Norma de cada vector:  [14, 6, 6]\n",
      "[[-2 -1  1]\n",
      " [ 2  1 -1]\n",
      " [ 1  2  3]]\n"
     ]
    }
   ],
   "source": [
    "B = np.array([[1, 2, 3], [-2, -1, 1], [2, 1, -1]])\n",
    "norms = norma(2,B)\n",
    "print(\"Norma de cada vector: \",norms)\n",
    "sorted_index = np.argsort(norms)\n",
    "B_ordered = B[sorted_index,:]\n",
    "print(B_ordered)"
   ]
  },
  {
   "cell_type": "markdown",
   "id": "3bd8743a",
   "metadata": {},
   "source": [
    "# Ejercicio 3\n",
    "\n",
    "Implementar una función que reste la media y divida por el desvío estándar de la matriz A, por fila. "
   ]
  },
  {
   "cell_type": "code",
   "execution_count": null,
   "id": "ad2ad008",
   "metadata": {},
   "outputs": [],
   "source": [
    "# No entiendo bien que quiere\n",
    "def normalize(mtx):\n",
    "    result = []\n",
    "    for i in range(np.shape(matrix)[0]): # For each row in matrix\n",
    "        vec = matrix[i,:]\n",
    "        mean = np.mean(vec)\n",
    "        std = np.std(vec)\n",
    "    return result"
   ]
  },
  {
   "cell_type": "markdown",
   "id": "0bf5739e",
   "metadata": {},
   "source": [
    "# Ejercicio 4\n",
    "\n",
    "Utilizando numpy.linalg, calcular la inversa, el determinante y la traza. Determinar autovalores y autovectores. "
   ]
  },
  {
   "cell_type": "code",
   "execution_count": 64,
   "id": "99166ea1",
   "metadata": {},
   "outputs": [
    {
     "name": "stdout",
     "output_type": "stream",
     "text": [
      "[[-0.33333333 -0.11111111  0.55555556]\n",
      " [ 0.66666667 -0.44444444 -0.77777778]\n",
      " [ 0.          0.33333333  0.33333333]]\n",
      "8.999999999999998\n",
      "2\n",
      "Autovalores: [-0.86171953+1.29404781j -0.86171953-1.29404781j  3.72343905+0.j        ]\n",
      "Autovectores: [[-0.18108428-0.43639921j -0.18108428+0.43639921j  0.68539866+0.j        ]\n",
      " [ 0.82338959+0.j          0.82338959-0.j         -0.13888104+0.j        ]\n",
      " [-0.24830986+0.19270707j -0.24830986-0.19270707j  0.71480119+0.j        ]]\n"
     ]
    }
   ],
   "source": [
    "B = np.array([[1, 2, 3], [-2, -1, 1], [2, 1, 2]])\n",
    "try:\n",
    "    print(np.linalg.inv(B))\n",
    "except:\n",
    "    print(\"Error: Matrix is singular \")\n",
    "    \n",
    "print(np.linalg.det(B))\n",
    "print(np.trace(B))\n",
    "\n",
    "eig_vals, eig_vec = np.linalg.eig(B)\n",
    "print(\"Autovalores:\", eig_vals)\n",
    "print(\"Autovectores:\", eig_vec)\n"
   ]
  },
  {
   "cell_type": "markdown",
   "id": "67b0383b",
   "metadata": {},
   "source": [
    "# Ejercicio 5\n",
    "\n",
    "Dada una nube de puntos X y centroides C, obtener la distancia entre cada vector X y los centroides\n",
    "utilizando operaciones vectorizadas y broadcasting en NumPy. Utilizar como referencia los siguientes\n",
    "valores.\n",
    "\n",
    "● X = [[1, 2, 3], [4, 5, 6], [7, 8, 9]]\n",
    "\n",
    "● C = [[1, 0, 0], [0, 1, 1]]"
   ]
  },
  {
   "cell_type": "code",
   "execution_count": 93,
   "id": "40e198d2",
   "metadata": {},
   "outputs": [],
   "source": [
    "import matplotlib.pyplot as plt\n",
    "\n",
    "\n",
    "# Plot points\n",
    "def plot_3d(points, centers):\n",
    "    fig = plt.figure()\n",
    "    ax = fig.add_subplot(projection='3d')\n",
    "\n",
    "    #points = np.concatenate((X,C))\n",
    "    ax.scatter(points[:,0], points[:,1], points[:,2], marker='x')\n",
    "    ax.scatter(centers[:,0], centers[:,1], centers[:,2], marker='o')"
   ]
  },
  {
   "cell_type": "code",
   "execution_count": 94,
   "id": "e4ec9797",
   "metadata": {},
   "outputs": [
    {
     "name": "stdout",
     "output_type": "stream",
     "text": [
      "[[3.605551275463989, 2.449489742783178], [8.366600265340756, 7.54983443527075], [13.45362404707371, 12.727922061357855]]\n"
     ]
    },
    {
     "data": {
      "image/png": "[encoded data removed]",
      "text/plain": [
       "<Figure size 432x288 with 1 Axes>"
      ]
     },
     "metadata": {
      "needs_background": "light"
     },
     "output_type": "display_data"
    }
   ],
   "source": [
    "X = np.array([[1,2,3],[4,5,6],[7,8,9]])\n",
    "C = np.array([[1,0,0],[0,1,1]])\n",
    "\n",
    "def get_distance(vect_a, vect_b):\n",
    "    distances = []\n",
    "    for x in vect_a:\n",
    "        aux = []\n",
    "        for c in vect_b:\n",
    "            aux.append(np.linalg.norm(x-c))\n",
    "        distances.append(aux)\n",
    "    return distances\n",
    "# rows: points in X\n",
    "# cols: distance from X to C\n",
    "distances = get_distance(X,C)\n",
    "print(distances)\n",
    "plot_3d(X,C)"
   ]
  },
  {
   "cell_type": "markdown",
   "id": "52d449cc",
   "metadata": {},
   "source": [
    "\n",
    "# Ejercicio 6\n",
    "\n",
    "Obtener para cada fila en X, el índice de la fila en C con distancia euclídea más pequeña.\n",
    "Es decir, decir para cada fila en X a qué cluster pertenece en C.\n",
    "Por ejemplo, si el resultado anterior fue:\n",
    "\n",
    "\n",
    "[[ 3.60555128 8.36660027 13.45362405]\n",
    "\n",
    "[ 2.44948974 7.54983444 12.72792206]]\n",
    "\n",
    "\n",
    "El programa debería devolver [1, 1, 1]\n",
    "\n",
    "\n",
    "Hint: utilizar np.argmin"
   ]
  },
  {
   "cell_type": "code",
   "execution_count": 98,
   "id": "d473ecf1",
   "metadata": {},
   "outputs": [
    {
     "name": "stdout",
     "output_type": "stream",
     "text": [
      "[[1.7320508075688772, 4.69041575982343], [3.4641016151377544, 1.0], [7.0710678118654755, 8.774964387392123]]\n",
      "[0 1 0]\n"
     ]
    },
    {
     "data": {
      "image/png": "[encoded data removed]",
      "text/plain": [
       "<Figure size 432x288 with 1 Axes>"
      ]
     },
     "metadata": {
      "needs_background": "light"
     },
     "output_type": "display_data"
    }
   ],
   "source": [
    "X1 = np.array([[1,2,3],[4,5,6],[-2,0,9]])\n",
    "C1 = np.array([[2,3,4],[4,5,5]])\n",
    "\n",
    "distances = get_distance(X1, C1)\n",
    "print(distances)\n",
    "\n",
    "index_to_min = np.argmin(distances,1)\n",
    "print(index_to_min)\n",
    "\n",
    "plot_3d(X1,C1)"
   ]
  }
 ],
 "metadata": {
  "kernelspec": {
   "display_name": "Python 3 (ipykernel)",
   "language": "python",
   "name": "python3"
  },
  "language_info": {
   "codemirror_mode": {
    "name": "ipython",
    "version": 3
   },
   "file_extension": ".py",
   "mimetype": "text/x-python",
   "name": "python",
   "nbconvert_exporter": "python",
   "pygments_lexer": "ipython3",
   "version": "3.10.1"
  }
 },
 "nbformat": 4,
 "nbformat_minor": 5
}
