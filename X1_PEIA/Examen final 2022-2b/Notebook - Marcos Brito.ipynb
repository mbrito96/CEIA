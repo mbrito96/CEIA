{
 "cells": [
  {
   "cell_type": "code",
   "execution_count": 2,
   "metadata": {},
   "outputs": [],
   "source": [
    "import numpy as np\n",
    "from scipy.stats import norm, expon"
   ]
  },
  {
   "cell_type": "code",
   "execution_count": 14,
   "metadata": {},
   "outputs": [
    {
     "name": "stdout",
     "output_type": "stream",
     "text": [
      "0.0977659137198732\n",
      "0.6290077641124562\n",
      "12348.881848466603\n"
     ]
    }
   ],
   "source": [
    "# Ejercicio 1\n",
    "# (A)\n",
    "mean = 103797\n",
    "std = 30228.98427\n",
    "print(1-norm(mean, std).cdf(142925))\n",
    "\n",
    "# (B)\n",
    "mean = 12849\n",
    "std = 39027.839\n",
    "print(1-norm(mean, std).cdf(0))\n",
    "\n",
    "# (C)\n",
    "mean = 8268\n",
    "std = 2481\n",
    "print(norm(mean, std).ppf(0.95))"
   ]
  },
  {
   "cell_type": "code",
   "execution_count": 46,
   "metadata": {},
   "outputs": [],
   "source": [
    "# Ejercicio 1\n",
    "# (D)\n",
    "Q = norm(95529, 30127)\n",
    "S = norm(8268, 2481)\n",
    "\n",
    "# Simulo 1000 meses de producción\n",
    "months = 1000\n",
    "prod_neuquen = Q.rvs(size=months)\n",
    "prod_santa_cruz = S.rvs(size=months)"
   ]
  },
  {
   "cell_type": "code",
   "execution_count": 47,
   "metadata": {},
   "outputs": [
    {
     "name": "stdout",
     "output_type": "stream",
     "text": [
      "0.095\n"
     ]
    }
   ],
   "source": [
    "# Simulación a) Reviso la cantidad de veces que la suma superó los 142925 m3\n",
    "prod_conjunta = prod_neuquen + prod_santa_cruz\n",
    "print(np.sum(prod_conjunta > 142925) / months)"
   ]
  },
  {
   "cell_type": "code",
   "execution_count": 48,
   "metadata": {},
   "outputs": [
    {
     "name": "stdout",
     "output_type": "stream",
     "text": [
      "0.636\n"
     ]
    }
   ],
   "source": [
    "# Simulación b) Reviso la cantidad de veces que la producción de Santa Cruz superó la de Neuquén por 10 veces o más\n",
    "print(np.sum(prod_neuquen > 10 * prod_santa_cruz) / months)\n"
   ]
  },
  {
   "cell_type": "code",
   "execution_count": 49,
   "metadata": {},
   "outputs": [
    {
     "name": "stdout",
     "output_type": "stream",
     "text": [
      "0.955\n"
     ]
    }
   ],
   "source": [
    "# Simulación c) Calculo la cantidad de barriles que necesita Santa Cruz cada mes y veo si con los 77666 que planteo me alcanza para cubrir la producción en el 95% de los casos\n",
    "cant_barriles = prod_santa_cruz / 0.159\n",
    "\n",
    "print(np.sum( cant_barriles <= 77666 ) / months)\n"
   ]
  },
  {
   "cell_type": "code",
   "execution_count": 30,
   "metadata": {},
   "outputs": [
    {
     "name": "stdout",
     "output_type": "stream",
     "text": [
      "p=0.2=0.04462871026284196\n",
      "p=0.4=0.10216512475319815\n",
      "p=0.6=0.183258146374831\n",
      "p=0.8=0.32188758248682015\n",
      "p=1.0=inf\n",
      "0.20000115894779275\n",
      "0.19999846679249605\n"
     ]
    }
   ],
   "source": [
    "# Ejericio 2\n",
    "# (A)\n",
    "L = 5\n",
    "dist = expon(scale=1/L)\n",
    "for i in range(5):\n",
    "    print(\"p=\" + str((i+1)/5) + '=' + str(dist.ppf((i+1)/5)))\n",
    "\n",
    "print(dist.cdf(0.044629))\n",
    "print(dist.cdf(0.102165)-dist.cdf(0.044629))"
   ]
  },
  {
   "cell_type": "code",
   "execution_count": 3,
   "metadata": {},
   "outputs": [
    {
     "name": "stdout",
     "output_type": "stream",
     "text": [
      "0.21405034619337113\n"
     ]
    }
   ],
   "source": [
    "# Ejercicio 4\n",
    "x = np.array( [10.8941, 1.3631, 24.1238, 85.8298, 1.2616, 681.7245, 20.9089, 1673.6941, 3.7612, 37.5120, 243.4445, 10.6362, 773.1123, 12434.6597, 25.5089] )\n",
    "theta = len(x)/(-len(x)*np.log(0.5) + np.sum(np.log(x)))\n",
    "print(theta)"
   ]
  }
 ],
 "metadata": {
  "kernelspec": {
   "display_name": "Python 3.10.1 64-bit",
   "language": "python",
   "name": "python3"
  },
  "language_info": {
   "codemirror_mode": {
    "name": "ipython",
    "version": 3
   },
   "file_extension": ".py",
   "mimetype": "text/x-python",
   "name": "python",
   "nbconvert_exporter": "python",
   "pygments_lexer": "ipython3",
   "version": "3.10.1"
  },
  "orig_nbformat": 4,
  "vscode": {
   "interpreter": {
    "hash": "54dee8e2628c7a348348274027baca590104374d7a70a03370ff5ec22cf94c02"
   }
  }
 },
 "nbformat": 4,
 "nbformat_minor": 2
}
