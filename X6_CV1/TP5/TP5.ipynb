{
 "cells": [
  {
   "cell_type": "markdown",
   "metadata": {},
   "source": [
    "# Consigna TP5\n",
    "\n",
    "<b> Parte 1 </b> <br>\n",
    "Implementar el detector de fondo naive usando la mediana como\n",
    "estimador El algoritmo debe recibir el parámetro N (cantidad de\n",
    "frames utilizados para la estimación) y el intervalo de tiempo para\n",
    "recalcular el fondo\n",
    "\n",
    "<b> Parte 2: </b> <br>\n",
    "Se deben generar las mascaras de foreground y aplicarlas a los frames\n",
    "para segmentar los objetos en movimiento\n",
    "\n",
    "<b> Parte 3: </b> <br>\n",
    "Comparar con alguno de los métodos vistos en la practica basados en\n",
    "mezcla de gaussianas\n",
    "\n"
   ]
  },
  {
   "cell_type": "code",
   "execution_count": 3,
   "metadata": {},
   "outputs": [],
   "source": [
    "#Si queremos que las imágenes sean mostradas en una ventana emergente descomentar el inline\n",
    "# %matplotlib\n",
    "\n",
    "import numpy as np  # OpenCV-Python utiliza NumPy para el manejo de imágenes\n",
    "import cv2 as cv    # cv2 es el módulo python para acceder a OpenCV \n",
    "import matplotlib.pyplot as plt # Usamos las poderosas herramientas de graficación de matplotlib para mostrar imágenes, perfiles, histogramas, etc\n",
    "import os\n",
    "# import imutils\n",
    "\n"
   ]
  },
  {
   "cell_type": "markdown",
   "metadata": {},
   "source": [
    "# Parte 1"
   ]
  },
  {
   "cell_type": "markdown",
   "metadata": {},
   "source": [
    "## Cargo imagenes"
   ]
  },
  {
   "cell_type": "code",
   "execution_count": 5,
   "metadata": {},
   "outputs": [
    {
     "name": "stderr",
     "output_type": "stream",
     "text": [
      "[ WARN:0@664.871] global /private/var/folders/nz/j6p8yfhx1mv_0grj5xl4650h0000gp/T/abs_c6qq9eqk9d/croots/recipe/opencv-suite_1663872527491/work/modules/videoio/src/cap_gstreamer.cpp (2386) handleMessage OpenCV | GStreamer warning: your GStreamer installation is missing a required plugin\n",
      "[ WARN:0@664.871] global /private/var/folders/nz/j6p8yfhx1mv_0grj5xl4650h0000gp/T/abs_c6qq9eqk9d/croots/recipe/opencv-suite_1663872527491/work/modules/videoio/src/cap_gstreamer.cpp (2402) handleMessage OpenCV | GStreamer warning: Embedded video playback halted; module uridecodebin1 reported: Your GStreamer installation is missing a plug-in.\n",
      "[ WARN:0@664.871] global /private/var/folders/nz/j6p8yfhx1mv_0grj5xl4650h0000gp/T/abs_c6qq9eqk9d/croots/recipe/opencv-suite_1663872527491/work/modules/videoio/src/cap_gstreamer.cpp (1356) open OpenCV | GStreamer warning: unable to start pipeline\n",
      "[ WARN:0@664.871] global /private/var/folders/nz/j6p8yfhx1mv_0grj5xl4650h0000gp/T/abs_c6qq9eqk9d/croots/recipe/opencv-suite_1663872527491/work/modules/videoio/src/cap_gstreamer.cpp (862) isPipelinePlaying OpenCV | GStreamer warning: GStreamer: pipeline have not been created\n"
     ]
    },
    {
     "ename": "",
     "evalue": "",
     "output_type": "error",
     "traceback": [
      "\u001b[1;31mThe Kernel crashed while executing code in the the current cell or a previous cell. Please review the code in the cell(s) to identify a possible cause of the failure. Click <a href='https://aka.ms/vscodeJupyterKernelCrash'>here</a> for more info. View Jupyter <a href='command:jupyter.viewOutput'>log</a> for further details."
     ]
    }
   ],
   "source": [
    "# importing libraries\n",
    "import cv2\n",
    "import numpy as np\n",
    "\n",
    "# Create a VideoCapture object and read from input file\n",
    "cap = cv2.VideoCapture('slow_traffic_small.mp4')\n",
    "\n",
    "# Check if camera opened successfully\n",
    "if (cap.isOpened()== False):\n",
    "\tprint(\"Error opening video file\")\n",
    "\n",
    "# Read until video is completed\n",
    "while(cap.isOpened()):\n",
    "\t\n",
    "# Capture frame-by-frame\n",
    "\tret, frame = cap.read()\n",
    "\tif ret == True:\n",
    "\t# Display the resulting frame\n",
    "\t\tcv2.imshow('Frame', frame)\n",
    "\t\t\n",
    "\t# Press Q on keyboard to exit\n",
    "\t\tif cv2.waitKey(25) & 0xFF == ord('q'):\n",
    "\t\t\tbreak\n",
    "\n",
    "# Break the loop\n",
    "\telse:\n",
    "\t\tbreak\n",
    "\n",
    "# When everything done, release\n",
    "# the video capture object\n",
    "cap.release()\n",
    "\n",
    "# Closes all the frames\n",
    "cv2.destroyAllWindows()\n"
   ]
  }
 ],
 "metadata": {
  "kernelspec": {
   "display_name": "Python 3.10.4 ('cv1')",
   "language": "python",
   "name": "python3"
  },
  "language_info": {
   "codemirror_mode": {
    "name": "ipython",
    "version": 3
   },
   "file_extension": ".py",
   "mimetype": "text/x-python",
   "name": "python",
   "nbconvert_exporter": "python",
   "pygments_lexer": "ipython3",
   "version": "3.10.4"
  },
  "vscode": {
   "interpreter": {
    "hash": "abb1e8aff0d60602bee95c94a3b90faaaa9ea6e493739f1c6b6c1f77f4c4267c"
   }
  }
 },
 "nbformat": 4,
 "nbformat_minor": 2
}
