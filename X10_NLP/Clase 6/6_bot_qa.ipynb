{
  "cells": [
    {
      "cell_type": "markdown",
      "metadata": {
        "id": "pfa39F4lsLf3"
      },
      "source": [
        "<img src=\"https://github.com/hernancontigiani/ceia_memorias_especializacion/raw/master/Figures/logoFIUBA.jpg\" width=\"500\" align=\"center\">\n",
        "\n",
        "\n",
        "# Procesamiento de lenguaje natural\n",
        "## LSTM Bot QA"
      ]
    },
    {
      "cell_type": "markdown",
      "metadata": {
        "id": "ZqO0PRcFsPTe"
      },
      "source": [
        "### Datos\n",
        "El objecto es utilizar datos disponibles del challenge ConvAI2 (Conversational Intelligence Challenge 2) de conversaciones en inglés. Se construirá un BOT para responder a preguntas del usuario (QA).\\\n",
        "[LINK](http://convai.io/data/)"
      ]
    },
    {
      "cell_type": "code",
      "execution_count": 47,
      "metadata": {
        "id": "bDFC0I3j9oFD"
      },
      "outputs": [],
      "source": [
        "!pip install --upgrade --no-cache-dir gdown --quiet"
      ]
    },
    {
      "cell_type": "code",
      "execution_count": 48,
      "metadata": {
        "id": "cq3YXak9sGHd"
      },
      "outputs": [],
      "source": [
        "import re\n",
        "\n",
        "import numpy as np\n",
        "import pandas as pd\n",
        "\n",
        "import tensorflow as tf\n",
        "from keras.preprocessing.text import one_hot\n",
        "from tensorflow.keras.utils import pad_sequences\n",
        "from keras.models import Sequential\n",
        "from keras.layers.core import Activation, Dropout, Dense\n",
        "from keras.layers import Flatten, LSTM, SimpleRNN\n",
        "from keras.models import Model\n",
        "from tensorflow.keras.layers import Embedding\n",
        "from sklearn.model_selection import train_test_split\n",
        "from keras.preprocessing.text import Tokenizer\n",
        "from keras.layers import Input"
      ]
    },
    {
      "cell_type": "code",
      "execution_count": 49,
      "metadata": {
        "id": "RHNkUaPp6aYq",
        "outputId": "b5a1be53-53eb-4943-82bb-1acd1e75fce8",
        "colab": {
          "base_uri": "https://localhost:8080/"
        }
      },
      "outputs": [
        {
          "output_type": "stream",
          "name": "stdout",
          "text": [
            "El dataset ya se encuentra descargado\n"
          ]
        }
      ],
      "source": [
        "# Descargar la carpeta de dataset\n",
        "import os\n",
        "import gdown\n",
        "if os.access('data_volunteers.json', os.F_OK) is False:\n",
        "    url = 'https://drive.google.com/uc?id=1awUxYwImF84MIT5-jCaYAPe2QwSgS1hN&export=download'\n",
        "    output = 'data_volunteers.json'\n",
        "    gdown.download(url, output, quiet=False)\n",
        "else:\n",
        "    print(\"El dataset ya se encuentra descargado\")"
      ]
    },
    {
      "cell_type": "code",
      "execution_count": 50,
      "metadata": {
        "id": "WZy1-wgG-Rp7"
      },
      "outputs": [],
      "source": [
        "# dataset_file\n",
        "import json\n",
        "\n",
        "text_file = \"data_volunteers.json\"\n",
        "with open(text_file) as f:\n",
        "    data = json.load(f) # la variable data será un diccionario\n",
        "\n"
      ]
    },
    {
      "cell_type": "code",
      "execution_count": 51,
      "metadata": {
        "id": "ue5qd54S-eew",
        "outputId": "13033ca4-3153-4856-f1d7-70a2c3013029",
        "colab": {
          "base_uri": "https://localhost:8080/"
        }
      },
      "outputs": [
        {
          "output_type": "execute_result",
          "data": {
            "text/plain": [
              "dict_keys(['dialog', 'start_time', 'end_time', 'bot_profile', 'user_profile', 'eval_score', 'profile_match', 'participant1_id', 'participant2_id'])"
            ]
          },
          "metadata": {},
          "execution_count": 51
        }
      ],
      "source": [
        "# Observar los campos disponibles en cada linea del dataset\n",
        "data[0].keys()"
      ]
    },
    {
      "cell_type": "code",
      "execution_count": 52,
      "metadata": {
        "id": "jHBRAXPl-3dz",
        "outputId": "c7533853-fcd4-42bf-eab7-779a01898808",
        "colab": {
          "base_uri": "https://localhost:8080/"
        }
      },
      "outputs": [
        {
          "output_type": "stream",
          "name": "stdout",
          "text": [
            "Cantidad de rows utilizadas: 6033\n"
          ]
        }
      ],
      "source": [
        "chat_in = []\n",
        "chat_out = []\n",
        "\n",
        "input_sentences = []\n",
        "output_sentences = []\n",
        "output_sentences_inputs = []\n",
        "max_len = 30\n",
        "\n",
        "def clean_text(txt):\n",
        "    txt = txt.lower()\n",
        "    txt.replace(\"\\'d\", \" had\")\n",
        "    txt.replace(\"\\'s\", \" is\")\n",
        "    txt.replace(\"\\'m\", \" am\")\n",
        "    txt.replace(\"don't\", \"do not\")\n",
        "    txt = re.sub(r'\\W+', ' ', txt)\n",
        "\n",
        "    return txt\n",
        "\n",
        "for line in data:\n",
        "    for i in range(len(line['dialog'])-1):\n",
        "        # vamos separando el texto en \"preguntas\" (chat_in)\n",
        "        # y \"respuestas\" (chat_out)\n",
        "        chat_in = clean_text(line['dialog'][i]['text'])\n",
        "        chat_out = clean_text(line['dialog'][i+1]['text'])\n",
        "\n",
        "        if len(chat_in) >= max_len or len(chat_out) >= max_len:\n",
        "            continue\n",
        "\n",
        "        input_sentence, output = chat_in, chat_out\n",
        "\n",
        "        # output sentence (decoder_output) tiene <eos>\n",
        "        output_sentence = output + ' <eos>'\n",
        "        # output sentence input (decoder_input) tiene <sos>\n",
        "        output_sentence_input = '<sos> ' + output\n",
        "\n",
        "        input_sentences.append(input_sentence)\n",
        "        output_sentences.append(output_sentence)\n",
        "        output_sentences_inputs.append(output_sentence_input)\n",
        "\n",
        "print(\"Cantidad de rows utilizadas:\", len(input_sentences))"
      ]
    },
    {
      "cell_type": "code",
      "execution_count": 53,
      "metadata": {
        "id": "07L1qj8pC_l6",
        "outputId": "2ae98cb1-8739-4316-a4e5-83c8a2e275eb",
        "colab": {
          "base_uri": "https://localhost:8080/"
        }
      },
      "outputs": [
        {
          "output_type": "execute_result",
          "data": {
            "text/plain": [
              "('hi how are you ', 'not bad and you  <eos>', '<sos> not bad and you ')"
            ]
          },
          "metadata": {},
          "execution_count": 53
        }
      ],
      "source": [
        "input_sentences[1], output_sentences[1], output_sentences_inputs[1]"
      ]
    },
    {
      "cell_type": "markdown",
      "metadata": {
        "id": "8P-ynUNP5xp6"
      },
      "source": [
        "### 2 - Preprocesamiento\n",
        "Realizar el preprocesamiento necesario para obtener:\n",
        "- word2idx_inputs, max_input_len\n",
        "- word2idx_outputs, max_out_len, num_words_output\n",
        "- encoder_input_sequences, decoder_output_sequences, decoder_targets"
      ]
    },
    {
      "cell_type": "code",
      "source": [
        "from keras.preprocessing.text import Tokenizer\n",
        "\n",
        "# Definir el tamaño máximo del vocabulario\n",
        "MAX_VOCAB_SIZE = 8000"
      ],
      "metadata": {
        "id": "OGmEP7kpekOW"
      },
      "execution_count": 54,
      "outputs": []
    },
    {
      "cell_type": "code",
      "source": [
        "# Tokenizar las palabras con el Tokenizer de Keras\n",
        "# Definir una máxima cantidad de palabras a utilizar:\n",
        "# - num_words --> the maximum number of words to keep, based on word frequency.\n",
        "# - Only the most common num_words-1 words will be kept.\n",
        "input_tokenizer = Tokenizer(num_words=MAX_VOCAB_SIZE)\n",
        "input_tokenizer.fit_on_texts(input_sentences)\n",
        "input_integer_seq = input_tokenizer.texts_to_sequences(input_sentences)\n",
        "\n",
        "word2idx_inputs = input_tokenizer.word_index\n",
        "print(\"Palabras en el vocabulario:\", len(word2idx_inputs))\n",
        "\n",
        "max_input_len = max(len(sen) for sen in input_integer_seq)\n",
        "print(\"Sentencia de entrada más larga:\", max_input_len)"
      ],
      "metadata": {
        "id": "JqE7S74CenIY",
        "outputId": "e876d7d3-8d08-4d73-cace-12ce3db6a4a7",
        "colab": {
          "base_uri": "https://localhost:8080/"
        }
      },
      "execution_count": 55,
      "outputs": [
        {
          "output_type": "stream",
          "name": "stdout",
          "text": [
            "Palabras en el vocabulario: 1799\n",
            "Sentencia de entrada más larga: 9\n"
          ]
        }
      ]
    },
    {
      "cell_type": "code",
      "source": [
        "# sacamos los \"<>\" para que no afectar nuestros tokens\n",
        "output_tokenizer = Tokenizer(num_words=MAX_VOCAB_SIZE, filters='!\"#$%&()*+,-./:;=¿?@[\\\\]^_`{|}~\\t\\n')\n",
        "output_tokenizer.fit_on_texts([\"<sos>\", \"<eos>\"] + output_sentences)\n",
        "output_integer_seq = output_tokenizer.texts_to_sequences(output_sentences)\n",
        "output_input_integer_seq = output_tokenizer.texts_to_sequences(output_sentences_inputs)\n",
        "\n",
        "word2idx_outputs = output_tokenizer.word_index\n",
        "print(\"[output] Palabras en el vocabulario:\", len(word2idx_outputs))\n",
        "\n",
        "num_words_output = min(len(word2idx_outputs) + 1, MAX_VOCAB_SIZE) # Se suma 1 para incluir el token de palabra desconocida\n",
        "max_out_len = max(len(sen) for sen in output_integer_seq)\n",
        "print(\"[output] Sentencia de salida más larga:\", max_out_len)\n",
        "\n",
        "# Checkear que nuestor tokens esten\n",
        "print(\"<sos> = \"+ str(word2idx_outputs['<sos>'])+\" | <eos> = \"+str(word2idx_outputs['<eos>']))"
      ],
      "metadata": {
        "id": "d8bkPc8Te2sO",
        "outputId": "4e2964b0-b6f7-4821-9948-fd23b56e5e0a",
        "colab": {
          "base_uri": "https://localhost:8080/"
        }
      },
      "execution_count": 56,
      "outputs": [
        {
          "output_type": "stream",
          "name": "stdout",
          "text": [
            "[output] Palabras en el vocabulario: 1806\n",
            "[output] Sentencia de salida más larga: 10\n",
            "<sos> = 815 | <eos> = 1\n"
          ]
        }
      ]
    },
    {
      "cell_type": "code",
      "source": [
        "# Agregamos padding\n",
        "\n",
        "print(\"Cantidad de rows del dataset:\", len(input_integer_seq))\n",
        "\n",
        "encoder_input_sequences = pad_sequences(input_integer_seq, maxlen=max_input_len)\n",
        "print(\"encoder_input_sequences shape:\", encoder_input_sequences.shape)\n",
        "\n",
        "decoder_input_sequences = pad_sequences(output_input_integer_seq, maxlen=max_out_len, padding='post')\n",
        "print(\"decoder_input_sequences shape:\", decoder_input_sequences.shape)"
      ],
      "metadata": {
        "id": "xqo1WDpJfT8l",
        "outputId": "3fce13b7-b898-403f-f3dd-f5c2f03e3703",
        "colab": {
          "base_uri": "https://localhost:8080/"
        }
      },
      "execution_count": 57,
      "outputs": [
        {
          "output_type": "stream",
          "name": "stdout",
          "text": [
            "Cantidad de rows del dataset: 6033\n",
            "encoder_input_sequences shape: (6033, 9)\n",
            "decoder_input_sequences shape: (6033, 10)\n"
          ]
        }
      ]
    },
    {
      "cell_type": "code",
      "source": [
        "# Transform target to OneHotEncoding\n",
        "from keras.utils.np_utils import to_categorical\n",
        "decoder_output_sequences = pad_sequences(output_integer_seq, maxlen=max_out_len, padding='post')\n",
        "decoder_targets = to_categorical(decoder_output_sequences, num_classes=num_words_output)\n",
        "decoder_targets.shape"
      ],
      "metadata": {
        "id": "c6m0V1X0gQtP",
        "outputId": "b4e88ba7-02c7-4af4-c10f-fa3f88195ecd",
        "colab": {
          "base_uri": "https://localhost:8080/"
        }
      },
      "execution_count": 58,
      "outputs": [
        {
          "output_type": "execute_result",
          "data": {
            "text/plain": [
              "(6033, 10, 1807)"
            ]
          },
          "metadata": {},
          "execution_count": 58
        }
      ]
    },
    {
      "cell_type": "markdown",
      "metadata": {
        "id": "_CJIsLBbj6rg"
      },
      "source": [
        "### 3 - Preparar los embeddings\n",
        "Utilizar los embeddings de Glove o FastText para transformar los tokens de entrada en vectores"
      ]
    },
    {
      "cell_type": "code",
      "source": [
        "# Descargar los embeddings desde un gogle drive (es la forma más rápida)\n",
        "# NOTA: No hay garantía de que estos links perduren, en caso de que no estén\n",
        "# disponibles descargar de la página oficial como se explica en el siguiente bloque\n",
        "import os\n",
        "import gdown\n",
        "if os.access('gloveembedding.pkl', os.F_OK) is False:\n",
        "    url = 'https://drive.google.com/uc?id=1wlDBOrxPq2-3htQ6ryVo7K1XnzLcfh4r&export=download'\n",
        "    output = 'gloveembedding.pkl'\n",
        "    gdown.download(url, output, quiet=False)\n",
        "else:\n",
        "    print(\"Los embeddings gloveembedding.pkl ya están descargados\")"
      ],
      "metadata": {
        "id": "fTVpsbXNgUIs",
        "outputId": "91cd3ee8-dce3-4d35-ddba-45b022af2fd6",
        "colab": {
          "base_uri": "https://localhost:8080/"
        }
      },
      "execution_count": 59,
      "outputs": [
        {
          "output_type": "stream",
          "name": "stdout",
          "text": [
            "Los embeddings gloveembedding.pkl ya están descargados\n"
          ]
        }
      ]
    },
    {
      "cell_type": "code",
      "source": [
        "import logging\n",
        "import os\n",
        "from pathlib import Path\n",
        "from io import StringIO\n",
        "import pickle\n",
        "\n",
        "class WordsEmbeddings(object):\n",
        "    logger = logging.getLogger(__name__)\n",
        "\n",
        "    def __init__(self):\n",
        "        # load the embeddings\n",
        "        words_embedding_pkl = Path(self.PKL_PATH)\n",
        "        if not words_embedding_pkl.is_file():\n",
        "            words_embedding_txt = Path(self.WORD_TO_VEC_MODEL_TXT_PATH)\n",
        "            assert words_embedding_txt.is_file(), 'Words embedding not available'\n",
        "            embeddings = self.convert_model_to_pickle()\n",
        "        else:\n",
        "            embeddings = self.load_model_from_pickle()\n",
        "        self.embeddings = embeddings\n",
        "        # build the vocabulary hashmap\n",
        "        index = np.arange(self.embeddings.shape[0])\n",
        "        # Dicctionarios para traducir de embedding a IDX de la palabra\n",
        "        self.word2idx = dict(zip(self.embeddings['word'], index))\n",
        "        self.idx2word = dict(zip(index, self.embeddings['word']))\n",
        "\n",
        "    def get_words_embeddings(self, words):\n",
        "        words_idxs = self.words2idxs(words)\n",
        "        return self.embeddings[words_idxs]['embedding']\n",
        "\n",
        "    def words2idxs(self, words):\n",
        "        return np.array([self.word2idx.get(word, -1) for word in words])\n",
        "\n",
        "    def idxs2words(self, idxs):\n",
        "        return np.array([self.idx2word.get(idx, '-1') for idx in idxs])\n",
        "\n",
        "    def load_model_from_pickle(self):\n",
        "        self.logger.debug(\n",
        "            'loading words embeddings from pickle {}'.format(\n",
        "                self.PKL_PATH\n",
        "            )\n",
        "        )\n",
        "        max_bytes = 2**28 - 1 # 256MB\n",
        "        bytes_in = bytearray(0)\n",
        "        input_size = os.path.getsize(self.PKL_PATH)\n",
        "        with open(self.PKL_PATH, 'rb') as f_in:\n",
        "            for _ in range(0, input_size, max_bytes):\n",
        "                bytes_in += f_in.read(max_bytes)\n",
        "        embeddings = pickle.loads(bytes_in)\n",
        "        self.logger.debug('words embeddings loaded')\n",
        "        return embeddings\n",
        "\n",
        "    def convert_model_to_pickle(self):\n",
        "        # create a numpy strctured array:\n",
        "        # word     embedding\n",
        "        # U50      np.float32[]\n",
        "        # word_1   a, b, c\n",
        "        # word_2   d, e, f\n",
        "        # ...\n",
        "        # word_n   g, h, i\n",
        "        self.logger.debug(\n",
        "            'converting and loading words embeddings from text file {}'.format(\n",
        "                self.WORD_TO_VEC_MODEL_TXT_PATH\n",
        "            )\n",
        "        )\n",
        "        structure = [('word', np.dtype('U' + str(self.WORD_MAX_SIZE))),\n",
        "                     ('embedding', np.float32, (self.N_FEATURES,))]\n",
        "        structure = np.dtype(structure)\n",
        "        # load numpy array from disk using a generator\n",
        "        with open(self.WORD_TO_VEC_MODEL_TXT_PATH, encoding=\"utf8\") as words_embeddings_txt:\n",
        "            embeddings_gen = (\n",
        "                (line.split()[0], line.split()[1:]) for line in words_embeddings_txt\n",
        "                if len(line.split()[1:]) == self.N_FEATURES\n",
        "            )\n",
        "            embeddings = np.fromiter(embeddings_gen, structure)\n",
        "        # add a null embedding\n",
        "        null_embedding = np.array(\n",
        "            [('null_embedding', np.zeros((self.N_FEATURES,), dtype=np.float32))],\n",
        "            dtype=structure\n",
        "        )\n",
        "        embeddings = np.concatenate([embeddings, null_embedding])\n",
        "        # dump numpy array to disk using pickle\n",
        "        max_bytes = 2**28 - 1 # # 256MB\n",
        "        bytes_out = pickle.dumps(embeddings, protocol=pickle.HIGHEST_PROTOCOL)\n",
        "        with open(self.PKL_PATH, 'wb') as f_out:\n",
        "            for idx in range(0, len(bytes_out), max_bytes):\n",
        "                f_out.write(bytes_out[idx:idx+max_bytes])\n",
        "        self.logger.debug('words embeddings loaded')\n",
        "        return embeddings\n",
        "\n",
        "\n",
        "class GloveEmbeddings(WordsEmbeddings):\n",
        "    WORD_TO_VEC_MODEL_TXT_PATH = 'glove.twitter.27B.50d.txt'\n",
        "    PKL_PATH = 'gloveembedding.pkl'\n",
        "    N_FEATURES = 50\n",
        "    WORD_MAX_SIZE = 60\n",
        "\n",
        "class FasttextEmbeddings(WordsEmbeddings):\n",
        "    WORD_TO_VEC_MODEL_TXT_PATH = 'cc.en.300.vec'\n",
        "    PKL_PATH = 'fasttext.pkl'\n",
        "    N_FEATURES = 300\n",
        "    WORD_MAX_SIZE = 60"
      ],
      "metadata": {
        "id": "hlI66tAQgcbl"
      },
      "execution_count": 60,
      "outputs": []
    },
    {
      "cell_type": "code",
      "source": [
        "# Por una cuestion de RAM se utilizará los embeddings de Glove de dimension 50\n",
        "model_embeddings = GloveEmbeddings()\n",
        "\n",
        "# Crear la Embedding matrix de las secuencias\n",
        "# en ingles\n",
        "\n",
        "print('preparing embedding matrix...')\n",
        "embed_dim = model_embeddings.N_FEATURES\n",
        "words_not_found = []\n",
        "\n",
        "# word_index provieen del tokenizer\n",
        "\n",
        "nb_words = min(MAX_VOCAB_SIZE, len(word2idx_inputs)) # vocab_size\n",
        "embedding_matrix = np.zeros((nb_words, embed_dim))\n",
        "for word, i in word2idx_inputs.items():\n",
        "    if i >= nb_words:\n",
        "        continue\n",
        "    embedding_vector = model_embeddings.get_words_embeddings(word)[0]\n",
        "    if (embedding_vector is not None) and len(embedding_vector) > 0:\n",
        "\n",
        "        embedding_matrix[i] = embedding_vector\n",
        "    else:\n",
        "        # words not found in embedding index will be all-zeros.\n",
        "        words_not_found.append(word)\n",
        "\n",
        "print('number of null word embeddings:', np.sum(np.sum(embedding_matrix, axis=1) == 0))\n",
        "embedding_matrix.shape"
      ],
      "metadata": {
        "id": "A8tmvSM5gjx9",
        "outputId": "963aeb5e-111f-4414-afd6-02c322142686",
        "colab": {
          "base_uri": "https://localhost:8080/"
        }
      },
      "execution_count": 61,
      "outputs": [
        {
          "output_type": "stream",
          "name": "stdout",
          "text": [
            "preparing embedding matrix...\n",
            "number of null word embeddings: 38\n"
          ]
        },
        {
          "output_type": "execute_result",
          "data": {
            "text/plain": [
              "(1799, 50)"
            ]
          },
          "metadata": {},
          "execution_count": 61
        }
      ]
    },
    {
      "cell_type": "markdown",
      "metadata": {
        "id": "3vKbhjtIwPgM"
      },
      "source": [
        "### 4 - Entrenar el modelo\n",
        "Entrenar un modelo basado en el esquema encoder-decoder utilizando los datos generados en los puntos anteriores. Utilce como referencias los ejemplos vistos en clase."
      ]
    },
    {
      "cell_type": "code",
      "source": [
        "from keras import backend as K\n",
        "\n",
        "def recall_m(y_true, y_pred):\n",
        "    true_positives = K.sum(K.round(K.clip(y_true * y_pred, 0, 1)))\n",
        "    possible_positives = K.sum(K.round(K.clip(y_true, 0, 1)))\n",
        "    recall = true_positives / (possible_positives + K.epsilon())\n",
        "    return recall\n",
        "\n",
        "def precision_m(y_true, y_pred):\n",
        "    true_positives = K.sum(K.round(K.clip(y_true * y_pred, 0, 1)))\n",
        "    predicted_positives = K.sum(K.round(K.clip(y_pred, 0, 1)))\n",
        "    precision = true_positives / (predicted_positives + K.epsilon())\n",
        "    return precision\n",
        "\n",
        "def f1_m(y_true, y_pred):\n",
        "    precision = precision_m(y_true, y_pred)\n",
        "    recall = recall_m(y_true, y_pred)\n",
        "    return 2*((precision*recall)/(precision+recall+K.epsilon()))\n",
        "\n",
        "from keras.models import Model\n",
        "from keras.layers import Input, LSTM, Dense\n",
        "\n",
        "n_units = 128\n",
        "\n",
        "# define training encoder\n",
        "encoder_inputs = Input(shape=(max_input_len))\n",
        "\n",
        "#encoder_embedding_layer = Embedding(num_words, EMBEDDING_SIZE, weights=[embedding_matrix], input_length=max_input_len)\n",
        "\n",
        "encoder_embedding_layer = Embedding(\n",
        "          input_dim=nb_words,  # definido en el Tokenizador\n",
        "          output_dim=embed_dim,  # dimensión de los embeddings utilizados\n",
        "          input_length=max_input_len, # máxima sentencia de entrada\n",
        "          weights=[embedding_matrix],  # matrix de embeddings\n",
        "          trainable=False)      # marcar como layer no entrenable\n",
        "\n",
        "encoder_inputs_x = encoder_embedding_layer(encoder_inputs)\n",
        "\n",
        "encoder = LSTM(n_units, return_state=True, dropout=0.2)\n",
        "encoder_outputs, state_h, state_c = encoder(encoder_inputs_x)\n",
        "encoder_states = [state_h, state_c]\n",
        "\n",
        "# define training decoder\n",
        "decoder_inputs = Input(shape=(max_out_len))\n",
        "decoder_embedding_layer = Embedding(input_dim=num_words_output, output_dim=n_units, input_length=max_out_len)\n",
        "decoder_inputs_x = decoder_embedding_layer(decoder_inputs)\n",
        "\n",
        "decoder_lstm = LSTM(n_units, return_sequences=True, return_state=True, dropout=0.2)\n",
        "decoder_outputs, _, _ = decoder_lstm(decoder_inputs_x, initial_state=encoder_states)\n",
        "\n",
        "# Dense\n",
        "decoder_dense = Dense(num_words_output, activation='softmax')\n",
        "decoder_outputs = decoder_dense(decoder_outputs)\n",
        "model = Model([encoder_inputs, decoder_inputs], decoder_outputs)\n",
        "\n",
        "model.compile(loss='categorical_crossentropy', optimizer=\"Adam\", metrics=['accuracy',f1_m])\n",
        "model.summary()"
      ],
      "metadata": {
        "id": "nWjh11odgs6y",
        "outputId": "431ebded-73dc-4515-e2b9-317b5fb63fad",
        "colab": {
          "base_uri": "https://localhost:8080/"
        }
      },
      "execution_count": 62,
      "outputs": [
        {
          "output_type": "stream",
          "name": "stdout",
          "text": [
            "Model: \"model_5\"\n",
            "__________________________________________________________________________________________________\n",
            " Layer (type)                   Output Shape         Param #     Connected to                     \n",
            "==================================================================================================\n",
            " input_8 (InputLayer)           [(None, 9)]          0           []                               \n",
            "                                                                                                  \n",
            " input_9 (InputLayer)           [(None, 10)]         0           []                               \n",
            "                                                                                                  \n",
            " embedding_4 (Embedding)        (None, 9, 50)        89950       ['input_8[0][0]']                \n",
            "                                                                                                  \n",
            " embedding_5 (Embedding)        (None, 10, 128)      231296      ['input_9[0][0]']                \n",
            "                                                                                                  \n",
            " lstm_4 (LSTM)                  [(None, 128),        91648       ['embedding_4[0][0]']            \n",
            "                                 (None, 128),                                                     \n",
            "                                 (None, 128)]                                                     \n",
            "                                                                                                  \n",
            " lstm_5 (LSTM)                  [(None, 10, 128),    131584      ['embedding_5[0][0]',            \n",
            "                                 (None, 128),                     'lstm_4[0][1]',                 \n",
            "                                 (None, 128)]                     'lstm_4[0][2]']                 \n",
            "                                                                                                  \n",
            " dense_2 (Dense)                (None, 10, 1807)     233103      ['lstm_5[0][0]']                 \n",
            "                                                                                                  \n",
            "==================================================================================================\n",
            "Total params: 777,581\n",
            "Trainable params: 687,631\n",
            "Non-trainable params: 89,950\n",
            "__________________________________________________________________________________________________\n"
          ]
        }
      ]
    },
    {
      "cell_type": "code",
      "source": [
        "# Modelo completo (encoder+decoder) para poder entrenar\n",
        "from keras.utils.vis_utils import plot_model\n",
        "plot_model(model, to_file='model_plot.png', show_shapes=True, show_layer_names=True)"
      ],
      "metadata": {
        "id": "K3eh2mowgyhP",
        "outputId": "ec5402b6-69ef-4808-ac6e-785c290639f9",
        "colab": {
          "base_uri": "https://localhost:8080/",
          "height": 533
        }
      },
      "execution_count": 63,
      "outputs": [
        {
          "output_type": "execute_result",
          "data": {
            "image/png": "[encoded data removed]",
            "text/plain": [
              "<IPython.core.display.Image object>"
            ]
          },
          "metadata": {},
          "execution_count": 63
        }
      ]
    },
    {
      "cell_type": "code",
      "source": [
        "# Modelo solo encoder\n",
        "\n",
        "# define inference encoder\n",
        "encoder_model = Model(encoder_inputs, encoder_states)\n",
        "\n",
        "from keras.utils.vis_utils import plot_model\n",
        "plot_model(encoder_model, to_file='encoder_plot.png', show_shapes=True, show_layer_names=True)"
      ],
      "metadata": {
        "id": "B-i_CnISg0bz",
        "outputId": "68ca8b71-cc83-4940-b762-31f276854b1a",
        "colab": {
          "base_uri": "https://localhost:8080/",
          "height": 312
        }
      },
      "execution_count": 64,
      "outputs": [
        {
          "output_type": "execute_result",
          "data": {
            "image/png": "[encoded data removed]",
            "text/plain": [
              "<IPython.core.display.Image object>"
            ]
          },
          "metadata": {},
          "execution_count": 64
        }
      ]
    },
    {
      "cell_type": "code",
      "source": [
        "# Modelo solo decoder (para realizar inferencia)\n",
        "from keras.utils.vis_utils import plot_model\n",
        "\n",
        "# define inference decoder\n",
        "decoder_state_input_h = Input(shape=(n_units,))\n",
        "decoder_state_input_c = Input(shape=(n_units,))\n",
        "decoder_states_inputs = [decoder_state_input_h, decoder_state_input_c]\n",
        "\n",
        "# EN cada predicción habrá una sola palabra de entrada al decoder,\n",
        "# que es la realimentación de la palabra anterior\n",
        "# por lo que hay que modificar el input shup de la layer de Embedding\n",
        "decoder_inputs_single = Input(shape=(1,))\n",
        "decoder_inputs_single_x = decoder_embedding_layer(decoder_inputs_single)\n",
        "\n",
        "decoder_outputs, state_h, state_c = decoder_lstm(decoder_inputs_single_x, initial_state=decoder_states_inputs)\n",
        "decoder_states = [state_h, state_c]\n",
        "decoder_outputs = decoder_dense(decoder_outputs)\n",
        "decoder_model = Model([decoder_inputs_single] + decoder_states_inputs, [decoder_outputs] + decoder_states)\n",
        "\n",
        "plot_model(decoder_model, to_file='decoder_plot.png', show_shapes=True, show_layer_names=True)"
      ],
      "metadata": {
        "id": "2S5bDMoTg28J",
        "outputId": "b904ff78-1af8-46a3-aca5-ee3361ee7fdb",
        "colab": {
          "base_uri": "https://localhost:8080/",
          "height": 422
        }
      },
      "execution_count": 65,
      "outputs": [
        {
          "output_type": "execute_result",
          "data": {
            "image/png": "[encoded data removed]",
            "text/plain": [
              "<IPython.core.display.Image object>"
            ]
          },
          "metadata": {},
          "execution_count": 65
        }
      ]
    },
    {
      "cell_type": "code",
      "source": [
        "hist = model.fit(\n",
        "    [encoder_input_sequences, decoder_input_sequences],\n",
        "    decoder_targets,\n",
        "    epochs=50,\n",
        "    validation_split=0.2)"
      ],
      "metadata": {
        "id": "Gx8eGjYZg5EA",
        "outputId": "1920ecd3-4332-420b-ac9a-d5e3a310cf4f",
        "colab": {
          "base_uri": "https://localhost:8080/"
        }
      },
      "execution_count": 66,
      "outputs": [
        {
          "output_type": "stream",
          "name": "stdout",
          "text": [
            "Epoch 1/50\n",
            "151/151 [==============================] - 22s 100ms/step - loss: 3.0598 - accuracy: 0.5199 - f1_m: 0.4750 - val_loss: 2.2752 - val_accuracy: 0.6247 - val_f1_m: 0.6725\n",
            "Epoch 2/50\n",
            "151/151 [==============================] - 4s 25ms/step - loss: 2.0642 - accuracy: 0.6244 - f1_m: 0.6732 - val_loss: 2.0770 - val_accuracy: 0.6599 - val_f1_m: 0.7029\n",
            "Epoch 3/50\n",
            "151/151 [==============================] - 2s 17ms/step - loss: 1.8276 - accuracy: 0.6794 - f1_m: 0.7134 - val_loss: 1.9383 - val_accuracy: 0.6867 - val_f1_m: 0.7315\n",
            "Epoch 4/50\n",
            "151/151 [==============================] - 2s 15ms/step - loss: 1.6688 - accuracy: 0.7064 - f1_m: 0.7489 - val_loss: 1.8496 - val_accuracy: 0.6983 - val_f1_m: 0.7421\n",
            "Epoch 5/50\n",
            "151/151 [==============================] - 2s 11ms/step - loss: 1.5611 - accuracy: 0.7190 - f1_m: 0.7646 - val_loss: 1.7947 - val_accuracy: 0.7011 - val_f1_m: 0.7518\n",
            "Epoch 6/50\n",
            "151/151 [==============================] - 2s 10ms/step - loss: 1.4830 - accuracy: 0.7263 - f1_m: 0.7736 - val_loss: 1.7543 - val_accuracy: 0.7089 - val_f1_m: 0.7529\n",
            "Epoch 7/50\n",
            "151/151 [==============================] - 2s 11ms/step - loss: 1.4239 - accuracy: 0.7349 - f1_m: 0.7770 - val_loss: 1.7277 - val_accuracy: 0.7140 - val_f1_m: 0.7530\n",
            "Epoch 8/50\n",
            "151/151 [==============================] - 2s 11ms/step - loss: 1.3786 - accuracy: 0.7393 - f1_m: 0.7794 - val_loss: 1.7104 - val_accuracy: 0.7150 - val_f1_m: 0.7566\n",
            "Epoch 9/50\n",
            "151/151 [==============================] - 2s 12ms/step - loss: 1.3403 - accuracy: 0.7425 - f1_m: 0.7816 - val_loss: 1.6880 - val_accuracy: 0.7179 - val_f1_m: 0.7598\n",
            "Epoch 10/50\n",
            "151/151 [==============================] - 2s 14ms/step - loss: 1.3068 - accuracy: 0.7458 - f1_m: 0.7838 - val_loss: 1.6799 - val_accuracy: 0.7161 - val_f1_m: 0.7593\n",
            "Epoch 11/50\n",
            "151/151 [==============================] - 2s 11ms/step - loss: 1.2767 - accuracy: 0.7495 - f1_m: 0.7856 - val_loss: 1.6722 - val_accuracy: 0.7196 - val_f1_m: 0.7581\n",
            "Epoch 12/50\n",
            "151/151 [==============================] - 2s 10ms/step - loss: 1.2502 - accuracy: 0.7528 - f1_m: 0.7871 - val_loss: 1.6662 - val_accuracy: 0.7215 - val_f1_m: 0.7620\n",
            "Epoch 13/50\n",
            "151/151 [==============================] - 2s 10ms/step - loss: 1.2247 - accuracy: 0.7550 - f1_m: 0.7895 - val_loss: 1.6593 - val_accuracy: 0.7222 - val_f1_m: 0.7628\n",
            "Epoch 14/50\n",
            "151/151 [==============================] - 2s 11ms/step - loss: 1.2031 - accuracy: 0.7570 - f1_m: 0.7906 - val_loss: 1.6542 - val_accuracy: 0.7239 - val_f1_m: 0.7628\n",
            "Epoch 15/50\n",
            "151/151 [==============================] - 2s 13ms/step - loss: 1.1822 - accuracy: 0.7594 - f1_m: 0.7924 - val_loss: 1.6540 - val_accuracy: 0.7239 - val_f1_m: 0.7642\n",
            "Epoch 16/50\n",
            "151/151 [==============================] - 2s 13ms/step - loss: 1.1621 - accuracy: 0.7624 - f1_m: 0.7946 - val_loss: 1.6532 - val_accuracy: 0.7256 - val_f1_m: 0.7661\n",
            "Epoch 17/50\n",
            "151/151 [==============================] - 2s 14ms/step - loss: 1.1431 - accuracy: 0.7658 - f1_m: 0.7957 - val_loss: 1.6484 - val_accuracy: 0.7271 - val_f1_m: 0.7655\n",
            "Epoch 18/50\n",
            "151/151 [==============================] - 2s 11ms/step - loss: 1.1244 - accuracy: 0.7673 - f1_m: 0.7967 - val_loss: 1.6458 - val_accuracy: 0.7273 - val_f1_m: 0.7668\n",
            "Epoch 19/50\n",
            "151/151 [==============================] - 2s 10ms/step - loss: 1.1068 - accuracy: 0.7690 - f1_m: 0.7993 - val_loss: 1.6489 - val_accuracy: 0.7260 - val_f1_m: 0.7674\n",
            "Epoch 20/50\n",
            "151/151 [==============================] - 2s 11ms/step - loss: 1.0916 - accuracy: 0.7703 - f1_m: 0.8001 - val_loss: 1.6478 - val_accuracy: 0.7313 - val_f1_m: 0.7688\n",
            "Epoch 21/50\n",
            "151/151 [==============================] - 2s 12ms/step - loss: 1.0746 - accuracy: 0.7728 - f1_m: 0.8009 - val_loss: 1.6481 - val_accuracy: 0.7277 - val_f1_m: 0.7665\n",
            "Epoch 22/50\n",
            "151/151 [==============================] - 2s 11ms/step - loss: 1.0604 - accuracy: 0.7745 - f1_m: 0.8025 - val_loss: 1.6472 - val_accuracy: 0.7308 - val_f1_m: 0.7692\n",
            "Epoch 23/50\n",
            "151/151 [==============================] - 2s 12ms/step - loss: 1.0442 - accuracy: 0.7762 - f1_m: 0.8028 - val_loss: 1.6511 - val_accuracy: 0.7306 - val_f1_m: 0.7686\n",
            "Epoch 24/50\n",
            "151/151 [==============================] - 2s 14ms/step - loss: 1.0304 - accuracy: 0.7773 - f1_m: 0.8037 - val_loss: 1.6503 - val_accuracy: 0.7339 - val_f1_m: 0.7695\n",
            "Epoch 25/50\n",
            "151/151 [==============================] - 2s 11ms/step - loss: 1.0151 - accuracy: 0.7801 - f1_m: 0.8048 - val_loss: 1.6526 - val_accuracy: 0.7290 - val_f1_m: 0.7699\n",
            "Epoch 26/50\n",
            "151/151 [==============================] - 2s 10ms/step - loss: 1.0026 - accuracy: 0.7809 - f1_m: 0.8058 - val_loss: 1.6559 - val_accuracy: 0.7313 - val_f1_m: 0.7702\n",
            "Epoch 27/50\n",
            "151/151 [==============================] - 2s 11ms/step - loss: 0.9899 - accuracy: 0.7831 - f1_m: 0.8070 - val_loss: 1.6597 - val_accuracy: 0.7321 - val_f1_m: 0.7717\n",
            "Epoch 28/50\n",
            "151/151 [==============================] - 2s 11ms/step - loss: 0.9775 - accuracy: 0.7838 - f1_m: 0.8080 - val_loss: 1.6654 - val_accuracy: 0.7354 - val_f1_m: 0.7724\n",
            "Epoch 29/50\n",
            "151/151 [==============================] - 2s 12ms/step - loss: 0.9648 - accuracy: 0.7859 - f1_m: 0.8089 - val_loss: 1.6656 - val_accuracy: 0.7343 - val_f1_m: 0.7723\n",
            "Epoch 30/50\n",
            "151/151 [==============================] - 2s 12ms/step - loss: 0.9521 - accuracy: 0.7884 - f1_m: 0.8099 - val_loss: 1.6691 - val_accuracy: 0.7364 - val_f1_m: 0.7704\n",
            "Epoch 31/50\n",
            "151/151 [==============================] - 2s 15ms/step - loss: 0.9425 - accuracy: 0.7895 - f1_m: 0.8106 - val_loss: 1.6755 - val_accuracy: 0.7355 - val_f1_m: 0.7726\n",
            "Epoch 32/50\n",
            "151/151 [==============================] - 2s 11ms/step - loss: 0.9299 - accuracy: 0.7914 - f1_m: 0.8120 - val_loss: 1.6760 - val_accuracy: 0.7373 - val_f1_m: 0.7740\n",
            "Epoch 33/50\n",
            "151/151 [==============================] - 2s 11ms/step - loss: 0.9189 - accuracy: 0.7934 - f1_m: 0.8129 - val_loss: 1.6828 - val_accuracy: 0.7365 - val_f1_m: 0.7729\n",
            "Epoch 34/50\n",
            "151/151 [==============================] - 2s 10ms/step - loss: 0.9083 - accuracy: 0.7949 - f1_m: 0.8138 - val_loss: 1.6860 - val_accuracy: 0.7385 - val_f1_m: 0.7712\n",
            "Epoch 35/50\n",
            "151/151 [==============================] - 2s 11ms/step - loss: 0.8982 - accuracy: 0.7969 - f1_m: 0.8150 - val_loss: 1.6929 - val_accuracy: 0.7365 - val_f1_m: 0.7744\n",
            "Epoch 36/50\n",
            "151/151 [==============================] - 2s 11ms/step - loss: 0.8881 - accuracy: 0.7986 - f1_m: 0.8160 - val_loss: 1.6968 - val_accuracy: 0.7351 - val_f1_m: 0.7727\n",
            "Epoch 37/50\n",
            "151/151 [==============================] - 2s 11ms/step - loss: 0.8795 - accuracy: 0.7998 - f1_m: 0.8159 - val_loss: 1.6977 - val_accuracy: 0.7360 - val_f1_m: 0.7744\n",
            "Epoch 38/50\n",
            "151/151 [==============================] - 3s 20ms/step - loss: 0.8696 - accuracy: 0.8010 - f1_m: 0.8176 - val_loss: 1.7014 - val_accuracy: 0.7373 - val_f1_m: 0.7738\n",
            "Epoch 39/50\n",
            "151/151 [==============================] - 2s 14ms/step - loss: 0.8613 - accuracy: 0.8028 - f1_m: 0.8188 - val_loss: 1.7071 - val_accuracy: 0.7367 - val_f1_m: 0.7746\n",
            "Epoch 40/50\n",
            "151/151 [==============================] - 2s 11ms/step - loss: 0.8528 - accuracy: 0.8041 - f1_m: 0.8196 - val_loss: 1.7118 - val_accuracy: 0.7372 - val_f1_m: 0.7741\n",
            "Epoch 41/50\n",
            "151/151 [==============================] - 2s 11ms/step - loss: 0.8436 - accuracy: 0.8053 - f1_m: 0.8208 - val_loss: 1.7172 - val_accuracy: 0.7358 - val_f1_m: 0.7724\n",
            "Epoch 42/50\n",
            "151/151 [==============================] - 2s 11ms/step - loss: 0.8358 - accuracy: 0.8073 - f1_m: 0.8222 - val_loss: 1.7251 - val_accuracy: 0.7345 - val_f1_m: 0.7733\n",
            "Epoch 43/50\n",
            "151/151 [==============================] - 2s 11ms/step - loss: 0.8280 - accuracy: 0.8069 - f1_m: 0.8230 - val_loss: 1.7272 - val_accuracy: 0.7360 - val_f1_m: 0.7723\n",
            "Epoch 44/50\n",
            "151/151 [==============================] - 2s 14ms/step - loss: 0.8207 - accuracy: 0.8100 - f1_m: 0.8233 - val_loss: 1.7292 - val_accuracy: 0.7366 - val_f1_m: 0.7751\n",
            "Epoch 45/50\n",
            "151/151 [==============================] - 2s 13ms/step - loss: 0.8135 - accuracy: 0.8097 - f1_m: 0.8250 - val_loss: 1.7367 - val_accuracy: 0.7391 - val_f1_m: 0.7743\n",
            "Epoch 46/50\n",
            "151/151 [==============================] - 2s 11ms/step - loss: 0.8059 - accuracy: 0.8109 - f1_m: 0.8250 - val_loss: 1.7420 - val_accuracy: 0.7379 - val_f1_m: 0.7741\n",
            "Epoch 47/50\n",
            "151/151 [==============================] - 2s 11ms/step - loss: 0.7983 - accuracy: 0.8128 - f1_m: 0.8278 - val_loss: 1.7504 - val_accuracy: 0.7373 - val_f1_m: 0.7722\n",
            "Epoch 48/50\n",
            "151/151 [==============================] - 2s 10ms/step - loss: 0.7915 - accuracy: 0.8134 - f1_m: 0.8285 - val_loss: 1.7615 - val_accuracy: 0.7379 - val_f1_m: 0.7744\n",
            "Epoch 49/50\n",
            "151/151 [==============================] - 2s 14ms/step - loss: 0.7850 - accuracy: 0.8143 - f1_m: 0.8283 - val_loss: 1.7623 - val_accuracy: 0.7374 - val_f1_m: 0.7729\n",
            "Epoch 50/50\n",
            "151/151 [==============================] - 2s 12ms/step - loss: 0.7800 - accuracy: 0.8155 - f1_m: 0.8297 - val_loss: 1.7709 - val_accuracy: 0.7354 - val_f1_m: 0.7738\n"
          ]
        }
      ]
    },
    {
      "cell_type": "code",
      "source": [
        "import matplotlib.pyplot as plt\n",
        "import seaborn as sns\n",
        "\n",
        "# Entrenamiento\n",
        "epoch_count = range(1, len(hist.history['accuracy']) + 1)\n",
        "sns.lineplot(x=epoch_count,  y=hist.history['accuracy'], label='train')\n",
        "sns.lineplot(x=epoch_count,  y=hist.history['val_accuracy'], label='valid')\n",
        "plt.show()"
      ],
      "metadata": {
        "id": "O1iOahLpg9sr",
        "outputId": "ac8b7a5f-de26-4535-e04b-e5f2b41ab0e9",
        "colab": {
          "base_uri": "https://localhost:8080/",
          "height": 430
        }
      },
      "execution_count": 67,
      "outputs": [
        {
          "output_type": "display_data",
          "data": {
            "text/plain": [
              "<Figure size 640x480 with 1 Axes>"
            ],
            "image/png": "[encoded data removed]"
          },
          "metadata": {}
        }
      ]
    },
    {
      "cell_type": "code",
      "source": [
        "# Guardarlo en un archivo pickle\n",
        "import pickle, time\n",
        "file_name = \"desafio6_predict_model\" + str(time.time()).split(\".\")[0] + \".pickle\"\n",
        "with open(file_name, 'wb') as handle:\n",
        "    pickle.dump(model, handle, protocol=pickle.HIGHEST_PROTOCOL)"
      ],
      "metadata": {
        "id": "I8fc99W0hAdU"
      },
      "execution_count": 68,
      "outputs": []
    },
    {
      "cell_type": "markdown",
      "metadata": {
        "id": "Zbwn0ekDy_s2"
      },
      "source": [
        "### 5 - Inferencia\n",
        "Experimentar el funcionamiento de su modelo. Recuerde que debe realizar la inferencia de los modelos por separado de encoder y decoder."
      ]
    },
    {
      "cell_type": "code",
      "source": [
        "# Armar lo conversores de indice a palabra:\n",
        "idx2word_input = {v:k for k, v in word2idx_inputs.items()}\n",
        "idx2word_target = {v:k for k, v in word2idx_outputs.items()}"
      ],
      "metadata": {
        "id": "oH2ZOhO1hClQ"
      },
      "execution_count": 69,
      "outputs": []
    },
    {
      "cell_type": "code",
      "source": [
        "def answer(input_seq):\n",
        "    # Se transforma la sequencia de entrada a los stados \"h\" y \"c\" de la LSTM\n",
        "    # para enviar la primera vez al decoder\"\n",
        "    states_value = encoder_model.predict(input_seq)\n",
        "\n",
        "    # Se inicializa la secuencia de entrada al decoder como <sos>\n",
        "    target_seq = np.zeros((1, 1))\n",
        "    target_seq[0, 0] = word2idx_outputs['<sos>']\n",
        "\n",
        "    # Se obtiene el indice que finaliza la inferencia\n",
        "    eos = word2idx_outputs['<eos>']\n",
        "\n",
        "    output_sentence = []\n",
        "    for _ in range(max_out_len):\n",
        "        # Predicción del próximo elemento\n",
        "        output_tokens, h, c = decoder_model.predict([target_seq] + states_value)\n",
        "        idx = np.argmax(output_tokens[0, 0, :])\n",
        "\n",
        "        # Si es \"end of sentece \" se acaba\n",
        "        if eos == idx:\n",
        "            break\n",
        "\n",
        "        # Transformar ídx a palabra\n",
        "        word = ''\n",
        "        if idx > 0:\n",
        "            word = idx2word_target[idx]\n",
        "            output_sentence.append(word)\n",
        "\n",
        "        # Actualizar los estados dado la ultimo prediccion\n",
        "        states_value = [h, c]\n",
        "\n",
        "        # Actualizar secuencia de entrada con la salida (re-alimentacion)\n",
        "        target_seq[0, 0] = idx\n",
        "\n",
        "    return ' '.join(output_sentence)"
      ],
      "metadata": {
        "id": "c39qd0zXhFKl"
      },
      "execution_count": 70,
      "outputs": []
    },
    {
      "cell_type": "code",
      "source": [
        "i = np.random.choice(len(input_sentences))\n",
        "input_seq = encoder_input_sequences[i:i+1]\n",
        "ans = answer(input_seq)\n",
        "print('-')\n",
        "print('Input:', input_sentences[i])\n",
        "print('Response:', ans)"
      ],
      "metadata": {
        "id": "maAScGeohHV9",
        "outputId": "9d7b3812-f718-4b7d-b787-99e91da2812f",
        "colab": {
          "base_uri": "https://localhost:8080/"
        }
      },
      "execution_count": 71,
      "outputs": [
        {
          "output_type": "stream",
          "name": "stdout",
          "text": [
            "1/1 [==============================] - 0s 486ms/step\n",
            "1/1 [==============================] - 1s 544ms/step\n",
            "1/1 [==============================] - 0s 31ms/step\n",
            "1/1 [==============================] - 0s 40ms/step\n",
            "1/1 [==============================] - 0s 31ms/step\n",
            "1/1 [==============================] - 0s 29ms/step\n",
            "-\n",
            "Input: everything\n",
            "Response: i love to read\n"
          ]
        }
      ]
    },
    {
      "cell_type": "code",
      "source": [
        "input_test = \"How are you?\"\n",
        "print('Input:', input_test)\n",
        "integer_seq_test = input_tokenizer.texts_to_sequences([input_test])[0]\n",
        "print(\"Representacion en vector de tokens de ids\", integer_seq_test)\n",
        "encoder_sequence_test = pad_sequences([integer_seq_test], maxlen=max_input_len)\n",
        "print(\"Padding del vector:\", encoder_sequence_test)\n",
        "print('Input:', input_test)\n",
        "states_value = encoder_model.predict(encoder_sequence_test)\n",
        "ans = answer(encoder_sequence_test)\n",
        "print('Response:', ans)"
      ],
      "metadata": {
        "id": "KARWBRxmhIg-",
        "outputId": "3c8b33a7-6d40-46c5-9180-8100c41f5970",
        "colab": {
          "base_uri": "https://localhost:8080/"
        }
      },
      "execution_count": 72,
      "outputs": [
        {
          "output_type": "stream",
          "name": "stdout",
          "text": [
            "Input: How are you?\n",
            "Representacion en vector de tokens de ids [10, 7, 2]\n",
            "Padding del vector: [[ 0  0  0  0  0  0 10  7  2]]\n",
            "Input: How are you?\n",
            "1/1 [==============================] - 0s 28ms/step\n",
            "1/1 [==============================] - 0s 28ms/step\n",
            "1/1 [==============================] - 0s 20ms/step\n",
            "1/1 [==============================] - 0s 25ms/step\n",
            "1/1 [==============================] - 0s 20ms/step\n",
            "1/1 [==============================] - 0s 19ms/step\n",
            "Response: i am fine\n"
          ]
        }
      ]
    },
    {
      "cell_type": "code",
      "source": [
        "def ask_bot(input_test):\n",
        "  integer_seq_test = input_tokenizer.texts_to_sequences([input_test])[0]\n",
        "  encoder_sequence_test = pad_sequences([integer_seq_test], maxlen=max_input_len)\n",
        "  return answer(encoder_sequence_test)"
      ],
      "metadata": {
        "id": "JwDXMlDhhKKU"
      },
      "execution_count": 73,
      "outputs": []
    },
    {
      "cell_type": "code",
      "source": [
        "input_list = [\"are you vegan?\",\"how old are you?\",\"do you like coffee?\", \"how are you feeling?\", \"are you angry?\", \"what are you?\"]\n",
        "for input in input_list:\n",
        "  print(\"Input: \"+str(input))\n",
        "  print(\"Answer: \"+str(ask_bot(input)))\n",
        "  print(\"\")"
      ],
      "metadata": {
        "id": "ZWLGVrIahLhT",
        "outputId": "ad8624d1-f2c2-456c-d88b-9d12c115554b",
        "colab": {
          "base_uri": "https://localhost:8080/"
        }
      },
      "execution_count": 76,
      "outputs": [
        {
          "output_type": "stream",
          "name": "stdout",
          "text": [
            "Input: are you vegan?\n",
            "1/1 [==============================] - 0s 20ms/step\n",
            "1/1 [==============================] - 0s 19ms/step\n",
            "1/1 [==============================] - 0s 22ms/step\n",
            "1/1 [==============================] - 0s 19ms/step\n",
            "1/1 [==============================] - 0s 19ms/step\n",
            "1/1 [==============================] - 0s 19ms/step\n",
            "1/1 [==============================] - 0s 18ms/step\n",
            "1/1 [==============================] - 0s 21ms/step\n",
            "1/1 [==============================] - 0s 27ms/step\n",
            "1/1 [==============================] - 0s 20ms/step\n",
            "Answer: i am a vegan i am a vegan\n",
            "\n",
            "Input: how old are you?\n",
            "1/1 [==============================] - 0s 18ms/step\n",
            "1/1 [==============================] - 0s 19ms/step\n",
            "1/1 [==============================] - 0s 19ms/step\n",
            "1/1 [==============================] - 0s 25ms/step\n",
            "1/1 [==============================] - 0s 19ms/step\n",
            "Answer: i am fine\n",
            "\n",
            "Input: do you like coffee?\n",
            "1/1 [==============================] - 0s 17ms/step\n",
            "1/1 [==============================] - 0s 22ms/step\n",
            "1/1 [==============================] - 0s 20ms/step\n",
            "1/1 [==============================] - 0s 21ms/step\n",
            "1/1 [==============================] - 0s 19ms/step\n",
            "1/1 [==============================] - 0s 21ms/step\n",
            "1/1 [==============================] - 0s 20ms/step\n",
            "1/1 [==============================] - 0s 19ms/step\n",
            "1/1 [==============================] - 0s 20ms/step\n",
            "Answer: i like to go to the beach\n",
            "\n",
            "Input: how are you feeling?\n",
            "1/1 [==============================] - 0s 19ms/step\n",
            "1/1 [==============================] - 0s 20ms/step\n",
            "1/1 [==============================] - 0s 26ms/step\n",
            "1/1 [==============================] - 0s 21ms/step\n",
            "1/1 [==============================] - 0s 19ms/step\n",
            "Answer: i am fine\n",
            "\n",
            "Input: are you angry?\n",
            "1/1 [==============================] - 0s 23ms/step\n",
            "1/1 [==============================] - 0s 20ms/step\n",
            "1/1 [==============================] - 0s 21ms/step\n",
            "1/1 [==============================] - 0s 26ms/step\n",
            "1/1 [==============================] - 0s 21ms/step\n",
            "1/1 [==============================] - 0s 20ms/step\n",
            "1/1 [==============================] - 0s 20ms/step\n",
            "1/1 [==============================] - 0s 19ms/step\n",
            "1/1 [==============================] - 0s 19ms/step\n",
            "1/1 [==============================] - 0s 19ms/step\n",
            "Answer: i am a girl i am a girl\n",
            "\n",
            "Input: what are you?\n",
            "1/1 [==============================] - 0s 17ms/step\n",
            "1/1 [==============================] - 0s 22ms/step\n",
            "1/1 [==============================] - 0s 22ms/step\n",
            "1/1 [==============================] - 0s 20ms/step\n",
            "1/1 [==============================] - 0s 19ms/step\n",
            "1/1 [==============================] - 0s 21ms/step\n",
            "1/1 [==============================] - 0s 21ms/step\n",
            "1/1 [==============================] - 0s 45ms/step\n",
            "1/1 [==============================] - 0s 22ms/step\n",
            "Answer: i am doing well how are you\n",
            "\n"
          ]
        }
      ]
    }
  ],
  "metadata": {
    "accelerator": "GPU",
    "colab": {
      "provenance": []
    },
    "kernelspec": {
      "display_name": "Python 3.10.6 64-bit",
      "language": "python",
      "name": "python3"
    },
    "language_info": {
      "name": "python",
      "version": "3.10.6"
    },
    "vscode": {
      "interpreter": {
        "hash": "916dbcbb3f70747c44a77c7bcd40155683ae19c65e1c03b4aa3499c5328201f1"
      }
    }
  },
  "nbformat": 4,
  "nbformat_minor": 0
}