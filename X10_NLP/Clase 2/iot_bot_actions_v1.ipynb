{
 "cells": [
  {
   "cell_type": "markdown",
   "metadata": {
    "id": "NV8wZ0MTKjv_"
   },
   "source": [
    "<img src=\"https://github.com/hernancontigiani/ceia_memorias_especializacion/raw/master/Figures/logoFIUBA.jpg\" width=\"500\" align=\"center\">\n",
    "\n",
    "\n",
    "# Procesamiento de lenguaje natural\n",
    "## Bot basado en reglas con DNN + Spacy"
   ]
  },
  {
   "cell_type": "markdown",
   "metadata": {
    "id": "Z_9z3H-yKrcK"
   },
   "source": [
    "#### Datos\n",
    "Este ejemplo se inspiró en otro Bot en inglés creado con NLTK, lo tienen como referencia para hacer lo mismo en inglés:\\\n",
    "[LINK](https://towardsdatascience.com/a-simple-chatbot-in-python-with-deep-learning-3e8669997758)"
   ]
  },
  {
   "cell_type": "markdown",
   "metadata": {
    "id": "oCVZakCzAjGN"
   },
   "source": [
    "### 1 - Instalar dependencias\n",
    "Para poder utilizar Spacy en castellano es necesario agregar la librería \"spacy-stanza\" para lematizar palabras en español."
   ]
  },
  {
   "cell_type": "code",
   "execution_count": 1,
   "metadata": {
    "id": "Zd8NLa4gsSmT"
   },
   "outputs": [],
   "source": [
    "# La última versión de spacy-stanza (>1.0) es compatible solo con spacy >=3.0\n",
    "# Nota: spacy 3.0 incorpora al pepiline nlp transformers\n",
    "!pip install -U spacy==3.1 --quiet\n",
    "!pip install -U spacy-stanza==1.0.0 --quiet"
   ]
  },
  {
   "cell_type": "code",
   "execution_count": 2,
   "metadata": {
    "id": "kzao7XO9NJAq"
   },
   "outputs": [],
   "source": [
    "import json\n",
    "import string\n",
    "import random \n",
    "import numpy as np\n",
    "\n",
    "import tensorflow as tf \n",
    "from tensorflow.keras import Sequential \n",
    "from tensorflow.keras.layers import Dense, Dropout\n",
    "\n",
    "import nltk\n",
    "import numpy as np\n",
    "from nltk.stem import WordNetLemmatizer"
   ]
  },
  {
   "cell_type": "code",
   "execution_count": 3,
   "metadata": {
    "id": "Z_ExOb8uvjqK"
   },
   "outputs": [
    {
     "name": "stderr",
     "output_type": "stream",
     "text": [
      "[nltk_data] Downloading package punkt to /Users/marcosb/nltk_data...\n",
      "[nltk_data]   Package punkt is already up-to-date!\n",
      "[nltk_data] Downloading package wordnet to /Users/marcosb/nltk_data...\n",
      "[nltk_data]   Package wordnet is already up-to-date!\n"
     ]
    },
    {
     "data": {
      "text/plain": [
       "True"
      ]
     },
     "execution_count": 3,
     "metadata": {},
     "output_type": "execute_result"
    }
   ],
   "source": [
    "nltk.download(\"punkt\")\n",
    "nltk.download(\"wordnet\")"
   ]
  },
  {
   "attachments": {},
   "cell_type": "markdown",
   "metadata": {
    "id": "_wF10RjVMBdV"
   },
   "source": [
    "### 2 - Herramientas de preprocesamiento de datos\n",
    "Entre las tareas de procesamiento de texto se implementa:\n",
    "- Quitar acentos y caracteres especiales\n",
    "- Quitar números\n",
    "- Quitar símbolos de puntuación"
   ]
  },
  {
   "cell_type": "code",
   "execution_count": 4,
   "metadata": {
    "id": "ZxoD2hEExmuX"
   },
   "outputs": [],
   "source": [
    "import re\n",
    "import unicodedata\n",
    "\n",
    "# El preprocesamento en castellano requiere más trabajo\n",
    "\n",
    "# Referencia de regex:\n",
    "# https://docs.python.org/3/library/re.html\n",
    "\n",
    "def preprocess_clean_text(text):    \n",
    "    # sacar tildes de las palabras:\n",
    "    text = unicodedata.normalize('NFKD', text).encode('ascii', 'ignore').decode('utf-8', 'ignore')\n",
    "    # quitar caracteres especiales\n",
    "    pattern = r'[^a-zA-z0-9.,!?/:;\\\"\\'\\s]' # [^ : ningún caracter de todos estos\n",
    "    # (termina eliminando cualquier caracter distinto de los del regex)\n",
    "    text = re.sub(pattern, '', text)\n",
    "    pattern = r'[^a-zA-z.,!?/:;\\\"\\'\\s]' # igual al anterior pero sin cifras numéricas\n",
    "    # quitar números\n",
    "    text = re.sub(pattern, '', text)\n",
    "    # quitar caracteres de puntuación\n",
    "    text = ''.join([c for c in text if c not in string.punctuation])\n",
    "    return text"
   ]
  },
  {
   "cell_type": "markdown",
   "metadata": {
    "id": "ilRbn0KfMm2r"
   },
   "source": [
    "### 3 - Diccionario de entrada"
   ]
  },
  {
   "cell_type": "code",
   "execution_count": 5,
   "metadata": {
    "id": "NgIGpjymNEH7"
   },
   "outputs": [],
   "source": [
    "# Dataset en formato JSON que representa las posibles preguntas (patterns)\n",
    "# y las posibles respuestas por categoría (tag)\n",
    "# Los \"patterns\" van a formar el corpus para entrenar el clasificador que clasifica en tags\n",
    "# \"respones\" son las respuestas predeterminadas posibles para cada tag\n",
    "dataset = {\"intents\": [\n",
    "             {\"tag\": \"greeting\",\n",
    "              \"patterns\": [\"Hello\", \"How are you?\", \"Hi there\", \"Hi\", \"Whats up\"],\n",
    "              \"responses\": [\"Howdy!\", \"Hello\", \"How are you doing?\", \"Greetings!\", \"How do you do?\"],\n",
    "             },\n",
    "             {\"tag\": \"power_on_light\",\n",
    "              \"patterns\": [\"power on the light\", \"turn on the light\", \"Light it up\", \"Turn on the light, please.\", \"Start the lights\"],\n",
    "              \"responses\": [\"Turning on bedroom light.\"]\n",
    "             },\n",
    "             {\"tag\": \"power_off_light\",\n",
    "              \"patterns\": [\"power off the light\", \"turn off the light\", \"want to sleep\", \"Shut down the lights\", \"Stop the lights, please\"],\n",
    "              \"responses\": [\"Turning off bedroom light.\"]\n",
    "             },\n",
    "             {\"tag\": \"start_music\",\n",
    "              \"patterns\": [\"Play some music\", \"Start the radio\", \"Start playing music\", \"Put some songs\"],\n",
    "              \"responses\": [\"Playing some music now.\"]\n",
    "             },\n",
    "             {\"tag\": \"stop_music\",\n",
    "              \"patterns\": [\"Stop the music\", \"Shut down the radio\", \"Stop playing music\", \"Turn down the volume.\"],\n",
    "              \"responses\": [\"Stoping the music\"]\n",
    "             },\n",
    "             {\"tag\": \"get_weather\",\n",
    "              \"patterns\": [\"What's the weather like today?\", \"How's the weather?\", \"What's the temperature today?\", \"What's the weather forecast?\"],\n",
    "              \"responses\": [\"This is the weather forecast for today: \\n 24°C Cloudy\"]\n",
    "             }\n",
    "]}"
   ]
  },
  {
   "cell_type": "markdown",
   "metadata": {
    "id": "19PEDmIDfLRu"
   },
   "source": [
    "### 4 - Preprocesamiento y armado del dataset"
   ]
  },
  {
   "cell_type": "code",
   "execution_count": 6,
   "metadata": {
    "id": "b3HP8abHNRk3"
   },
   "outputs": [],
   "source": [
    "# Datos que necesitaremos, las palabras o vocabulario\n",
    "words = []      # Mi diccionario\n",
    "classes = []    # Las classes (tags)\n",
    "doc_X = []\n",
    "doc_y = []\n",
    "\n",
    "lemmatizer = WordNetLemmatizer()\n",
    "\n",
    "# Por cada intención (intents) debemos tomar los patrones que la caracterízan\n",
    "# a esa intención y transformarla a tokens para almacenar en doc_X\n",
    "\n",
    "# El tag de cada intención se almacena como doc_Y (la clase a predecir)\n",
    "# En `words` vamos a guardar el vocabulario\n",
    "# En `class` las posibles clases o tags\n",
    "for intent in dataset[\"intents\"]:\n",
    "    for pattern in intent[\"patterns\"]:\n",
    "        tokens = nltk.word_tokenize(pattern)\n",
    "        words.extend(tokens)\n",
    "        doc_X.append(pattern)\n",
    "        doc_y.append(intent[\"tag\"])\n",
    "    \n",
    "    # add the tag to the classes if it's not there already \n",
    "    if intent[\"tag\"] not in classes:\n",
    "        classes.append(intent[\"tag\"])\n",
    "\n",
    "# lemmatize all the words in the vocab and convert them to lowercase\n",
    "# if the words don't appear in punctuation\n",
    "words = [lemmatizer.lemmatize(word.lower()) for word in words if word not in string.punctuation]\n",
    "\n",
    "# Elminar duplicados con \"set\" y ordenar el vocubulario y las clases por orden alfabético\n",
    "words = sorted(set(words))\n",
    "classes = sorted(set(classes))"
   ]
  },
  {
   "cell_type": "code",
   "execution_count": 7,
   "metadata": {
    "id": "Acy-gcugNbMH"
   },
   "outputs": [
    {
     "name": "stdout",
     "output_type": "stream",
     "text": [
      "words: [\"'s\", 'are', 'down', 'forecast', 'hello', 'hi', 'how', 'light', 'like', 'lumus', 'music', 'off', 'on', 'play', 'playing', 'power', 'put', 'radio', 'shut', 'sleep', 'some', 'song', 'start', 'stop', 'temperature', 'the', 'there', 'to', 'today', 'turn', 'up', 'volume', 'want', 'weather', 'what', 'whats', 'you']\n",
      "classes: ['get_weather', 'greeting', 'power_off_light', 'power_on_light', 'start_music', 'stop_music']\n",
      "doc_X: ['Hello', 'How are you?', 'Hi there', 'Hi', 'Whats up', 'power on the light', 'turn on the light', 'lumus', 'power off the light', 'turn off the light', 'want to sleep', 'Play some music', 'Start the radio', 'Start playing music', 'Put some songs', 'Stop the music', 'Shut down the radio', 'Stop playing music', 'Turn down the volume.', \"What's the weather like today?\", \"How's the weather?\", \"What's the temperature today?\", \"What's the weather forecast?\"]\n",
      "doc_y: ['greeting', 'greeting', 'greeting', 'greeting', 'greeting', 'power_on_light', 'power_on_light', 'power_on_light', 'power_off_light', 'power_off_light', 'power_off_light', 'start_music', 'start_music', 'start_music', 'start_music', 'stop_music', 'stop_music', 'stop_music', 'stop_music', 'get_weather', 'get_weather', 'get_weather', 'get_weather']\n"
     ]
    }
   ],
   "source": [
    "print(\"words:\", words)\n",
    "print(\"classes:\", classes)\n",
    "print(\"doc_X:\", doc_X)\n",
    "print(\"doc_y:\", doc_y)"
   ]
  },
  {
   "cell_type": "code",
   "execution_count": 8,
   "metadata": {
    "id": "YI0L2U7IQcvy"
   },
   "outputs": [
    {
     "name": "stdout",
     "output_type": "stream",
     "text": [
      "Vocabulario: 37\n"
     ]
    }
   ],
   "source": [
    "# Tamaño del vocabulario\n",
    "print(\"Vocabulario:\", len(words))"
   ]
  },
  {
   "cell_type": "code",
   "execution_count": 9,
   "metadata": {
    "id": "hqBeGKRk_q4r"
   },
   "outputs": [
    {
     "name": "stdout",
     "output_type": "stream",
     "text": [
      "Tags: 6\n"
     ]
    }
   ],
   "source": [
    "# Cantidad de tags\n",
    "print(\"Tags:\", len(classes))"
   ]
  },
  {
   "cell_type": "code",
   "execution_count": 10,
   "metadata": {
    "id": "vpbJ0guPN2Uq"
   },
   "outputs": [
    {
     "name": "stdout",
     "output_type": "stream",
     "text": [
      "n_docsX=23 | n_words=37\n",
      "X: [0, 0, 0, 0, 1, 0, 0, 0, 0, 0, 0, 0, 0, 0, 0, 0, 0, 0, 0, 0, 0, 0, 0, 0, 0, 0, 0, 0, 0, 0, 0, 0, 0, 0, 0, 0, 0] y: [0, 1, 0, 0, 0, 0]\n",
      "X: [0, 1, 0, 0, 0, 0, 1, 0, 0, 0, 0, 0, 0, 0, 0, 0, 0, 0, 0, 0, 0, 0, 0, 0, 0, 0, 0, 0, 0, 0, 0, 0, 0, 0, 0, 0, 1] y: [0, 1, 0, 0, 0, 0]\n",
      "X: [0, 0, 0, 0, 0, 1, 0, 0, 0, 0, 0, 0, 0, 0, 0, 0, 0, 0, 0, 0, 0, 0, 0, 0, 0, 0, 1, 0, 0, 0, 0, 0, 0, 0, 0, 0, 0] y: [0, 1, 0, 0, 0, 0]\n",
      "X: [0, 0, 0, 0, 0, 1, 0, 0, 0, 0, 0, 0, 0, 0, 0, 0, 0, 0, 0, 0, 0, 0, 0, 0, 0, 0, 0, 0, 0, 0, 0, 0, 0, 0, 0, 0, 0] y: [0, 1, 0, 0, 0, 0]\n",
      "X: [0, 0, 0, 0, 0, 0, 0, 0, 0, 0, 0, 0, 0, 0, 0, 0, 0, 0, 0, 0, 0, 0, 0, 0, 0, 0, 0, 0, 0, 0, 1, 0, 0, 0, 0, 1, 0] y: [0, 1, 0, 0, 0, 0]\n",
      "X: [0, 0, 0, 0, 0, 0, 0, 1, 0, 0, 0, 0, 1, 0, 0, 1, 0, 0, 0, 0, 0, 0, 0, 0, 0, 1, 0, 0, 0, 0, 0, 0, 0, 0, 0, 0, 0] y: [0, 0, 0, 1, 0, 0]\n",
      "X: [0, 0, 0, 0, 0, 0, 0, 1, 0, 0, 0, 0, 1, 0, 0, 0, 0, 0, 0, 0, 0, 0, 0, 0, 0, 1, 0, 0, 0, 1, 0, 0, 0, 0, 0, 0, 0] y: [0, 0, 0, 1, 0, 0]\n",
      "X: [0, 0, 0, 0, 0, 0, 0, 0, 0, 1, 0, 0, 0, 0, 0, 0, 0, 0, 0, 0, 0, 0, 0, 0, 0, 0, 0, 0, 0, 0, 0, 0, 0, 0, 0, 0, 0] y: [0, 0, 0, 1, 0, 0]\n",
      "X: [0, 0, 0, 0, 0, 0, 0, 1, 0, 0, 0, 1, 0, 0, 0, 1, 0, 0, 0, 0, 0, 0, 0, 0, 0, 1, 0, 0, 0, 0, 0, 0, 0, 0, 0, 0, 0] y: [0, 0, 1, 0, 0, 0]\n",
      "X: [0, 0, 0, 0, 0, 0, 0, 1, 0, 0, 0, 1, 0, 0, 0, 0, 0, 0, 0, 0, 0, 0, 0, 0, 0, 1, 0, 0, 0, 1, 0, 0, 0, 0, 0, 0, 0] y: [0, 0, 1, 0, 0, 0]\n",
      "X: [0, 0, 0, 0, 0, 0, 0, 0, 0, 0, 0, 0, 0, 0, 0, 0, 0, 0, 0, 1, 0, 0, 0, 0, 0, 0, 0, 1, 0, 0, 0, 0, 1, 0, 0, 0, 0] y: [0, 0, 1, 0, 0, 0]\n",
      "X: [0, 0, 0, 0, 0, 0, 0, 0, 0, 0, 1, 0, 0, 1, 0, 0, 0, 0, 0, 0, 1, 0, 0, 0, 0, 0, 0, 0, 0, 0, 0, 0, 0, 0, 0, 0, 0] y: [0, 0, 0, 0, 1, 0]\n",
      "X: [0, 0, 0, 0, 0, 0, 0, 0, 0, 0, 0, 0, 0, 0, 0, 0, 0, 1, 0, 0, 0, 0, 1, 0, 0, 1, 0, 0, 0, 0, 0, 0, 0, 0, 0, 0, 0] y: [0, 0, 0, 0, 1, 0]\n",
      "X: [0, 0, 0, 0, 0, 0, 0, 0, 0, 0, 1, 0, 0, 0, 1, 0, 0, 0, 0, 0, 0, 0, 1, 0, 0, 0, 0, 0, 0, 0, 0, 0, 0, 0, 0, 0, 0] y: [0, 0, 0, 0, 1, 0]\n",
      "X: [0, 0, 0, 0, 0, 0, 0, 0, 0, 0, 0, 0, 0, 0, 0, 0, 1, 0, 0, 0, 1, 1, 0, 0, 0, 0, 0, 0, 0, 0, 0, 0, 0, 0, 0, 0, 0] y: [0, 0, 0, 0, 1, 0]\n",
      "X: [0, 0, 0, 0, 0, 0, 0, 0, 0, 0, 1, 0, 0, 0, 0, 0, 0, 0, 0, 0, 0, 0, 0, 1, 0, 1, 0, 0, 0, 0, 0, 0, 0, 0, 0, 0, 0] y: [0, 0, 0, 0, 0, 1]\n",
      "X: [0, 0, 1, 0, 0, 0, 0, 0, 0, 0, 0, 0, 0, 0, 0, 0, 0, 1, 1, 0, 0, 0, 0, 0, 0, 1, 0, 0, 0, 0, 0, 0, 0, 0, 0, 0, 0] y: [0, 0, 0, 0, 0, 1]\n",
      "X: [0, 0, 0, 0, 0, 0, 0, 0, 0, 0, 1, 0, 0, 0, 1, 0, 0, 0, 0, 0, 0, 0, 0, 1, 0, 0, 0, 0, 0, 0, 0, 0, 0, 0, 0, 0, 0] y: [0, 0, 0, 0, 0, 1]\n",
      "X: [0, 0, 1, 0, 0, 0, 0, 0, 0, 0, 0, 0, 0, 0, 0, 0, 0, 0, 0, 0, 0, 0, 0, 0, 0, 1, 0, 0, 0, 1, 0, 1, 0, 0, 0, 0, 0] y: [0, 0, 0, 0, 0, 1]\n",
      "X: [1, 0, 0, 0, 0, 0, 0, 0, 1, 0, 0, 0, 0, 0, 0, 0, 0, 0, 0, 0, 0, 0, 0, 0, 0, 1, 0, 0, 1, 0, 0, 0, 0, 1, 1, 0, 0] y: [1, 0, 0, 0, 0, 0]\n",
      "X: [1, 0, 0, 0, 0, 0, 1, 0, 0, 0, 0, 0, 0, 0, 0, 0, 0, 0, 0, 0, 0, 0, 0, 0, 0, 1, 0, 0, 0, 0, 0, 0, 0, 1, 0, 0, 0] y: [1, 0, 0, 0, 0, 0]\n",
      "X: [1, 0, 0, 0, 0, 0, 0, 0, 0, 0, 0, 0, 0, 0, 0, 0, 0, 0, 0, 0, 0, 0, 0, 0, 1, 1, 0, 0, 1, 0, 0, 0, 0, 0, 1, 0, 0] y: [1, 0, 0, 0, 0, 0]\n",
      "X: [1, 0, 0, 1, 0, 0, 0, 0, 0, 0, 0, 0, 0, 0, 0, 0, 0, 0, 0, 0, 0, 0, 0, 0, 0, 1, 0, 0, 0, 0, 0, 0, 0, 1, 1, 0, 0] y: [1, 0, 0, 0, 0, 0]\n"
     ]
    }
   ],
   "source": [
    "# Transformar doc_X en bag of words por oneHotEncoding\n",
    "# Transformar doc_Y en un vector de clases multicategórico con oneHotEncoding\n",
    "\n",
    "training = []\n",
    "out_empty = [0] * len(classes)\n",
    "n_docsx = len(doc_X)\n",
    "n_words = len(words)\n",
    "print(f'n_docsX={n_docsx} | n_words={n_words}')\n",
    "\n",
    "for idx, doc in enumerate(doc_X):\n",
    "    # Transformar la pregunta (input) en tokens y lematizar\n",
    "    text = []\n",
    "    tokens = nltk.word_tokenize(doc.lower())\n",
    "    for token in tokens:\n",
    "        text.append(lemmatizer.lemmatize(token))\n",
    "\n",
    "    # Transformar los tokens en \"Bag of words\" (arrays de 1 y 0)\n",
    "    bow = []\n",
    "    for w_idx, word in enumerate(words):\n",
    "        bow.append(1) if word in text else bow.append(0)\n",
    "    \n",
    "    # Crear el array de salida (class output) correspondiente\n",
    "    output_row = list(out_empty)\n",
    "    output_row[classes.index(doc_y[idx])] = 1\n",
    "\n",
    "    print(\"X:\", bow, \"y:\", output_row)\n",
    "    training.append([bow, output_row])\n",
    "\n",
    "# Mezclar los datos\n",
    "random.shuffle(training)\n",
    "training = np.array(training, dtype=object)\n",
    "# Dividir en datos de entrada y salida\n",
    "train_X = np.array(list(training[:, 0]))\n",
    "train_y = np.array(list(training[:, 1]))"
   ]
  },
  {
   "cell_type": "markdown",
   "metadata": {
    "id": "a_Hr8QaDfRf3"
   },
   "source": [
    "### 5 - Entrenamiento del modelo"
   ]
  },
  {
   "cell_type": "code",
   "execution_count": 11,
   "metadata": {
    "id": "fopb3NqcAGTz"
   },
   "outputs": [
    {
     "name": "stdout",
     "output_type": "stream",
     "text": [
      "input: (37,) output: 6\n"
     ]
    }
   ],
   "source": [
    "# Shape de entrada y salida\n",
    "input_shape = (train_X.shape[1],)\n",
    "output_shape = train_y.shape[1]\n",
    "print(\"input:\", input_shape, \"output:\", output_shape)"
   ]
  },
  {
   "cell_type": "code",
   "execution_count": 12,
   "metadata": {
    "id": "xy7tzkwdOZx9"
   },
   "outputs": [
    {
     "name": "stdout",
     "output_type": "stream",
     "text": [
      "Model: \"sequential\"\n",
      "_________________________________________________________________\n",
      " Layer (type)                Output Shape              Param #   \n",
      "=================================================================\n",
      " dense (Dense)               (None, 128)               4864      \n",
      "                                                                 \n",
      " dropout (Dropout)           (None, 128)               0         \n",
      "                                                                 \n",
      " dense_1 (Dense)             (None, 64)                8256      \n",
      "                                                                 \n",
      " dropout_1 (Dropout)         (None, 64)                0         \n",
      "                                                                 \n",
      " dense_2 (Dense)             (None, 6)                 390       \n",
      "                                                                 \n",
      "=================================================================\n",
      "Total params: 13,510\n",
      "Trainable params: 13,510\n",
      "Non-trainable params: 0\n",
      "_________________________________________________________________\n",
      "None\n"
     ]
    }
   ],
   "source": [
    "# Entrenamiento del modelo DNN\n",
    "# - Modelo secuencial\n",
    "# - Con regularización\n",
    "# - softmax y optimizador Adam\n",
    "model = Sequential()\n",
    "model.add(Dense(128, input_shape=input_shape, activation=\"relu\"))\n",
    "model.add(Dropout(0.5))\n",
    "model.add(Dense(64, activation=\"relu\"))\n",
    "model.add(Dropout(0.5))\n",
    "model.add(Dense(output_shape, activation = \"softmax\"))\n",
    "\n",
    "model.compile(loss='categorical_crossentropy',\n",
    "              optimizer=\"Adam\",\n",
    "              metrics=[\"accuracy\"])\n",
    "print(model.summary())"
   ]
  },
  {
   "cell_type": "code",
   "execution_count": 13,
   "metadata": {
    "id": "r6hi4EcdOghm"
   },
   "outputs": [
    {
     "name": "stdout",
     "output_type": "stream",
     "text": [
      "Epoch 1/200\n"
     ]
    },
    {
     "name": "stderr",
     "output_type": "stream",
     "text": [
      "2023-03-18 19:24:56.028033: W tensorflow/core/platform/profile_utils/cpu_utils.cc:128] Failed to get CPU frequency: 0 Hz\n"
     ]
    },
    {
     "name": "stdout",
     "output_type": "stream",
     "text": [
      "1/1 [==============================] - 0s 186ms/step - loss: 1.8641 - accuracy: 0.1739\n",
      "Epoch 2/200\n",
      "1/1 [==============================] - 0s 1ms/step - loss: 1.8433 - accuracy: 0.1304\n",
      "Epoch 3/200\n",
      "1/1 [==============================] - 0s 1ms/step - loss: 1.8247 - accuracy: 0.1304\n",
      "Epoch 4/200\n",
      "1/1 [==============================] - 0s 2ms/step - loss: 1.7268 - accuracy: 0.4348\n",
      "Epoch 5/200\n",
      "1/1 [==============================] - 0s 2ms/step - loss: 1.7629 - accuracy: 0.2609\n",
      "Epoch 6/200\n",
      "1/1 [==============================] - 0s 2ms/step - loss: 1.7237 - accuracy: 0.3043\n",
      "Epoch 7/200\n",
      "1/1 [==============================] - 0s 2ms/step - loss: 1.7065 - accuracy: 0.2174\n",
      "Epoch 8/200\n",
      "1/1 [==============================] - 0s 2ms/step - loss: 1.7498 - accuracy: 0.3478\n",
      "Epoch 9/200\n",
      "1/1 [==============================] - 0s 2ms/step - loss: 1.8113 - accuracy: 0.1739\n",
      "Epoch 10/200\n",
      "1/1 [==============================] - 0s 2ms/step - loss: 1.6093 - accuracy: 0.5652\n",
      "Epoch 11/200\n",
      "1/1 [==============================] - 0s 2ms/step - loss: 1.6778 - accuracy: 0.3478\n",
      "Epoch 12/200\n",
      "1/1 [==============================] - 0s 2ms/step - loss: 1.6815 - accuracy: 0.2174\n",
      "Epoch 13/200\n",
      "1/1 [==============================] - 0s 1ms/step - loss: 1.6688 - accuracy: 0.3043\n",
      "Epoch 14/200\n",
      "1/1 [==============================] - 0s 2ms/step - loss: 1.6693 - accuracy: 0.2174\n",
      "Epoch 15/200\n",
      "1/1 [==============================] - 0s 2ms/step - loss: 1.6020 - accuracy: 0.4348\n",
      "Epoch 16/200\n",
      "1/1 [==============================] - 0s 2ms/step - loss: 1.6030 - accuracy: 0.2609\n",
      "Epoch 17/200\n",
      "1/1 [==============================] - 0s 2ms/step - loss: 1.6474 - accuracy: 0.3478\n",
      "Epoch 18/200\n",
      "1/1 [==============================] - 0s 3ms/step - loss: 1.5881 - accuracy: 0.3913\n",
      "Epoch 19/200\n",
      "1/1 [==============================] - 0s 2ms/step - loss: 1.5560 - accuracy: 0.4783\n",
      "Epoch 20/200\n",
      "1/1 [==============================] - 0s 1ms/step - loss: 1.5567 - accuracy: 0.5217\n",
      "Epoch 21/200\n",
      "1/1 [==============================] - 0s 6ms/step - loss: 1.5847 - accuracy: 0.5217\n",
      "Epoch 22/200\n",
      "1/1 [==============================] - 0s 4ms/step - loss: 1.6082 - accuracy: 0.3478\n",
      "Epoch 23/200\n",
      "1/1 [==============================] - 0s 5ms/step - loss: 1.5173 - accuracy: 0.6522\n",
      "Epoch 24/200\n",
      "1/1 [==============================] - 0s 3ms/step - loss: 1.5065 - accuracy: 0.6087\n",
      "Epoch 25/200\n",
      "1/1 [==============================] - 0s 8ms/step - loss: 1.5730 - accuracy: 0.3913\n",
      "Epoch 26/200\n",
      "1/1 [==============================] - 0s 3ms/step - loss: 1.4629 - accuracy: 0.5652\n",
      "Epoch 27/200\n",
      "1/1 [==============================] - 0s 2ms/step - loss: 1.5523 - accuracy: 0.4348\n",
      "Epoch 28/200\n",
      "1/1 [==============================] - 0s 1ms/step - loss: 1.4597 - accuracy: 0.6087\n",
      "Epoch 29/200\n",
      "1/1 [==============================] - 0s 3ms/step - loss: 1.5468 - accuracy: 0.5652\n",
      "Epoch 30/200\n",
      "1/1 [==============================] - 0s 2ms/step - loss: 1.5226 - accuracy: 0.6087\n",
      "Epoch 31/200\n",
      "1/1 [==============================] - 0s 2ms/step - loss: 1.4899 - accuracy: 0.5652\n",
      "Epoch 32/200\n",
      "1/1 [==============================] - 0s 2ms/step - loss: 1.4486 - accuracy: 0.7826\n",
      "Epoch 33/200\n",
      "1/1 [==============================] - 0s 2ms/step - loss: 1.4080 - accuracy: 0.6087\n",
      "Epoch 34/200\n",
      "1/1 [==============================] - 0s 2ms/step - loss: 1.3762 - accuracy: 0.6522\n",
      "Epoch 35/200\n",
      "1/1 [==============================] - 0s 2ms/step - loss: 1.4391 - accuracy: 0.5652\n",
      "Epoch 36/200\n",
      "1/1 [==============================] - 0s 2ms/step - loss: 1.3831 - accuracy: 0.7391\n",
      "Epoch 37/200\n",
      "1/1 [==============================] - 0s 2ms/step - loss: 1.2850 - accuracy: 0.7826\n",
      "Epoch 38/200\n",
      "1/1 [==============================] - 0s 2ms/step - loss: 1.4381 - accuracy: 0.6957\n",
      "Epoch 39/200\n",
      "1/1 [==============================] - 0s 2ms/step - loss: 1.2843 - accuracy: 0.7826\n",
      "Epoch 40/200\n",
      "1/1 [==============================] - 0s 2ms/step - loss: 1.3011 - accuracy: 0.6522\n",
      "Epoch 41/200\n",
      "1/1 [==============================] - 0s 1ms/step - loss: 1.2672 - accuracy: 0.6522\n",
      "Epoch 42/200\n",
      "1/1 [==============================] - 0s 2ms/step - loss: 1.2156 - accuracy: 0.6522\n",
      "Epoch 43/200\n",
      "1/1 [==============================] - 0s 1ms/step - loss: 1.3565 - accuracy: 0.7826\n",
      "Epoch 44/200\n",
      "1/1 [==============================] - 0s 1ms/step - loss: 1.2458 - accuracy: 0.6957\n",
      "Epoch 45/200\n",
      "1/1 [==============================] - 0s 2ms/step - loss: 1.2327 - accuracy: 0.7391\n",
      "Epoch 46/200\n",
      "1/1 [==============================] - 0s 2ms/step - loss: 1.2687 - accuracy: 0.7826\n",
      "Epoch 47/200\n",
      "1/1 [==============================] - 0s 2ms/step - loss: 1.1555 - accuracy: 0.8261\n",
      "Epoch 48/200\n",
      "1/1 [==============================] - 0s 2ms/step - loss: 1.1988 - accuracy: 0.7391\n",
      "Epoch 49/200\n",
      "1/1 [==============================] - 0s 2ms/step - loss: 1.0855 - accuracy: 0.8261\n",
      "Epoch 50/200\n",
      "1/1 [==============================] - 0s 2ms/step - loss: 1.1008 - accuracy: 0.7826\n",
      "Epoch 51/200\n",
      "1/1 [==============================] - 0s 1ms/step - loss: 1.1624 - accuracy: 0.7826\n",
      "Epoch 52/200\n",
      "1/1 [==============================] - 0s 1ms/step - loss: 1.1375 - accuracy: 0.7391\n",
      "Epoch 53/200\n",
      "1/1 [==============================] - 0s 2ms/step - loss: 1.1574 - accuracy: 0.9565\n",
      "Epoch 54/200\n",
      "1/1 [==============================] - 0s 2ms/step - loss: 1.2783 - accuracy: 0.5652\n",
      "Epoch 55/200\n",
      "1/1 [==============================] - 0s 1ms/step - loss: 1.0393 - accuracy: 0.8261\n",
      "Epoch 56/200\n",
      "1/1 [==============================] - 0s 2ms/step - loss: 1.0553 - accuracy: 0.8261\n",
      "Epoch 57/200\n",
      "1/1 [==============================] - 0s 2ms/step - loss: 0.9857 - accuracy: 0.9565\n",
      "Epoch 58/200\n",
      "1/1 [==============================] - 0s 2ms/step - loss: 0.9688 - accuracy: 0.9130\n",
      "Epoch 59/200\n",
      "1/1 [==============================] - 0s 1ms/step - loss: 1.0262 - accuracy: 0.9130\n",
      "Epoch 60/200\n",
      "1/1 [==============================] - 0s 1ms/step - loss: 1.0112 - accuracy: 0.8261\n",
      "Epoch 61/200\n",
      "1/1 [==============================] - 0s 2ms/step - loss: 1.0647 - accuracy: 0.7826\n",
      "Epoch 62/200\n",
      "1/1 [==============================] - 0s 3ms/step - loss: 0.9553 - accuracy: 0.7826\n",
      "Epoch 63/200\n",
      "1/1 [==============================] - 0s 3ms/step - loss: 0.8985 - accuracy: 0.8696\n",
      "Epoch 64/200\n",
      "1/1 [==============================] - 0s 2ms/step - loss: 0.9135 - accuracy: 0.8261\n",
      "Epoch 65/200\n",
      "1/1 [==============================] - 0s 1ms/step - loss: 0.9554 - accuracy: 0.8261\n",
      "Epoch 66/200\n",
      "1/1 [==============================] - 0s 2ms/step - loss: 0.9237 - accuracy: 0.8696\n",
      "Epoch 67/200\n",
      "1/1 [==============================] - 0s 2ms/step - loss: 1.0080 - accuracy: 0.8261\n",
      "Epoch 68/200\n",
      "1/1 [==============================] - 0s 3ms/step - loss: 0.8678 - accuracy: 0.9565\n",
      "Epoch 69/200\n",
      "1/1 [==============================] - 0s 1ms/step - loss: 0.8987 - accuracy: 0.8696\n",
      "Epoch 70/200\n",
      "1/1 [==============================] - 0s 2ms/step - loss: 0.8844 - accuracy: 0.8261\n",
      "Epoch 71/200\n",
      "1/1 [==============================] - 0s 2ms/step - loss: 0.7703 - accuracy: 0.9130\n",
      "Epoch 72/200\n",
      "1/1 [==============================] - 0s 2ms/step - loss: 0.7918 - accuracy: 0.8696\n",
      "Epoch 73/200\n",
      "1/1 [==============================] - 0s 3ms/step - loss: 0.8098 - accuracy: 0.8696\n",
      "Epoch 74/200\n",
      "1/1 [==============================] - 0s 2ms/step - loss: 0.7870 - accuracy: 0.9130\n",
      "Epoch 75/200\n",
      "1/1 [==============================] - 0s 2ms/step - loss: 0.8389 - accuracy: 0.8696\n",
      "Epoch 76/200\n",
      "1/1 [==============================] - 0s 2ms/step - loss: 0.7236 - accuracy: 0.9565\n",
      "Epoch 77/200\n",
      "1/1 [==============================] - 0s 1ms/step - loss: 0.8451 - accuracy: 0.8696\n",
      "Epoch 78/200\n",
      "1/1 [==============================] - 0s 1ms/step - loss: 0.6845 - accuracy: 0.9565\n",
      "Epoch 79/200\n",
      "1/1 [==============================] - 0s 1ms/step - loss: 0.6365 - accuracy: 1.0000\n",
      "Epoch 80/200\n",
      "1/1 [==============================] - 0s 1ms/step - loss: 0.7426 - accuracy: 0.8261\n",
      "Epoch 81/200\n",
      "1/1 [==============================] - 0s 1ms/step - loss: 0.7116 - accuracy: 0.9565\n",
      "Epoch 82/200\n",
      "1/1 [==============================] - 0s 1ms/step - loss: 0.5488 - accuracy: 0.9565\n",
      "Epoch 83/200\n",
      "1/1 [==============================] - 0s 2ms/step - loss: 0.7891 - accuracy: 0.7826\n",
      "Epoch 84/200\n",
      "1/1 [==============================] - 0s 2ms/step - loss: 0.7931 - accuracy: 0.8261\n",
      "Epoch 85/200\n",
      "1/1 [==============================] - 0s 1ms/step - loss: 0.6447 - accuracy: 0.8696\n",
      "Epoch 86/200\n",
      "1/1 [==============================] - 0s 2ms/step - loss: 0.6011 - accuracy: 0.9565\n",
      "Epoch 87/200\n",
      "1/1 [==============================] - 0s 1ms/step - loss: 0.7223 - accuracy: 0.8696\n",
      "Epoch 88/200\n",
      "1/1 [==============================] - 0s 2ms/step - loss: 0.6741 - accuracy: 0.8696\n",
      "Epoch 89/200\n",
      "1/1 [==============================] - 0s 1ms/step - loss: 0.6028 - accuracy: 1.0000\n",
      "Epoch 90/200\n",
      "1/1 [==============================] - 0s 1ms/step - loss: 0.5175 - accuracy: 0.9565\n",
      "Epoch 91/200\n",
      "1/1 [==============================] - 0s 1ms/step - loss: 0.5076 - accuracy: 0.9565\n",
      "Epoch 92/200\n",
      "1/1 [==============================] - 0s 2ms/step - loss: 0.6087 - accuracy: 0.9130\n",
      "Epoch 93/200\n",
      "1/1 [==============================] - 0s 2ms/step - loss: 0.4798 - accuracy: 1.0000\n",
      "Epoch 94/200\n",
      "1/1 [==============================] - 0s 2ms/step - loss: 0.4343 - accuracy: 1.0000\n",
      "Epoch 95/200\n",
      "1/1 [==============================] - 0s 2ms/step - loss: 0.5566 - accuracy: 0.8696\n",
      "Epoch 96/200\n",
      "1/1 [==============================] - 0s 2ms/step - loss: 0.5122 - accuracy: 0.9130\n",
      "Epoch 97/200\n",
      "1/1 [==============================] - 0s 2ms/step - loss: 0.5309 - accuracy: 0.8696\n",
      "Epoch 98/200\n",
      "1/1 [==============================] - 0s 1ms/step - loss: 0.5902 - accuracy: 0.9130\n",
      "Epoch 99/200\n",
      "1/1 [==============================] - 0s 2ms/step - loss: 0.4322 - accuracy: 1.0000\n",
      "Epoch 100/200\n",
      "1/1 [==============================] - 0s 2ms/step - loss: 0.5340 - accuracy: 0.9565\n",
      "Epoch 101/200\n",
      "1/1 [==============================] - 0s 2ms/step - loss: 0.3709 - accuracy: 0.9565\n",
      "Epoch 102/200\n",
      "1/1 [==============================] - 0s 3ms/step - loss: 0.4255 - accuracy: 1.0000\n",
      "Epoch 103/200\n",
      "1/1 [==============================] - 0s 4ms/step - loss: 0.3812 - accuracy: 0.9565\n",
      "Epoch 104/200\n",
      "1/1 [==============================] - 0s 2ms/step - loss: 0.4240 - accuracy: 1.0000\n",
      "Epoch 105/200\n",
      "1/1 [==============================] - 0s 2ms/step - loss: 0.3698 - accuracy: 1.0000\n",
      "Epoch 106/200\n",
      "1/1 [==============================] - 0s 2ms/step - loss: 0.4003 - accuracy: 0.9565\n",
      "Epoch 107/200\n",
      "1/1 [==============================] - 0s 2ms/step - loss: 0.3473 - accuracy: 1.0000\n",
      "Epoch 108/200\n",
      "1/1 [==============================] - 0s 1ms/step - loss: 0.3739 - accuracy: 0.9565\n",
      "Epoch 109/200\n",
      "1/1 [==============================] - 0s 1ms/step - loss: 0.4145 - accuracy: 1.0000\n",
      "Epoch 110/200\n",
      "1/1 [==============================] - 0s 1ms/step - loss: 0.4114 - accuracy: 0.9565\n",
      "Epoch 111/200\n",
      "1/1 [==============================] - 0s 2ms/step - loss: 0.2749 - accuracy: 1.0000\n",
      "Epoch 112/200\n",
      "1/1 [==============================] - 0s 2ms/step - loss: 0.4015 - accuracy: 0.8261\n",
      "Epoch 113/200\n",
      "1/1 [==============================] - 0s 2ms/step - loss: 0.3183 - accuracy: 0.9565\n",
      "Epoch 114/200\n",
      "1/1 [==============================] - 0s 2ms/step - loss: 0.3641 - accuracy: 0.9565\n",
      "Epoch 115/200\n",
      "1/1 [==============================] - 0s 2ms/step - loss: 0.2937 - accuracy: 1.0000\n",
      "Epoch 116/200\n",
      "1/1 [==============================] - 0s 2ms/step - loss: 0.3720 - accuracy: 0.9565\n",
      "Epoch 117/200\n",
      "1/1 [==============================] - 0s 2ms/step - loss: 0.2902 - accuracy: 1.0000\n",
      "Epoch 118/200\n",
      "1/1 [==============================] - 0s 2ms/step - loss: 0.3964 - accuracy: 0.9565\n",
      "Epoch 119/200\n",
      "1/1 [==============================] - 0s 2ms/step - loss: 0.3760 - accuracy: 0.9130\n",
      "Epoch 120/200\n",
      "1/1 [==============================] - 0s 1ms/step - loss: 0.3168 - accuracy: 1.0000\n",
      "Epoch 121/200\n",
      "1/1 [==============================] - 0s 2ms/step - loss: 0.2857 - accuracy: 0.9130\n",
      "Epoch 122/200\n",
      "1/1 [==============================] - 0s 2ms/step - loss: 0.2904 - accuracy: 0.9565\n",
      "Epoch 123/200\n",
      "1/1 [==============================] - 0s 2ms/step - loss: 0.2493 - accuracy: 1.0000\n",
      "Epoch 124/200\n",
      "1/1 [==============================] - 0s 2ms/step - loss: 0.3514 - accuracy: 0.9565\n",
      "Epoch 125/200\n",
      "1/1 [==============================] - 0s 2ms/step - loss: 0.2752 - accuracy: 0.9565\n",
      "Epoch 126/200\n",
      "1/1 [==============================] - 0s 2ms/step - loss: 0.1716 - accuracy: 1.0000\n",
      "Epoch 127/200\n",
      "1/1 [==============================] - 0s 2ms/step - loss: 0.3545 - accuracy: 1.0000\n",
      "Epoch 128/200\n",
      "1/1 [==============================] - 0s 3ms/step - loss: 0.2519 - accuracy: 1.0000\n",
      "Epoch 129/200\n",
      "1/1 [==============================] - 0s 2ms/step - loss: 0.2616 - accuracy: 1.0000\n",
      "Epoch 130/200\n",
      "1/1 [==============================] - 0s 1ms/step - loss: 0.2327 - accuracy: 1.0000\n",
      "Epoch 131/200\n",
      "1/1 [==============================] - 0s 1ms/step - loss: 0.2320 - accuracy: 0.9565\n",
      "Epoch 132/200\n",
      "1/1 [==============================] - 0s 2ms/step - loss: 0.3128 - accuracy: 1.0000\n",
      "Epoch 133/200\n",
      "1/1 [==============================] - 0s 2ms/step - loss: 0.2296 - accuracy: 0.9565\n",
      "Epoch 134/200\n",
      "1/1 [==============================] - 0s 1ms/step - loss: 0.1969 - accuracy: 1.0000\n",
      "Epoch 135/200\n",
      "1/1 [==============================] - 0s 1ms/step - loss: 0.2455 - accuracy: 1.0000\n",
      "Epoch 136/200\n",
      "1/1 [==============================] - 0s 1ms/step - loss: 0.2002 - accuracy: 1.0000\n",
      "Epoch 137/200\n",
      "1/1 [==============================] - 0s 2ms/step - loss: 0.1432 - accuracy: 1.0000\n",
      "Epoch 138/200\n",
      "1/1 [==============================] - 0s 2ms/step - loss: 0.2271 - accuracy: 1.0000\n",
      "Epoch 139/200\n",
      "1/1 [==============================] - 0s 1ms/step - loss: 0.2082 - accuracy: 1.0000\n",
      "Epoch 140/200\n",
      "1/1 [==============================] - 0s 2ms/step - loss: 0.3298 - accuracy: 0.9130\n",
      "Epoch 141/200\n",
      "1/1 [==============================] - 0s 2ms/step - loss: 0.1906 - accuracy: 1.0000\n",
      "Epoch 142/200\n",
      "1/1 [==============================] - 0s 2ms/step - loss: 0.2841 - accuracy: 1.0000\n",
      "Epoch 143/200\n",
      "1/1 [==============================] - 0s 1ms/step - loss: 0.1693 - accuracy: 1.0000\n",
      "Epoch 144/200\n",
      "1/1 [==============================] - 0s 2ms/step - loss: 0.1380 - accuracy: 1.0000\n",
      "Epoch 145/200\n",
      "1/1 [==============================] - 0s 1ms/step - loss: 0.2903 - accuracy: 0.9130\n",
      "Epoch 146/200\n",
      "1/1 [==============================] - 0s 1ms/step - loss: 0.1700 - accuracy: 1.0000\n",
      "Epoch 147/200\n",
      "1/1 [==============================] - 0s 1ms/step - loss: 0.2209 - accuracy: 0.9565\n",
      "Epoch 148/200\n",
      "1/1 [==============================] - 0s 2ms/step - loss: 0.1559 - accuracy: 1.0000\n",
      "Epoch 149/200\n",
      "1/1 [==============================] - 0s 1ms/step - loss: 0.1774 - accuracy: 1.0000\n",
      "Epoch 150/200\n",
      "1/1 [==============================] - 0s 2ms/step - loss: 0.1547 - accuracy: 1.0000\n",
      "Epoch 151/200\n",
      "1/1 [==============================] - 0s 2ms/step - loss: 0.1964 - accuracy: 1.0000\n",
      "Epoch 152/200\n",
      "1/1 [==============================] - 0s 2ms/step - loss: 0.1633 - accuracy: 1.0000\n",
      "Epoch 153/200\n",
      "1/1 [==============================] - 0s 2ms/step - loss: 0.1462 - accuracy: 1.0000\n",
      "Epoch 154/200\n",
      "1/1 [==============================] - 0s 2ms/step - loss: 0.1062 - accuracy: 1.0000\n",
      "Epoch 155/200\n",
      "1/1 [==============================] - 0s 1ms/step - loss: 0.2353 - accuracy: 0.9565\n",
      "Epoch 156/200\n",
      "1/1 [==============================] - 0s 2ms/step - loss: 0.2436 - accuracy: 0.9565\n",
      "Epoch 157/200\n",
      "1/1 [==============================] - 0s 2ms/step - loss: 0.1222 - accuracy: 1.0000\n",
      "Epoch 158/200\n",
      "1/1 [==============================] - 0s 1ms/step - loss: 0.0793 - accuracy: 1.0000\n",
      "Epoch 159/200\n",
      "1/1 [==============================] - 0s 2ms/step - loss: 0.1853 - accuracy: 1.0000\n",
      "Epoch 160/200\n",
      "1/1 [==============================] - 0s 2ms/step - loss: 0.2529 - accuracy: 0.9565\n",
      "Epoch 161/200\n",
      "1/1 [==============================] - 0s 2ms/step - loss: 0.2170 - accuracy: 0.9565\n",
      "Epoch 162/200\n",
      "1/1 [==============================] - 0s 1ms/step - loss: 0.1809 - accuracy: 1.0000\n",
      "Epoch 163/200\n",
      "1/1 [==============================] - 0s 1ms/step - loss: 0.1804 - accuracy: 1.0000\n",
      "Epoch 164/200\n",
      "1/1 [==============================] - 0s 1ms/step - loss: 0.1327 - accuracy: 1.0000\n",
      "Epoch 165/200\n",
      "1/1 [==============================] - 0s 2ms/step - loss: 0.2578 - accuracy: 0.9565\n",
      "Epoch 166/200\n",
      "1/1 [==============================] - 0s 1ms/step - loss: 0.1413 - accuracy: 1.0000\n",
      "Epoch 167/200\n",
      "1/1 [==============================] - 0s 1ms/step - loss: 0.1228 - accuracy: 1.0000\n",
      "Epoch 168/200\n",
      "1/1 [==============================] - 0s 3ms/step - loss: 0.1657 - accuracy: 1.0000\n",
      "Epoch 169/200\n",
      "1/1 [==============================] - 0s 2ms/step - loss: 0.1053 - accuracy: 1.0000\n",
      "Epoch 170/200\n",
      "1/1 [==============================] - 0s 2ms/step - loss: 0.1310 - accuracy: 0.9565\n",
      "Epoch 171/200\n",
      "1/1 [==============================] - 0s 2ms/step - loss: 0.2198 - accuracy: 0.9565\n",
      "Epoch 172/200\n",
      "1/1 [==============================] - 0s 3ms/step - loss: 0.1227 - accuracy: 1.0000\n",
      "Epoch 173/200\n",
      "1/1 [==============================] - 0s 3ms/step - loss: 0.0896 - accuracy: 1.0000\n",
      "Epoch 174/200\n",
      "1/1 [==============================] - 0s 4ms/step - loss: 0.1165 - accuracy: 0.9565\n",
      "Epoch 175/200\n",
      "1/1 [==============================] - 0s 3ms/step - loss: 0.1760 - accuracy: 0.9565\n",
      "Epoch 176/200\n",
      "1/1 [==============================] - 0s 4ms/step - loss: 0.1346 - accuracy: 1.0000\n",
      "Epoch 177/200\n",
      "1/1 [==============================] - 0s 2ms/step - loss: 0.1412 - accuracy: 1.0000\n",
      "Epoch 178/200\n",
      "1/1 [==============================] - 0s 2ms/step - loss: 0.0936 - accuracy: 1.0000\n",
      "Epoch 179/200\n",
      "1/1 [==============================] - 0s 2ms/step - loss: 0.0835 - accuracy: 1.0000\n",
      "Epoch 180/200\n",
      "1/1 [==============================] - 0s 2ms/step - loss: 0.0791 - accuracy: 1.0000\n",
      "Epoch 181/200\n",
      "1/1 [==============================] - 0s 2ms/step - loss: 0.1869 - accuracy: 1.0000\n",
      "Epoch 182/200\n",
      "1/1 [==============================] - 0s 1ms/step - loss: 0.1009 - accuracy: 1.0000\n",
      "Epoch 183/200\n",
      "1/1 [==============================] - 0s 1ms/step - loss: 0.1278 - accuracy: 1.0000\n",
      "Epoch 184/200\n",
      "1/1 [==============================] - 0s 1ms/step - loss: 0.1358 - accuracy: 1.0000\n",
      "Epoch 185/200\n",
      "1/1 [==============================] - 0s 1ms/step - loss: 0.0980 - accuracy: 1.0000\n",
      "Epoch 186/200\n",
      "1/1 [==============================] - 0s 2ms/step - loss: 0.1686 - accuracy: 0.9565\n",
      "Epoch 187/200\n",
      "1/1 [==============================] - 0s 1ms/step - loss: 0.2242 - accuracy: 0.9565\n",
      "Epoch 188/200\n",
      "1/1 [==============================] - 0s 1ms/step - loss: 0.1211 - accuracy: 0.9565\n",
      "Epoch 189/200\n",
      "1/1 [==============================] - 0s 2ms/step - loss: 0.0472 - accuracy: 1.0000\n",
      "Epoch 190/200\n",
      "1/1 [==============================] - 0s 2ms/step - loss: 0.1490 - accuracy: 0.9565\n",
      "Epoch 191/200\n",
      "1/1 [==============================] - 0s 2ms/step - loss: 0.1382 - accuracy: 0.9565\n",
      "Epoch 192/200\n",
      "1/1 [==============================] - 0s 2ms/step - loss: 0.0835 - accuracy: 1.0000\n",
      "Epoch 193/200\n",
      "1/1 [==============================] - 0s 2ms/step - loss: 0.1028 - accuracy: 1.0000\n",
      "Epoch 194/200\n",
      "1/1 [==============================] - 0s 1ms/step - loss: 0.0443 - accuracy: 1.0000\n",
      "Epoch 195/200\n",
      "1/1 [==============================] - 0s 2ms/step - loss: 0.1240 - accuracy: 1.0000\n",
      "Epoch 196/200\n",
      "1/1 [==============================] - 0s 2ms/step - loss: 0.1136 - accuracy: 1.0000\n",
      "Epoch 197/200\n",
      "1/1 [==============================] - 0s 2ms/step - loss: 0.0476 - accuracy: 1.0000\n",
      "Epoch 198/200\n",
      "1/1 [==============================] - 0s 1ms/step - loss: 0.1507 - accuracy: 0.9565\n",
      "Epoch 199/200\n",
      "1/1 [==============================] - 0s 1ms/step - loss: 0.0695 - accuracy: 1.0000\n",
      "Epoch 200/200\n",
      "1/1 [==============================] - 0s 2ms/step - loss: 0.1167 - accuracy: 1.0000\n"
     ]
    }
   ],
   "source": [
    "hist = model.fit(x=train_X, y=train_y, epochs=200)"
   ]
  },
  {
   "cell_type": "code",
   "execution_count": 16,
   "metadata": {
    "id": "Pb1GZDjGRP6Q"
   },
   "outputs": [
    {
     "data": {
      "image/png": "[encoded data removed]",
      "text/plain": [
       "<Figure size 640x480 with 1 Axes>"
      ]
     },
     "metadata": {},
     "output_type": "display_data"
    }
   ],
   "source": [
    "import matplotlib.pyplot as plt\n",
    "import seaborn as sns\n",
    "\n",
    "# Entrenamiento\n",
    "epoch_count = range(1, len(hist.history['accuracy']) + 1)\n",
    "sns.lineplot(x=epoch_count,  y=hist.history['accuracy'], label='train')\n",
    "plt.show()"
   ]
  },
  {
   "cell_type": "code",
   "execution_count": 17,
   "metadata": {
    "id": "eTVDnrV0mDRf"
   },
   "outputs": [],
   "source": [
    "# Guardar lo necesario para poder re-utilizar este modelo en el futuro\n",
    "# el vocabulario utilizado (words)\n",
    "# las posibles clases\n",
    "# el modelo\n",
    "import pickle\n",
    "pickle.dump(words, open('words.pkl','wb'))\n",
    "pickle.dump(classes, open('classes.pkl','wb'))\n",
    "model.save('chatbot_model.h5')"
   ]
  },
  {
   "cell_type": "markdown",
   "metadata": {
    "id": "TnD1WvhBfVYR"
   },
   "source": [
    "### 6 - Testing y validación"
   ]
  },
  {
   "cell_type": "code",
   "execution_count": 20,
   "metadata": {
    "id": "kqBdSGt8Orkm"
   },
   "outputs": [],
   "source": [
    "# convertir texto de entrada del usuario a tokens\n",
    "def text_to_tokens(text):\n",
    "    lemma_tokens = []\n",
    "    tokens = nltk.word_tokenize(text.lower())\n",
    "    for token in tokens:\n",
    "        lemma_tokens.append(lemmatizer.lemmatize(token))\n",
    "    #print(lemma_tokens)\n",
    "    return lemma_tokens\n",
    "\n",
    "# transformar el texto de entrada tokenizado a una representación OHE\n",
    "def bag_of_words(text, vocab): \n",
    "    tokens = text_to_tokens(text)\n",
    "    bow = [0] * len(vocab)\n",
    "    for w in tokens: \n",
    "        for idx, word in enumerate(vocab):\n",
    "            if word == w: \n",
    "                bow[idx] = 1\n",
    "    #print(bow)\n",
    "    return np.array(bow)\n",
    "\n",
    "# usar modelo con la entrada en OHE y los labels posibles (tags)\n",
    "def pred_class(text, vocab, labels): \n",
    "    bow = bag_of_words(text, vocab)\n",
    "    words_recognized = sum(bow)\n",
    "\n",
    "    return_list = []\n",
    "    if words_recognized > 0: # sólo si reconoció alguna palabra del vocabulario\n",
    "        result = model.predict(np.array([bow]))[0] # es un array de softmax\n",
    "        thresh = 0.2\n",
    "        # filtrar aquellas entradas menores al umbral `thresh`\n",
    "        y_pred = [[idx, res] for idx, res in enumerate(result) if res > thresh]\n",
    "        # ordenar keys de acuerdo al valor softmax\n",
    "        y_pred.sort(key=lambda x: x[1], reverse=True)\n",
    "    \n",
    "        # return_list es una lista de los labels de mayor a menor\n",
    "        for r in y_pred:\n",
    "            return_list.append(labels[r[0]])\n",
    "            #print(labels[r[0]], r[1])\n",
    "\n",
    "    # si no reconoció palabras del vocabulario se devuelve una lista vacía\n",
    "    return return_list\n",
    "\n",
    "# obtener una respuesta predeterminada \n",
    "def get_response(intents_list, intents_json):\n",
    "    tag = intents_list[0] # tomar el tag con el mejor valor softmax\n",
    "    list_of_intents = intents_json[\"intents\"] # intents_json es todo el dataset\n",
    "    for i in list_of_intents: \n",
    "        if i[\"tag\"] == tag: # buscar el tag correspoindiente y dar una respuesta predeterminada aleatoria \n",
    "            result = random.choice(i[\"responses\"])\n",
    "            break\n",
    "    return result"
   ]
  },
  {
   "cell_type": "code",
   "execution_count": 24,
   "metadata": {},
   "outputs": [
    {
     "name": "stderr",
     "output_type": "stream",
     "text": [
      "/Users/marcosb/opt/miniconda3/envs/nlp_tensor/lib/python3.10/site-packages/gradio/deprecation.py:40: UserWarning: `layout` parameter is deprecated, and it has no effect\n",
      "  warnings.warn(value)\n"
     ]
    },
    {
     "name": "stdout",
     "output_type": "stream",
     "text": [
      "Running on local URL:  http://127.0.0.1:7860\n",
      "\n",
      "To create a public link, set `share=True` in `launch()`.\n"
     ]
    },
    {
     "data": {
      "text/html": [
       "<div><iframe src=\"http://127.0.0.1:7860/\" width=\"100%\" height=\"500\" allow=\"autoplay; camera; microphone; clipboard-read; clipboard-write;\" frameborder=\"0\" allowfullscreen></iframe></div>"
      ],
      "text/plain": [
       "<IPython.core.display.HTML object>"
      ]
     },
     "metadata": {},
     "output_type": "display_data"
    },
    {
     "name": "stdout",
     "output_type": "stream",
     "text": [
      "Q: Lights on\n",
      "1/1 [==============================] - 0s 15ms/step\n",
      "A: Turning on bedroom light.\n",
      "Q: Lights off\n",
      "1/1 [==============================] - 0s 16ms/step\n",
      "A: Turning off bedroom light.\n",
      "Q: Music on\n",
      "1/1 [==============================] - 0s 14ms/step\n",
      "A: Turning on bedroom light.\n",
      "Q: weather\n",
      "1/1 [==============================] - 0s 15ms/step\n",
      "A: This is the weather forecast for today: \n",
      " 24°C Cloudy\n",
      "Q: Tell me the weather please\n",
      "1/1 [==============================] - 0s 15ms/step\n",
      "A: This is the weather forecast for today: \n",
      " 24°C Cloudy\n",
      "Q: What will the weather be like?\n",
      "1/1 [==============================] - 0s 15ms/step\n",
      "A: This is the weather forecast for today: \n",
      " 24°C Cloudy\n",
      "Q: stop the music\n",
      "1/1 [==============================] - 0s 15ms/step\n",
      "A: Stoping the music\n",
      "Q: Shut down the music\n",
      "1/1 [==============================] - 0s 15ms/step\n",
      "A: Stoping the music\n",
      "Q: Turn the music off\n",
      "1/1 [==============================] - 0s 15ms/step\n",
      "A: Stoping the music\n",
      "Q: Volume down\n",
      "1/1 [==============================] - 0s 15ms/step\n",
      "A: Stoping the music\n",
      "Q: Volume\n",
      "1/1 [==============================] - 0s 16ms/step\n",
      "A: Stoping the music\n",
      "Q: lights\n",
      "1/1 [==============================] - 0s 15ms/step\n",
      "A: Turning on bedroom light.\n",
      "Keyboard interruption in main thread... closing server.\n"
     ]
    },
    {
     "data": {
      "text/plain": []
     },
     "execution_count": 24,
     "metadata": {},
     "output_type": "execute_result"
    }
   ],
   "source": [
    "import gradio as gr\n",
    "\n",
    "def bot_response(human_text):\n",
    "    print(\"Q:\", human_text)    \n",
    "    intents = pred_class(human_text, words, classes)\n",
    "    if len(intents) > 0:\n",
    "        resp = get_response(intents, dataset)\n",
    "    else: # si no hubo ningún resultado que supere el umbral\n",
    "        resp = \"Sorry, I didn't understand the question\"\n",
    "    print(\"A:\", resp)\n",
    "    return resp\n",
    "\n",
    "iface = gr.Interface(\n",
    "    fn=bot_response,\n",
    "    inputs=[\"textbox\"],\n",
    "    outputs=\"text\",\n",
    "    layout=\"vertical\")\n",
    "\n",
    "iface.launch(debug=True)"
   ]
  },
  {
   "attachments": {},
   "cell_type": "markdown",
   "metadata": {},
   "source": [
    "## Conclusiones:\n",
    "\n",
    "- El modelo actual no toma palabras clave y por eso confunde intenciones. Un ejemplo es Q: \"Lights up\" y el bot detecta la intención \"greeting\" (dado que contiene la frase \"Whats up\"). Debería descartar la intención \"greeting\" dado que la palabra clave en ese ejemplo es \"lights\". Esto probablemente funcionaría mejor si se usa TF-IDF en lugar de bag of words. \n",
    "- Algo similar ocurre cuando Q: \"Music on\", donde el bot identifica la intención de prender las luces. Esto se debe a que en el dataset de entrenamiento, hay más casos de ejemplo usando \"on\" para las luces, en lugar de para la música.\n",
    "- Algunas mejoras que se podrían hacer:\n",
    "    - Crear 2 redes independientes que permitan identificar de forma separada la acción y el objetivo. Esto es útil ya que la acción \"encender\" se puede decir de varias formas (\"turn on\", \"start\", etc) y se puede aplicar a distintos targets (\"lights\", \"music\", etc). Teniendo 2 redes, una para acciones y otra para objectivos, podríamos mejorar el entrenamiento y rendimiento general de nuestro bot.\n",
    "    - Que descarte una intención si no hay suficiente información para entender que acción quiere hacer el usuario. Por ejemplo -> Q: \"lights\" devuelve R: \"Turning on the bedroom light\", y no debería ya que no especifqué el objetivo. Esto se podría hacer con la propuesta de 2 redes que mencioné en el punto de arriba y agregando un threshold para eliminar las salidas de la red que sean menor a un cierto intervalo de confianza (e.g. si la red tiene un 30% de que cree que es \"lights\" el objetivo, descartarlo y no hacer nada). \n",
    "    - Hacer que el bot pueda identificar cuartos para aplicar la acción (e.j. acción: encender la luz ; lugar: cuarto, living, cocina, etc...)\n"
   ]
  }
 ],
 "metadata": {
  "colab": {
   "authorship_tag": "ABX9TyPZeXqdm2EV/WEA+xr24OAL",
   "collapsed_sections": [],
   "name": "2b - bot_dnn_spacy_esp.ipynb",
   "provenance": []
  },
  "kernelspec": {
   "display_name": "Python 3",
   "language": "python",
   "name": "python3"
  },
  "language_info": {
   "codemirror_mode": {
    "name": "ipython",
    "version": 3
   },
   "file_extension": ".py",
   "mimetype": "text/x-python",
   "name": "python",
   "nbconvert_exporter": "python",
   "pygments_lexer": "ipython3",
   "version": "3.10.9"
  }
 },
 "nbformat": 4,
 "nbformat_minor": 4
}
