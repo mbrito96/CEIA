{
  "cells": [
    {
      "cell_type": "markdown",
      "metadata": {
        "id": "kBLpTr7plguX"
      },
      "source": [
        "<img src=\"https://github.com/hernancontigiani/ceia_memorias_especializacion/raw/master/Figures/logoFIUBA.jpg\" width=\"500\" align=\"center\">\n",
        "\n",
        "\n",
        "# Procesamiento de lenguaje natural\n",
        "## Sentiment analysis con Embeddings + LSTM"
      ]
    },
    {
      "cell_type": "markdown",
      "metadata": {
        "id": "9W6nuajhlqZD"
      },
      "source": [
        "### Objetivo\n",
        "El objetivo es utilizar las críticas de compradores de ropa para que el sistema determine la evaluación del comprador y su crítica (cuantas estrellas le asigna al producto)."
      ]
    },
    {
      "cell_type": "code",
      "execution_count": 19,
      "metadata": {
        "id": "i6zvzv3qZ6xS"
      },
      "outputs": [],
      "source": [
        "!pip install --upgrade --no-cache-dir gdown --quiet"
      ]
    },
    {
      "cell_type": "code",
      "execution_count": 20,
      "metadata": {
        "id": "hCpOVzJdl8_p"
      },
      "outputs": [],
      "source": [
        "import numpy as np\n",
        "import random\n",
        "import io\n",
        "import pickle\n",
        "import pandas as pd\n",
        "\n",
        "import matplotlib.pyplot as plt\n",
        "import seaborn as sns\n",
        "\n",
        "import tensorflow as tf\n",
        "from tensorflow import keras\n",
        "from tensorflow.keras import layers\n",
        "\n",
        "from keras.utils.np_utils import to_categorical\n",
        "from tensorflow.keras.utils import pad_sequences\n",
        "from keras.models import Sequential\n",
        "from keras.layers import Dense\n",
        "from keras.layers import LSTM\n",
        "from keras.layers import Embedding"
      ]
    },
    {
      "cell_type": "code",
      "execution_count": 21,
      "metadata": {
        "id": "oflIZcYKQKxp"
      },
      "outputs": [],
      "source": [
        "from sklearn.metrics import roc_curve\n",
        "from sklearn.metrics import auc\n",
        "\n",
        "def curva_roc(model, X_test, y_test):\n",
        "    y_hat_prob = model.predict(X_test).ravel()\n",
        "\n",
        "    # Calcular la exactitud (accuracy)\n",
        "    scores = model.evaluate(X_test, y_test)\n",
        "    print(\"Accuracy:\", scores[1])\n",
        "\n",
        "    fpr, tpr, thresholds = roc_curve(y_test, y_hat_prob)\n",
        "    auc_keras = auc(fpr, tpr)\n",
        "    print('auc_keras', auc_keras)\n",
        "\n",
        "    plt.figure(1)\n",
        "    plt.plot([0, 1], [0, 1], 'k--')\n",
        "    plt.plot(fpr, tpr, label='Keras (area = {:.3f})'.format(auc_keras))\n",
        "    plt.xlabel('False positive rate')\n",
        "    plt.ylabel('True positive rate')\n",
        "    plt.title('Curva ROC test')\n",
        "    plt.legend(loc='best')\n",
        "    plt.show()"
      ]
    },
    {
      "cell_type": "markdown",
      "metadata": {
        "id": "8UPeRkrAmbF3"
      },
      "source": [
        "### Datos\n",
        "Utilizaremos como dataset críticas de compradores de ropa (eCommerce) los cuales puntuaron a cada prenda con un puntaje de 1 a 5 estrellas.\\\n",
        "Referencia del dataset: [LINK](https://www.kaggle.com/nicapotato/womens-ecommerce-clothing-reviews/version/1)"
      ]
    },
    {
      "cell_type": "code",
      "execution_count": 22,
      "metadata": {
        "id": "C7jLvTU3lSyL"
      },
      "outputs": [],
      "source": [
        "# Descargar la carpeta de dataset\n",
        "import os\n",
        "import gdown\n",
        "if os.access('clothing_ecommerce_reviews.csv', os.F_OK) is False:\n",
        "    url = 'https://drive.google.com/uc?id=1Urn1UFSrodN5BuW6-sc_igtaySGRwhV8'\n",
        "    output = 'clothing_ecommerce_reviews.csv'\n",
        "    gdown.download(url, output, quiet=False)"
      ]
    },
    {
      "cell_type": "code",
      "execution_count": 23,
      "metadata": {
        "id": "o-SV1P3dnD1J"
      },
      "outputs": [],
      "source": [
        "# Armar el dataset\n",
        "df = pd.read_csv('clothing_ecommerce_reviews.csv')"
      ]
    },
    {
      "cell_type": "markdown",
      "metadata": {
        "id": "q-OwSePKm-FK"
      },
      "source": [
        "### 1 - Limpieza de datos\n",
        "Alumno:\n",
        "- Del dataset unicamente utilizar las columnas \"Review Text\" y \"Rating.\n",
        "- Tranformar el rating 1-5 a una escala numérica de 0 a 4.\n",
        "\n"
      ]
    },
    {
      "cell_type": "code",
      "execution_count": 24,
      "metadata": {
        "colab": {
          "base_uri": "https://localhost:8080/"
        },
        "id": "-hc7-AmYnPC3",
        "outputId": "12b22e5f-4ad5-4dc8-8e79-d52d2ed1c436"
      },
      "outputs": [
        {
          "output_type": "stream",
          "name": "stdout",
          "text": [
            "Total number of reviews:  22641\n",
            "                                             reviews  rating\n",
            "0  Absolutely wonderful - silky and sexy and comf...       3\n",
            "1  Love this dress!  it's sooo pretty.  i happene...       4\n",
            "2  I had such high hopes for this dress and reall...       2\n",
            "3  I love, love, love this jumpsuit. it's fun, fl...       4\n",
            "4  This shirt is very flattering to all due to th...       4\n"
          ]
        }
      ],
      "source": [
        "try:\n",
        "    df_reviews = df.loc[:, ['Review Text', 'Rating']].dropna()\n",
        "    df.drop(columns = ['Unnamed: 0'], inplace = True)\n",
        "    df_reviews['Rating'] = df_reviews['Rating'] - 1\n",
        "    df_reviews.rename(columns = {'Review Text': 'reviews', 'Rating': 'rating'}, inplace = True)\n",
        "except:\n",
        "    pass\n",
        "\n",
        "print('Total number of reviews: ', df_reviews.shape[0])\n",
        "print(df_reviews.head())"
      ]
    },
    {
      "cell_type": "code",
      "execution_count": 25,
      "metadata": {
        "colab": {
          "base_uri": "https://localhost:8080/",
          "height": 333
        },
        "id": "sZtvASVOn3ty",
        "outputId": "1f178505-8012-460e-880c-5d10fdfaf158"
      },
      "outputs": [
        {
          "output_type": "display_data",
          "data": {
            "text/plain": [
              "<Figure size 1200x300 with 1 Axes>"
            ],
            "image/png": "[encoded data removed]"
          },
          "metadata": {}
        }
      ],
      "source": [
        "# Alumno: Observar como está distribuido el dataset respecto a la columna Rating\n",
        "# es decir, observar que tan balanceado se encuentra respecot a cada clase\n",
        "\n",
        "# Plot the distribution of each class\n",
        "plt.figure(figsize=(12,3))\n",
        "sns.countplot(x='rating', data=df_reviews)\n",
        "plt.title('Distribution of Rating')\n",
        "plt.show()"
      ]
    },
    {
      "cell_type": "code",
      "execution_count": 26,
      "metadata": {
        "id": "gVJ_RVi4o1h3"
      },
      "outputs": [],
      "source": [
        "# Alumno: tomar la columna de las review y almacenarlo todo en un vector numpy de reviews\n",
        "text_sequences = df_reviews['reviews'].values"
      ]
    },
    {
      "cell_type": "code",
      "execution_count": 27,
      "metadata": {
        "colab": {
          "base_uri": "https://localhost:8080/"
        },
        "id": "4nT5Un_co65Q",
        "outputId": "8a7c8f1f-fd7b-44ab-e32d-2e36c757724b"
      },
      "outputs": [
        {
          "output_type": "execute_result",
          "data": {
            "text/plain": [
              "22641"
            ]
          },
          "metadata": {},
          "execution_count": 27
        }
      ],
      "source": [
        "# Alumno: Cuantas reviews (rows) hay para evaluar?\n",
        "len(text_sequences)"
      ]
    },
    {
      "cell_type": "code",
      "execution_count": 28,
      "metadata": {
        "id": "HP5uN9tqpHu_"
      },
      "outputs": [],
      "source": [
        "# Alumno: Concatenar todas las reviews para armar el corpus\n",
        "corpus = ' '.join(text_sequences)"
      ]
    },
    {
      "cell_type": "code",
      "execution_count": 29,
      "metadata": {
        "colab": {
          "base_uri": "https://localhost:8080/"
        },
        "id": "FEzmePgdpf74",
        "outputId": "95d588f6-17bb-469c-c3b7-2af76eefe1e9"
      },
      "outputs": [
        {
          "output_type": "execute_result",
          "data": {
            "text/plain": [
              "7011643"
            ]
          },
          "metadata": {},
          "execution_count": 29
        }
      ],
      "source": [
        "# Alumno: ¿Cuál es la longitud de ese corpus?\n",
        "len(corpus)"
      ]
    },
    {
      "cell_type": "code",
      "execution_count": 30,
      "metadata": {
        "id": "MYeJLdDmpvOe"
      },
      "outputs": [],
      "source": [
        "# Alumno: Utilizar \"text_to_word_sequence\" para separar las palabras en tokens\n",
        "# recordar que text_to_word_sequence automaticamente quita los signos de puntuacion y pasa el texto a lowercase\n",
        "from keras.preprocessing.text import text_to_word_sequence\n",
        "tokens = text_to_word_sequence(corpus)"
      ]
    },
    {
      "cell_type": "code",
      "execution_count": 31,
      "metadata": {
        "colab": {
          "base_uri": "https://localhost:8080/"
        },
        "id": "M6L-fnWAp_lA",
        "outputId": "9cd3d1df-f60b-42d5-b338-69a5b7aeb9b8"
      },
      "outputs": [
        {
          "output_type": "execute_result",
          "data": {
            "text/plain": [
              "['absolutely',\n",
              " 'wonderful',\n",
              " 'silky',\n",
              " 'and',\n",
              " 'sexy',\n",
              " 'and',\n",
              " 'comfortable',\n",
              " 'love',\n",
              " 'this',\n",
              " 'dress',\n",
              " \"it's\",\n",
              " 'sooo',\n",
              " 'pretty',\n",
              " 'i',\n",
              " 'happened',\n",
              " 'to',\n",
              " 'find',\n",
              " 'it',\n",
              " 'in',\n",
              " 'a']"
            ]
          },
          "metadata": {},
          "execution_count": 31
        }
      ],
      "source": [
        "# Alumno: Dar un vistazo a los primeros 20 tokens/palabras\n",
        "tokens[:20]"
      ]
    },
    {
      "cell_type": "code",
      "execution_count": 32,
      "metadata": {
        "colab": {
          "base_uri": "https://localhost:8080/"
        },
        "id": "-8QgwwMUqG0d",
        "outputId": "9a706f60-d964-4271-c333-516c0e92f0db"
      },
      "outputs": [
        {
          "output_type": "execute_result",
          "data": {
            "text/plain": [
              "1372203"
            ]
          },
          "metadata": {},
          "execution_count": 32
        }
      ],
      "source": [
        "# Alumno: ¿Cuántos tokens/palabras hay?\n",
        "len(tokens)"
      ]
    },
    {
      "cell_type": "markdown",
      "metadata": {
        "id": "9G_55yYxQKxt"
      },
      "source": [
        "### Tokenizar las palabras"
      ]
    },
    {
      "cell_type": "code",
      "execution_count": 33,
      "metadata": {
        "id": "TFukNZdOsZ8_"
      },
      "outputs": [],
      "source": [
        "# Alumno: Tokenizar las palabras con el Tokenizer de Keras\n",
        "# Definir una máxima cantidad de palabras a utilizar:\n",
        "# num_words --> the maximum number of words to keep, based on word frequency.\n",
        "# Only the most common num_words-1 words will be kept.\n",
        "from keras.preprocessing.text import Tokenizer\n",
        "num_words = 2000\n",
        "vocab_size = num_words\n",
        "tok = Tokenizer(num_words=2000)\n",
        "tok.fit_on_texts(tokens)"
      ]
    },
    {
      "cell_type": "code",
      "execution_count": 34,
      "metadata": {
        "colab": {
          "base_uri": "https://localhost:8080/"
        },
        "id": "JnR1tlqZy94X",
        "outputId": "b74e0a71-4ac3-45f8-dab6-59d3c4c56bc3"
      },
      "outputs": [
        {
          "output_type": "execute_result",
          "data": {
            "text/plain": [
              "14847"
            ]
          },
          "metadata": {},
          "execution_count": 34
        }
      ],
      "source": [
        "# Alumno: Obtener el diccionario de palabra (word) a índice\n",
        "# y observar la cantidad total del vocabulario\n",
        "word_index = tok.word_index\n",
        "len(word_index)"
      ]
    },
    {
      "cell_type": "code",
      "execution_count": 35,
      "metadata": {
        "colab": {
          "base_uri": "https://localhost:8080/"
        },
        "id": "AvWzzSretQXf",
        "outputId": "ba2f79f7-c14c-4095-c602-e559a6a542fe"
      },
      "outputs": [
        {
          "output_type": "stream",
          "name": "stdout",
          "text": [
            "[[253, 532, 917, 3, 662, 3, 68]]\n",
            "['Absolutely wonderful - silky and sexy and comfortable']\n"
          ]
        }
      ],
      "source": [
        "# Alumno: Convertir las palabras/tokens a números\n",
        "sequences = tok.texts_to_sequences(text_sequences)\n",
        "print(sequences[:1])\n",
        "print(text_sequences[:1])"
      ]
    },
    {
      "cell_type": "code",
      "execution_count": 36,
      "metadata": {
        "colab": {
          "base_uri": "https://localhost:8080/",
          "height": 471
        },
        "id": "sJCSK9opQKxt",
        "outputId": "be81f6f3-ca2d-4f10-fdc9-79d90b2b522d"
      },
      "outputs": [
        {
          "output_type": "stream",
          "name": "stdout",
          "text": [
            "Max length: 115\n"
          ]
        },
        {
          "output_type": "display_data",
          "data": {
            "text/plain": [
              "<Figure size 640x480 with 1 Axes>"
            ],
            "image/png": "[encoded data removed]"
          },
          "metadata": {}
        }
      ],
      "source": [
        "# Alumno: Determinar cual es la oración más larga\n",
        "maxlen = max(len(s) for s in sequences)\n",
        "print(f'Max length: {maxlen}')\n",
        "\n",
        "# Podríamos optimizar el largo de la sentencia a analizar basandonos en la distribución\n",
        "# de la cantidad de palabras por review. Sin embargo, por ahora vamos a tomar la máxima\n",
        "len_vector = []\n",
        "for i in sequences:\n",
        "    len_vector.append(len(i))\n",
        "sns.histplot(len_vector, bins=50)\n",
        "plt.title('Distribución de la cantidad de palabras (tokenizadas) por review')\n",
        "plt.show()"
      ]
    },
    {
      "cell_type": "code",
      "execution_count": 37,
      "metadata": {
        "colab": {
          "base_uri": "https://localhost:8080/"
        },
        "id": "oCkO9Wc9tls1",
        "outputId": "1cdeaf92-be85-4a3d-9bb5-11598382bfd9"
      },
      "outputs": [
        {
          "output_type": "execute_result",
          "data": {
            "text/plain": [
              "(22641, 115)"
            ]
          },
          "metadata": {},
          "execution_count": 37
        }
      ],
      "source": [
        "# Alumno: Realizar padding de las sentencias al mismo tamaño\n",
        "# tomando de referencia la máxima sentencia\n",
        "from tensorflow.keras.utils import pad_sequences\n",
        "from tensorflow.keras.utils import pad_sequences\n",
        "\n",
        "# Al realizar padding obtener la variable \"X\" (input)\n",
        "X = pad_sequences(sequences, padding='pre', maxlen=maxlen)\n",
        "# Alumno: Observar las dimensiones de la variable input\n",
        "X.shape\n"
      ]
    },
    {
      "cell_type": "code",
      "execution_count": 38,
      "metadata": {
        "colab": {
          "base_uri": "https://localhost:8080/"
        },
        "id": "llVM-tzQo9_F",
        "outputId": "0b9784e9-4b0e-4501-e16d-a6eef303d0ce"
      },
      "outputs": [
        {
          "output_type": "stream",
          "name": "stdout",
          "text": [
            "Cantidad de clases: 5\n",
            "[[0. 0. 0. 1. 0.]\n",
            " [0. 0. 0. 0. 1.]\n",
            " [0. 0. 1. 0. 0.]\n",
            " ...\n",
            " [0. 0. 1. 0. 0.]\n",
            " [0. 0. 1. 0. 0.]\n",
            " [0. 0. 0. 0. 1.]]\n",
            "(22641, 5)\n"
          ]
        }
      ],
      "source": [
        "# Alumno tomar la columna rating y alcemacenarla en una variable \"y\" transformada a oneHotEncoding\n",
        "# Su shape debe ser equivalente la cantidad de rows del corpus y a la cantidad\n",
        "# de clases que se deseen predecir (en este ejemplo son 5)\n",
        "y = df_reviews['rating'].values\n",
        "\n",
        "# convert y into one-hot format\n",
        "n_classes = df_reviews['rating'].unique().shape[0]\n",
        "print(f'Cantidad de clases: {n_classes}')\n",
        "y = to_categorical(y, num_classes=n_classes)\n",
        "print(y)\n",
        "print(y.shape)"
      ]
    },
    {
      "cell_type": "markdown",
      "metadata": {
        "id": "isHoEhepQKxu"
      },
      "source": [
        "### Separacion test-train"
      ]
    },
    {
      "cell_type": "code",
      "execution_count": 39,
      "metadata": {
        "id": "vAMVMMEwQKxu"
      },
      "outputs": [],
      "source": [
        "def plot_class_percentage(ohe_array, text):\n",
        "    data= pd.DataFrame(ohe_array)\n",
        "    data = data.apply(pd.value_counts)\n",
        "    data = data.iloc[1, :]\n",
        "    # print(data)\n",
        "    plt.title('Class Distribution: ' + text)\n",
        "    palette_color = sns.color_palette('bright')\n",
        "    plt.pie(data, labels=data.index, colors=palette_color, autopct='%.0f%%')"
      ]
    },
    {
      "cell_type": "code",
      "execution_count": 40,
      "metadata": {
        "colab": {
          "base_uri": "https://localhost:8080/",
          "height": 302
        },
        "id": "Rmz9A6n4uK4V",
        "outputId": "8f60808a-bff9-4f1a-fa33-15a4f606b71d"
      },
      "outputs": [
        {
          "output_type": "stream",
          "name": "stdout",
          "text": [
            "X_train: (18112, 115)\n"
          ]
        },
        {
          "output_type": "display_data",
          "data": {
            "text/plain": [
              "<Figure size 640x480 with 2 Axes>"
            ],
            "image/png": "[encoded data removed]"
          },
          "metadata": {}
        }
      ],
      "source": [
        "# Alumno: Dividir los datos en train y test\n",
        "from sklearn.model_selection import train_test_split\n",
        "X_train, X_test, y_train, y_test = train_test_split(X, y, test_size=0.2, random_state=42, stratify=y)\n",
        "print(f\"X_train: {X_train.shape}\")\n",
        "plt.subplot(1, 2, 1)\n",
        "plot_class_percentage(y_train, f'y_train {y_train.shape}')\n",
        "plt.subplot(1, 2, 2)\n",
        "plot_class_percentage(y_test, f'y_test {y_test.shape}')\n",
        "plt.show()\n",
        "# Podemos ver que la proporción de clases se mantiene en train y test, pero es muy desbalanceada\n"
      ]
    },
    {
      "cell_type": "markdown",
      "metadata": {
        "id": "V7XqoQC0QKxu"
      },
      "source": [
        "#### Oversampling"
      ]
    },
    {
      "cell_type": "code",
      "execution_count": 41,
      "metadata": {
        "colab": {
          "base_uri": "https://localhost:8080/",
          "height": 428
        },
        "id": "U5PTf7FRQKxu",
        "outputId": "8318a30c-56d3-48cb-a691-1eb3fc6ade93"
      },
      "outputs": [
        {
          "output_type": "display_data",
          "data": {
            "text/plain": [
              "<Figure size 640x480 with 1 Axes>"
            ],
            "image/png": "[encoded data removed]"
          },
          "metadata": {}
        }
      ],
      "source": [
        "# Hacemos oversampling para tener una muestra balanceada (solo en set de train)\n",
        "from imblearn.over_sampling import SMOTE, RandomOverSampler\n",
        "from imblearn.under_sampling import RandomUnderSampler\n",
        "\n",
        "# Previo a eso, separamos el set de validacion para evitar tener datos repetidos\n",
        "X_train_ib, X_val, y_train_ib, y_val = train_test_split(X_train, y_train, test_size=0.25, random_state=42)\n",
        "\n",
        "# oversampler = SMOTE(random_state=0, sampling_strategy=0.1)\n",
        "oversampler = RandomOverSampler(sampling_strategy='all', shrinkage=0.5)\n",
        "X_train_b, y_train_b = oversampler.fit_resample(X_train_ib, y_train_ib)\n",
        "# undersampler=RandomUnderSampler(sampling_strategy='majority')\n",
        "# X_train, y_train = undersampler.fit_resample(X_train, y_train)\n",
        "\n",
        "plot_class_percentage(y_train_b, f'y_train_b {y_train_b.shape}')\n"
      ]
    },
    {
      "cell_type": "code",
      "execution_count": 43,
      "metadata": {
        "colab": {
          "base_uri": "https://localhost:8080/"
        },
        "id": "EcDPlhEouQ9E",
        "outputId": "8e13aac7-9086-4a41-ea94-af294b46da60"
      },
      "outputs": [
        {
          "output_type": "stream",
          "name": "stdout",
          "text": [
            "in_shape 115 , out_shape 5\n"
          ]
        }
      ],
      "source": [
        "# Alumno: determinar la dimensiones de entrada y salida\n",
        "in_shape = X_train.shape[1] # max input sentence len\n",
        "out_shape = n_classes # class classification\n",
        "print(\"in_shape\", in_shape, \", out_shape\", out_shape)"
      ]
    },
    {
      "cell_type": "code",
      "execution_count": 44,
      "metadata": {
        "id": "YTdZFHj2MX6c"
      },
      "outputs": [],
      "source": [
        "from keras.layers import LSTM\n",
        "from keras.layers import Embedding\n",
        "from keras.layers import Dropout"
      ]
    },
    {
      "cell_type": "markdown",
      "metadata": {
        "id": "03DaKInD5Nmy"
      },
      "source": [
        "### 3- Entrenar el modelo con embeddings Fasttext + LSTM"
      ]
    },
    {
      "cell_type": "code",
      "execution_count": 45,
      "metadata": {
        "colab": {
          "base_uri": "https://localhost:8080/"
        },
        "id": "kqi-JDuf5Rq5",
        "outputId": "81947b99-aef9-4a48-a56d-4a7e550a3245"
      },
      "outputs": [
        {
          "output_type": "stream",
          "name": "stdout",
          "text": [
            "  % Total    % Received % Xferd  Average Speed   Time    Time     Time  Current\n",
            "                                 Dload  Upload   Total   Spent    Left  Speed\n",
            "  0     0    0     0    0     0      0      0 --:--:-- --:--:-- --:--:--     0\n",
            "  0     0    0     0    0     0      0      0 --:--:-- --:--:-- --:--:--     0\n",
            "100 2746M  100 2746M    0     0  78.0M      0  0:00:35  0:00:35 --:--:-- 98.6M\n"
          ]
        }
      ],
      "source": [
        "# Descargar los embeddings desde un gogle drive (es la forma más rápida)\n",
        "# NOTA: No hay garantía de que estos links perduren, en caso de que no estén\n",
        "# disponibles descargar de la página oficial como se explica en el siguiente bloque\n",
        "!curl -L -o 'fasttext.pkl' 'https://drive.google.com/u/0/uc?id=1Qi1r-u5lsEsNqRSxLrpNOqQ3B_ufltCa&export=download&confirm=t'"
      ]
    },
    {
      "cell_type": "code",
      "execution_count": 46,
      "metadata": {
        "id": "oTlihgp15WN8"
      },
      "outputs": [],
      "source": [
        "import logging\n",
        "import os\n",
        "from pathlib import Path\n",
        "from io import StringIO\n",
        "import pickle\n",
        "\n",
        "class WordsEmbeddings(object):\n",
        "    logger = logging.getLogger(__name__)\n",
        "\n",
        "    def __init__(self):\n",
        "        # load the embeddings\n",
        "        words_embedding_pkl = Path(self.PKL_PATH)\n",
        "        if not words_embedding_pkl.is_file():\n",
        "            words_embedding_txt = Path(self.WORD_TO_VEC_MODEL_TXT_PATH)\n",
        "            assert words_embedding_txt.is_file(), 'Words embedding not available'\n",
        "            embeddings = self.convert_model_to_pickle()\n",
        "        else:\n",
        "            embeddings = self.load_model_from_pickle()\n",
        "        self.embeddings = embeddings\n",
        "        # build the vocabulary hashmap\n",
        "        index = np.arange(self.embeddings.shape[0])\n",
        "        # Dicctionarios para traducir de embedding a IDX de la palabra\n",
        "        self.word2idx = dict(zip(self.embeddings['word'], index))\n",
        "        self.idx2word = dict(zip(index, self.embeddings['word']))\n",
        "\n",
        "    def get_words_embeddings(self, words):\n",
        "        words_idxs = self.words2idxs(words)\n",
        "        return self.embeddings[words_idxs]['embedding']\n",
        "\n",
        "    def words2idxs(self, words):\n",
        "        return np.array([self.word2idx.get(word, -1) for word in words])\n",
        "\n",
        "    def idxs2words(self, idxs):\n",
        "        return np.array([self.idx2word.get(idx, '-1') for idx in idxs])\n",
        "\n",
        "    def load_model_from_pickle(self):\n",
        "        self.logger.debug(\n",
        "            'loading words embeddings from pickle {}'.format(\n",
        "                self.PKL_PATH\n",
        "            )\n",
        "        )\n",
        "        max_bytes = 2**28 - 1 # 256MB\n",
        "        bytes_in = bytearray(0)\n",
        "        input_size = os.path.getsize(self.PKL_PATH)\n",
        "        with open(self.PKL_PATH, 'rb') as f_in:\n",
        "            for _ in range(0, input_size, max_bytes):\n",
        "                bytes_in += f_in.read(max_bytes)\n",
        "        embeddings = pickle.loads(bytes_in)\n",
        "        self.logger.debug('words embeddings loaded')\n",
        "        return embeddings\n",
        "\n",
        "    def convert_model_to_pickle(self):\n",
        "        # create a numpy strctured array:\n",
        "        # word     embedding\n",
        "        # U50      np.float32[]\n",
        "        # word_1   a, b, c\n",
        "        # word_2   d, e, f\n",
        "        # ...\n",
        "        # word_n   g, h, i\n",
        "        self.logger.debug(\n",
        "            'converting and loading words embeddings from text file {}'.format(\n",
        "                self.WORD_TO_VEC_MODEL_TXT_PATH\n",
        "            )\n",
        "        )\n",
        "        structure = [('word', np.dtype('U' + str(self.WORD_MAX_SIZE))),\n",
        "                     ('embedding', np.float32, (self.N_FEATURES,))]\n",
        "        structure = np.dtype(structure)\n",
        "        # load numpy array from disk using a generator\n",
        "        with open(self.WORD_TO_VEC_MODEL_TXT_PATH, encoding=\"utf8\") as words_embeddings_txt:\n",
        "            embeddings_gen = (\n",
        "                (line.split()[0], line.split()[1:]) for line in words_embeddings_txt\n",
        "                if len(line.split()[1:]) == self.N_FEATURES\n",
        "            )\n",
        "            embeddings = np.fromiter(embeddings_gen, structure)\n",
        "        # add a null embedding\n",
        "        null_embedding = np.array(\n",
        "            [('null_embedding', np.zeros((self.N_FEATURES,), dtype=np.float32))],\n",
        "            dtype=structure\n",
        "        )\n",
        "        embeddings = np.concatenate([embeddings, null_embedding])\n",
        "        # dump numpy array to disk using pickle\n",
        "        max_bytes = 2**28 - 1 # # 256MB\n",
        "        bytes_out = pickle.dumps(embeddings, protocol=pickle.HIGHEST_PROTOCOL)\n",
        "        with open(self.PKL_PATH, 'wb') as f_out:\n",
        "            for idx in range(0, len(bytes_out), max_bytes):\n",
        "                f_out.write(bytes_out[idx:idx+max_bytes])\n",
        "        self.logger.debug('words embeddings loaded')\n",
        "        return embeddings\n",
        "\n",
        "\n",
        "class GloveEmbeddings(WordsEmbeddings):\n",
        "    WORD_TO_VEC_MODEL_TXT_PATH = 'glove.twitter.27B.50d.txt'\n",
        "    PKL_PATH = 'gloveembedding.pkl'\n",
        "    N_FEATURES = 50\n",
        "    WORD_MAX_SIZE = 60\n",
        "\n",
        "\n",
        "class FasttextEmbeddings(WordsEmbeddings):\n",
        "    WORD_TO_VEC_MODEL_TXT_PATH = 'cc.en.300.vec'\n",
        "    PKL_PATH = 'fasttext.pkl'\n",
        "    N_FEATURES = 300\n",
        "    WORD_MAX_SIZE = 60"
      ]
    },
    {
      "cell_type": "code",
      "execution_count": 47,
      "metadata": {
        "id": "RSFYwl545ZwM"
      },
      "outputs": [],
      "source": [
        "model_fasttext = FasttextEmbeddings()\n",
        "# Mirar cómo sube el uso de RAM en colab!"
      ]
    },
    {
      "cell_type": "code",
      "execution_count": 48,
      "metadata": {
        "colab": {
          "base_uri": "https://localhost:8080/"
        },
        "id": "7JNmwECf5hxt",
        "outputId": "3d0dcb72-7862-45eb-a363-0100eab70e5d"
      },
      "outputs": [
        {
          "output_type": "stream",
          "name": "stdout",
          "text": [
            "preparing embedding matrix...\n",
            "number of null word embeddings: 2\n"
          ]
        }
      ],
      "source": [
        "# Crear la Embedding matrix para la cantidad nb_words seleccionadas\n",
        "# nos vamos a quedar sólo con los vectores de embeddings para las palabras\n",
        "# que definimos como vocabulario\n",
        "\n",
        "print('preparing embedding matrix...')\n",
        "embed_dim = 300 # fasttext\n",
        "words_not_found = []\n",
        "\n",
        "# word_index proviene del tokenizer\n",
        "\n",
        "nb_words = min(num_words, len(word_index)) # vocab_size\n",
        "embedding_matrix = np.zeros((nb_words, embed_dim))\n",
        "\n",
        "# word_index está ordenado de mayor a menor frecuencia de palabras\n",
        "# las primeras que entren en el ciclo for serán las más frecuentes\n",
        "# Atención! El tokenizador de Keras no tiene soporte para stop words\n",
        "# las primeras palabras probablemente sean stopwords, para eliminarlas\n",
        "# hay que procesar el word_index o bien elegir otra librería para preprocesamiento\n",
        "# ¡ver clase 2! ;)\n",
        "for word, i in word_index.items():\n",
        "    if i >= nb_words:\n",
        "        continue\n",
        "    embedding_vector = model_fasttext.get_words_embeddings(word)[0]\n",
        "    if (embedding_vector is not None) and len(embedding_vector) > 0:\n",
        "        embedding_matrix[i] = embedding_vector\n",
        "    else:\n",
        "        # words que no estén en el índice de la matriz de embedding tendrán\n",
        "        # como vector de embedding correspondiente todos ceros\n",
        "        words_not_found.append(word)\n",
        "        print(word)\n",
        "\n",
        "print('number of null word embeddings:', np.sum(np.sum(embedding_matrix**2, axis=1) == 0))"
      ]
    },
    {
      "cell_type": "code",
      "execution_count": 50,
      "metadata": {
        "colab": {
          "base_uri": "https://localhost:8080/"
        },
        "id": "I6l_eYhi55tn",
        "outputId": "d9160b3b-c9bb-401c-8ec9-229ec7c5e939"
      },
      "outputs": [
        {
          "output_type": "stream",
          "name": "stdout",
          "text": [
            "Model: \"sequential_2\"\n",
            "_________________________________________________________________\n",
            " Layer (type)                Output Shape              Param #   \n",
            "=================================================================\n",
            " embedding_1 (Embedding)     (None, 115, 300)          600000    \n",
            "                                                                 \n",
            " lstm_2 (LSTM)               (None, 115, 64)           93440     \n",
            "                                                                 \n",
            " dropout_1 (Dropout)         (None, 115, 64)           0         \n",
            "                                                                 \n",
            " lstm_3 (LSTM)               (None, 128)               98816     \n",
            "                                                                 \n",
            " dense (Dense)               (None, 64)                8256      \n",
            "                                                                 \n",
            " dropout_2 (Dropout)         (None, 64)                0         \n",
            "                                                                 \n",
            " dense_1 (Dense)             (None, 5)                 325       \n",
            "                                                                 \n",
            "=================================================================\n",
            "Total params: 800,837\n",
            "Trainable params: 200,837\n",
            "Non-trainable params: 600,000\n",
            "_________________________________________________________________\n"
          ]
        }
      ],
      "source": [
        "from keras.regularizers import l2\n",
        "# Definimos el modelo\n",
        "model2 = Sequential()\n",
        "# input_dim = vocab_size (max n_words)\n",
        "# input_length = setencias con padding a 200\n",
        "# output_dim = embed_dim (depende que embeddings pre entrenados utilizamos)\n",
        "model2.add(Embedding(input_dim=vocab_size, # definido en el Tokenizador\n",
        "                     output_dim=embed_dim, # dimensión de los embeddings utilizados\n",
        "                     input_length=in_shape, # máxima sentencia de entrada\n",
        "                     weights=[embedding_matrix], # matrix de embeddings\n",
        "                    trainable=False)) # marcar como layer no entrenable\n",
        "\n",
        "model2.add(LSTM(units=64, return_sequences=True))\n",
        "model2.add(Dropout(0.3))\n",
        "model2.add(LSTM(units=128)) # La última capa LSTM no lleva return_sequences\n",
        "\n",
        "model2.add(Dense(units=64, activation='relu', activity_regularizer=l2(0.01)))\n",
        "model2.add(Dropout(rate=0.3))\n",
        "model2.add(Dense(units=out_shape, activation='sigmoid', activity_regularizer=l2(0.01)))\n",
        "\n",
        "model2.compile(optimizer=\"adam\",\n",
        "              loss='categorical_crossentropy',\n",
        "              metrics=['accuracy'])\n",
        "\n",
        "model2.summary()"
      ]
    },
    {
      "cell_type": "code",
      "source": [
        "hist2 = model2.fit(X_train_b, y_train_b, validation_data=(X_val, y_val), epochs=50)\n"
      ],
      "metadata": {
        "id": "VZHuEh_vFDzt",
        "outputId": "f5a092b1-ebb9-43da-a3af-0e8872058d20",
        "colab": {
          "base_uri": "https://localhost:8080/"
        }
      },
      "execution_count": 54,
      "outputs": [
        {
          "output_type": "stream",
          "name": "stdout",
          "text": [
            "Epoch 1/50\n",
            "1173/1173 [==============================] - 15s 13ms/step - loss: 0.7803 - accuracy: 0.6827 - val_loss: 1.1231 - val_accuracy: 0.5738\n",
            "Epoch 2/50\n",
            "1173/1173 [==============================] - 14s 12ms/step - loss: 0.7665 - accuracy: 0.6878 - val_loss: 1.1079 - val_accuracy: 0.5744\n",
            "Epoch 3/50\n",
            "1173/1173 [==============================] - 16s 13ms/step - loss: 0.7567 - accuracy: 0.6884 - val_loss: 1.1384 - val_accuracy: 0.5607\n",
            "Epoch 4/50\n",
            "1173/1173 [==============================] - 14s 12ms/step - loss: 0.7474 - accuracy: 0.6920 - val_loss: 1.1729 - val_accuracy: 0.5848\n",
            "Epoch 5/50\n",
            "1173/1173 [==============================] - 14s 12ms/step - loss: 0.7395 - accuracy: 0.6961 - val_loss: 1.1987 - val_accuracy: 0.5638\n",
            "Epoch 6/50\n",
            "1173/1173 [==============================] - 14s 12ms/step - loss: 0.7303 - accuracy: 0.6997 - val_loss: 1.1798 - val_accuracy: 0.5718\n",
            "Epoch 7/50\n",
            "1173/1173 [==============================] - 17s 15ms/step - loss: 0.7237 - accuracy: 0.7027 - val_loss: 1.1735 - val_accuracy: 0.5638\n",
            "Epoch 8/50\n",
            "1173/1173 [==============================] - 14s 12ms/step - loss: 0.7133 - accuracy: 0.7052 - val_loss: 1.2767 - val_accuracy: 0.5784\n",
            "Epoch 9/50\n",
            "1173/1173 [==============================] - 15s 13ms/step - loss: 0.7090 - accuracy: 0.7098 - val_loss: 1.2131 - val_accuracy: 0.5678\n",
            "Epoch 10/50\n",
            "1173/1173 [==============================] - 14s 12ms/step - loss: 0.7005 - accuracy: 0.7116 - val_loss: 1.2384 - val_accuracy: 0.5680\n",
            "Epoch 11/50\n",
            "1173/1173 [==============================] - 14s 12ms/step - loss: 0.6919 - accuracy: 0.7163 - val_loss: 1.2421 - val_accuracy: 0.5481\n",
            "Epoch 12/50\n",
            "1173/1173 [==============================] - 14s 12ms/step - loss: 0.6855 - accuracy: 0.7195 - val_loss: 1.2598 - val_accuracy: 0.5638\n",
            "Epoch 13/50\n",
            "1173/1173 [==============================] - 14s 12ms/step - loss: 0.6812 - accuracy: 0.7188 - val_loss: 1.2825 - val_accuracy: 0.5442\n",
            "Epoch 14/50\n",
            "1173/1173 [==============================] - 14s 12ms/step - loss: 0.6715 - accuracy: 0.7255 - val_loss: 1.3309 - val_accuracy: 0.5623\n",
            "Epoch 15/50\n",
            "1173/1173 [==============================] - 14s 12ms/step - loss: 0.6626 - accuracy: 0.7275 - val_loss: 1.4424 - val_accuracy: 0.5307\n",
            "Epoch 16/50\n",
            "1173/1173 [==============================] - 14s 12ms/step - loss: 0.6652 - accuracy: 0.7293 - val_loss: 1.3598 - val_accuracy: 0.5426\n",
            "Epoch 17/50\n",
            "1173/1173 [==============================] - 14s 12ms/step - loss: 0.6529 - accuracy: 0.7343 - val_loss: 1.3267 - val_accuracy: 0.5479\n",
            "Epoch 18/50\n",
            "1173/1173 [==============================] - 14s 12ms/step - loss: 0.6472 - accuracy: 0.7371 - val_loss: 1.5008 - val_accuracy: 0.5391\n",
            "Epoch 19/50\n",
            "1173/1173 [==============================] - 14s 12ms/step - loss: 0.6436 - accuracy: 0.7396 - val_loss: 1.3926 - val_accuracy: 0.5468\n",
            "Epoch 20/50\n",
            "1173/1173 [==============================] - 14s 12ms/step - loss: 0.6374 - accuracy: 0.7407 - val_loss: 1.4685 - val_accuracy: 0.5442\n",
            "Epoch 21/50\n",
            "1173/1173 [==============================] - 14s 12ms/step - loss: 0.6279 - accuracy: 0.7470 - val_loss: 1.4682 - val_accuracy: 0.5444\n",
            "Epoch 22/50\n",
            "1173/1173 [==============================] - 14s 12ms/step - loss: 0.6248 - accuracy: 0.7469 - val_loss: 1.5143 - val_accuracy: 0.5411\n",
            "Epoch 23/50\n",
            "1173/1173 [==============================] - 14s 12ms/step - loss: 0.6180 - accuracy: 0.7509 - val_loss: 1.4926 - val_accuracy: 0.5373\n",
            "Epoch 24/50\n",
            "1173/1173 [==============================] - 14s 12ms/step - loss: 0.6146 - accuracy: 0.7517 - val_loss: 1.5636 - val_accuracy: 0.5369\n",
            "Epoch 25/50\n",
            "1173/1173 [==============================] - 14s 12ms/step - loss: 0.6126 - accuracy: 0.7533 - val_loss: 1.5751 - val_accuracy: 0.5521\n",
            "Epoch 26/50\n",
            "1173/1173 [==============================] - 14s 12ms/step - loss: 0.6055 - accuracy: 0.7573 - val_loss: 1.4906 - val_accuracy: 0.5395\n",
            "Epoch 27/50\n",
            "1173/1173 [==============================] - 14s 12ms/step - loss: 0.5994 - accuracy: 0.7593 - val_loss: 1.7030 - val_accuracy: 0.5327\n",
            "Epoch 28/50\n",
            "1173/1173 [==============================] - 14s 12ms/step - loss: 0.5957 - accuracy: 0.7590 - val_loss: 1.6378 - val_accuracy: 0.5333\n",
            "Epoch 29/50\n",
            "1173/1173 [==============================] - 15s 12ms/step - loss: 0.5897 - accuracy: 0.7623 - val_loss: 1.6660 - val_accuracy: 0.5526\n",
            "Epoch 30/50\n",
            "1173/1173 [==============================] - 14s 12ms/step - loss: 0.5861 - accuracy: 0.7655 - val_loss: 1.5990 - val_accuracy: 0.5353\n",
            "Epoch 31/50\n",
            "1173/1173 [==============================] - 14s 12ms/step - loss: 0.5833 - accuracy: 0.7684 - val_loss: 1.6856 - val_accuracy: 0.5457\n",
            "Epoch 32/50\n",
            "1173/1173 [==============================] - 14s 12ms/step - loss: 0.5793 - accuracy: 0.7677 - val_loss: 1.7504 - val_accuracy: 0.5322\n",
            "Epoch 33/50\n",
            "1173/1173 [==============================] - 14s 12ms/step - loss: 0.5728 - accuracy: 0.7710 - val_loss: 1.7843 - val_accuracy: 0.5420\n",
            "Epoch 34/50\n",
            "1173/1173 [==============================] - 14s 12ms/step - loss: 0.5725 - accuracy: 0.7718 - val_loss: 1.6941 - val_accuracy: 0.5280\n",
            "Epoch 35/50\n",
            "1173/1173 [==============================] - 14s 12ms/step - loss: 0.5687 - accuracy: 0.7744 - val_loss: 1.7205 - val_accuracy: 0.5395\n",
            "Epoch 36/50\n",
            "1173/1173 [==============================] - 15s 12ms/step - loss: 0.5654 - accuracy: 0.7752 - val_loss: 1.9114 - val_accuracy: 0.5309\n",
            "Epoch 37/50\n",
            "1173/1173 [==============================] - 14s 12ms/step - loss: 0.5606 - accuracy: 0.7802 - val_loss: 1.7952 - val_accuracy: 0.5550\n",
            "Epoch 38/50\n",
            "1173/1173 [==============================] - 14s 12ms/step - loss: 0.5549 - accuracy: 0.7791 - val_loss: 1.9079 - val_accuracy: 0.5325\n",
            "Epoch 39/50\n",
            "1173/1173 [==============================] - 14s 12ms/step - loss: 0.5547 - accuracy: 0.7805 - val_loss: 1.8649 - val_accuracy: 0.5409\n",
            "Epoch 40/50\n",
            "1173/1173 [==============================] - 14s 12ms/step - loss: 0.5499 - accuracy: 0.7838 - val_loss: 1.8839 - val_accuracy: 0.5435\n",
            "Epoch 41/50\n",
            "1173/1173 [==============================] - 14s 12ms/step - loss: 0.5452 - accuracy: 0.7861 - val_loss: 1.9702 - val_accuracy: 0.5327\n",
            "Epoch 42/50\n",
            "1173/1173 [==============================] - 14s 12ms/step - loss: 0.5413 - accuracy: 0.7858 - val_loss: 1.8615 - val_accuracy: 0.5466\n",
            "Epoch 43/50\n",
            "1173/1173 [==============================] - 14s 12ms/step - loss: 0.5379 - accuracy: 0.7864 - val_loss: 1.9965 - val_accuracy: 0.5223\n",
            "Epoch 44/50\n",
            "1173/1173 [==============================] - 14s 12ms/step - loss: 0.5357 - accuracy: 0.7885 - val_loss: 1.8293 - val_accuracy: 0.5459\n",
            "Epoch 45/50\n",
            "1173/1173 [==============================] - 14s 12ms/step - loss: 0.5318 - accuracy: 0.7906 - val_loss: 1.9614 - val_accuracy: 0.5283\n",
            "Epoch 46/50\n",
            "1173/1173 [==============================] - 14s 12ms/step - loss: 0.5271 - accuracy: 0.7953 - val_loss: 1.9096 - val_accuracy: 0.5433\n",
            "Epoch 47/50\n",
            "1173/1173 [==============================] - 14s 12ms/step - loss: 0.5288 - accuracy: 0.7922 - val_loss: 2.1828 - val_accuracy: 0.5216\n",
            "Epoch 48/50\n",
            "1173/1173 [==============================] - 14s 12ms/step - loss: 0.5263 - accuracy: 0.7953 - val_loss: 1.8892 - val_accuracy: 0.5210\n",
            "Epoch 49/50\n",
            "1173/1173 [==============================] - 14s 12ms/step - loss: 0.5177 - accuracy: 0.7983 - val_loss: 2.0707 - val_accuracy: 0.5283\n",
            "Epoch 50/50\n",
            "1173/1173 [==============================] - 14s 12ms/step - loss: 0.5185 - accuracy: 0.7974 - val_loss: 2.0159 - val_accuracy: 0.5322\n"
          ]
        }
      ]
    },
    {
      "cell_type": "code",
      "source": [
        "epoch_count = range(1, len(hist2.history['accuracy']) + 1)\n",
        "sns.lineplot(x=epoch_count,  y=hist2.history['accuracy'], label='train')\n",
        "sns.lineplot(x=epoch_count,  y=hist2.history['val_accuracy'], label='valid')\n",
        "plt.show()"
      ],
      "metadata": {
        "id": "75tO4R4wGXX7",
        "outputId": "b3a4d622-e84d-4852-c325-9fc1a2174c45",
        "colab": {
          "base_uri": "https://localhost:8080/",
          "height": 430
        }
      },
      "execution_count": 55,
      "outputs": [
        {
          "output_type": "display_data",
          "data": {
            "text/plain": [
              "<Figure size 640x480 with 1 Axes>"
            ],
            "image/png": "[encoded data removed]"
          },
          "metadata": {}
        }
      ]
    },
    {
      "cell_type": "code",
      "source": [
        "# model.evaluate(X_test, y_test)\n",
        "from sklearn.metrics import f1_score\n",
        "y_pred = model2.predict(X_test)\n",
        "y_pred = np.argmax(y_pred,axis=1)\n",
        "f1sc = f1_score(np.argmax(y_test, axis=1), y_pred, average='micro')\n",
        "print(f'F1 score: {f1sc}')\n"
      ],
      "metadata": {
        "id": "KSlCr8LCFO-j",
        "outputId": "35671e4e-41e2-44ad-ca34-61605e5629dc",
        "colab": {
          "base_uri": "https://localhost:8080/"
        }
      },
      "execution_count": 62,
      "outputs": [
        {
          "output_type": "stream",
          "name": "stdout",
          "text": [
            "142/142 [==============================] - 1s 7ms/step\n",
            "F1 score: 0.5206447339368514\n"
          ]
        }
      ]
    },
    {
      "cell_type": "markdown",
      "metadata": {
        "id": "kZLjyHE1Dy38"
      },
      "source": [
        "## Conclusiones"
      ]
    },
    {
      "cell_type": "markdown",
      "metadata": {
        "id": "_zALgL13Dy38"
      },
      "source": [
        "Se puede ver que el modelo presenta overfitting a pesar de que se utilizaron tecnicas de regularización. Sin embargo, la performance de el modelo usando embeddings de FastText es similar que en el ejercicio anterior donde se crearon embeddings propios, a pesar que la validation accuracy es mayor en el último caso."
      ]
    }
  ],
  "metadata": {
    "accelerator": "GPU",
    "colab": {
      "provenance": []
    },
    "kernelspec": {
      "display_name": "Python 3",
      "name": "python3"
    },
    "language_info": {
      "codemirror_mode": {
        "name": "ipython",
        "version": 3
      },
      "file_extension": ".py",
      "mimetype": "text/x-python",
      "name": "python",
      "nbconvert_exporter": "python",
      "pygments_lexer": "ipython3",
      "version": "3.10.9"
    }
  },
  "nbformat": 4,
  "nbformat_minor": 0
}