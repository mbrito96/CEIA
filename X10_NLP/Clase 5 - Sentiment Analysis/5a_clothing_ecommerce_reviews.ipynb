{
  "cells": [
    {
      "cell_type": "markdown",
      "metadata": {
        "id": "kBLpTr7plguX"
      },
      "source": [
        "<img src=\"https://github.com/hernancontigiani/ceia_memorias_especializacion/raw/master/Figures/logoFIUBA.jpg\" width=\"500\" align=\"center\">\n",
        "\n",
        "\n",
        "# Procesamiento de lenguaje natural\n",
        "## Sentiment analysis con Embeddings + LSTM"
      ]
    },
    {
      "cell_type": "markdown",
      "metadata": {
        "id": "9W6nuajhlqZD"
      },
      "source": [
        "### Objetivo\n",
        "El objetivo es utilizar las críticas de compradores de ropa para que el sistema determine la evaluación del comprador y su crítica (cuantas estrellas le asigna al producto)."
      ]
    },
    {
      "cell_type": "code",
      "execution_count": 1,
      "metadata": {
        "id": "i6zvzv3qZ6xS"
      },
      "outputs": [],
      "source": [
        "!pip install --upgrade --no-cache-dir gdown --quiet"
      ]
    },
    {
      "cell_type": "code",
      "execution_count": 2,
      "metadata": {
        "id": "hCpOVzJdl8_p"
      },
      "outputs": [],
      "source": [
        "import numpy as np\n",
        "import random\n",
        "import io\n",
        "import pickle\n",
        "import pandas as pd\n",
        "\n",
        "import matplotlib.pyplot as plt\n",
        "import seaborn as sns\n",
        "\n",
        "import tensorflow as tf\n",
        "from tensorflow import keras\n",
        "from tensorflow.keras import layers\n",
        "\n",
        "from keras.utils.np_utils import to_categorical\n",
        "from tensorflow.keras.utils import pad_sequences\n",
        "from keras.models import Sequential\n",
        "from keras.layers import Dense\n",
        "from keras.layers import LSTM\n",
        "from keras.layers import Embedding"
      ]
    },
    {
      "cell_type": "code",
      "execution_count": 3,
      "metadata": {
        "id": "oflIZcYKQKxp"
      },
      "outputs": [],
      "source": [
        "from sklearn.metrics import roc_curve\n",
        "from sklearn.metrics import auc\n",
        "\n",
        "def curva_roc(model, X_test, y_test):\n",
        "    y_hat_prob = model.predict(X_test).ravel()\n",
        "\n",
        "    # Calcular la exactitud (accuracy)\n",
        "    scores = model.evaluate(X_test, y_test)\n",
        "    print(\"Accuracy:\", scores[1])\n",
        "\n",
        "    fpr, tpr, thresholds = roc_curve(y_test, y_hat_prob)\n",
        "    auc_keras = auc(fpr, tpr)\n",
        "    print('auc_keras', auc_keras)\n",
        "\n",
        "    plt.figure(1)\n",
        "    plt.plot([0, 1], [0, 1], 'k--')\n",
        "    plt.plot(fpr, tpr, label='Keras (area = {:.3f})'.format(auc_keras))\n",
        "    plt.xlabel('False positive rate')\n",
        "    plt.ylabel('True positive rate')\n",
        "    plt.title('Curva ROC test')\n",
        "    plt.legend(loc='best')\n",
        "    plt.show()"
      ]
    },
    {
      "cell_type": "markdown",
      "metadata": {
        "id": "8UPeRkrAmbF3"
      },
      "source": [
        "### Datos\n",
        "Utilizaremos como dataset críticas de compradores de ropa (eCommerce) los cuales puntuaron a cada prenda con un puntaje de 1 a 5 estrellas.\\\n",
        "Referencia del dataset: [LINK](https://www.kaggle.com/nicapotato/womens-ecommerce-clothing-reviews/version/1)"
      ]
    },
    {
      "cell_type": "code",
      "execution_count": 4,
      "metadata": {
        "id": "C7jLvTU3lSyL",
        "outputId": "8cc601d1-ec93-4bb7-ac3e-7bb302a1dc0f",
        "colab": {
          "base_uri": "https://localhost:8080/"
        }
      },
      "outputs": [
        {
          "output_type": "stream",
          "name": "stderr",
          "text": [
            "Downloading...\n",
            "From: https://drive.google.com/uc?id=1Urn1UFSrodN5BuW6-sc_igtaySGRwhV8\n",
            "To: /content/clothing_ecommerce_reviews.csv\n",
            "100%|██████████| 8.48M/8.48M [00:00<00:00, 22.9MB/s]\n"
          ]
        }
      ],
      "source": [
        "# Descargar la carpeta de dataset\n",
        "import os\n",
        "import gdown\n",
        "if os.access('clothing_ecommerce_reviews.csv', os.F_OK) is False:\n",
        "    url = 'https://drive.google.com/uc?id=1Urn1UFSrodN5BuW6-sc_igtaySGRwhV8'\n",
        "    output = 'clothing_ecommerce_reviews.csv'\n",
        "    gdown.download(url, output, quiet=False)"
      ]
    },
    {
      "cell_type": "code",
      "execution_count": 5,
      "metadata": {
        "id": "o-SV1P3dnD1J"
      },
      "outputs": [],
      "source": [
        "# Armar el dataset\n",
        "df = pd.read_csv('clothing_ecommerce_reviews.csv')"
      ]
    },
    {
      "cell_type": "markdown",
      "metadata": {
        "id": "q-OwSePKm-FK"
      },
      "source": [
        "### 1 - Limpieza de datos\n",
        "Alumno:\n",
        "- Del dataset unicamente utilizar las columnas \"Review Text\" y \"Rating.\n",
        "- Tranformar el rating 1-5 a una escala numérica de 0 a 4.\n",
        "\n"
      ]
    },
    {
      "cell_type": "code",
      "execution_count": 6,
      "metadata": {
        "id": "-hc7-AmYnPC3",
        "outputId": "e4d0fe31-fd9f-4c5b-a631-4169deb760d6",
        "colab": {
          "base_uri": "https://localhost:8080/"
        }
      },
      "outputs": [
        {
          "output_type": "stream",
          "name": "stdout",
          "text": [
            "Total number of reviews:  22641\n",
            "                                             reviews  rating\n",
            "0  Absolutely wonderful - silky and sexy and comf...       3\n",
            "1  Love this dress!  it's sooo pretty.  i happene...       4\n",
            "2  I had such high hopes for this dress and reall...       2\n",
            "3  I love, love, love this jumpsuit. it's fun, fl...       4\n",
            "4  This shirt is very flattering to all due to th...       4\n"
          ]
        }
      ],
      "source": [
        "try:\n",
        "    df_reviews = df.loc[:, ['Review Text', 'Rating']].dropna()\n",
        "    df.drop(columns = ['Unnamed: 0'], inplace = True)\n",
        "    df_reviews['Rating'] = df_reviews['Rating'] - 1\n",
        "    df_reviews.rename(columns = {'Review Text': 'reviews', 'Rating': 'rating'}, inplace = True)\n",
        "except:\n",
        "    pass\n",
        "\n",
        "print('Total number of reviews: ', df_reviews.shape[0])\n",
        "print(df_reviews.head())"
      ]
    },
    {
      "cell_type": "code",
      "execution_count": 7,
      "metadata": {
        "id": "sZtvASVOn3ty",
        "outputId": "00bb7dc3-b8de-49ca-92c6-45e04a90a563",
        "colab": {
          "base_uri": "https://localhost:8080/",
          "height": 333
        }
      },
      "outputs": [
        {
          "output_type": "display_data",
          "data": {
            "text/plain": [
              "<Figure size 1200x300 with 1 Axes>"
            ],
            "image/png": "[encoded data removed]"
          },
          "metadata": {}
        }
      ],
      "source": [
        "# Alumno: Observar como está distribuido el dataset respecto a la columna Rating\n",
        "# es decir, observar que tan balanceado se encuentra respecot a cada clase\n",
        "\n",
        "# Plot the distribution of each class\n",
        "plt.figure(figsize=(12,3))\n",
        "sns.countplot(x='rating', data=df_reviews)\n",
        "plt.title('Distribution of Rating')\n",
        "plt.show()"
      ]
    },
    {
      "cell_type": "code",
      "execution_count": 8,
      "metadata": {
        "id": "gVJ_RVi4o1h3"
      },
      "outputs": [],
      "source": [
        "# Alumno: tomar la columna de las review y almacenarlo todo en un vector numpy de reviews\n",
        "text_sequences = df_reviews['reviews'].values"
      ]
    },
    {
      "cell_type": "code",
      "execution_count": 9,
      "metadata": {
        "id": "4nT5Un_co65Q",
        "outputId": "48cd02b8-ab4f-4079-bd30-54f546597b66",
        "colab": {
          "base_uri": "https://localhost:8080/"
        }
      },
      "outputs": [
        {
          "output_type": "execute_result",
          "data": {
            "text/plain": [
              "22641"
            ]
          },
          "metadata": {},
          "execution_count": 9
        }
      ],
      "source": [
        "# Alumno: Cuantas reviews (rows) hay para evaluar?\n",
        "len(text_sequences)"
      ]
    },
    {
      "cell_type": "code",
      "execution_count": 10,
      "metadata": {
        "id": "HP5uN9tqpHu_"
      },
      "outputs": [],
      "source": [
        "# Alumno: Concatenar todas las reviews para armar el corpus\n",
        "corpus = ' '.join(text_sequences)"
      ]
    },
    {
      "cell_type": "code",
      "execution_count": 11,
      "metadata": {
        "id": "FEzmePgdpf74",
        "outputId": "2e087fd6-4789-4e35-8c07-18f8fa1ea084",
        "colab": {
          "base_uri": "https://localhost:8080/"
        }
      },
      "outputs": [
        {
          "output_type": "execute_result",
          "data": {
            "text/plain": [
              "7011643"
            ]
          },
          "metadata": {},
          "execution_count": 11
        }
      ],
      "source": [
        "# Alumno: ¿Cuál es la longitud de ese corpus?\n",
        "len(corpus)"
      ]
    },
    {
      "cell_type": "code",
      "execution_count": 12,
      "metadata": {
        "id": "MYeJLdDmpvOe"
      },
      "outputs": [],
      "source": [
        "# Alumno: Utilizar \"text_to_word_sequence\" para separar las palabras en tokens\n",
        "# recordar que text_to_word_sequence automaticamente quita los signos de puntuacion y pasa el texto a lowercase\n",
        "from keras.preprocessing.text import text_to_word_sequence\n",
        "tokens = text_to_word_sequence(corpus)"
      ]
    },
    {
      "cell_type": "code",
      "execution_count": 13,
      "metadata": {
        "id": "M6L-fnWAp_lA",
        "outputId": "498ce87d-6608-45d3-ac33-514610729a38",
        "colab": {
          "base_uri": "https://localhost:8080/"
        }
      },
      "outputs": [
        {
          "output_type": "execute_result",
          "data": {
            "text/plain": [
              "['absolutely',\n",
              " 'wonderful',\n",
              " 'silky',\n",
              " 'and',\n",
              " 'sexy',\n",
              " 'and',\n",
              " 'comfortable',\n",
              " 'love',\n",
              " 'this',\n",
              " 'dress',\n",
              " \"it's\",\n",
              " 'sooo',\n",
              " 'pretty',\n",
              " 'i',\n",
              " 'happened',\n",
              " 'to',\n",
              " 'find',\n",
              " 'it',\n",
              " 'in',\n",
              " 'a']"
            ]
          },
          "metadata": {},
          "execution_count": 13
        }
      ],
      "source": [
        "# Alumno: Dar un vistazo a los primeros 20 tokens/palabras\n",
        "tokens[:20]"
      ]
    },
    {
      "cell_type": "code",
      "execution_count": 14,
      "metadata": {
        "id": "-8QgwwMUqG0d",
        "outputId": "ad430491-b8f2-40b3-bd16-183e651cc32e",
        "colab": {
          "base_uri": "https://localhost:8080/"
        }
      },
      "outputs": [
        {
          "output_type": "execute_result",
          "data": {
            "text/plain": [
              "1372203"
            ]
          },
          "metadata": {},
          "execution_count": 14
        }
      ],
      "source": [
        "# Alumno: ¿Cuántos tokens/palabras hay?\n",
        "len(tokens)"
      ]
    },
    {
      "cell_type": "markdown",
      "metadata": {
        "id": "9G_55yYxQKxt"
      },
      "source": [
        "### Tokenizar las palabras"
      ]
    },
    {
      "cell_type": "code",
      "execution_count": 15,
      "metadata": {
        "id": "TFukNZdOsZ8_"
      },
      "outputs": [],
      "source": [
        "# Alumno: Tokenizar las palabras con el Tokenizer de Keras\n",
        "# Definir una máxima cantidad de palabras a utilizar:\n",
        "# num_words --> the maximum number of words to keep, based on word frequency.\n",
        "# Only the most common num_words-1 words will be kept.\n",
        "from keras.preprocessing.text import Tokenizer\n",
        "num_words = 2000\n",
        "vocab_size = num_words\n",
        "tok = Tokenizer(num_words=2000)\n",
        "tok.fit_on_texts(tokens)"
      ]
    },
    {
      "cell_type": "code",
      "execution_count": 16,
      "metadata": {
        "id": "JnR1tlqZy94X",
        "outputId": "5e84623f-0373-49b4-fc84-486b9c4cb310",
        "colab": {
          "base_uri": "https://localhost:8080/"
        }
      },
      "outputs": [
        {
          "output_type": "execute_result",
          "data": {
            "text/plain": [
              "14847"
            ]
          },
          "metadata": {},
          "execution_count": 16
        }
      ],
      "source": [
        "# Alumno: Obtener el diccionario de palabra (word) a índice\n",
        "# y observar la cantidad total del vocabulario\n",
        "word_index = tok.word_index\n",
        "len(word_index)"
      ]
    },
    {
      "cell_type": "code",
      "execution_count": 17,
      "metadata": {
        "id": "AvWzzSretQXf",
        "outputId": "41390d70-e516-41aa-e4f5-eb52fc657d52",
        "colab": {
          "base_uri": "https://localhost:8080/"
        }
      },
      "outputs": [
        {
          "output_type": "stream",
          "name": "stdout",
          "text": [
            "[[253, 532, 917, 3, 662, 3, 68]]\n",
            "['Absolutely wonderful - silky and sexy and comfortable']\n"
          ]
        }
      ],
      "source": [
        "# Alumno: Convertir las palabras/tokens a números\n",
        "sequences = tok.texts_to_sequences(text_sequences)\n",
        "print(sequences[:1])\n",
        "print(text_sequences[:1])"
      ]
    },
    {
      "cell_type": "code",
      "execution_count": 18,
      "metadata": {
        "id": "sJCSK9opQKxt",
        "outputId": "c020eff4-3a72-438b-fd30-723eb088ebf2",
        "colab": {
          "base_uri": "https://localhost:8080/",
          "height": 471
        }
      },
      "outputs": [
        {
          "output_type": "stream",
          "name": "stdout",
          "text": [
            "Max length: 115\n"
          ]
        },
        {
          "output_type": "display_data",
          "data": {
            "text/plain": [
              "<Figure size 640x480 with 1 Axes>"
            ],
            "image/png": "[encoded data removed]"
          },
          "metadata": {}
        }
      ],
      "source": [
        "# Alumno: Determinar cual es la oración más larga\n",
        "maxlen = max(len(s) for s in sequences)\n",
        "print(f'Max length: {maxlen}')\n",
        "\n",
        "# Podríamos optimizar el largo de la sentencia a analizar basandonos en la distribución\n",
        "# de la cantidad de palabras por review. Sin embargo, por ahora vamos a tomar la máxima\n",
        "len_vector = []\n",
        "for i in sequences:\n",
        "    len_vector.append(len(i))\n",
        "sns.histplot(len_vector, bins=50)\n",
        "plt.title('Distribución de la cantidad de palabras (tokenizadas) por review')\n",
        "plt.show()"
      ]
    },
    {
      "cell_type": "code",
      "execution_count": 19,
      "metadata": {
        "id": "oCkO9Wc9tls1",
        "outputId": "b74744f7-d341-4661-a139-06b139f0c901",
        "colab": {
          "base_uri": "https://localhost:8080/"
        }
      },
      "outputs": [
        {
          "output_type": "execute_result",
          "data": {
            "text/plain": [
              "(22641, 115)"
            ]
          },
          "metadata": {},
          "execution_count": 19
        }
      ],
      "source": [
        "# Alumno: Realizar padding de las sentencias al mismo tamaño\n",
        "# tomando de referencia la máxima sentencia\n",
        "from tensorflow.keras.utils import pad_sequences\n",
        "from tensorflow.keras.utils import pad_sequences\n",
        "\n",
        "# Al realizar padding obtener la variable \"X\" (input)\n",
        "X = pad_sequences(sequences, padding='pre', maxlen=maxlen)\n",
        "# Alumno: Observar las dimensiones de la variable input\n",
        "X.shape\n"
      ]
    },
    {
      "cell_type": "code",
      "execution_count": 20,
      "metadata": {
        "id": "llVM-tzQo9_F",
        "outputId": "786c21a9-0512-43d5-983c-352db11fcfb6",
        "colab": {
          "base_uri": "https://localhost:8080/"
        }
      },
      "outputs": [
        {
          "output_type": "stream",
          "name": "stdout",
          "text": [
            "Cantidad de clases: 5\n",
            "[[0. 0. 0. 1. 0.]\n",
            " [0. 0. 0. 0. 1.]\n",
            " [0. 0. 1. 0. 0.]\n",
            " ...\n",
            " [0. 0. 1. 0. 0.]\n",
            " [0. 0. 1. 0. 0.]\n",
            " [0. 0. 0. 0. 1.]]\n",
            "(22641, 5)\n"
          ]
        }
      ],
      "source": [
        "# Alumno tomar la columna rating y alcemacenarla en una variable \"y\" transformada a oneHotEncoding\n",
        "# Su shape debe ser equivalente la cantidad de rows del corpus y a la cantidad\n",
        "# de clases que se deseen predecir (en este ejemplo son 5)\n",
        "y = df_reviews['rating'].values\n",
        "\n",
        "# convert y into one-hot format\n",
        "n_classes = df_reviews['rating'].unique().shape[0]\n",
        "print(f'Cantidad de clases: {n_classes}')\n",
        "y = to_categorical(y, num_classes=n_classes)\n",
        "print(y)\n",
        "print(y.shape)"
      ]
    },
    {
      "cell_type": "markdown",
      "metadata": {
        "id": "isHoEhepQKxu"
      },
      "source": [
        "### Separacion test-train"
      ]
    },
    {
      "cell_type": "code",
      "execution_count": 21,
      "metadata": {
        "id": "vAMVMMEwQKxu"
      },
      "outputs": [],
      "source": [
        "def plot_class_percentage(ohe_array, text):\n",
        "    data= pd.DataFrame(ohe_array)\n",
        "    data = data.apply(pd.value_counts)\n",
        "    data = data.iloc[1, :]\n",
        "    # print(data)\n",
        "    plt.title('Class Distribution: ' + text)\n",
        "    palette_color = sns.color_palette('bright')\n",
        "    plt.pie(data, labels=data.index, colors=palette_color, autopct='%.0f%%')"
      ]
    },
    {
      "cell_type": "code",
      "execution_count": 22,
      "metadata": {
        "id": "Rmz9A6n4uK4V",
        "outputId": "e3dbd0c7-597e-47c6-d113-954e0fe9d7a6",
        "colab": {
          "base_uri": "https://localhost:8080/",
          "height": 302
        }
      },
      "outputs": [
        {
          "output_type": "stream",
          "name": "stdout",
          "text": [
            "X_train: (18112, 115)\n"
          ]
        },
        {
          "output_type": "display_data",
          "data": {
            "text/plain": [
              "<Figure size 640x480 with 2 Axes>"
            ],
            "image/png": "[encoded data removed]"
          },
          "metadata": {}
        }
      ],
      "source": [
        "# Alumno: Dividir los datos en train y test\n",
        "from sklearn.model_selection import train_test_split\n",
        "X_train, X_test, y_train, y_test = train_test_split(X, y, test_size=0.2, random_state=42, stratify=y)\n",
        "print(f\"X_train: {X_train.shape}\")\n",
        "plt.subplot(1, 2, 1)\n",
        "plot_class_percentage(y_train, f'y_train {y_train.shape}')\n",
        "plt.subplot(1, 2, 2)\n",
        "plot_class_percentage(y_test, f'y_test {y_test.shape}')\n",
        "plt.show()\n",
        "# Podemos ver que la proporción de clases se mantiene en train y test, pero es muy desbalanceada\n"
      ]
    },
    {
      "cell_type": "markdown",
      "metadata": {
        "id": "V7XqoQC0QKxu"
      },
      "source": [
        "#### Oversampling"
      ]
    },
    {
      "cell_type": "code",
      "execution_count": 44,
      "metadata": {
        "id": "U5PTf7FRQKxu",
        "outputId": "1e1e2591-80ab-4a33-ea23-242a27489a10",
        "colab": {
          "base_uri": "https://localhost:8080/",
          "height": 428
        }
      },
      "outputs": [
        {
          "output_type": "display_data",
          "data": {
            "text/plain": [
              "<Figure size 640x480 with 1 Axes>"
            ],
            "image/png": "[encoded data removed]"
          },
          "metadata": {}
        }
      ],
      "source": [
        "# Hacemos oversampling para tener una muestra balanceada (solo en set de train)\n",
        "from imblearn.over_sampling import SMOTE, RandomOverSampler\n",
        "from imblearn.under_sampling import RandomUnderSampler\n",
        "\n",
        "# Previo a eso, separamos el set de validacion para evitar tener datos repetidos\n",
        "X_train_ib, X_val, y_train_ib, y_val = train_test_split(X_train, y_train, test_size=0.25, random_state=42)\n",
        "\n",
        "# oversampler = SMOTE(random_state=0, sampling_strategy=0.1)\n",
        "oversampler = RandomOverSampler(sampling_strategy='all')\n",
        "X_train_b, y_train_b = oversampler.fit_resample(X_train_ib, y_train_ib)\n",
        "# undersampler=RandomUnderSampler(sampling_strategy='majority')\n",
        "# X_train, y_train = undersampler.fit_resample(X_train, y_train)\n",
        "\n",
        "plot_class_percentage(y_train_b, f'y_train_b {y_train_b.shape}')\n"
      ]
    },
    {
      "cell_type": "markdown",
      "metadata": {
        "id": "NpbQHExL6OTu"
      },
      "source": [
        "### 2 - Entrenar el modelo con Embeddings propios + LSTM"
      ]
    },
    {
      "cell_type": "code",
      "execution_count": 45,
      "metadata": {
        "id": "EcDPlhEouQ9E",
        "outputId": "16321e32-fb22-47d3-934c-00b486d59a9b",
        "colab": {
          "base_uri": "https://localhost:8080/"
        }
      },
      "outputs": [
        {
          "output_type": "stream",
          "name": "stdout",
          "text": [
            "in_shape 115 , out_shape 5\n"
          ]
        }
      ],
      "source": [
        "# Alumno: determinar la dimensiones de entrada y salida\n",
        "in_shape = X_train_b.shape[1] # max input sentence len\n",
        "out_shape = n_classes # class classification\n",
        "print(\"in_shape\", in_shape, \", out_shape\", out_shape)"
      ]
    },
    {
      "cell_type": "code",
      "execution_count": 39,
      "metadata": {
        "id": "NUkuWBsM6cx3",
        "outputId": "e9cadf54-3f0f-4702-d810-79236a6d9884",
        "colab": {
          "base_uri": "https://localhost:8080/"
        }
      },
      "outputs": [
        {
          "output_type": "stream",
          "name": "stdout",
          "text": [
            "Model: \"sequential_4\"\n",
            "_________________________________________________________________\n",
            " Layer (type)                Output Shape              Param #   \n",
            "=================================================================\n",
            " embedding_4 (Embedding)     (None, 115, 50)           100050    \n",
            "                                                                 \n",
            " lstm_8 (LSTM)               (None, 115, 64)           29440     \n",
            "                                                                 \n",
            " dropout_8 (Dropout)         (None, 115, 64)           0         \n",
            "                                                                 \n",
            " lstm_9 (LSTM)               (None, 128)               98816     \n",
            "                                                                 \n",
            " dense_8 (Dense)             (None, 64)                8256      \n",
            "                                                                 \n",
            " dropout_9 (Dropout)         (None, 64)                0         \n",
            "                                                                 \n",
            " dense_9 (Dense)             (None, 5)                 325       \n",
            "                                                                 \n",
            "=================================================================\n",
            "Total params: 236,887\n",
            "Trainable params: 236,887\n",
            "Non-trainable params: 0\n",
            "_________________________________________________________________\n"
          ]
        }
      ],
      "source": [
        "# Alumno: Entrene su modelo con LSTM entrenando sus propios embeddings\n",
        "# o utilizando embeddings pre-entrenados.\n",
        "from keras.layers import LSTM\n",
        "from keras.layers import Embedding\n",
        "from keras.layers import Dropout\n",
        "\n",
        "model = Sequential()\n",
        "# input_dim = vocab_size (max n_words)\n",
        "# input_length = sentencias con padding a 200\n",
        "# output_dim = 50 --> crear embeddings de tamaño 50\n",
        "model.add(Embedding(input_dim=vocab_size+1, output_dim=50, input_length=in_shape))\n",
        "model.add(LSTM(units=64, return_sequences=True))\n",
        "model.add(Dropout(0.3))\n",
        "model.add(LSTM(units=128)) # La última capa LSTM no lleva return_sequences\n",
        "\n",
        "model.add(Dense(units=64, activation='relu'))\n",
        "model.add(Dropout(rate=0.3))\n",
        "model.add(Dense(units=out_shape, activation='sigmoid'))\n",
        "\n",
        "model.compile(optimizer=\"adam\",\n",
        "              loss='categorical_crossentropy',\n",
        "              metrics=['accuracy'])\n",
        "\n",
        "model.summary()"
      ]
    },
    {
      "cell_type": "code",
      "source": [
        "hist = model.fit(X_train_b, y_train_b, validation_data=(X_val, y_val), epochs=50)"
      ],
      "metadata": {
        "id": "6BZA5w7tV5GN",
        "outputId": "e74687fa-d50b-4a84-952d-e1d41d1fd578",
        "colab": {
          "base_uri": "https://localhost:8080/"
        }
      },
      "execution_count": 40,
      "outputs": [
        {
          "output_type": "stream",
          "name": "stdout",
          "text": [
            "Epoch 1/50\n",
            "1188/1188 [==============================] - 46s 35ms/step - loss: 1.2963 - accuracy: 0.3790 - val_loss: 1.2313 - val_accuracy: 0.4006\n",
            "Epoch 2/50\n",
            "1188/1188 [==============================] - 21s 17ms/step - loss: 1.2340 - accuracy: 0.3996 - val_loss: 1.2091 - val_accuracy: 0.4073\n",
            "Epoch 3/50\n",
            "1188/1188 [==============================] - 17s 14ms/step - loss: 1.2154 - accuracy: 0.4081 - val_loss: 1.2144 - val_accuracy: 0.4069\n",
            "Epoch 4/50\n",
            "1188/1188 [==============================] - 18s 15ms/step - loss: 1.1981 - accuracy: 0.4137 - val_loss: 1.2130 - val_accuracy: 0.4103\n",
            "Epoch 5/50\n",
            "1188/1188 [==============================] - 17s 14ms/step - loss: 1.1841 - accuracy: 0.4183 - val_loss: 1.2188 - val_accuracy: 0.4031\n",
            "Epoch 6/50\n",
            "1188/1188 [==============================] - 17s 14ms/step - loss: 1.1728 - accuracy: 0.4260 - val_loss: 1.2189 - val_accuracy: 0.4093\n",
            "Epoch 7/50\n",
            "1188/1188 [==============================] - 18s 15ms/step - loss: 1.1613 - accuracy: 0.4307 - val_loss: 1.2344 - val_accuracy: 0.4041\n",
            "Epoch 8/50\n",
            "1188/1188 [==============================] - 17s 14ms/step - loss: 1.1456 - accuracy: 0.4363 - val_loss: 1.2443 - val_accuracy: 0.4069\n",
            "Epoch 9/50\n",
            "1188/1188 [==============================] - 17s 14ms/step - loss: 1.1312 - accuracy: 0.4450 - val_loss: 1.2531 - val_accuracy: 0.4074\n",
            "Epoch 10/50\n",
            "1188/1188 [==============================] - 16s 14ms/step - loss: 1.1209 - accuracy: 0.4517 - val_loss: 1.2858 - val_accuracy: 0.3866\n",
            "Epoch 11/50\n",
            "1188/1188 [==============================] - 16s 14ms/step - loss: 1.1079 - accuracy: 0.4563 - val_loss: 1.2858 - val_accuracy: 0.3978\n",
            "Epoch 12/50\n",
            "1188/1188 [==============================] - 17s 14ms/step - loss: 1.0946 - accuracy: 0.4597 - val_loss: 1.3355 - val_accuracy: 0.4037\n",
            "Epoch 13/50\n",
            "1188/1188 [==============================] - 17s 14ms/step - loss: 1.0814 - accuracy: 0.4684 - val_loss: 1.3639 - val_accuracy: 0.3987\n",
            "Epoch 14/50\n",
            "1188/1188 [==============================] - 17s 14ms/step - loss: 1.0652 - accuracy: 0.4777 - val_loss: 1.3627 - val_accuracy: 0.4040\n",
            "Epoch 15/50\n",
            "1188/1188 [==============================] - 17s 15ms/step - loss: 1.0483 - accuracy: 0.4882 - val_loss: 1.4327 - val_accuracy: 0.3982\n",
            "Epoch 16/50\n",
            "1188/1188 [==============================] - 16s 14ms/step - loss: 1.0346 - accuracy: 0.4968 - val_loss: 1.4211 - val_accuracy: 0.3985\n",
            "Epoch 17/50\n",
            "1188/1188 [==============================] - 17s 14ms/step - loss: 1.0129 - accuracy: 0.5073 - val_loss: 1.4772 - val_accuracy: 0.3912\n",
            "Epoch 18/50\n",
            "1188/1188 [==============================] - 16s 14ms/step - loss: 0.9973 - accuracy: 0.5142 - val_loss: 1.5300 - val_accuracy: 0.3906\n",
            "Epoch 19/50\n",
            "1188/1188 [==============================] - 17s 14ms/step - loss: 0.9797 - accuracy: 0.5237 - val_loss: 1.5770 - val_accuracy: 0.3856\n",
            "Epoch 20/50\n",
            "1188/1188 [==============================] - 17s 15ms/step - loss: 0.9605 - accuracy: 0.5370 - val_loss: 1.6109 - val_accuracy: 0.3746\n",
            "Epoch 21/50\n",
            "1188/1188 [==============================] - 16s 13ms/step - loss: 0.9431 - accuracy: 0.5481 - val_loss: 1.7111 - val_accuracy: 0.3775\n",
            "Epoch 22/50\n",
            "1188/1188 [==============================] - 17s 14ms/step - loss: 0.9304 - accuracy: 0.5515 - val_loss: 1.7207 - val_accuracy: 0.3838\n",
            "Epoch 23/50\n",
            "1188/1188 [==============================] - 17s 14ms/step - loss: 0.9094 - accuracy: 0.5615 - val_loss: 1.7303 - val_accuracy: 0.3755\n",
            "Epoch 24/50\n",
            "1188/1188 [==============================] - 16s 13ms/step - loss: 0.8920 - accuracy: 0.5667 - val_loss: 1.8564 - val_accuracy: 0.3725\n",
            "Epoch 25/50\n",
            "1188/1188 [==============================] - 17s 14ms/step - loss: 0.8752 - accuracy: 0.5810 - val_loss: 1.9640 - val_accuracy: 0.3712\n",
            "Epoch 26/50\n",
            "1188/1188 [==============================] - 18s 15ms/step - loss: 0.8587 - accuracy: 0.5862 - val_loss: 2.0294 - val_accuracy: 0.3659\n",
            "Epoch 27/50\n",
            "1188/1188 [==============================] - 17s 14ms/step - loss: 0.8399 - accuracy: 0.5959 - val_loss: 2.0237 - val_accuracy: 0.3806\n",
            "Epoch 28/50\n",
            "1188/1188 [==============================] - 17s 15ms/step - loss: 0.8213 - accuracy: 0.6046 - val_loss: 2.1894 - val_accuracy: 0.3750\n",
            "Epoch 29/50\n",
            "1188/1188 [==============================] - 16s 14ms/step - loss: 0.8075 - accuracy: 0.6138 - val_loss: 2.1561 - val_accuracy: 0.3750\n",
            "Epoch 30/50\n",
            "1188/1188 [==============================] - 17s 14ms/step - loss: 0.7867 - accuracy: 0.6242 - val_loss: 2.1321 - val_accuracy: 0.3638\n",
            "Epoch 31/50\n",
            "1188/1188 [==============================] - 17s 14ms/step - loss: 0.7716 - accuracy: 0.6317 - val_loss: 2.3636 - val_accuracy: 0.3653\n",
            "Epoch 32/50\n",
            "1188/1188 [==============================] - 16s 13ms/step - loss: 0.7520 - accuracy: 0.6419 - val_loss: 2.3621 - val_accuracy: 0.3665\n",
            "Epoch 33/50\n",
            "1188/1188 [==============================] - 17s 14ms/step - loss: 0.7322 - accuracy: 0.6540 - val_loss: 2.5826 - val_accuracy: 0.3651\n",
            "Epoch 34/50\n",
            "1188/1188 [==============================] - 17s 14ms/step - loss: 0.7232 - accuracy: 0.6584 - val_loss: 2.5617 - val_accuracy: 0.3650\n",
            "Epoch 35/50\n",
            "1188/1188 [==============================] - 16s 14ms/step - loss: 0.7060 - accuracy: 0.6694 - val_loss: 2.5818 - val_accuracy: 0.3730\n",
            "Epoch 36/50\n",
            "1188/1188 [==============================] - 17s 14ms/step - loss: 0.6889 - accuracy: 0.6790 - val_loss: 2.8139 - val_accuracy: 0.3667\n",
            "Epoch 37/50\n",
            "1188/1188 [==============================] - 17s 15ms/step - loss: 0.6733 - accuracy: 0.6841 - val_loss: 2.9131 - val_accuracy: 0.3656\n",
            "Epoch 38/50\n",
            "1188/1188 [==============================] - 17s 14ms/step - loss: 0.6597 - accuracy: 0.6924 - val_loss: 2.9784 - val_accuracy: 0.3688\n",
            "Epoch 39/50\n",
            "1188/1188 [==============================] - 17s 14ms/step - loss: 0.6412 - accuracy: 0.7044 - val_loss: 2.9158 - val_accuracy: 0.3707\n",
            "Epoch 40/50\n",
            "1188/1188 [==============================] - 16s 14ms/step - loss: 0.6216 - accuracy: 0.7111 - val_loss: 2.9619 - val_accuracy: 0.3715\n",
            "Epoch 41/50\n",
            "1188/1188 [==============================] - 16s 14ms/step - loss: 0.6131 - accuracy: 0.7189 - val_loss: 3.0802 - val_accuracy: 0.3748\n",
            "Epoch 42/50\n",
            "1188/1188 [==============================] - 17s 14ms/step - loss: 0.5980 - accuracy: 0.7253 - val_loss: 3.3063 - val_accuracy: 0.3687\n",
            "Epoch 43/50\n",
            "1188/1188 [==============================] - 16s 13ms/step - loss: 0.5846 - accuracy: 0.7337 - val_loss: 3.1388 - val_accuracy: 0.3641\n",
            "Epoch 44/50\n",
            "1188/1188 [==============================] - 17s 14ms/step - loss: 0.5703 - accuracy: 0.7412 - val_loss: 3.1627 - val_accuracy: 0.3773\n",
            "Epoch 45/50\n",
            "1188/1188 [==============================] - 17s 14ms/step - loss: 0.5589 - accuracy: 0.7506 - val_loss: 3.2900 - val_accuracy: 0.3683\n",
            "Epoch 46/50\n",
            "1188/1188 [==============================] - 16s 14ms/step - loss: 0.5442 - accuracy: 0.7572 - val_loss: 3.6076 - val_accuracy: 0.3732\n",
            "Epoch 47/50\n",
            "1188/1188 [==============================] - 16s 14ms/step - loss: 0.5370 - accuracy: 0.7635 - val_loss: 3.4020 - val_accuracy: 0.3759\n",
            "Epoch 48/50\n",
            "1188/1188 [==============================] - 17s 14ms/step - loss: 0.5170 - accuracy: 0.7714 - val_loss: 3.5751 - val_accuracy: 0.3743\n",
            "Epoch 49/50\n",
            "1188/1188 [==============================] - 28s 24ms/step - loss: 0.5091 - accuracy: 0.7769 - val_loss: 3.6828 - val_accuracy: 0.3750\n",
            "Epoch 50/50\n",
            "1188/1188 [==============================] - 20s 17ms/step - loss: 0.4938 - accuracy: 0.7847 - val_loss: 3.6920 - val_accuracy: 0.3777\n"
          ]
        }
      ]
    },
    {
      "cell_type": "code",
      "source": [
        "from keras.regularizers import l2\n",
        "model2 = Sequential()\n",
        "model2.add(Embedding(input_dim=vocab_size+1, output_dim=50, input_length=in_shape))\n",
        "model2.add(LSTM(units=64, return_sequences=True))\n",
        "model2.add(Dropout(0.3))\n",
        "model2.add(LSTM(units=128)) # La última capa LSTM no lleva return_sequences\n",
        "\n",
        "model2.add(Dense(units=64, activation='relu', activity_regularizer=l2(0.01)))\n",
        "model2.add(Dropout(rate=0.3))\n",
        "model2.add(Dense(units=out_shape, activation='sigmoid', activity_regularizer=l2(0.01)))\n",
        "\n",
        "model2.compile(optimizer=\"adam\",\n",
        "              loss='categorical_crossentropy',\n",
        "              metrics=['accuracy'])\n",
        "\n",
        "model2.summary()"
      ],
      "metadata": {
        "id": "PbN9JcoX7AXp",
        "outputId": "bf6e84fd-0fbc-47cf-bcc3-004146e43f36",
        "colab": {
          "base_uri": "https://localhost:8080/"
        }
      },
      "execution_count": 46,
      "outputs": [
        {
          "output_type": "stream",
          "name": "stdout",
          "text": [
            "Model: \"sequential_7\"\n",
            "_________________________________________________________________\n",
            " Layer (type)                Output Shape              Param #   \n",
            "=================================================================\n",
            " embedding_7 (Embedding)     (None, 115, 50)           100050    \n",
            "                                                                 \n",
            " lstm_14 (LSTM)              (None, 115, 64)           29440     \n",
            "                                                                 \n",
            " dropout_13 (Dropout)        (None, 115, 64)           0         \n",
            "                                                                 \n",
            " lstm_15 (LSTM)              (None, 128)               98816     \n",
            "                                                                 \n",
            " dense_12 (Dense)            (None, 64)                8256      \n",
            "                                                                 \n",
            " dropout_14 (Dropout)        (None, 64)                0         \n",
            "                                                                 \n",
            " dense_13 (Dense)            (None, 5)                 325       \n",
            "                                                                 \n",
            "=================================================================\n",
            "Total params: 236,887\n",
            "Trainable params: 236,887\n",
            "Non-trainable params: 0\n",
            "_________________________________________________________________\n"
          ]
        }
      ]
    },
    {
      "cell_type": "code",
      "source": [
        "hist2 = model2.fit(X_train_b, y_train_b, validation_data=(X_val, y_val), epochs=50)"
      ],
      "metadata": {
        "id": "pkmnrwxf7QaV",
        "outputId": "62042fa3-7f85-4fd1-ba5b-a070c7680b2b",
        "colab": {
          "base_uri": "https://localhost:8080/"
        }
      },
      "execution_count": 47,
      "outputs": [
        {
          "output_type": "stream",
          "name": "stdout",
          "text": [
            "Epoch 1/50\n",
            "1188/1188 [==============================] - 45s 34ms/step - loss: 1.3142 - accuracy: 0.3825 - val_loss: 1.2522 - val_accuracy: 0.3985\n",
            "Epoch 2/50\n",
            "1188/1188 [==============================] - 20s 17ms/step - loss: 1.2406 - accuracy: 0.4063 - val_loss: 1.2351 - val_accuracy: 0.4052\n",
            "Epoch 3/50\n",
            "1188/1188 [==============================] - 18s 15ms/step - loss: 1.2167 - accuracy: 0.4112 - val_loss: 1.2341 - val_accuracy: 0.3994\n",
            "Epoch 4/50\n",
            "1188/1188 [==============================] - 19s 16ms/step - loss: 1.1929 - accuracy: 0.4249 - val_loss: 1.2252 - val_accuracy: 0.4111\n",
            "Epoch 5/50\n",
            "1188/1188 [==============================] - 18s 15ms/step - loss: 1.1744 - accuracy: 0.4346 - val_loss: 1.2349 - val_accuracy: 0.4100\n",
            "Epoch 6/50\n",
            "1188/1188 [==============================] - 17s 15ms/step - loss: 1.1602 - accuracy: 0.4408 - val_loss: 1.2490 - val_accuracy: 0.4115\n",
            "Epoch 7/50\n",
            "1188/1188 [==============================] - 17s 15ms/step - loss: 1.1401 - accuracy: 0.4563 - val_loss: 1.2490 - val_accuracy: 0.4113\n",
            "Epoch 8/50\n",
            "1188/1188 [==============================] - 17s 14ms/step - loss: 1.1193 - accuracy: 0.4689 - val_loss: 1.2652 - val_accuracy: 0.4034\n",
            "Epoch 9/50\n",
            "1188/1188 [==============================] - 17s 14ms/step - loss: 1.1004 - accuracy: 0.4828 - val_loss: 1.2776 - val_accuracy: 0.4139\n",
            "Epoch 10/50\n",
            "1188/1188 [==============================] - 17s 15ms/step - loss: 1.0796 - accuracy: 0.4964 - val_loss: 1.3015 - val_accuracy: 0.4013\n",
            "Epoch 11/50\n",
            "1188/1188 [==============================] - 17s 14ms/step - loss: 1.0580 - accuracy: 0.5114 - val_loss: 1.3000 - val_accuracy: 0.4079\n",
            "Epoch 12/50\n",
            "1188/1188 [==============================] - 17s 15ms/step - loss: 1.0393 - accuracy: 0.5213 - val_loss: 1.3415 - val_accuracy: 0.4058\n",
            "Epoch 13/50\n",
            "1188/1188 [==============================] - 17s 14ms/step - loss: 1.0177 - accuracy: 0.5337 - val_loss: 1.3779 - val_accuracy: 0.4091\n",
            "Epoch 14/50\n",
            "1188/1188 [==============================] - 16s 14ms/step - loss: 0.9937 - accuracy: 0.5459 - val_loss: 1.4182 - val_accuracy: 0.3949\n",
            "Epoch 15/50\n",
            "1188/1188 [==============================] - 17s 14ms/step - loss: 0.9743 - accuracy: 0.5568 - val_loss: 1.4181 - val_accuracy: 0.4020\n",
            "Epoch 16/50\n",
            "1188/1188 [==============================] - 17s 14ms/step - loss: 0.9537 - accuracy: 0.5681 - val_loss: 1.5241 - val_accuracy: 0.3932\n",
            "Epoch 17/50\n",
            "1188/1188 [==============================] - 17s 14ms/step - loss: 0.9319 - accuracy: 0.5793 - val_loss: 1.5015 - val_accuracy: 0.3929\n",
            "Epoch 18/50\n",
            "1188/1188 [==============================] - 20s 17ms/step - loss: 0.9102 - accuracy: 0.5908 - val_loss: 1.6022 - val_accuracy: 0.3905\n",
            "Epoch 19/50\n",
            "1188/1188 [==============================] - 25s 21ms/step - loss: 0.8853 - accuracy: 0.6032 - val_loss: 1.6949 - val_accuracy: 0.3807\n",
            "Epoch 20/50\n",
            "1188/1188 [==============================] - 21s 18ms/step - loss: 0.8664 - accuracy: 0.6136 - val_loss: 1.7113 - val_accuracy: 0.3877\n",
            "Epoch 21/50\n",
            "1188/1188 [==============================] - 16s 14ms/step - loss: 0.8505 - accuracy: 0.6197 - val_loss: 1.6697 - val_accuracy: 0.3871\n",
            "Epoch 22/50\n",
            "1188/1188 [==============================] - 17s 14ms/step - loss: 0.8265 - accuracy: 0.6323 - val_loss: 1.7593 - val_accuracy: 0.3912\n",
            "Epoch 23/50\n",
            "1188/1188 [==============================] - 18s 15ms/step - loss: 0.8046 - accuracy: 0.6441 - val_loss: 1.7705 - val_accuracy: 0.3904\n",
            "Epoch 24/50\n",
            "1188/1188 [==============================] - 17s 14ms/step - loss: 0.7880 - accuracy: 0.6512 - val_loss: 1.8617 - val_accuracy: 0.3864\n",
            "Epoch 25/50\n",
            "1188/1188 [==============================] - 18s 15ms/step - loss: 0.7645 - accuracy: 0.6648 - val_loss: 1.9203 - val_accuracy: 0.3857\n",
            "Epoch 26/50\n",
            "1188/1188 [==============================] - 16s 14ms/step - loss: 0.7415 - accuracy: 0.6739 - val_loss: 1.9670 - val_accuracy: 0.3871\n",
            "Epoch 27/50\n",
            "1188/1188 [==============================] - 16s 14ms/step - loss: 0.7262 - accuracy: 0.6794 - val_loss: 2.0560 - val_accuracy: 0.3840\n",
            "Epoch 28/50\n",
            "1188/1188 [==============================] - 18s 15ms/step - loss: 0.7018 - accuracy: 0.6924 - val_loss: 2.1025 - val_accuracy: 0.3891\n",
            "Epoch 29/50\n",
            "1188/1188 [==============================] - 16s 14ms/step - loss: 0.6854 - accuracy: 0.7030 - val_loss: 2.0967 - val_accuracy: 0.3907\n",
            "Epoch 30/50\n",
            "1188/1188 [==============================] - 18s 15ms/step - loss: 0.6663 - accuracy: 0.7094 - val_loss: 2.2221 - val_accuracy: 0.3776\n",
            "Epoch 31/50\n",
            "1188/1188 [==============================] - 17s 15ms/step - loss: 0.6499 - accuracy: 0.7185 - val_loss: 2.3070 - val_accuracy: 0.3783\n",
            "Epoch 32/50\n",
            "1188/1188 [==============================] - 16s 14ms/step - loss: 0.6285 - accuracy: 0.7292 - val_loss: 2.4272 - val_accuracy: 0.3781\n",
            "Epoch 33/50\n",
            "1188/1188 [==============================] - 18s 15ms/step - loss: 0.6106 - accuracy: 0.7366 - val_loss: 2.4104 - val_accuracy: 0.3811\n",
            "Epoch 34/50\n",
            "1188/1188 [==============================] - 16s 14ms/step - loss: 0.5964 - accuracy: 0.7468 - val_loss: 2.5290 - val_accuracy: 0.3658\n",
            "Epoch 35/50\n",
            "1188/1188 [==============================] - 17s 15ms/step - loss: 0.5802 - accuracy: 0.7539 - val_loss: 2.5516 - val_accuracy: 0.3736\n",
            "Epoch 36/50\n",
            "1188/1188 [==============================] - 17s 14ms/step - loss: 0.5621 - accuracy: 0.7604 - val_loss: 2.5552 - val_accuracy: 0.3711\n",
            "Epoch 37/50\n",
            "1188/1188 [==============================] - 16s 14ms/step - loss: 0.5442 - accuracy: 0.7698 - val_loss: 2.7016 - val_accuracy: 0.3750\n",
            "Epoch 38/50\n",
            "1188/1188 [==============================] - 18s 15ms/step - loss: 0.5305 - accuracy: 0.7771 - val_loss: 2.6169 - val_accuracy: 0.3754\n",
            "Epoch 39/50\n",
            "1188/1188 [==============================] - 17s 14ms/step - loss: 0.5147 - accuracy: 0.7867 - val_loss: 2.8233 - val_accuracy: 0.3737\n",
            "Epoch 40/50\n",
            "1188/1188 [==============================] - 20s 17ms/step - loss: 0.5032 - accuracy: 0.7911 - val_loss: 2.7740 - val_accuracy: 0.3722\n",
            "Epoch 41/50\n",
            "1188/1188 [==============================] - 17s 14ms/step - loss: 0.4993 - accuracy: 0.7932 - val_loss: 2.8004 - val_accuracy: 0.3692\n",
            "Epoch 42/50\n",
            "1188/1188 [==============================] - 20s 17ms/step - loss: 0.4755 - accuracy: 0.8056 - val_loss: 2.9140 - val_accuracy: 0.3771\n",
            "Epoch 43/50\n",
            "1188/1188 [==============================] - 17s 14ms/step - loss: 0.4619 - accuracy: 0.8115 - val_loss: 2.9654 - val_accuracy: 0.3737\n",
            "Epoch 44/50\n",
            "1188/1188 [==============================] - 17s 14ms/step - loss: 0.4520 - accuracy: 0.8171 - val_loss: 2.9725 - val_accuracy: 0.3805\n",
            "Epoch 45/50\n",
            "1188/1188 [==============================] - 17s 15ms/step - loss: 0.4347 - accuracy: 0.8240 - val_loss: 2.9958 - val_accuracy: 0.3659\n",
            "Epoch 46/50\n",
            "1188/1188 [==============================] - 17s 14ms/step - loss: 0.4229 - accuracy: 0.8325 - val_loss: 2.9384 - val_accuracy: 0.3667\n",
            "Epoch 47/50\n",
            "1188/1188 [==============================] - 18s 15ms/step - loss: 0.4130 - accuracy: 0.8373 - val_loss: 3.0637 - val_accuracy: 0.3726\n",
            "Epoch 48/50\n",
            "1188/1188 [==============================] - 17s 14ms/step - loss: 0.4009 - accuracy: 0.8426 - val_loss: 2.9782 - val_accuracy: 0.3762\n",
            "Epoch 49/50\n",
            "1188/1188 [==============================] - 17s 14ms/step - loss: 0.3890 - accuracy: 0.8483 - val_loss: 3.2795 - val_accuracy: 0.3746\n",
            "Epoch 50/50\n",
            "1188/1188 [==============================] - 17s 14ms/step - loss: 0.3784 - accuracy: 0.8529 - val_loss: 3.1122 - val_accuracy: 0.3739\n"
          ]
        }
      ]
    },
    {
      "cell_type": "code",
      "execution_count": 48,
      "metadata": {
        "id": "H8whfpA3QKxv",
        "outputId": "8b269cbc-d776-4c37-a0dd-1c7a9ee38a5e",
        "colab": {
          "base_uri": "https://localhost:8080/",
          "height": 844
        }
      },
      "outputs": [
        {
          "output_type": "display_data",
          "data": {
            "text/plain": [
              "<Figure size 640x480 with 1 Axes>"
            ],
            "image/png": "[encoded data removed]"
          },
          "metadata": {}
        },
        {
          "output_type": "display_data",
          "data": {
            "text/plain": [
              "<Figure size 640x480 with 1 Axes>"
            ],
            "image/png": "[encoded data removed]"
          },
          "metadata": {}
        }
      ],
      "source": [
        "import matplotlib.pyplot as plt\n",
        "import seaborn as sns\n",
        "epoch_count = range(1, len(hist.history['accuracy']) + 1)\n",
        "sns.lineplot(x=epoch_count,  y=hist.history['accuracy'], label='train')\n",
        "sns.lineplot(x=epoch_count,  y=hist.history['val_accuracy'], label='valid')\n",
        "plt.show()\n",
        "epoch_count = range(1, len(hist2.history['accuracy']) + 1)\n",
        "sns.lineplot(x=epoch_count,  y=hist2.history['accuracy'], label='train')\n",
        "sns.lineplot(x=epoch_count,  y=hist2.history['val_accuracy'], label='valid')\n",
        "plt.show()"
      ]
    },
    {
      "cell_type": "code",
      "source": [
        "# Ambos modelos tienen overfitting, asique cortamos el entrenamiento antes\n",
        "hist3 = model2.fit(X_train_b, y_train_b, validation_data=(X_val, y_val), epochs=14)"
      ],
      "metadata": {
        "id": "YKOHf4WFBhBX",
        "outputId": "33f01480-dbce-4784-bccd-767563cb43c5",
        "colab": {
          "base_uri": "https://localhost:8080/"
        }
      },
      "execution_count": 57,
      "outputs": [
        {
          "output_type": "stream",
          "name": "stdout",
          "text": [
            "Epoch 1/14\n",
            "1188/1188 [==============================] - 22s 19ms/step - loss: 0.3731 - accuracy: 0.8544 - val_loss: 3.2590 - val_accuracy: 0.3699\n",
            "Epoch 2/14\n",
            "1188/1188 [==============================] - 21s 18ms/step - loss: 0.3521 - accuracy: 0.8630 - val_loss: 3.3195 - val_accuracy: 0.3741\n",
            "Epoch 3/14\n",
            "1188/1188 [==============================] - 17s 15ms/step - loss: 0.3469 - accuracy: 0.8679 - val_loss: 3.2493 - val_accuracy: 0.3781\n",
            "Epoch 4/14\n",
            "1188/1188 [==============================] - 17s 14ms/step - loss: 0.3398 - accuracy: 0.8720 - val_loss: 3.4065 - val_accuracy: 0.3721\n",
            "Epoch 5/14\n",
            "1188/1188 [==============================] - 17s 15ms/step - loss: 0.3251 - accuracy: 0.8774 - val_loss: 3.4755 - val_accuracy: 0.3738\n",
            "Epoch 6/14\n",
            "1188/1188 [==============================] - 16s 14ms/step - loss: 0.3136 - accuracy: 0.8833 - val_loss: 3.5395 - val_accuracy: 0.3759\n",
            "Epoch 7/14\n",
            "1188/1188 [==============================] - 26s 22ms/step - loss: 0.3134 - accuracy: 0.8835 - val_loss: 3.3888 - val_accuracy: 0.3738\n",
            "Epoch 8/14\n",
            "1188/1188 [==============================] - 22s 19ms/step - loss: 0.2997 - accuracy: 0.8918 - val_loss: 3.4786 - val_accuracy: 0.3683\n",
            "Epoch 9/14\n",
            "1188/1188 [==============================] - 17s 14ms/step - loss: 0.2973 - accuracy: 0.8911 - val_loss: 3.5100 - val_accuracy: 0.3760\n",
            "Epoch 10/14\n",
            "1188/1188 [==============================] - 16s 14ms/step - loss: 0.2852 - accuracy: 0.8972 - val_loss: 3.6442 - val_accuracy: 0.3755\n",
            "Epoch 11/14\n",
            "1188/1188 [==============================] - 17s 14ms/step - loss: 0.2730 - accuracy: 0.9003 - val_loss: 3.5997 - val_accuracy: 0.3725\n",
            "Epoch 12/14\n",
            "1188/1188 [==============================] - 18s 15ms/step - loss: 0.2715 - accuracy: 0.9027 - val_loss: 3.5786 - val_accuracy: 0.3721\n",
            "Epoch 13/14\n",
            "1188/1188 [==============================] - 18s 15ms/step - loss: 0.2706 - accuracy: 0.9029 - val_loss: 3.6454 - val_accuracy: 0.3696\n",
            "Epoch 14/14\n",
            "1188/1188 [==============================] - 17s 14ms/step - loss: 0.2572 - accuracy: 0.9102 - val_loss: 3.7210 - val_accuracy: 0.3711\n"
          ]
        }
      ]
    },
    {
      "cell_type": "code",
      "execution_count": 58,
      "metadata": {
        "id": "zoKVUHQhQKxv",
        "outputId": "6c9639b4-6f68-4e09-c016-f4572ab45ad1",
        "colab": {
          "base_uri": "https://localhost:8080/"
        }
      },
      "outputs": [
        {
          "output_type": "stream",
          "name": "stdout",
          "text": [
            "142/142 [==============================] - 1s 5ms/step\n",
            "F1 score: 0.5731949657761095\n"
          ]
        }
      ],
      "source": [
        "# model.evaluate(X_test, y_test)\n",
        "from sklearn.metrics import f1_score\n",
        "y_pred = model2.predict(X_test)\n",
        "y_pred = np.argmax(y_pred,axis=1)\n",
        "f1sc = f1_score(y_test, y_pred, average='micro')\n",
        "print(f'F1 score: {f1sc}')\n"
      ]
    }
  ],
  "metadata": {
    "accelerator": "GPU",
    "colab": {
      "provenance": []
    },
    "kernelspec": {
      "display_name": "Python 3",
      "name": "python3"
    },
    "language_info": {
      "codemirror_mode": {
        "name": "ipython",
        "version": 3
      },
      "file_extension": ".py",
      "mimetype": "text/x-python",
      "name": "python",
      "nbconvert_exporter": "python",
      "pygments_lexer": "ipython3",
      "version": "3.10.9"
    }
  },
  "nbformat": 4,
  "nbformat_minor": 0
}