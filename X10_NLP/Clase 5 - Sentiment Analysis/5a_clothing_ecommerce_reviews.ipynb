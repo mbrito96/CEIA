{
  "cells": [
    {
      "cell_type": "markdown",
      "metadata": {
        "id": "kBLpTr7plguX"
      },
      "source": [
        "<img src=\"https://github.com/hernancontigiani/ceia_memorias_especializacion/raw/master/Figures/logoFIUBA.jpg\" width=\"500\" align=\"center\">\n",
        "\n",
        "\n",
        "# Procesamiento de lenguaje natural\n",
        "## Sentiment analysis con Embeddings + LSTM"
      ]
    },
    {
      "cell_type": "markdown",
      "metadata": {
        "id": "9W6nuajhlqZD"
      },
      "source": [
        "### Objetivo\n",
        "El objetivo es utilizar las críticas de compradores de ropa para que el sistema determine la evaluación del comprador y su crítica (cuantas estrellas le asigna al producto)."
      ]
    },
    {
      "cell_type": "code",
      "execution_count": 1,
      "metadata": {
        "id": "i6zvzv3qZ6xS"
      },
      "outputs": [],
      "source": [
        "!pip install --upgrade --no-cache-dir gdown --quiet"
      ]
    },
    {
      "cell_type": "code",
      "execution_count": 2,
      "metadata": {
        "id": "hCpOVzJdl8_p"
      },
      "outputs": [],
      "source": [
        "import numpy as np\n",
        "import random\n",
        "import io\n",
        "import pickle\n",
        "import pandas as pd\n",
        "\n",
        "import matplotlib.pyplot as plt\n",
        "import seaborn as sns\n",
        "\n",
        "import tensorflow as tf\n",
        "from tensorflow import keras\n",
        "from tensorflow.keras import layers\n",
        "\n",
        "from keras.utils.np_utils import to_categorical\n",
        "from tensorflow.keras.utils import pad_sequences\n",
        "from keras.models import Sequential\n",
        "from keras.layers import Dense\n",
        "from keras.layers import LSTM\n",
        "from keras.layers import Embedding"
      ]
    },
    {
      "cell_type": "code",
      "execution_count": 3,
      "metadata": {
        "id": "oflIZcYKQKxp"
      },
      "outputs": [],
      "source": [
        "from sklearn.metrics import roc_curve\n",
        "from sklearn.metrics import auc\n",
        "\n",
        "def curva_roc(model, X_test, y_test):\n",
        "    y_hat_prob = model.predict(X_test).ravel()\n",
        "\n",
        "    # Calcular la exactitud (accuracy)\n",
        "    scores = model.evaluate(X_test, y_test)\n",
        "    print(\"Accuracy:\", scores[1])\n",
        "\n",
        "    fpr, tpr, thresholds = roc_curve(y_test, y_hat_prob)\n",
        "    auc_keras = auc(fpr, tpr)\n",
        "    print('auc_keras', auc_keras)\n",
        "\n",
        "    plt.figure(1)\n",
        "    plt.plot([0, 1], [0, 1], 'k--')\n",
        "    plt.plot(fpr, tpr, label='Keras (area = {:.3f})'.format(auc_keras))\n",
        "    plt.xlabel('False positive rate')\n",
        "    plt.ylabel('True positive rate')\n",
        "    plt.title('Curva ROC test')\n",
        "    plt.legend(loc='best')\n",
        "    plt.show()"
      ]
    },
    {
      "cell_type": "markdown",
      "metadata": {
        "id": "8UPeRkrAmbF3"
      },
      "source": [
        "### Datos\n",
        "Utilizaremos como dataset críticas de compradores de ropa (eCommerce) los cuales puntuaron a cada prenda con un puntaje de 1 a 5 estrellas.\\\n",
        "Referencia del dataset: [LINK](https://www.kaggle.com/nicapotato/womens-ecommerce-clothing-reviews/version/1)"
      ]
    },
    {
      "cell_type": "code",
      "execution_count": 4,
      "metadata": {
        "id": "C7jLvTU3lSyL"
      },
      "outputs": [],
      "source": [
        "# Descargar la carpeta de dataset\n",
        "import os\n",
        "import gdown\n",
        "if os.access('clothing_ecommerce_reviews.csv', os.F_OK) is False:\n",
        "    url = 'https://drive.google.com/uc?id=1Urn1UFSrodN5BuW6-sc_igtaySGRwhV8'\n",
        "    output = 'clothing_ecommerce_reviews.csv'\n",
        "    gdown.download(url, output, quiet=False)"
      ]
    },
    {
      "cell_type": "code",
      "execution_count": 5,
      "metadata": {
        "id": "o-SV1P3dnD1J"
      },
      "outputs": [],
      "source": [
        "# Armar el dataset\n",
        "df = pd.read_csv('clothing_ecommerce_reviews.csv')"
      ]
    },
    {
      "cell_type": "markdown",
      "metadata": {
        "id": "q-OwSePKm-FK"
      },
      "source": [
        "### 1 - Limpieza de datos\n",
        "Alumno:\n",
        "- Del dataset unicamente utilizar las columnas \"Review Text\" y \"Rating.\n",
        "- Tranformar el rating 1-5 a una escala numérica de 0 a 4.\n",
        "\n"
      ]
    },
    {
      "cell_type": "code",
      "execution_count": 6,
      "metadata": {
        "id": "-hc7-AmYnPC3",
        "outputId": "525dd86a-0a4b-4970-ffc2-b25215dbd24b",
        "colab": {
          "base_uri": "https://localhost:8080/"
        }
      },
      "outputs": [
        {
          "output_type": "stream",
          "name": "stdout",
          "text": [
            "Total number of reviews:  22641\n",
            "                                             reviews  rating\n",
            "0  Absolutely wonderful - silky and sexy and comf...       3\n",
            "1  Love this dress!  it's sooo pretty.  i happene...       4\n",
            "2  I had such high hopes for this dress and reall...       2\n",
            "3  I love, love, love this jumpsuit. it's fun, fl...       4\n",
            "4  This shirt is very flattering to all due to th...       4\n"
          ]
        }
      ],
      "source": [
        "try:\n",
        "    df_reviews = df.loc[:, ['Review Text', 'Rating']].dropna()\n",
        "    df.drop(columns = ['Unnamed: 0'], inplace = True)\n",
        "    df_reviews['Rating'] = df_reviews['Rating'] - 1\n",
        "    df_reviews.rename(columns = {'Review Text': 'reviews', 'Rating': 'rating'}, inplace = True)\n",
        "except:\n",
        "    pass\n",
        "\n",
        "print('Total number of reviews: ', df_reviews.shape[0])\n",
        "print(df_reviews.head())"
      ]
    },
    {
      "cell_type": "code",
      "execution_count": 7,
      "metadata": {
        "id": "sZtvASVOn3ty",
        "outputId": "8a9d3a34-0234-4c5a-906d-24fbad4a99e8",
        "colab": {
          "base_uri": "https://localhost:8080/",
          "height": 333
        }
      },
      "outputs": [
        {
          "output_type": "display_data",
          "data": {
            "text/plain": [
              "<Figure size 1200x300 with 1 Axes>"
            ],
            "image/png": "[encoded data removed]"
          },
          "metadata": {}
        }
      ],
      "source": [
        "# Alumno: Observar como está distribuido el dataset respecto a la columna Rating\n",
        "# es decir, observar que tan balanceado se encuentra respecot a cada clase\n",
        "\n",
        "# Plot the distribution of each class\n",
        "plt.figure(figsize=(12,3))\n",
        "sns.countplot(x='rating', data=df_reviews)\n",
        "plt.title('Distribution of Rating')\n",
        "plt.show()"
      ]
    },
    {
      "cell_type": "code",
      "execution_count": 8,
      "metadata": {
        "id": "gVJ_RVi4o1h3"
      },
      "outputs": [],
      "source": [
        "# Alumno: tomar la columna de las review y almacenarlo todo en un vector numpy de reviews\n",
        "text_sequences = df_reviews['reviews'].values"
      ]
    },
    {
      "cell_type": "code",
      "execution_count": 9,
      "metadata": {
        "id": "4nT5Un_co65Q",
        "outputId": "10ec703b-c2dc-40f3-fcc8-3ab0026f89cf",
        "colab": {
          "base_uri": "https://localhost:8080/"
        }
      },
      "outputs": [
        {
          "output_type": "execute_result",
          "data": {
            "text/plain": [
              "22641"
            ]
          },
          "metadata": {},
          "execution_count": 9
        }
      ],
      "source": [
        "# Alumno: Cuantas reviews (rows) hay para evaluar?\n",
        "len(text_sequences)"
      ]
    },
    {
      "cell_type": "code",
      "execution_count": 10,
      "metadata": {
        "id": "HP5uN9tqpHu_"
      },
      "outputs": [],
      "source": [
        "# Alumno: Concatenar todas las reviews para armar el corpus\n",
        "corpus = ' '.join(text_sequences)"
      ]
    },
    {
      "cell_type": "code",
      "execution_count": 11,
      "metadata": {
        "id": "FEzmePgdpf74",
        "outputId": "3718aa6f-c50e-428f-bee1-c2bafb390317",
        "colab": {
          "base_uri": "https://localhost:8080/"
        }
      },
      "outputs": [
        {
          "output_type": "execute_result",
          "data": {
            "text/plain": [
              "7011643"
            ]
          },
          "metadata": {},
          "execution_count": 11
        }
      ],
      "source": [
        "# Alumno: ¿Cuál es la longitud de ese corpus?\n",
        "len(corpus)"
      ]
    },
    {
      "cell_type": "code",
      "execution_count": 12,
      "metadata": {
        "id": "MYeJLdDmpvOe"
      },
      "outputs": [],
      "source": [
        "# Alumno: Utilizar \"text_to_word_sequence\" para separar las palabras en tokens\n",
        "# recordar que text_to_word_sequence automaticamente quita los signos de puntuacion y pasa el texto a lowercase\n",
        "from keras.preprocessing.text import text_to_word_sequence\n",
        "tokens = text_to_word_sequence(corpus)"
      ]
    },
    {
      "cell_type": "code",
      "execution_count": 13,
      "metadata": {
        "id": "M6L-fnWAp_lA",
        "outputId": "9e793184-872c-44b1-d40f-fde70e51255e",
        "colab": {
          "base_uri": "https://localhost:8080/"
        }
      },
      "outputs": [
        {
          "output_type": "execute_result",
          "data": {
            "text/plain": [
              "['absolutely',\n",
              " 'wonderful',\n",
              " 'silky',\n",
              " 'and',\n",
              " 'sexy',\n",
              " 'and',\n",
              " 'comfortable',\n",
              " 'love',\n",
              " 'this',\n",
              " 'dress',\n",
              " \"it's\",\n",
              " 'sooo',\n",
              " 'pretty',\n",
              " 'i',\n",
              " 'happened',\n",
              " 'to',\n",
              " 'find',\n",
              " 'it',\n",
              " 'in',\n",
              " 'a']"
            ]
          },
          "metadata": {},
          "execution_count": 13
        }
      ],
      "source": [
        "# Alumno: Dar un vistazo a los primeros 20 tokens/palabras\n",
        "tokens[:20]"
      ]
    },
    {
      "cell_type": "code",
      "execution_count": 14,
      "metadata": {
        "id": "-8QgwwMUqG0d",
        "outputId": "9c11bdca-0a5a-4d31-e1cb-daf274c91128",
        "colab": {
          "base_uri": "https://localhost:8080/"
        }
      },
      "outputs": [
        {
          "output_type": "execute_result",
          "data": {
            "text/plain": [
              "1372203"
            ]
          },
          "metadata": {},
          "execution_count": 14
        }
      ],
      "source": [
        "# Alumno: ¿Cuántos tokens/palabras hay?\n",
        "len(tokens)"
      ]
    },
    {
      "cell_type": "markdown",
      "metadata": {
        "id": "9G_55yYxQKxt"
      },
      "source": [
        "### Tokenizar las palabras"
      ]
    },
    {
      "cell_type": "code",
      "execution_count": 15,
      "metadata": {
        "id": "TFukNZdOsZ8_"
      },
      "outputs": [],
      "source": [
        "# Alumno: Tokenizar las palabras con el Tokenizer de Keras\n",
        "# Definir una máxima cantidad de palabras a utilizar:\n",
        "# num_words --> the maximum number of words to keep, based on word frequency.\n",
        "# Only the most common num_words-1 words will be kept.\n",
        "from keras.preprocessing.text import Tokenizer\n",
        "num_words = 2000\n",
        "vocab_size = num_words\n",
        "tok = Tokenizer(num_words=2000)\n",
        "tok.fit_on_texts(tokens)"
      ]
    },
    {
      "cell_type": "code",
      "execution_count": 16,
      "metadata": {
        "id": "JnR1tlqZy94X",
        "outputId": "2e835e69-c313-4d9d-f114-a3f9a260e935",
        "colab": {
          "base_uri": "https://localhost:8080/"
        }
      },
      "outputs": [
        {
          "output_type": "execute_result",
          "data": {
            "text/plain": [
              "14847"
            ]
          },
          "metadata": {},
          "execution_count": 16
        }
      ],
      "source": [
        "# Alumno: Obtener el diccionario de palabra (word) a índice\n",
        "# y observar la cantidad total del vocabulario\n",
        "word_index = tok.word_index\n",
        "len(word_index)"
      ]
    },
    {
      "cell_type": "code",
      "execution_count": 17,
      "metadata": {
        "id": "AvWzzSretQXf",
        "outputId": "5edd4b34-b0cd-4a20-ee7c-a5e2e92285af",
        "colab": {
          "base_uri": "https://localhost:8080/"
        }
      },
      "outputs": [
        {
          "output_type": "stream",
          "name": "stdout",
          "text": [
            "[[253, 532, 917, 3, 662, 3, 68]]\n",
            "['Absolutely wonderful - silky and sexy and comfortable']\n"
          ]
        }
      ],
      "source": [
        "# Alumno: Convertir las palabras/tokens a números\n",
        "sequences = tok.texts_to_sequences(text_sequences)\n",
        "print(sequences[:1])\n",
        "print(text_sequences[:1])"
      ]
    },
    {
      "cell_type": "code",
      "execution_count": 18,
      "metadata": {
        "id": "sJCSK9opQKxt",
        "outputId": "a83daeed-6d31-4586-ac63-3182e3cf1dba",
        "colab": {
          "base_uri": "https://localhost:8080/",
          "height": 470
        }
      },
      "outputs": [
        {
          "output_type": "stream",
          "name": "stdout",
          "text": [
            "Max length: 115\n"
          ]
        },
        {
          "output_type": "display_data",
          "data": {
            "text/plain": [
              "<Figure size 640x480 with 1 Axes>"
            ],
            "image/png": "[encoded data removed]"
          },
          "metadata": {}
        }
      ],
      "source": [
        "# Alumno: Determinar cual es la oración más larga\n",
        "maxlen = max(len(s) for s in sequences)\n",
        "print(f'Max length: {maxlen}')\n",
        "\n",
        "# Podríamos optimizar el largo de la sentencia a analizar basandonos en la distribución\n",
        "# de la cantidad de palabras por review. Sin embargo, por ahora vamos a tomar la máxima\n",
        "len_vector = []\n",
        "for i in sequences:\n",
        "    len_vector.append(len(i))\n",
        "sns.histplot(len_vector, bins=50)\n",
        "plt.title('Distribución de la cantidad de palabras (tokenizadas) por review')\n",
        "plt.show()"
      ]
    },
    {
      "cell_type": "code",
      "execution_count": 19,
      "metadata": {
        "id": "oCkO9Wc9tls1",
        "outputId": "570b30b9-ba77-41be-fbaa-690705b5892a",
        "colab": {
          "base_uri": "https://localhost:8080/"
        }
      },
      "outputs": [
        {
          "output_type": "execute_result",
          "data": {
            "text/plain": [
              "(22641, 115)"
            ]
          },
          "metadata": {},
          "execution_count": 19
        }
      ],
      "source": [
        "# Alumno: Realizar padding de las sentencias al mismo tamaño\n",
        "# tomando de referencia la máxima sentencia\n",
        "from tensorflow.keras.utils import pad_sequences\n",
        "from tensorflow.keras.utils import pad_sequences\n",
        "\n",
        "# Al realizar padding obtener la variable \"X\" (input)\n",
        "X = pad_sequences(sequences, padding='pre', maxlen=maxlen)\n",
        "# Alumno: Observar las dimensiones de la variable input\n",
        "X.shape\n"
      ]
    },
    {
      "cell_type": "code",
      "execution_count": 20,
      "metadata": {
        "id": "llVM-tzQo9_F",
        "outputId": "bce4916e-8a2e-47d1-b195-a6b0bdf913a7",
        "colab": {
          "base_uri": "https://localhost:8080/"
        }
      },
      "outputs": [
        {
          "output_type": "stream",
          "name": "stdout",
          "text": [
            "Cantidad de clases: 5\n",
            "[[0. 0. 0. 1. 0.]\n",
            " [0. 0. 0. 0. 1.]\n",
            " [0. 0. 1. 0. 0.]\n",
            " ...\n",
            " [0. 0. 1. 0. 0.]\n",
            " [0. 0. 1. 0. 0.]\n",
            " [0. 0. 0. 0. 1.]]\n",
            "(22641, 5)\n"
          ]
        }
      ],
      "source": [
        "# Alumno tomar la columna rating y alcemacenarla en una variable \"y\" transformada a oneHotEncoding\n",
        "# Su shape debe ser equivalente la cantidad de rows del corpus y a la cantidad\n",
        "# de clases que se deseen predecir (en este ejemplo son 5)\n",
        "y = df_reviews['rating'].values\n",
        "\n",
        "# convert y into one-hot format\n",
        "n_classes = df_reviews['rating'].unique().shape[0]\n",
        "print(f'Cantidad de clases: {n_classes}')\n",
        "y = to_categorical(y, num_classes=n_classes)\n",
        "print(y)\n",
        "print(y.shape)"
      ]
    },
    {
      "cell_type": "markdown",
      "metadata": {
        "id": "isHoEhepQKxu"
      },
      "source": [
        "### Separacion test-train"
      ]
    },
    {
      "cell_type": "code",
      "execution_count": 21,
      "metadata": {
        "id": "vAMVMMEwQKxu"
      },
      "outputs": [],
      "source": [
        "def plot_class_percentage(ohe_array, text):\n",
        "    data= pd.DataFrame(ohe_array)\n",
        "    data = data.apply(pd.value_counts)\n",
        "    data = data.iloc[1, :]\n",
        "    # print(data)\n",
        "    plt.title('Class Distribution: ' + text)\n",
        "    palette_color = sns.color_palette('bright')\n",
        "    plt.pie(data, labels=data.index, colors=palette_color, autopct='%.0f%%')"
      ]
    },
    {
      "cell_type": "code",
      "execution_count": 22,
      "metadata": {
        "id": "Rmz9A6n4uK4V",
        "outputId": "fc738fed-243a-48ae-8b7b-a954fedafdf4",
        "colab": {
          "base_uri": "https://localhost:8080/",
          "height": 301
        }
      },
      "outputs": [
        {
          "output_type": "stream",
          "name": "stdout",
          "text": [
            "X_train: (18112, 115)\n"
          ]
        },
        {
          "output_type": "display_data",
          "data": {
            "text/plain": [
              "<Figure size 640x480 with 2 Axes>"
            ],
            "image/png": "[encoded data removed]"
          },
          "metadata": {}
        }
      ],
      "source": [
        "# Alumno: Dividir los datos en train y test\n",
        "from sklearn.model_selection import train_test_split\n",
        "X_train, X_test, y_train, y_test = train_test_split(X, y, test_size=0.2, random_state=42, stratify=y)\n",
        "print(f\"X_train: {X_train.shape}\")\n",
        "plt.subplot(1, 2, 1)\n",
        "plot_class_percentage(y_train, f'y_train {y_train.shape}')\n",
        "plt.subplot(1, 2, 2)\n",
        "plot_class_percentage(y_test, f'y_test {y_test.shape}')\n",
        "plt.show()\n",
        "# Podemos ver que la proporción de clases se mantiene en train y test, pero es muy desbalanceada\n"
      ]
    },
    {
      "cell_type": "markdown",
      "metadata": {
        "id": "V7XqoQC0QKxu"
      },
      "source": [
        "#### Oversampling"
      ]
    },
    {
      "cell_type": "code",
      "execution_count": 23,
      "metadata": {
        "id": "U5PTf7FRQKxu",
        "outputId": "0707ded1-1dd8-44df-97b9-11f340b153da",
        "colab": {
          "base_uri": "https://localhost:8080/",
          "height": 428
        }
      },
      "outputs": [
        {
          "output_type": "display_data",
          "data": {
            "text/plain": [
              "<Figure size 640x480 with 1 Axes>"
            ],
            "image/png": "[encoded data removed]"
          },
          "metadata": {}
        }
      ],
      "source": [
        "# Hacemos oversampling para tener una muestra balanceada\n",
        "from imblearn.over_sampling import SMOTE, RandomOverSampler\n",
        "from imblearn.under_sampling import RandomUnderSampler\n",
        "# oversampler = SMOTE(random_state=0, sampling_strategy=0.1)\n",
        "oversampler = RandomOverSampler(sampling_strategy='all', shrinkage=0.5)\n",
        "X_train, y_train = oversampler.fit_resample(X_train, y_train)\n",
        "# undersampler=RandomUnderSampler(sampling_strategy='majority')\n",
        "# X_train, y_train = undersampler.fit_resample(X_train, y_train)\n",
        "\n",
        "plot_class_percentage(y_train, f'y_train {y_train.shape}')\n"
      ]
    },
    {
      "cell_type": "markdown",
      "metadata": {
        "id": "NpbQHExL6OTu"
      },
      "source": [
        "### 2 - Entrenar el modelo con Embeddings + LSTM"
      ]
    },
    {
      "cell_type": "code",
      "execution_count": 24,
      "metadata": {
        "id": "EcDPlhEouQ9E",
        "outputId": "b723f7f5-5b66-4d6c-9e46-d908405b5af9",
        "colab": {
          "base_uri": "https://localhost:8080/"
        }
      },
      "outputs": [
        {
          "output_type": "stream",
          "name": "stdout",
          "text": [
            "in_shape 115 , out_shape 5\n"
          ]
        }
      ],
      "source": [
        "# Alumno: determinar la dimensiones de entrada y salida\n",
        "in_shape = X_train.shape[1] # max input sentence len\n",
        "out_shape = n_classes # class classification\n",
        "print(\"in_shape\", in_shape, \", out_shape\", out_shape)"
      ]
    },
    {
      "cell_type": "code",
      "execution_count": 25,
      "metadata": {
        "id": "NUkuWBsM6cx3",
        "outputId": "e3cee3f7-3d56-402a-ff22-ff9097cfb58b",
        "colab": {
          "base_uri": "https://localhost:8080/"
        }
      },
      "outputs": [
        {
          "output_type": "stream",
          "name": "stdout",
          "text": [
            "Model: \"sequential\"\n",
            "_________________________________________________________________\n",
            " Layer (type)                Output Shape              Param #   \n",
            "=================================================================\n",
            " embedding (Embedding)       (None, 115, 50)           100050    \n",
            "                                                                 \n",
            " lstm (LSTM)                 (None, 115, 64)           29440     \n",
            "                                                                 \n",
            " dropout (Dropout)           (None, 115, 64)           0         \n",
            "                                                                 \n",
            " lstm_1 (LSTM)               (None, 128)               98816     \n",
            "                                                                 \n",
            " dense (Dense)               (None, 128)               16512     \n",
            "                                                                 \n",
            " dropout_1 (Dropout)         (None, 128)               0         \n",
            "                                                                 \n",
            " dense_1 (Dense)             (None, 5)                 645       \n",
            "                                                                 \n",
            "=================================================================\n",
            "Total params: 245,463\n",
            "Trainable params: 245,463\n",
            "Non-trainable params: 0\n",
            "_________________________________________________________________\n"
          ]
        }
      ],
      "source": [
        "# Alumno: Entrene su modelo con LSTM entrenando sus propios embeddings\n",
        "# o utilizando embeddings pre-entrenados.\n",
        "from keras.layers import LSTM\n",
        "from keras.layers import Embedding\n",
        "from keras.layers import Dropout\n",
        "\n",
        "model = Sequential()\n",
        "# input_dim = vocab_size (max n_words)\n",
        "# input_length = sentencias con padding a 200\n",
        "# output_dim = 50 --> crear embeddings de tamaño 50\n",
        "model.add(Embedding(input_dim=vocab_size+1, output_dim=50, input_length=in_shape))\n",
        "model.add(LSTM(units=64, return_sequences=True))\n",
        "model.add(Dropout(0.2))\n",
        "model.add(LSTM(units=128)) # La última capa LSTM no lleva return_sequences\n",
        "\n",
        "model.add(Dense(units=128, activation='relu'))\n",
        "model.add(Dropout(rate=0.2))\n",
        "model.add(Dense(units=out_shape, activation='sigmoid'))\n",
        "\n",
        "model.compile(optimizer=\"adam\",\n",
        "              loss='categorical_crossentropy',\n",
        "              metrics=['accuracy'])\n",
        "\n",
        "model.summary()"
      ]
    },
    {
      "cell_type": "code",
      "source": [
        "X_train_t, X_val, y_train_t, y_val = train_test_split(X_train, y_train, test_size=0.25, random_state=42)\n",
        "hist = model.fit(X_train_t, y_train_t, validation_data=(X_val, y_val), epochs=50)"
      ],
      "metadata": {
        "id": "6BZA5w7tV5GN",
        "outputId": "21e49a68-ab97-45dd-945a-2e2022eb357f",
        "colab": {
          "base_uri": "https://localhost:8080/"
        }
      },
      "execution_count": 26,
      "outputs": [
        {
          "output_type": "stream",
          "name": "stdout",
          "text": [
            "Epoch 1/50\n",
            "1176/1176 [==============================] - 69s 51ms/step - loss: 1.2716 - accuracy: 0.3825 - val_loss: 1.2262 - val_accuracy: 0.4028\n",
            "Epoch 2/50\n",
            "1176/1176 [==============================] - 28s 24ms/step - loss: 1.2095 - accuracy: 0.4063 - val_loss: 1.2096 - val_accuracy: 0.3889\n",
            "Epoch 3/50\n",
            "1176/1176 [==============================] - 23s 20ms/step - loss: 1.1906 - accuracy: 0.4142 - val_loss: 1.2141 - val_accuracy: 0.4012\n",
            "Epoch 4/50\n",
            "1176/1176 [==============================] - 24s 21ms/step - loss: 1.1746 - accuracy: 0.4209 - val_loss: 1.2049 - val_accuracy: 0.4075\n",
            "Epoch 5/50\n",
            "1176/1176 [==============================] - 21s 18ms/step - loss: 1.1534 - accuracy: 0.4323 - val_loss: 1.2167 - val_accuracy: 0.4106\n",
            "Epoch 6/50\n",
            "1176/1176 [==============================] - 21s 18ms/step - loss: 1.1395 - accuracy: 0.4415 - val_loss: 1.2251 - val_accuracy: 0.4104\n",
            "Epoch 7/50\n",
            "1176/1176 [==============================] - 21s 18ms/step - loss: 1.1240 - accuracy: 0.4506 - val_loss: 1.2412 - val_accuracy: 0.4015\n",
            "Epoch 8/50\n",
            "1176/1176 [==============================] - 21s 18ms/step - loss: 1.1086 - accuracy: 0.4571 - val_loss: 1.2555 - val_accuracy: 0.4091\n",
            "Epoch 9/50\n",
            "1176/1176 [==============================] - 21s 18ms/step - loss: 1.0933 - accuracy: 0.4707 - val_loss: 1.2649 - val_accuracy: 0.3992\n",
            "Epoch 10/50\n",
            "1176/1176 [==============================] - 22s 19ms/step - loss: 1.0780 - accuracy: 0.4766 - val_loss: 1.2966 - val_accuracy: 0.4064\n",
            "Epoch 11/50\n",
            "1176/1176 [==============================] - 21s 18ms/step - loss: 1.0560 - accuracy: 0.4898 - val_loss: 1.3161 - val_accuracy: 0.4063\n",
            "Epoch 12/50\n",
            "1176/1176 [==============================] - 20s 17ms/step - loss: 1.0406 - accuracy: 0.4991 - val_loss: 1.3288 - val_accuracy: 0.4051\n",
            "Epoch 13/50\n",
            "1176/1176 [==============================] - 21s 18ms/step - loss: 1.0218 - accuracy: 0.5084 - val_loss: 1.3927 - val_accuracy: 0.3896\n",
            "Epoch 14/50\n",
            "1176/1176 [==============================] - 20s 17ms/step - loss: 0.9976 - accuracy: 0.5205 - val_loss: 1.3961 - val_accuracy: 0.4017\n",
            "Epoch 15/50\n",
            "1176/1176 [==============================] - 21s 18ms/step - loss: 0.9776 - accuracy: 0.5278 - val_loss: 1.4369 - val_accuracy: 0.3893\n",
            "Epoch 16/50\n",
            "1176/1176 [==============================] - 20s 17ms/step - loss: 0.9434 - accuracy: 0.5505 - val_loss: 1.5058 - val_accuracy: 0.3803\n",
            "Epoch 17/50\n",
            "1176/1176 [==============================] - 21s 18ms/step - loss: 0.8180 - accuracy: 0.6161 - val_loss: 1.0849 - val_accuracy: 0.6781\n",
            "Epoch 18/50\n",
            "1176/1176 [==============================] - 21s 17ms/step - loss: 0.3663 - accuracy: 0.8718 - val_loss: 0.7321 - val_accuracy: 0.8101\n",
            "Epoch 19/50\n",
            "1176/1176 [==============================] - 21s 18ms/step - loss: 0.4241 - accuracy: 0.8324 - val_loss: 1.4277 - val_accuracy: 0.3859\n",
            "Epoch 20/50\n",
            "1176/1176 [==============================] - 21s 18ms/step - loss: 0.8600 - accuracy: 0.6090 - val_loss: 1.2225 - val_accuracy: 0.6002\n",
            "Epoch 21/50\n",
            "1176/1176 [==============================] - 23s 19ms/step - loss: 0.5303 - accuracy: 0.7819 - val_loss: 1.1613 - val_accuracy: 0.6807\n",
            "Epoch 22/50\n",
            "1176/1176 [==============================] - 20s 17ms/step - loss: 0.4048 - accuracy: 0.8485 - val_loss: 1.0566 - val_accuracy: 0.7475\n",
            "Epoch 23/50\n",
            "1176/1176 [==============================] - 21s 18ms/step - loss: 0.3326 - accuracy: 0.8807 - val_loss: 1.0376 - val_accuracy: 0.7738\n",
            "Epoch 24/50\n",
            "1176/1176 [==============================] - 21s 18ms/step - loss: 0.2428 - accuracy: 0.9176 - val_loss: 0.9432 - val_accuracy: 0.8030\n",
            "Epoch 25/50\n",
            "1176/1176 [==============================] - 20s 17ms/step - loss: 0.2098 - accuracy: 0.9281 - val_loss: 1.0258 - val_accuracy: 0.7982\n",
            "Epoch 26/50\n",
            "1176/1176 [==============================] - 21s 18ms/step - loss: 0.1983 - accuracy: 0.9314 - val_loss: 1.2288 - val_accuracy: 0.7634\n",
            "Epoch 27/50\n",
            "1176/1176 [==============================] - 21s 17ms/step - loss: 0.2000 - accuracy: 0.9311 - val_loss: 0.9924 - val_accuracy: 0.8044\n",
            "Epoch 28/50\n",
            "1176/1176 [==============================] - 21s 18ms/step - loss: 0.1598 - accuracy: 0.9451 - val_loss: 1.0372 - val_accuracy: 0.8107\n",
            "Epoch 29/50\n",
            "1176/1176 [==============================] - 21s 17ms/step - loss: 0.1569 - accuracy: 0.9452 - val_loss: 1.0280 - val_accuracy: 0.7986\n",
            "Epoch 30/50\n",
            "1176/1176 [==============================] - 20s 17ms/step - loss: 0.1420 - accuracy: 0.9500 - val_loss: 1.0986 - val_accuracy: 0.8073\n",
            "Epoch 31/50\n",
            "1176/1176 [==============================] - 22s 18ms/step - loss: 0.1726 - accuracy: 0.9402 - val_loss: 1.1937 - val_accuracy: 0.7991\n",
            "Epoch 32/50\n",
            "1176/1176 [==============================] - 19s 16ms/step - loss: 0.1350 - accuracy: 0.9513 - val_loss: 1.0924 - val_accuracy: 0.8083\n",
            "Epoch 33/50\n",
            "1176/1176 [==============================] - 20s 17ms/step - loss: 0.1173 - accuracy: 0.9583 - val_loss: 1.1992 - val_accuracy: 0.7968\n",
            "Epoch 34/50\n",
            "1176/1176 [==============================] - 23s 19ms/step - loss: 0.1104 - accuracy: 0.9617 - val_loss: 1.1799 - val_accuracy: 0.8053\n",
            "Epoch 35/50\n",
            "1176/1176 [==============================] - 20s 17ms/step - loss: 0.1014 - accuracy: 0.9645 - val_loss: 1.2233 - val_accuracy: 0.7960\n",
            "Epoch 36/50\n",
            "1176/1176 [==============================] - 21s 18ms/step - loss: 0.0984 - accuracy: 0.9666 - val_loss: 1.1520 - val_accuracy: 0.8039\n",
            "Epoch 37/50\n",
            "1176/1176 [==============================] - 21s 18ms/step - loss: 0.0842 - accuracy: 0.9713 - val_loss: 1.2146 - val_accuracy: 0.8070\n",
            "Epoch 38/50\n",
            "1176/1176 [==============================] - 20s 17ms/step - loss: 0.0789 - accuracy: 0.9725 - val_loss: 1.3486 - val_accuracy: 0.8009\n",
            "Epoch 39/50\n",
            "1176/1176 [==============================] - 21s 18ms/step - loss: 0.0753 - accuracy: 0.9744 - val_loss: 1.2571 - val_accuracy: 0.8080\n",
            "Epoch 40/50\n",
            "1176/1176 [==============================] - 21s 18ms/step - loss: 0.0748 - accuracy: 0.9745 - val_loss: 1.2906 - val_accuracy: 0.7928\n",
            "Epoch 41/50\n",
            "1176/1176 [==============================] - 21s 18ms/step - loss: 0.0609 - accuracy: 0.9800 - val_loss: 1.3694 - val_accuracy: 0.8101\n",
            "Epoch 42/50\n",
            "1176/1176 [==============================] - 21s 18ms/step - loss: 0.0583 - accuracy: 0.9796 - val_loss: 1.4941 - val_accuracy: 0.8036\n",
            "Epoch 43/50\n",
            "1176/1176 [==============================] - 20s 17ms/step - loss: 0.0570 - accuracy: 0.9806 - val_loss: 1.4148 - val_accuracy: 0.8000\n",
            "Epoch 44/50\n",
            "1176/1176 [==============================] - 21s 18ms/step - loss: 0.0501 - accuracy: 0.9833 - val_loss: 1.5253 - val_accuracy: 0.8121\n",
            "Epoch 45/50\n",
            "1176/1176 [==============================] - 21s 18ms/step - loss: 0.0495 - accuracy: 0.9847 - val_loss: 1.4834 - val_accuracy: 0.8070\n",
            "Epoch 46/50\n",
            "1176/1176 [==============================] - 20s 17ms/step - loss: 0.0450 - accuracy: 0.9843 - val_loss: 1.4885 - val_accuracy: 0.8122\n",
            "Epoch 47/50\n",
            "1176/1176 [==============================] - 22s 18ms/step - loss: 0.0402 - accuracy: 0.9864 - val_loss: 1.6257 - val_accuracy: 0.8022\n",
            "Epoch 48/50\n",
            "1176/1176 [==============================] - 20s 17ms/step - loss: 0.0449 - accuracy: 0.9847 - val_loss: 1.4548 - val_accuracy: 0.8067\n",
            "Epoch 49/50\n",
            "1176/1176 [==============================] - 21s 18ms/step - loss: 0.0409 - accuracy: 0.9870 - val_loss: 1.4416 - val_accuracy: 0.8104\n",
            "Epoch 50/50\n",
            "1176/1176 [==============================] - 21s 18ms/step - loss: 0.0317 - accuracy: 0.9894 - val_loss: 1.5329 - val_accuracy: 0.8135\n"
          ]
        }
      ]
    },
    {
      "cell_type": "code",
      "execution_count": 27,
      "metadata": {
        "id": "H8whfpA3QKxv",
        "outputId": "0baa98c0-efeb-4c3b-d9fb-5167c978da7d",
        "colab": {
          "base_uri": "https://localhost:8080/",
          "height": 430
        }
      },
      "outputs": [
        {
          "output_type": "display_data",
          "data": {
            "text/plain": [
              "<Figure size 640x480 with 1 Axes>"
            ],
            "image/png": "[encoded data removed]"
          },
          "metadata": {}
        }
      ],
      "source": [
        "import matplotlib.pyplot as plt\n",
        "import seaborn as sns\n",
        "epoch_count = range(1, len(hist.history['accuracy']) + 1)\n",
        "sns.lineplot(x=epoch_count,  y=hist.history['accuracy'], label='train')\n",
        "sns.lineplot(x=epoch_count,  y=hist.history['val_accuracy'], label='valid')\n",
        "plt.show()"
      ]
    },
    {
      "cell_type": "code",
      "execution_count": 28,
      "metadata": {
        "id": "zoKVUHQhQKxv",
        "outputId": "42ef1ab2-1b71-411c-9dde-db6d90d303da",
        "colab": {
          "base_uri": "https://localhost:8080/"
        }
      },
      "outputs": [
        {
          "output_type": "stream",
          "name": "stdout",
          "text": [
            "142/142 [==============================] - 2s 7ms/step - loss: 3.7084 - accuracy: 0.5739\n"
          ]
        },
        {
          "output_type": "execute_result",
          "data": {
            "text/plain": [
              "[3.7083611488342285, 0.5738573670387268]"
            ]
          },
          "metadata": {},
          "execution_count": 28
        }
      ],
      "source": [
        "model.evaluate(X_test, y_test)"
      ]
    }
  ],
  "metadata": {
    "accelerator": "GPU",
    "colab": {
      "provenance": []
    },
    "kernelspec": {
      "display_name": "Python 3",
      "name": "python3"
    },
    "language_info": {
      "codemirror_mode": {
        "name": "ipython",
        "version": 3
      },
      "file_extension": ".py",
      "mimetype": "text/x-python",
      "name": "python",
      "nbconvert_exporter": "python",
      "pygments_lexer": "ipython3",
      "version": "3.10.9"
    }
  },
  "nbformat": 4,
  "nbformat_minor": 0
}