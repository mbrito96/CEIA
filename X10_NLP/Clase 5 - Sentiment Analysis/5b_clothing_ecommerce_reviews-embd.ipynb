{
  "cells": [
    {
      "cell_type": "markdown",
      "metadata": {
        "id": "kBLpTr7plguX"
      },
      "source": [
        "<img src=\"https://github.com/hernancontigiani/ceia_memorias_especializacion/raw/master/Figures/logoFIUBA.jpg\" width=\"500\" align=\"center\">\n",
        "\n",
        "\n",
        "# Procesamiento de lenguaje natural\n",
        "## Sentiment analysis con Embeddings + LSTM"
      ]
    },
    {
      "cell_type": "markdown",
      "metadata": {
        "id": "9W6nuajhlqZD"
      },
      "source": [
        "### Objetivo\n",
        "El objetivo es utilizar las críticas de compradores de ropa para que el sistema determine la evaluación del comprador y su crítica (cuantas estrellas le asigna al producto)."
      ]
    },
    {
      "cell_type": "code",
      "execution_count": 1,
      "metadata": {
        "id": "i6zvzv3qZ6xS"
      },
      "outputs": [],
      "source": [
        "!pip install --upgrade --no-cache-dir gdown --quiet"
      ]
    },
    {
      "cell_type": "code",
      "execution_count": 2,
      "metadata": {
        "id": "hCpOVzJdl8_p"
      },
      "outputs": [],
      "source": [
        "import numpy as np\n",
        "import random\n",
        "import io\n",
        "import pickle\n",
        "import pandas as pd\n",
        "\n",
        "import matplotlib.pyplot as plt\n",
        "import seaborn as sns\n",
        "\n",
        "import tensorflow as tf\n",
        "from tensorflow import keras\n",
        "from tensorflow.keras import layers\n",
        "\n",
        "from keras.utils.np_utils import to_categorical\n",
        "from tensorflow.keras.utils import pad_sequences\n",
        "from keras.models import Sequential\n",
        "from keras.layers import Dense\n",
        "from keras.layers import LSTM\n",
        "from keras.layers import Embedding"
      ]
    },
    {
      "cell_type": "code",
      "execution_count": 3,
      "metadata": {
        "id": "oflIZcYKQKxp"
      },
      "outputs": [],
      "source": [
        "from sklearn.metrics import roc_curve\n",
        "from sklearn.metrics import auc\n",
        "\n",
        "def curva_roc(model, X_test, y_test):\n",
        "    y_hat_prob = model.predict(X_test).ravel()\n",
        "\n",
        "    # Calcular la exactitud (accuracy)\n",
        "    scores = model.evaluate(X_test, y_test)\n",
        "    print(\"Accuracy:\", scores[1])\n",
        "\n",
        "    fpr, tpr, thresholds = roc_curve(y_test, y_hat_prob)\n",
        "    auc_keras = auc(fpr, tpr)\n",
        "    print('auc_keras', auc_keras)\n",
        "\n",
        "    plt.figure(1)\n",
        "    plt.plot([0, 1], [0, 1], 'k--')\n",
        "    plt.plot(fpr, tpr, label='Keras (area = {:.3f})'.format(auc_keras))\n",
        "    plt.xlabel('False positive rate')\n",
        "    plt.ylabel('True positive rate')\n",
        "    plt.title('Curva ROC test')\n",
        "    plt.legend(loc='best')\n",
        "    plt.show()"
      ]
    },
    {
      "cell_type": "markdown",
      "metadata": {
        "id": "8UPeRkrAmbF3"
      },
      "source": [
        "### Datos\n",
        "Utilizaremos como dataset críticas de compradores de ropa (eCommerce) los cuales puntuaron a cada prenda con un puntaje de 1 a 5 estrellas.\\\n",
        "Referencia del dataset: [LINK](https://www.kaggle.com/nicapotato/womens-ecommerce-clothing-reviews/version/1)"
      ]
    },
    {
      "cell_type": "code",
      "execution_count": 4,
      "metadata": {
        "id": "C7jLvTU3lSyL"
      },
      "outputs": [],
      "source": [
        "# Descargar la carpeta de dataset\n",
        "import os\n",
        "import gdown\n",
        "if os.access('clothing_ecommerce_reviews.csv', os.F_OK) is False:\n",
        "    url = 'https://drive.google.com/uc?id=1Urn1UFSrodN5BuW6-sc_igtaySGRwhV8'\n",
        "    output = 'clothing_ecommerce_reviews.csv'\n",
        "    gdown.download(url, output, quiet=False)"
      ]
    },
    {
      "cell_type": "code",
      "execution_count": 5,
      "metadata": {
        "id": "o-SV1P3dnD1J"
      },
      "outputs": [],
      "source": [
        "# Armar el dataset\n",
        "df = pd.read_csv('clothing_ecommerce_reviews.csv')"
      ]
    },
    {
      "cell_type": "markdown",
      "metadata": {
        "id": "q-OwSePKm-FK"
      },
      "source": [
        "### 1 - Limpieza de datos\n",
        "Alumno:\n",
        "- Del dataset unicamente utilizar las columnas \"Review Text\" y \"Rating.\n",
        "- Tranformar el rating 1-5 a una escala numérica de 0 a 4.\n",
        "\n"
      ]
    },
    {
      "cell_type": "code",
      "execution_count": 6,
      "metadata": {
        "colab": {
          "base_uri": "https://localhost:8080/"
        },
        "id": "-hc7-AmYnPC3",
        "outputId": "b6d160eb-0ca3-4c22-96f3-1a02d6d80e55"
      },
      "outputs": [
        {
          "name": "stdout",
          "output_type": "stream",
          "text": [
            "Total number of reviews:  22641\n",
            "                                             reviews  rating\n",
            "0  Absolutely wonderful - silky and sexy and comf...       3\n",
            "1  Love this dress!  it's sooo pretty.  i happene...       4\n",
            "2  I had such high hopes for this dress and reall...       2\n",
            "3  I love, love, love this jumpsuit. it's fun, fl...       4\n",
            "4  This shirt is very flattering to all due to th...       4\n"
          ]
        }
      ],
      "source": [
        "try:\n",
        "    df_reviews = df.loc[:, ['Review Text', 'Rating']].dropna()\n",
        "    df.drop(columns = ['Unnamed: 0'], inplace = True)\n",
        "    df_reviews['Rating'] = df_reviews['Rating'] - 1\n",
        "    df_reviews.rename(columns = {'Review Text': 'reviews', 'Rating': 'rating'}, inplace = True)\n",
        "except:\n",
        "    pass\n",
        "\n",
        "print('Total number of reviews: ', df_reviews.shape[0])\n",
        "print(df_reviews.head())"
      ]
    },
    {
      "cell_type": "code",
      "execution_count": 7,
      "metadata": {
        "colab": {
          "base_uri": "https://localhost:8080/",
          "height": 333
        },
        "id": "sZtvASVOn3ty",
        "outputId": "47b90554-2108-4964-d199-9ad26bd815a0"
      },
      "outputs": [
        {
          "data": {
            "image/png": "[encoded data removed]",
            "text/plain": [
              "<Figure size 1200x300 with 1 Axes>"
            ]
          },
          "metadata": {},
          "output_type": "display_data"
        }
      ],
      "source": [
        "# Alumno: Observar como está distribuido el dataset respecto a la columna Rating\n",
        "# es decir, observar que tan balanceado se encuentra respecot a cada clase\n",
        "\n",
        "# Plot the distribution of each class\n",
        "plt.figure(figsize=(12,3))\n",
        "sns.countplot(x='rating', data=df_reviews)\n",
        "plt.title('Distribution of Rating')\n",
        "plt.show()"
      ]
    },
    {
      "cell_type": "code",
      "execution_count": 8,
      "metadata": {
        "id": "gVJ_RVi4o1h3"
      },
      "outputs": [],
      "source": [
        "# Alumno: tomar la columna de las review y almacenarlo todo en un vector numpy de reviews\n",
        "text_sequences = df_reviews['reviews'].values"
      ]
    },
    {
      "cell_type": "code",
      "execution_count": 9,
      "metadata": {
        "colab": {
          "base_uri": "https://localhost:8080/"
        },
        "id": "4nT5Un_co65Q",
        "outputId": "2b46e233-819f-45e9-b80e-d1aa12e329ed"
      },
      "outputs": [
        {
          "data": {
            "text/plain": [
              "22641"
            ]
          },
          "execution_count": 9,
          "metadata": {},
          "output_type": "execute_result"
        }
      ],
      "source": [
        "# Alumno: Cuantas reviews (rows) hay para evaluar?\n",
        "len(text_sequences)"
      ]
    },
    {
      "cell_type": "code",
      "execution_count": 10,
      "metadata": {
        "id": "HP5uN9tqpHu_"
      },
      "outputs": [],
      "source": [
        "# Alumno: Concatenar todas las reviews para armar el corpus\n",
        "corpus = ' '.join(text_sequences)"
      ]
    },
    {
      "cell_type": "code",
      "execution_count": 11,
      "metadata": {
        "colab": {
          "base_uri": "https://localhost:8080/"
        },
        "id": "FEzmePgdpf74",
        "outputId": "03ddec43-07dc-4773-dc4f-dfb8a8e2c12c"
      },
      "outputs": [
        {
          "data": {
            "text/plain": [
              "7011643"
            ]
          },
          "execution_count": 11,
          "metadata": {},
          "output_type": "execute_result"
        }
      ],
      "source": [
        "# Alumno: ¿Cuál es la longitud de ese corpus?\n",
        "len(corpus)"
      ]
    },
    {
      "cell_type": "code",
      "execution_count": 12,
      "metadata": {
        "id": "MYeJLdDmpvOe"
      },
      "outputs": [],
      "source": [
        "# Alumno: Utilizar \"text_to_word_sequence\" para separar las palabras en tokens\n",
        "# recordar que text_to_word_sequence automaticamente quita los signos de puntuacion y pasa el texto a lowercase\n",
        "from keras.preprocessing.text import text_to_word_sequence\n",
        "tokens = text_to_word_sequence(corpus)"
      ]
    },
    {
      "cell_type": "code",
      "execution_count": 13,
      "metadata": {
        "colab": {
          "base_uri": "https://localhost:8080/"
        },
        "id": "M6L-fnWAp_lA",
        "outputId": "c5a82a51-1e9c-424f-b881-113466d196c0"
      },
      "outputs": [
        {
          "data": {
            "text/plain": [
              "['absolutely',\n",
              " 'wonderful',\n",
              " 'silky',\n",
              " 'and',\n",
              " 'sexy',\n",
              " 'and',\n",
              " 'comfortable',\n",
              " 'love',\n",
              " 'this',\n",
              " 'dress',\n",
              " \"it's\",\n",
              " 'sooo',\n",
              " 'pretty',\n",
              " 'i',\n",
              " 'happened',\n",
              " 'to',\n",
              " 'find',\n",
              " 'it',\n",
              " 'in',\n",
              " 'a']"
            ]
          },
          "execution_count": 13,
          "metadata": {},
          "output_type": "execute_result"
        }
      ],
      "source": [
        "# Alumno: Dar un vistazo a los primeros 20 tokens/palabras\n",
        "tokens[:20]"
      ]
    },
    {
      "cell_type": "code",
      "execution_count": 14,
      "metadata": {
        "colab": {
          "base_uri": "https://localhost:8080/"
        },
        "id": "-8QgwwMUqG0d",
        "outputId": "37390822-4c69-4940-be7f-77571d24b4b8"
      },
      "outputs": [
        {
          "data": {
            "text/plain": [
              "1372203"
            ]
          },
          "execution_count": 14,
          "metadata": {},
          "output_type": "execute_result"
        }
      ],
      "source": [
        "# Alumno: ¿Cuántos tokens/palabras hay?\n",
        "len(tokens)"
      ]
    },
    {
      "cell_type": "markdown",
      "metadata": {
        "id": "9G_55yYxQKxt"
      },
      "source": [
        "### Tokenizar las palabras"
      ]
    },
    {
      "cell_type": "code",
      "execution_count": 15,
      "metadata": {
        "id": "TFukNZdOsZ8_"
      },
      "outputs": [],
      "source": [
        "# Alumno: Tokenizar las palabras con el Tokenizer de Keras\n",
        "# Definir una máxima cantidad de palabras a utilizar:\n",
        "# num_words --> the maximum number of words to keep, based on word frequency.\n",
        "# Only the most common num_words-1 words will be kept.\n",
        "from keras.preprocessing.text import Tokenizer\n",
        "num_words = 2000\n",
        "vocab_size = num_words\n",
        "tok = Tokenizer(num_words=2000)\n",
        "tok.fit_on_texts(tokens)"
      ]
    },
    {
      "cell_type": "code",
      "execution_count": 16,
      "metadata": {
        "colab": {
          "base_uri": "https://localhost:8080/"
        },
        "id": "JnR1tlqZy94X",
        "outputId": "1f7a793b-58a8-47dc-d7b4-3a8247749319"
      },
      "outputs": [
        {
          "data": {
            "text/plain": [
              "14847"
            ]
          },
          "execution_count": 16,
          "metadata": {},
          "output_type": "execute_result"
        }
      ],
      "source": [
        "# Alumno: Obtener el diccionario de palabra (word) a índice\n",
        "# y observar la cantidad total del vocabulario\n",
        "word_index = tok.word_index\n",
        "len(word_index)"
      ]
    },
    {
      "cell_type": "code",
      "execution_count": 17,
      "metadata": {
        "colab": {
          "base_uri": "https://localhost:8080/"
        },
        "id": "AvWzzSretQXf",
        "outputId": "9441d880-2e87-446c-d1a7-f40fcfc321bd"
      },
      "outputs": [
        {
          "name": "stdout",
          "output_type": "stream",
          "text": [
            "[[253, 532, 917, 3, 662, 3, 68]]\n",
            "['Absolutely wonderful - silky and sexy and comfortable']\n"
          ]
        }
      ],
      "source": [
        "# Alumno: Convertir las palabras/tokens a números\n",
        "sequences = tok.texts_to_sequences(text_sequences)\n",
        "print(sequences[:1])\n",
        "print(text_sequences[:1])"
      ]
    },
    {
      "cell_type": "code",
      "execution_count": 18,
      "metadata": {
        "colab": {
          "base_uri": "https://localhost:8080/",
          "height": 471
        },
        "id": "sJCSK9opQKxt",
        "outputId": "aba52e10-205b-4ad2-ded2-ef63f387547c"
      },
      "outputs": [
        {
          "name": "stdout",
          "output_type": "stream",
          "text": [
            "Max length: 115\n"
          ]
        },
        {
          "data": {
            "image/png": "[encoded data removed]",
            "text/plain": [
              "<Figure size 640x480 with 1 Axes>"
            ]
          },
          "metadata": {},
          "output_type": "display_data"
        }
      ],
      "source": [
        "# Alumno: Determinar cual es la oración más larga\n",
        "maxlen = max(len(s) for s in sequences)\n",
        "print(f'Max length: {maxlen}')\n",
        "\n",
        "# Podríamos optimizar el largo de la sentencia a analizar basandonos en la distribución\n",
        "# de la cantidad de palabras por review. Sin embargo, por ahora vamos a tomar la máxima\n",
        "len_vector = []\n",
        "for i in sequences:\n",
        "    len_vector.append(len(i))\n",
        "sns.histplot(len_vector, bins=50)\n",
        "plt.title('Distribución de la cantidad de palabras (tokenizadas) por review')\n",
        "plt.show()"
      ]
    },
    {
      "cell_type": "code",
      "execution_count": 19,
      "metadata": {
        "colab": {
          "base_uri": "https://localhost:8080/"
        },
        "id": "oCkO9Wc9tls1",
        "outputId": "9a4e4014-ec99-4565-c2b4-08869141f41f"
      },
      "outputs": [
        {
          "data": {
            "text/plain": [
              "(22641, 115)"
            ]
          },
          "execution_count": 19,
          "metadata": {},
          "output_type": "execute_result"
        }
      ],
      "source": [
        "# Alumno: Realizar padding de las sentencias al mismo tamaño\n",
        "# tomando de referencia la máxima sentencia\n",
        "from tensorflow.keras.utils import pad_sequences\n",
        "from tensorflow.keras.utils import pad_sequences\n",
        "\n",
        "# Al realizar padding obtener la variable \"X\" (input)\n",
        "X = pad_sequences(sequences, padding='pre', maxlen=maxlen)\n",
        "# Alumno: Observar las dimensiones de la variable input\n",
        "X.shape\n"
      ]
    },
    {
      "cell_type": "code",
      "execution_count": 20,
      "metadata": {
        "colab": {
          "base_uri": "https://localhost:8080/"
        },
        "id": "llVM-tzQo9_F",
        "outputId": "460f4ca5-7b63-4924-b590-25332bd599a9"
      },
      "outputs": [
        {
          "name": "stdout",
          "output_type": "stream",
          "text": [
            "Cantidad de clases: 5\n",
            "[[0. 0. 0. 1. 0.]\n",
            " [0. 0. 0. 0. 1.]\n",
            " [0. 0. 1. 0. 0.]\n",
            " ...\n",
            " [0. 0. 1. 0. 0.]\n",
            " [0. 0. 1. 0. 0.]\n",
            " [0. 0. 0. 0. 1.]]\n",
            "(22641, 5)\n"
          ]
        }
      ],
      "source": [
        "# Alumno tomar la columna rating y alcemacenarla en una variable \"y\" transformada a oneHotEncoding\n",
        "# Su shape debe ser equivalente la cantidad de rows del corpus y a la cantidad\n",
        "# de clases que se deseen predecir (en este ejemplo son 5)\n",
        "y = df_reviews['rating'].values\n",
        "\n",
        "# convert y into one-hot format\n",
        "n_classes = df_reviews['rating'].unique().shape[0]\n",
        "print(f'Cantidad de clases: {n_classes}')\n",
        "y = to_categorical(y, num_classes=n_classes)\n",
        "print(y)\n",
        "print(y.shape)"
      ]
    },
    {
      "cell_type": "markdown",
      "metadata": {
        "id": "isHoEhepQKxu"
      },
      "source": [
        "### Separacion test-train"
      ]
    },
    {
      "cell_type": "code",
      "execution_count": 21,
      "metadata": {
        "id": "vAMVMMEwQKxu"
      },
      "outputs": [],
      "source": [
        "def plot_class_percentage(ohe_array, text):\n",
        "    data= pd.DataFrame(ohe_array)\n",
        "    data = data.apply(pd.value_counts)\n",
        "    data = data.iloc[1, :]\n",
        "    # print(data)\n",
        "    plt.title('Class Distribution: ' + text)\n",
        "    palette_color = sns.color_palette('bright')\n",
        "    plt.pie(data, labels=data.index, colors=palette_color, autopct='%.0f%%')"
      ]
    },
    {
      "cell_type": "code",
      "execution_count": 22,
      "metadata": {
        "colab": {
          "base_uri": "https://localhost:8080/",
          "height": 302
        },
        "id": "Rmz9A6n4uK4V",
        "outputId": "ec4a2b1c-4ae5-4eee-80ff-dd676e578a69"
      },
      "outputs": [
        {
          "name": "stdout",
          "output_type": "stream",
          "text": [
            "X_train: (18112, 115)\n"
          ]
        },
        {
          "data": {
            "image/png": "[encoded data removed]",
            "text/plain": [
              "<Figure size 640x480 with 2 Axes>"
            ]
          },
          "metadata": {},
          "output_type": "display_data"
        }
      ],
      "source": [
        "# Alumno: Dividir los datos en train y test\n",
        "from sklearn.model_selection import train_test_split\n",
        "X_train, X_test, y_train, y_test = train_test_split(X, y, test_size=0.2, random_state=42, stratify=y)\n",
        "print(f\"X_train: {X_train.shape}\")\n",
        "plt.subplot(1, 2, 1)\n",
        "plot_class_percentage(y_train, f'y_train {y_train.shape}')\n",
        "plt.subplot(1, 2, 2)\n",
        "plot_class_percentage(y_test, f'y_test {y_test.shape}')\n",
        "plt.show()\n",
        "# Podemos ver que la proporción de clases se mantiene en train y test, pero es muy desbalanceada\n"
      ]
    },
    {
      "cell_type": "markdown",
      "metadata": {
        "id": "V7XqoQC0QKxu"
      },
      "source": [
        "#### Oversampling"
      ]
    },
    {
      "cell_type": "code",
      "execution_count": 23,
      "metadata": {
        "colab": {
          "base_uri": "https://localhost:8080/",
          "height": 428
        },
        "id": "U5PTf7FRQKxu",
        "outputId": "b149de95-85c1-4688-da00-5fe3a62f5a68"
      },
      "outputs": [
        {
          "data": {
            "image/png": "[encoded data removed]",
            "text/plain": [
              "<Figure size 640x480 with 1 Axes>"
            ]
          },
          "metadata": {},
          "output_type": "display_data"
        }
      ],
      "source": [
        "# Hacemos oversampling para tener una muestra balanceada\n",
        "from imblearn.over_sampling import SMOTE, RandomOverSampler\n",
        "from imblearn.under_sampling import RandomUnderSampler\n",
        "# oversampler = SMOTE(random_state=0, sampling_strategy=0.1)\n",
        "oversampler = RandomOverSampler(sampling_strategy='all', shrinkage=0.5)\n",
        "X_train, y_train = oversampler.fit_resample(X_train, y_train)\n",
        "# undersampler=RandomUnderSampler(sampling_strategy='majority')\n",
        "# X_train, y_train = undersampler.fit_resample(X_train, y_train)\n",
        "\n",
        "plot_class_percentage(y_train, f'y_train {y_train.shape}')\n"
      ]
    },
    {
      "cell_type": "code",
      "execution_count": 24,
      "metadata": {
        "colab": {
          "base_uri": "https://localhost:8080/"
        },
        "id": "EcDPlhEouQ9E",
        "outputId": "f24f4a8d-fff2-4ca0-8acb-b1ccdbcfdcf1"
      },
      "outputs": [
        {
          "name": "stdout",
          "output_type": "stream",
          "text": [
            "in_shape 115 , out_shape 5\n"
          ]
        }
      ],
      "source": [
        "# Alumno: determinar la dimensiones de entrada y salida\n",
        "in_shape = X_train.shape[1] # max input sentence len\n",
        "out_shape = n_classes # class classification\n",
        "print(\"in_shape\", in_shape, \", out_shape\", out_shape)"
      ]
    },
    {
      "cell_type": "code",
      "execution_count": 25,
      "metadata": {
        "id": "YTdZFHj2MX6c"
      },
      "outputs": [],
      "source": [
        "from keras.layers import LSTM\n",
        "from keras.layers import Embedding\n",
        "from keras.layers import Dropout"
      ]
    },
    {
      "cell_type": "markdown",
      "metadata": {
        "id": "03DaKInD5Nmy"
      },
      "source": [
        "### 3- Entrenar el modelo con embeddings Fasttext + LSTM"
      ]
    },
    {
      "cell_type": "code",
      "execution_count": 26,
      "metadata": {
        "colab": {
          "base_uri": "https://localhost:8080/"
        },
        "id": "kqi-JDuf5Rq5",
        "outputId": "0c161b61-65ce-4be1-9b84-7aa144a5cc3c"
      },
      "outputs": [
        {
          "name": "stdout",
          "output_type": "stream",
          "text": [
            "  % Total    % Received % Xferd  Average Speed   Time    Time     Time  Current\n",
            "                                 Dload  Upload   Total   Spent    Left  Speed\n",
            "  0     0    0     0    0     0      0      0 --:--:-- --:--:-- --:--:--     0\n",
            "  0     0    0     0    0     0      0      0 --:--:-- --:--:-- --:--:--     0\n",
            "100 2746M  100 2746M    0     0   158M      0  0:00:17  0:00:17 --:--:--  181M\n"
          ]
        }
      ],
      "source": [
        "# Descargar los embeddings desde un gogle drive (es la forma más rápida)\n",
        "# NOTA: No hay garantía de que estos links perduren, en caso de que no estén\n",
        "# disponibles descargar de la página oficial como se explica en el siguiente bloque\n",
        "!curl -L -o 'fasttext.pkl' 'https://drive.google.com/u/0/uc?id=1Qi1r-u5lsEsNqRSxLrpNOqQ3B_ufltCa&export=download&confirm=t'"
      ]
    },
    {
      "cell_type": "code",
      "execution_count": 27,
      "metadata": {
        "id": "oTlihgp15WN8"
      },
      "outputs": [],
      "source": [
        "import logging\n",
        "import os\n",
        "from pathlib import Path\n",
        "from io import StringIO\n",
        "import pickle\n",
        "\n",
        "class WordsEmbeddings(object):\n",
        "    logger = logging.getLogger(__name__)\n",
        "\n",
        "    def __init__(self):\n",
        "        # load the embeddings\n",
        "        words_embedding_pkl = Path(self.PKL_PATH)\n",
        "        if not words_embedding_pkl.is_file():\n",
        "            words_embedding_txt = Path(self.WORD_TO_VEC_MODEL_TXT_PATH)\n",
        "            assert words_embedding_txt.is_file(), 'Words embedding not available'\n",
        "            embeddings = self.convert_model_to_pickle()\n",
        "        else:\n",
        "            embeddings = self.load_model_from_pickle()\n",
        "        self.embeddings = embeddings\n",
        "        # build the vocabulary hashmap\n",
        "        index = np.arange(self.embeddings.shape[0])\n",
        "        # Dicctionarios para traducir de embedding a IDX de la palabra\n",
        "        self.word2idx = dict(zip(self.embeddings['word'], index))\n",
        "        self.idx2word = dict(zip(index, self.embeddings['word']))\n",
        "\n",
        "    def get_words_embeddings(self, words):\n",
        "        words_idxs = self.words2idxs(words)\n",
        "        return self.embeddings[words_idxs]['embedding']\n",
        "\n",
        "    def words2idxs(self, words):\n",
        "        return np.array([self.word2idx.get(word, -1) for word in words])\n",
        "\n",
        "    def idxs2words(self, idxs):\n",
        "        return np.array([self.idx2word.get(idx, '-1') for idx in idxs])\n",
        "\n",
        "    def load_model_from_pickle(self):\n",
        "        self.logger.debug(\n",
        "            'loading words embeddings from pickle {}'.format(\n",
        "                self.PKL_PATH\n",
        "            )\n",
        "        )\n",
        "        max_bytes = 2**28 - 1 # 256MB\n",
        "        bytes_in = bytearray(0)\n",
        "        input_size = os.path.getsize(self.PKL_PATH)\n",
        "        with open(self.PKL_PATH, 'rb') as f_in:\n",
        "            for _ in range(0, input_size, max_bytes):\n",
        "                bytes_in += f_in.read(max_bytes)\n",
        "        embeddings = pickle.loads(bytes_in)\n",
        "        self.logger.debug('words embeddings loaded')\n",
        "        return embeddings\n",
        "\n",
        "    def convert_model_to_pickle(self):\n",
        "        # create a numpy strctured array:\n",
        "        # word     embedding\n",
        "        # U50      np.float32[]\n",
        "        # word_1   a, b, c\n",
        "        # word_2   d, e, f\n",
        "        # ...\n",
        "        # word_n   g, h, i\n",
        "        self.logger.debug(\n",
        "            'converting and loading words embeddings from text file {}'.format(\n",
        "                self.WORD_TO_VEC_MODEL_TXT_PATH\n",
        "            )\n",
        "        )\n",
        "        structure = [('word', np.dtype('U' + str(self.WORD_MAX_SIZE))),\n",
        "                     ('embedding', np.float32, (self.N_FEATURES,))]\n",
        "        structure = np.dtype(structure)\n",
        "        # load numpy array from disk using a generator\n",
        "        with open(self.WORD_TO_VEC_MODEL_TXT_PATH, encoding=\"utf8\") as words_embeddings_txt:\n",
        "            embeddings_gen = (\n",
        "                (line.split()[0], line.split()[1:]) for line in words_embeddings_txt\n",
        "                if len(line.split()[1:]) == self.N_FEATURES\n",
        "            )\n",
        "            embeddings = np.fromiter(embeddings_gen, structure)\n",
        "        # add a null embedding\n",
        "        null_embedding = np.array(\n",
        "            [('null_embedding', np.zeros((self.N_FEATURES,), dtype=np.float32))],\n",
        "            dtype=structure\n",
        "        )\n",
        "        embeddings = np.concatenate([embeddings, null_embedding])\n",
        "        # dump numpy array to disk using pickle\n",
        "        max_bytes = 2**28 - 1 # # 256MB\n",
        "        bytes_out = pickle.dumps(embeddings, protocol=pickle.HIGHEST_PROTOCOL)\n",
        "        with open(self.PKL_PATH, 'wb') as f_out:\n",
        "            for idx in range(0, len(bytes_out), max_bytes):\n",
        "                f_out.write(bytes_out[idx:idx+max_bytes])\n",
        "        self.logger.debug('words embeddings loaded')\n",
        "        return embeddings\n",
        "\n",
        "\n",
        "class GloveEmbeddings(WordsEmbeddings):\n",
        "    WORD_TO_VEC_MODEL_TXT_PATH = 'glove.twitter.27B.50d.txt'\n",
        "    PKL_PATH = 'gloveembedding.pkl'\n",
        "    N_FEATURES = 50\n",
        "    WORD_MAX_SIZE = 60\n",
        "\n",
        "\n",
        "class FasttextEmbeddings(WordsEmbeddings):\n",
        "    WORD_TO_VEC_MODEL_TXT_PATH = 'cc.en.300.vec'\n",
        "    PKL_PATH = 'fasttext.pkl'\n",
        "    N_FEATURES = 300\n",
        "    WORD_MAX_SIZE = 60"
      ]
    },
    {
      "cell_type": "code",
      "execution_count": 28,
      "metadata": {
        "id": "RSFYwl545ZwM"
      },
      "outputs": [],
      "source": [
        "model_fasttext = FasttextEmbeddings()\n",
        "# Mirar cómo sube el uso de RAM en colab!"
      ]
    },
    {
      "cell_type": "code",
      "execution_count": 29,
      "metadata": {
        "colab": {
          "base_uri": "https://localhost:8080/"
        },
        "id": "7JNmwECf5hxt",
        "outputId": "ddb2c8e3-6207-4aba-c88b-4f2455c2d1f2"
      },
      "outputs": [
        {
          "name": "stdout",
          "output_type": "stream",
          "text": [
            "preparing embedding matrix...\n",
            "number of null word embeddings: 2\n"
          ]
        }
      ],
      "source": [
        "# Crear la Embedding matrix para la cantidad nb_words seleccionadas\n",
        "# nos vamos a quedar sólo con los vectores de embeddings para las palabras\n",
        "# que definimos como vocabulario\n",
        "\n",
        "print('preparing embedding matrix...')\n",
        "embed_dim = 300 # fasttext\n",
        "words_not_found = []\n",
        "\n",
        "# word_index proviene del tokenizer\n",
        "\n",
        "nb_words = min(num_words, len(word_index)) # vocab_size\n",
        "embedding_matrix = np.zeros((nb_words, embed_dim))\n",
        "\n",
        "# word_index está ordenado de mayor a menor frecuencia de palabras\n",
        "# las primeras que entren en el ciclo for serán las más frecuentes\n",
        "# Atención! El tokenizador de Keras no tiene soporte para stop words\n",
        "# las primeras palabras probablemente sean stopwords, para eliminarlas\n",
        "# hay que procesar el word_index o bien elegir otra librería para preprocesamiento\n",
        "# ¡ver clase 2! ;)\n",
        "for word, i in word_index.items():\n",
        "    if i >= nb_words:\n",
        "        continue\n",
        "    embedding_vector = model_fasttext.get_words_embeddings(word)[0]\n",
        "    if (embedding_vector is not None) and len(embedding_vector) > 0:\n",
        "        embedding_matrix[i] = embedding_vector\n",
        "    else:\n",
        "        # words que no estén en el índice de la matriz de embedding tendrán\n",
        "        # como vector de embedding correspondiente todos ceros\n",
        "        words_not_found.append(word)\n",
        "        print(word)\n",
        "\n",
        "print('number of null word embeddings:', np.sum(np.sum(embedding_matrix**2, axis=1) == 0))"
      ]
    },
    {
      "cell_type": "code",
      "execution_count": 30,
      "metadata": {
        "colab": {
          "base_uri": "https://localhost:8080/"
        },
        "id": "I6l_eYhi55tn",
        "outputId": "906bbf33-a214-41f2-8503-305b509c8279"
      },
      "outputs": [
        {
          "name": "stdout",
          "output_type": "stream",
          "text": [
            "Model: \"sequential\"\n",
            "_________________________________________________________________\n",
            " Layer (type)                Output Shape              Param #   \n",
            "=================================================================\n",
            " embedding (Embedding)       (None, 115, 300)          600000    \n",
            "                                                                 \n",
            " lstm (LSTM)                 (None, 115, 64)           93440     \n",
            "                                                                 \n",
            " dropout (Dropout)           (None, 115, 64)           0         \n",
            "                                                                 \n",
            " lstm_1 (LSTM)               (None, 128)               98816     \n",
            "                                                                 \n",
            " dense (Dense)               (None, 128)               16512     \n",
            "                                                                 \n",
            " dropout_1 (Dropout)         (None, 128)               0         \n",
            "                                                                 \n",
            " dense_1 (Dense)             (None, 5)                 645       \n",
            "                                                                 \n",
            "=================================================================\n",
            "Total params: 809,413\n",
            "Trainable params: 209,413\n",
            "Non-trainable params: 600,000\n",
            "_________________________________________________________________\n"
          ]
        }
      ],
      "source": [
        "# Definimos el modelo\n",
        "\n",
        "model2 = Sequential()\n",
        "# input_dim = vocab_size (max n_words)\n",
        "# input_length = setencias con padding a 200\n",
        "# output_dim = embed_dim (depende que embeddings pre entrenados utilizamos)\n",
        "model2.add(Embedding(input_dim=vocab_size, # definido en el Tokenizador\n",
        "                     output_dim=embed_dim, # dimensión de los embeddings utilizados\n",
        "                     input_length=in_shape, # máxima sentencia de entrada\n",
        "                     weights=[embedding_matrix], # matrix de embeddings\n",
        "                    trainable=False)) # marcar como layer no entrenable\n",
        "\n",
        "model2.add(LSTM(units=64, return_sequences=True))\n",
        "model2.add(Dropout(0.2))\n",
        "model2.add(LSTM(units=128)) # La última capa LSTM no lleva return_sequences\n",
        "\n",
        "model2.add(Dense(units=128, activation='relu'))\n",
        "model2.add(Dropout(rate=0.2))\n",
        "model2.add(Dense(units=out_shape, activation='sigmoid'))\n",
        "\n",
        "model2.compile(optimizer=\"adam\",\n",
        "              loss='categorical_crossentropy',\n",
        "              metrics=['accuracy'])\n",
        "\n",
        "model2.summary()"
      ]
    },
    {
      "cell_type": "code",
      "execution_count": 31,
      "metadata": {
        "colab": {
          "base_uri": "https://localhost:8080/"
        },
        "id": "gD2fVR7L6Glm",
        "outputId": "e1eb3778-f67f-4a49-fc6f-424b36a08c25"
      },
      "outputs": [
        {
          "name": "stdout",
          "output_type": "stream",
          "text": [
            "Epoch 1/50\n",
            "1176/1176 [==============================] - 26s 14ms/step - loss: 1.3407 - accuracy: 0.3743 - val_loss: 1.2985 - val_accuracy: 0.3883\n",
            "Epoch 2/50\n",
            "1176/1176 [==============================] - 16s 13ms/step - loss: 1.3185 - accuracy: 0.3776 - val_loss: 1.2972 - val_accuracy: 0.3881\n",
            "Epoch 3/50\n",
            "1176/1176 [==============================] - 18s 15ms/step - loss: 1.2991 - accuracy: 0.3828 - val_loss: 1.2836 - val_accuracy: 0.3896\n",
            "Epoch 4/50\n",
            "1176/1176 [==============================] - 16s 13ms/step - loss: 1.2899 - accuracy: 0.3846 - val_loss: 1.2733 - val_accuracy: 0.3912\n",
            "Epoch 5/50\n",
            "1176/1176 [==============================] - 16s 14ms/step - loss: 1.2829 - accuracy: 0.3861 - val_loss: 1.2716 - val_accuracy: 0.3917\n",
            "Epoch 6/50\n",
            "1176/1176 [==============================] - 15s 13ms/step - loss: 1.2753 - accuracy: 0.3883 - val_loss: 1.2711 - val_accuracy: 0.3905\n",
            "Epoch 7/50\n",
            "1176/1176 [==============================] - 16s 14ms/step - loss: 1.2714 - accuracy: 0.3902 - val_loss: 1.2681 - val_accuracy: 0.3934\n",
            "Epoch 8/50\n",
            "1176/1176 [==============================] - 16s 14ms/step - loss: 1.2649 - accuracy: 0.3932 - val_loss: 1.2653 - val_accuracy: 0.3931\n",
            "Epoch 9/50\n",
            "1176/1176 [==============================] - 16s 13ms/step - loss: 1.2569 - accuracy: 0.3952 - val_loss: 1.2646 - val_accuracy: 0.3983\n",
            "Epoch 10/50\n",
            "1176/1176 [==============================] - 16s 14ms/step - loss: 1.2390 - accuracy: 0.4112 - val_loss: 1.1262 - val_accuracy: 0.4914\n",
            "Epoch 11/50\n",
            "1176/1176 [==============================] - 16s 14ms/step - loss: 1.0707 - accuracy: 0.5291 - val_loss: 1.0127 - val_accuracy: 0.5776\n",
            "Epoch 12/50\n",
            "1176/1176 [==============================] - 15s 13ms/step - loss: 1.0031 - accuracy: 0.5769 - val_loss: 0.9560 - val_accuracy: 0.6121\n",
            "Epoch 13/50\n",
            "1176/1176 [==============================] - 16s 14ms/step - loss: 0.8701 - accuracy: 0.6475 - val_loss: 0.8980 - val_accuracy: 0.6279\n",
            "Epoch 14/50\n",
            "1176/1176 [==============================] - 17s 14ms/step - loss: 0.8172 - accuracy: 0.6716 - val_loss: 0.8106 - val_accuracy: 0.6872\n",
            "Epoch 15/50\n",
            "1176/1176 [==============================] - 16s 14ms/step - loss: 0.7773 - accuracy: 0.6897 - val_loss: 0.7884 - val_accuracy: 0.6934\n",
            "Epoch 16/50\n",
            "1176/1176 [==============================] - 16s 14ms/step - loss: 0.7639 - accuracy: 0.6943 - val_loss: 0.8086 - val_accuracy: 0.6929\n",
            "Epoch 17/50\n",
            "1176/1176 [==============================] - 16s 14ms/step - loss: 0.7655 - accuracy: 0.6902 - val_loss: 0.8236 - val_accuracy: 0.6728\n",
            "Epoch 18/50\n",
            "1176/1176 [==============================] - 15s 13ms/step - loss: 0.7543 - accuracy: 0.6947 - val_loss: 0.7919 - val_accuracy: 0.6914\n",
            "Epoch 19/50\n",
            "1176/1176 [==============================] - 16s 14ms/step - loss: 0.7372 - accuracy: 0.7009 - val_loss: 0.8011 - val_accuracy: 0.6924\n",
            "Epoch 20/50\n",
            "1176/1176 [==============================] - 16s 14ms/step - loss: 0.7274 - accuracy: 0.7046 - val_loss: 0.7971 - val_accuracy: 0.6867\n",
            "Epoch 21/50\n",
            "1176/1176 [==============================] - 16s 13ms/step - loss: 0.7166 - accuracy: 0.7078 - val_loss: 0.8070 - val_accuracy: 0.6855\n",
            "Epoch 22/50\n",
            "1176/1176 [==============================] - 15s 13ms/step - loss: 0.7058 - accuracy: 0.7122 - val_loss: 0.8139 - val_accuracy: 0.6820\n",
            "Epoch 23/50\n",
            "1176/1176 [==============================] - 15s 13ms/step - loss: 0.6938 - accuracy: 0.7179 - val_loss: 0.8098 - val_accuracy: 0.6867\n",
            "Epoch 24/50\n",
            "1176/1176 [==============================] - 16s 13ms/step - loss: 0.6822 - accuracy: 0.7200 - val_loss: 0.8162 - val_accuracy: 0.6793\n",
            "Epoch 25/50\n",
            "1176/1176 [==============================] - 17s 14ms/step - loss: 0.6723 - accuracy: 0.7246 - val_loss: 0.8210 - val_accuracy: 0.6921\n",
            "Epoch 26/50\n",
            "1176/1176 [==============================] - 16s 13ms/step - loss: 0.6551 - accuracy: 0.7321 - val_loss: 0.8409 - val_accuracy: 0.6899\n",
            "Epoch 27/50\n",
            "1176/1176 [==============================] - 16s 14ms/step - loss: 0.6433 - accuracy: 0.7360 - val_loss: 0.8540 - val_accuracy: 0.6852\n",
            "Epoch 28/50\n",
            "1176/1176 [==============================] - 16s 14ms/step - loss: 0.6319 - accuracy: 0.7397 - val_loss: 0.8659 - val_accuracy: 0.6872\n",
            "Epoch 29/50\n",
            "1176/1176 [==============================] - 16s 14ms/step - loss: 0.6196 - accuracy: 0.7460 - val_loss: 0.8966 - val_accuracy: 0.6800\n",
            "Epoch 30/50\n",
            "1176/1176 [==============================] - 16s 14ms/step - loss: 0.6083 - accuracy: 0.7513 - val_loss: 0.8882 - val_accuracy: 0.6826\n",
            "Epoch 31/50\n",
            "1176/1176 [==============================] - 16s 14ms/step - loss: 0.5978 - accuracy: 0.7556 - val_loss: 0.9117 - val_accuracy: 0.6828\n",
            "Epoch 32/50\n",
            "1176/1176 [==============================] - 15s 13ms/step - loss: 0.5865 - accuracy: 0.7601 - val_loss: 0.9139 - val_accuracy: 0.6832\n",
            "Epoch 33/50\n",
            "1176/1176 [==============================] - 15s 13ms/step - loss: 0.5728 - accuracy: 0.7651 - val_loss: 0.9762 - val_accuracy: 0.6881\n",
            "Epoch 34/50\n",
            "1176/1176 [==============================] - 16s 14ms/step - loss: 0.5638 - accuracy: 0.7681 - val_loss: 0.9703 - val_accuracy: 0.6758\n",
            "Epoch 35/50\n",
            "1176/1176 [==============================] - 17s 14ms/step - loss: 0.5577 - accuracy: 0.7719 - val_loss: 0.9793 - val_accuracy: 0.6747\n",
            "Epoch 36/50\n",
            "1176/1176 [==============================] - 16s 13ms/step - loss: 0.5457 - accuracy: 0.7772 - val_loss: 1.0027 - val_accuracy: 0.6701\n",
            "Epoch 37/50\n",
            "1176/1176 [==============================] - 15s 13ms/step - loss: 0.5776 - accuracy: 0.7641 - val_loss: 1.0218 - val_accuracy: 0.6848\n",
            "Epoch 38/50\n",
            "1176/1176 [==============================] - 15s 13ms/step - loss: 0.5287 - accuracy: 0.7857 - val_loss: 1.0715 - val_accuracy: 0.6741\n",
            "Epoch 39/50\n",
            "1176/1176 [==============================] - 16s 13ms/step - loss: 0.5202 - accuracy: 0.7860 - val_loss: 1.0686 - val_accuracy: 0.6808\n",
            "Epoch 40/50\n",
            "1176/1176 [==============================] - 16s 14ms/step - loss: 0.5151 - accuracy: 0.7893 - val_loss: 1.0992 - val_accuracy: 0.6781\n",
            "Epoch 41/50\n",
            "1176/1176 [==============================] - 16s 14ms/step - loss: 0.5071 - accuracy: 0.7940 - val_loss: 1.1074 - val_accuracy: 0.6791\n",
            "Epoch 42/50\n",
            "1176/1176 [==============================] - 16s 13ms/step - loss: 0.5131 - accuracy: 0.7917 - val_loss: 1.1211 - val_accuracy: 0.6727\n",
            "Epoch 43/50\n",
            "1176/1176 [==============================] - 15s 13ms/step - loss: 0.4957 - accuracy: 0.7969 - val_loss: 1.1330 - val_accuracy: 0.6804\n",
            "Epoch 44/50\n",
            "1176/1176 [==============================] - 15s 13ms/step - loss: 0.4860 - accuracy: 0.8035 - val_loss: 1.2019 - val_accuracy: 0.6754\n",
            "Epoch 45/50\n",
            "1176/1176 [==============================] - 15s 13ms/step - loss: 0.4842 - accuracy: 0.8046 - val_loss: 1.1639 - val_accuracy: 0.6691\n",
            "Epoch 46/50\n",
            "1176/1176 [==============================] - 16s 13ms/step - loss: 0.4774 - accuracy: 0.8076 - val_loss: 1.1932 - val_accuracy: 0.6664\n",
            "Epoch 47/50\n",
            "1176/1176 [==============================] - 15s 13ms/step - loss: 0.4704 - accuracy: 0.8097 - val_loss: 1.1965 - val_accuracy: 0.6781\n",
            "Epoch 48/50\n",
            "1176/1176 [==============================] - 16s 14ms/step - loss: 0.4624 - accuracy: 0.8112 - val_loss: 1.2298 - val_accuracy: 0.6703\n",
            "Epoch 49/50\n",
            "1176/1176 [==============================] - 16s 14ms/step - loss: 0.4613 - accuracy: 0.8156 - val_loss: 1.2295 - val_accuracy: 0.6697\n",
            "Epoch 50/50\n",
            "1176/1176 [==============================] - 17s 14ms/step - loss: 0.4514 - accuracy: 0.8165 - val_loss: 1.2465 - val_accuracy: 0.6691\n"
          ]
        }
      ],
      "source": [
        "X_train_t, X_val, y_train_t, y_val = train_test_split(X_train, y_train, test_size=0.25, random_state=42)\n",
        "hist2 = model2.fit(X_train_t, y_train_t, validation_data=(X_val, y_val), epochs=50)"
      ]
    },
    {
      "cell_type": "code",
      "execution_count": 32,
      "metadata": {
        "colab": {
          "base_uri": "https://localhost:8080/",
          "height": 430
        },
        "id": "Zj0rJ_1B6R4H",
        "outputId": "12b1e732-8ed0-448f-aa1b-51bf9830828d"
      },
      "outputs": [
        {
          "data": {
            "image/png": "[encoded data removed]",
            "text/plain": [
              "<Figure size 640x480 with 1 Axes>"
            ]
          },
          "metadata": {},
          "output_type": "display_data"
        }
      ],
      "source": [
        "epoch_count = range(1, len(hist2.history['accuracy']) + 1)\n",
        "sns.lineplot(x=epoch_count,  y=hist2.history['accuracy'], label='train')\n",
        "sns.lineplot(x=epoch_count,  y=hist2.history['val_accuracy'], label='valid')\n",
        "plt.show()"
      ]
    },
    {
      "cell_type": "code",
      "execution_count": 33,
      "metadata": {
        "colab": {
          "base_uri": "https://localhost:8080/"
        },
        "id": "H7plE2pj6Tcg",
        "outputId": "54dad3ca-299a-4eaf-b6d5-0dd19d89298c"
      },
      "outputs": [
        {
          "name": "stdout",
          "output_type": "stream",
          "text": [
            "142/142 [==============================] - 2s 7ms/step - loss: 2.3498 - accuracy: 0.5112\n"
          ]
        },
        {
          "data": {
            "text/plain": [
              "[2.34975004196167, 0.5111503601074219]"
            ]
          },
          "execution_count": 33,
          "metadata": {},
          "output_type": "execute_result"
        }
      ],
      "source": [
        "model2.evaluate(X_test, y_test)"
      ]
    },
    {
      "cell_type": "markdown",
      "metadata": {},
      "source": [
        "## Conclusiones"
      ]
    },
    {
      "cell_type": "markdown",
      "metadata": {},
      "source": [
        "Alrededor de las 20 epochs de entrenamiento se comienza a ver overfitting, por lo que se alcanza alrededor de un 70% de accuracy en el set de validación. Esto es peor que en comparación con el ejercicio A, donde no se utilizaron embeddings de FastText, sino que se crearon nuestros propios embeddings. Además, el accuracy final con el set de test luego de entrenar por 50 epochs es menor al usar FastText (51%) comparado con los embeddings propios (57%). \n",
        "El peor rendimiento se puede deber a que los embeddings son, al fin y al cabo, parametros a entrenar, y por lo tanto al crear los embeddings propios la red está aprovechando esos parametros adicionales para ajustar mejor el modelo a los datos. Esto se logra a costo de mayor tiempo de entrenamiento, ya que se debe calcular los pesos de los embeddings. Se podría intentar incrementando la complejidad del modelo usando FastText para así mejorar el accuracy, aprovechando que los embeddings ya están hechos."
      ]
    }
  ],
  "metadata": {
    "accelerator": "GPU",
    "colab": {
      "provenance": []
    },
    "kernelspec": {
      "display_name": "Python 3",
      "name": "python3"
    },
    "language_info": {
      "codemirror_mode": {
        "name": "ipython",
        "version": 3
      },
      "file_extension": ".py",
      "mimetype": "text/x-python",
      "name": "python",
      "nbconvert_exporter": "python",
      "pygments_lexer": "ipython3",
      "version": "3.10.9"
    }
  },
  "nbformat": 4,
  "nbformat_minor": 0
}
