{
 "cells": [
  {
   "cell_type": "code",
   "execution_count": 51,
   "metadata": {},
   "outputs": [],
   "source": [
    "path='Cristina Fernández de Kirchner - Sinceramente.epub'\n",
    "output_path='sinceramente.txt'\n",
    "\n",
    "# Source for getting text from epub: https://medium.com/@zazazakaria18/turn-your-ebook-to-text-with-python-in-seconds-2a1e42804913\n",
    "from bs4 import BeautifulSoup\n",
    "blacklist = [   '[document]',   'noscript', 'header',   'html', 'meta', 'head','input', 'script' ]\n",
    "# there may be more elements you don't want, such as \"style\", etc.\n",
    "\n",
    "import ebooklib\n",
    "from ebooklib import epub\n",
    "def epub2thtml(epub_path):\n",
    "    book = epub.read_epub(epub_path)\n",
    "    chapters = []\n",
    "    for item in book.get_items():\n",
    "        if item.get_type() == ebooklib.ITEM_DOCUMENT:\n",
    "            chapters.append(item.get_content())\n",
    "    return chapters\n",
    "\n",
    "def chap2text(chap):\n",
    "    output = ''\n",
    "    soup = BeautifulSoup(chap, 'html.parser')\n",
    "    text = soup.find_all(text=True)\n",
    "    for t in text:\n",
    "        if t.parent.name not in blacklist:\n",
    "            output += '{} '.format(t)\n",
    "    return output\n",
    "\n",
    "def thtml2ttext(thtml):\n",
    "    Output = []\n",
    "    for html in thtml:\n",
    "        text =  chap2text(html)\n",
    "        Output.append(text)\n",
    "    return Output\n",
    "\n",
    "def epub2text(epub_path):\n",
    "    chapters = epub2thtml(epub_path)\n",
    "    ttext = thtml2ttext(chapters)\n",
    "    return ttext\n",
    "\n",
    "out=epub2text(path)\n"
   ]
  },
  {
   "cell_type": "code",
   "execution_count": 57,
   "metadata": {},
   "outputs": [],
   "source": [
    "with open(output_path, 'w') as dataset:\n",
    "    for line in out:\n",
    "        line = line.replace('\\xa0', '')\n",
    "        dataset.write(line)"
   ]
  }
 ],
 "metadata": {
  "kernelspec": {
   "display_name": "nlp_tensor",
   "language": "python",
   "name": "python3"
  },
  "language_info": {
   "codemirror_mode": {
    "name": "ipython",
    "version": 3
   },
   "file_extension": ".py",
   "mimetype": "text/x-python",
   "name": "python",
   "nbconvert_exporter": "python",
   "pygments_lexer": "ipython3",
   "version": "3.10.9"
  },
  "orig_nbformat": 4
 },
 "nbformat": 4,
 "nbformat_minor": 2
}
