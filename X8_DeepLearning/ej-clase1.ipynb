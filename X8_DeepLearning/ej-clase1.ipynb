{
 "cells": [
  {
   "cell_type": "code",
   "execution_count": 15,
   "metadata": {},
   "outputs": [
    {
     "name": "stdout",
     "output_type": "stream",
     "text": [
      "Epoch 0 - MSE: 1.475795699391404\n",
      "Epoch 10000 - MSE: 0.4743171288483575\n",
      "Epoch 20000 - MSE: 0.015199781982415365\n",
      "Epoch 30000 - MSE: 0.006609162124844786\n",
      "Epoch 40000 - MSE: 0.004139519572626363\n",
      "Epoch 50000 - MSE: 0.002991149679612772\n",
      "Epoch 60000 - MSE: 0.0023328253652263632\n",
      "Epoch 70000 - MSE: 0.001907820279682192\n",
      "Epoch 80000 - MSE: 0.001611521847662864\n",
      "Epoch 90000 - MSE: 0.0013935190132182203\n"
     ]
    }
   ],
   "source": [
    "import numpy as np\n",
    "\n",
    "class NeuralNetwork():\n",
    "    # Simple neural network implementation \n",
    "\n",
    "    W1 = None\n",
    "    W2 = None\n",
    "    W3 = None\n",
    "\n",
    "    def __init__(self):\n",
    "        pass\n",
    "\n",
    "    def sigmoid(self, x):\n",
    "        return (1 / (1+np.exp(-x)))\n",
    "\n",
    "    def _activation(self, x):\n",
    "        return self.sigmoid(x)\n",
    "    \n",
    "    def fit(self, X, y, lr=0.1, epochs=10000):\n",
    "        mse_epochs=[]\n",
    "\n",
    "        # X viene acostada..\n",
    "        X=np.append(X, np.ones(shape=(X.shape[0],1)), axis=1)   # agrego columna para considerar ordenada al origen (parametro b)\n",
    "\n",
    "        n = X.shape[0]  # nro de samples\n",
    "        m = X.shape[1]  # nro de features + 1 (que agregamos antes)\n",
    "\n",
    "        # Initialize weight with random\n",
    "        W1 = np.random.random(size=(m,1))   # Pesos de neurona 1 capa (1)\n",
    "        W2 = np.random.random(size=(m,1))   # Pesos de neurona 2 capa (1)\n",
    "        W3 = np.random.random(size=(m,1))   # Pesos de neurona 1 capa (2)\n",
    "\n",
    "\n",
    "        for j in range(epochs):\n",
    "\n",
    "            # Shuffle de las muestras para mejorar entrenamiento\n",
    "            idx = np.random.permutation(n)\n",
    "            X = X[idx]\n",
    "            y = y[idx]\n",
    "            mse = 0     # Initialize MSE\n",
    "\n",
    "            for i in range(n):\n",
    "\n",
    "                # Forward propagation\n",
    "                z1 = ( X[i,:]@W1 )[0]   # multiplico X por los pesos. Output = escalar\n",
    "                a1 = self._activation(z1)\n",
    "\n",
    "                z2 = ( X[i,:]@W2 )[0]   # multiplico X por los pesos. Output = escalar\n",
    "                a2 = self._activation(z2)\n",
    "\n",
    "                x1_2 = np.array([a1, a2, 1])    # Agrando vector para incorporar el b de la tercera neurona\n",
    "                z3 = ( x1_2@W3 )[0]   # multiplico X por los pesos. Output = escalar\n",
    "                a3 = self._activation(z3)\n",
    "\n",
    "                prediction = a3\n",
    "\n",
    "                # Compute the error\n",
    "                error = y[i] - prediction\n",
    "                mse = mse + np.power(error, 2)\n",
    "\n",
    "                # Calculate the gradients\n",
    "                common_grad = (-2/n) * error * self.sigmoid(z3) * (1-self.sigmoid(z3))\n",
    "                grad_w3 = common_grad * x1_2 \n",
    "                grad_w2 = common_grad * W3[1] * self.sigmoid(z2) * (1-self.sigmoid(z2)) * X[i,:]\n",
    "                grad_w1 = common_grad * W3[0] * self.sigmoid(z1) * (1-self.sigmoid(z1)) * X[i,:]\n",
    "\n",
    "                # Back propagation\n",
    "                W3 = W3 - (lr * grad_w3[:,np.newaxis])\n",
    "                W2 = W2 - (lr * grad_w2[:,np.newaxis])\n",
    "                W1 = W1 - (lr * grad_w1[:,np.newaxis])\n",
    "\n",
    "            mse_epochs.append(mse/n)\n",
    "            if (j % (epochs/10)) == 0:\n",
    "                print(f\"Epoch {j} - MSE: {mse}\")\n",
    "\n",
    "        self.W1 = W1\n",
    "        self.W2 = W2\n",
    "        self.W3 = W3\n",
    "\n",
    "        return mse_epochs\n",
    "\n",
    "\n",
    "    def predict(self, X):\n",
    "        X = np.append(X, np.ones(shape=(X.shape[0], 1)), axis=1)\n",
    "        \n",
    "        n = X.shape[0]  # nro de samples\n",
    "\n",
    "        prediction = []\n",
    "\n",
    "        for i in range(n):\n",
    "            # Forward propagation\n",
    "            z1 = ( X[i,:]@self.W1 )[0]   # multiplico X por los pesos. Output = escalar\n",
    "            a1 = self._activation(z1)\n",
    "\n",
    "            z2 = ( X[i,:]@self.W2 )[0]   # multiplico X por los pesos. Output = escalar\n",
    "            a2 = self._activation(z2)\n",
    "\n",
    "            x1_2 = np.array([a1, a2, 1])    # Agrando vector para incorporar el b de la tercera neurona\n",
    "            z3 = ( x1_2@self.W3 )[0]   # multiplico X por los pesos. Output = escalar\n",
    "            a3 = self._activation(z3)\n",
    "\n",
    "            prediction.append(a3)\n",
    "\n",
    "        return np.array(prediction)\n",
    "\n",
    "\n",
    "X = np.array([[0,0], [0,1], [1,0], [1,1]])\n",
    "y = np.array([0,1,1,0])\n",
    "\n",
    "model = NeuralNetwork()\n",
    "mse_epoch = model.fit(X,y, epochs=100000)"
   ]
  },
  {
   "cell_type": "code",
   "execution_count": 18,
   "metadata": {},
   "outputs": [
    {
     "data": {
      "text/plain": [
       "[<matplotlib.lines.Line2D at 0x1236b4bb0>]"
      ]
     },
     "execution_count": 18,
     "metadata": {},
     "output_type": "execute_result"
    },
    {
     "data": {
      "image/png": "[encoded data removed]",
      "text/plain": [
       "<Figure size 640x480 with 1 Axes>"
      ]
     },
     "metadata": {},
     "output_type": "display_data"
    }
   ],
   "source": [
    "import matplotlib.pyplot as plt\n",
    "plt.plot(mse_epoch)"
   ]
  },
  {
   "cell_type": "code",
   "execution_count": 19,
   "metadata": {},
   "outputs": [
    {
     "name": "stdout",
     "output_type": "stream",
     "text": [
      "[0.01931928 0.98333638 0.98333456 0.01725975]\n"
     ]
    }
   ],
   "source": [
    "print(model.predict(X))"
   ]
  }
 ],
 "metadata": {
  "kernelspec": {
   "display_name": "Python 3.9.13 ('base')",
   "language": "python",
   "name": "python3"
  },
  "language_info": {
   "codemirror_mode": {
    "name": "ipython",
    "version": 3
   },
   "file_extension": ".py",
   "mimetype": "text/x-python",
   "name": "python",
   "nbconvert_exporter": "python",
   "pygments_lexer": "ipython3",
   "version": "3.9.13"
  },
  "orig_nbformat": 4,
  "vscode": {
   "interpreter": {
    "hash": "93b5e025e0d37916c9aec614182102167b7d6598c8c0b4d7996be05f9210fc75"
   }
  }
 },
 "nbformat": 4,
 "nbformat_minor": 2
}
