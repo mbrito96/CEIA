{
  "cells": [
    {
      "attachments": {},
      "cell_type": "markdown",
      "metadata": {
        "id": "6hnAb_E0gZFA"
      },
      "source": [
        "# Ejercicio 4 - Consigna\n",
        "Descargar el dataset del siguiente link: https://drive.google.com/file/d/1X8_G5BpQMi-Nnbtms2RL8lcWSxzD8ixd/view?usp=sharing. El dataset son compras de productos que diferentes clientes realizaron durante un black sales. El dataset contiene información sobre las transacciones y el objetivo es poder utilizar el dataset para crear diferentes modelos que puedan predecir cuánto un cliente está dispuesto a gastar en un producto en el futuro. Particularmente, vamos a tratar este problema como una clasificación binaria donde queremos averiguar si el cliente va a gastar mucha plata (más de 9000) o poca plata (menos de 9000).\n",
        "\n",
        "- a)\tEntrenar un modelo de deep learning que no utilice embeddings.\n",
        "- b)\tEntrenar un modelo de deep learning que utilice embeddings tanto para los productos como los usuarios. Realizar el mapeo de identificador de producto y usuarios a indices antes de separar el dataset en training, validation y testing.\n",
        "- c)\tCompare el score de cada modelo y comente lo necesario.\n"
      ]
    },
    {
      "cell_type": "code",
      "execution_count": 61,
      "metadata": {
        "id": "TUEjdowba98t"
      },
      "outputs": [],
      "source": [
        "import pandas as pd\n",
        "import numpy as np\n",
        "import matplotlib.pyplot as plt"
      ]
    },
    {
      "attachments": {},
      "cell_type": "markdown",
      "metadata": {},
      "source": [
        "# (a)"
      ]
    },
    {
      "attachments": {},
      "cell_type": "markdown",
      "metadata": {
        "id": "fVMKJ1DihXiv"
      },
      "source": [
        "## Cargamos el dataset"
      ]
    },
    {
      "cell_type": "code",
      "execution_count": 62,
      "metadata": {
        "id": "dF9wgHw5jTW8"
      },
      "outputs": [],
      "source": [
        "df = pd.read_csv(\"dataset_black_sales.csv\")"
      ]
    },
    {
      "attachments": {},
      "cell_type": "markdown",
      "metadata": {},
      "source": [
        "## Analisis exploratorio"
      ]
    },
    {
      "cell_type": "code",
      "execution_count": 63,
      "metadata": {
        "colab": {
          "base_uri": "https://localhost:8080/"
        },
        "id": "gJRi8PDykHgL",
        "outputId": "7f59d10e-563f-47af-ab79-031db0919cb6"
      },
      "outputs": [
        {
          "name": "stdout",
          "output_type": "stream",
          "text": [
            "<class 'pandas.core.frame.DataFrame'>\n",
            "RangeIndex: 550068 entries, 0 to 550067\n",
            "Data columns (total 12 columns):\n",
            " #   Column                      Non-Null Count   Dtype  \n",
            "---  ------                      --------------   -----  \n",
            " 0   User_ID                     550068 non-null  int64  \n",
            " 1   Product_ID                  550068 non-null  object \n",
            " 2   Gender                      550068 non-null  object \n",
            " 3   Age                         550068 non-null  object \n",
            " 4   Occupation                  550068 non-null  int64  \n",
            " 5   City_Category               550068 non-null  object \n",
            " 6   Stay_In_Current_City_Years  550068 non-null  object \n",
            " 7   Marital_Status              550068 non-null  int64  \n",
            " 8   Product_Category_1          550068 non-null  int64  \n",
            " 9   Product_Category_2          376430 non-null  float64\n",
            " 10  Product_Category_3          166821 non-null  float64\n",
            " 11  Purchase                    550068 non-null  int64  \n",
            "dtypes: float64(2), int64(5), object(5)\n",
            "memory usage: 50.4+ MB\n"
          ]
        }
      ],
      "source": [
        "df.info()"
      ]
    },
    {
      "cell_type": "code",
      "execution_count": 64,
      "metadata": {},
      "outputs": [
        {
          "data": {
            "text/html": [
              "<div>\n",
              "<style scoped>\n",
              "    .dataframe tbody tr th:only-of-type {\n",
              "        vertical-align: middle;\n",
              "    }\n",
              "\n",
              "    .dataframe tbody tr th {\n",
              "        vertical-align: top;\n",
              "    }\n",
              "\n",
              "    .dataframe thead th {\n",
              "        text-align: right;\n",
              "    }\n",
              "</style>\n",
              "<table border=\"1\" class=\"dataframe\">\n",
              "  <thead>\n",
              "    <tr style=\"text-align: right;\">\n",
              "      <th></th>\n",
              "      <th>User_ID</th>\n",
              "      <th>Product_ID</th>\n",
              "      <th>Gender</th>\n",
              "      <th>Age</th>\n",
              "      <th>Occupation</th>\n",
              "      <th>City_Category</th>\n",
              "      <th>Stay_In_Current_City_Years</th>\n",
              "      <th>Marital_Status</th>\n",
              "      <th>Product_Category_1</th>\n",
              "      <th>Product_Category_2</th>\n",
              "      <th>Product_Category_3</th>\n",
              "      <th>Purchase</th>\n",
              "    </tr>\n",
              "  </thead>\n",
              "  <tbody>\n",
              "    <tr>\n",
              "      <th>0</th>\n",
              "      <td>1000001</td>\n",
              "      <td>P00069042</td>\n",
              "      <td>F</td>\n",
              "      <td>0-17</td>\n",
              "      <td>10</td>\n",
              "      <td>A</td>\n",
              "      <td>2</td>\n",
              "      <td>0</td>\n",
              "      <td>3</td>\n",
              "      <td>NaN</td>\n",
              "      <td>NaN</td>\n",
              "      <td>8370</td>\n",
              "    </tr>\n",
              "    <tr>\n",
              "      <th>1</th>\n",
              "      <td>1000001</td>\n",
              "      <td>P00248942</td>\n",
              "      <td>F</td>\n",
              "      <td>0-17</td>\n",
              "      <td>10</td>\n",
              "      <td>A</td>\n",
              "      <td>2</td>\n",
              "      <td>0</td>\n",
              "      <td>1</td>\n",
              "      <td>6.0</td>\n",
              "      <td>14.0</td>\n",
              "      <td>15200</td>\n",
              "    </tr>\n",
              "    <tr>\n",
              "      <th>2</th>\n",
              "      <td>1000001</td>\n",
              "      <td>P00087842</td>\n",
              "      <td>F</td>\n",
              "      <td>0-17</td>\n",
              "      <td>10</td>\n",
              "      <td>A</td>\n",
              "      <td>2</td>\n",
              "      <td>0</td>\n",
              "      <td>12</td>\n",
              "      <td>NaN</td>\n",
              "      <td>NaN</td>\n",
              "      <td>1422</td>\n",
              "    </tr>\n",
              "    <tr>\n",
              "      <th>3</th>\n",
              "      <td>1000001</td>\n",
              "      <td>P00085442</td>\n",
              "      <td>F</td>\n",
              "      <td>0-17</td>\n",
              "      <td>10</td>\n",
              "      <td>A</td>\n",
              "      <td>2</td>\n",
              "      <td>0</td>\n",
              "      <td>12</td>\n",
              "      <td>14.0</td>\n",
              "      <td>NaN</td>\n",
              "      <td>1057</td>\n",
              "    </tr>\n",
              "    <tr>\n",
              "      <th>4</th>\n",
              "      <td>1000002</td>\n",
              "      <td>P00285442</td>\n",
              "      <td>M</td>\n",
              "      <td>55+</td>\n",
              "      <td>16</td>\n",
              "      <td>C</td>\n",
              "      <td>4+</td>\n",
              "      <td>0</td>\n",
              "      <td>8</td>\n",
              "      <td>NaN</td>\n",
              "      <td>NaN</td>\n",
              "      <td>7969</td>\n",
              "    </tr>\n",
              "  </tbody>\n",
              "</table>\n",
              "</div>"
            ],
            "text/plain": [
              "   User_ID Product_ID Gender   Age  Occupation City_Category  \\\n",
              "0  1000001  P00069042      F  0-17          10             A   \n",
              "1  1000001  P00248942      F  0-17          10             A   \n",
              "2  1000001  P00087842      F  0-17          10             A   \n",
              "3  1000001  P00085442      F  0-17          10             A   \n",
              "4  1000002  P00285442      M   55+          16             C   \n",
              "\n",
              "  Stay_In_Current_City_Years  Marital_Status  Product_Category_1  \\\n",
              "0                          2               0                   3   \n",
              "1                          2               0                   1   \n",
              "2                          2               0                  12   \n",
              "3                          2               0                  12   \n",
              "4                         4+               0                   8   \n",
              "\n",
              "   Product_Category_2  Product_Category_3  Purchase  \n",
              "0                 NaN                 NaN      8370  \n",
              "1                 6.0                14.0     15200  \n",
              "2                 NaN                 NaN      1422  \n",
              "3                14.0                 NaN      1057  \n",
              "4                 NaN                 NaN      7969  "
            ]
          },
          "execution_count": 64,
          "metadata": {},
          "output_type": "execute_result"
        }
      ],
      "source": [
        "df.head()"
      ]
    },
    {
      "cell_type": "code",
      "execution_count": 65,
      "metadata": {},
      "outputs": [
        {
          "data": {
            "text/plain": [
              "User_ID                            0\n",
              "Product_ID                         0\n",
              "Gender                             0\n",
              "Age                                0\n",
              "Occupation                         0\n",
              "City_Category                      0\n",
              "Stay_In_Current_City_Years         0\n",
              "Marital_Status                     0\n",
              "Product_Category_1                 0\n",
              "Product_Category_2            173638\n",
              "Product_Category_3            383247\n",
              "Purchase                           0\n",
              "dtype: int64"
            ]
          },
          "execution_count": 65,
          "metadata": {},
          "output_type": "execute_result"
        }
      ],
      "source": [
        "df.isnull().sum()"
      ]
    },
    {
      "attachments": {},
      "cell_type": "markdown",
      "metadata": {},
      "source": [
        "Valores Nulos encontrados para las categorías secundarias y terciarias. Dado que no tenemos más información sobre a qué referencia hacen, las pondremos en 0 ya que actualmente no se utiliza ese valor (ver siguientes secciones)."
      ]
    },
    {
      "cell_type": "code",
      "execution_count": 66,
      "metadata": {},
      "outputs": [],
      "source": [
        "df.fillna(0,inplace=True)  # reemplazamos los N/A por 0"
      ]
    },
    {
      "cell_type": "code",
      "execution_count": 67,
      "metadata": {},
      "outputs": [
        {
          "name": "stdout",
          "output_type": "stream",
          "text": [
            "User_ID unique values: 5891\n",
            "Product_ID unique values: 3631\n",
            "Gender values: ['F' 'M'] - Total: 2\n",
            "Age values: ['0-17' '55+' '26-35' '46-50' '51-55' '36-45' '18-25'] - Total: 7\n",
            "Occupation values: [10 16 15  7 20  9  1 12 17  0  3  4 11  8 19  2 18  5 14 13  6] - Total: 21\n",
            "City_Category values: ['A' 'C' 'B'] - Total: 3\n",
            "Stay_In_Current_City_Years values: ['2' '4+' '3' '1' '0'] - Total: 5\n",
            "Marital_Status values: [0 1] - Total: 2\n",
            "Product_Category_1 values: [ 3  1 12  8  5  4  2  6 14 11 13 15  7 16 18 10 17  9 20 19] - Total: 20\n",
            "Product_Category_2 values: [ 0.  6. 14.  2.  8. 15. 16. 11.  5.  3.  4. 12.  9. 10. 17. 13.  7. 18.] - Total: 18\n",
            "Product_Category_3 values: [ 0. 14. 17.  5.  4. 16. 15.  8.  9. 13.  6. 12.  3. 18. 11. 10.] - Total: 16\n"
          ]
        }
      ],
      "source": [
        "# Veamos la cantidad de valores únicos de algunos otros features\n",
        "for i in ['User_ID', 'Product_ID']:\n",
        "    print(i + ' unique values: ' + str(len(df[i].unique())))\n",
        "# Veamos los valores unicos de algunos de los features\n",
        "for i in ['Gender', 'Age', 'Occupation', 'City_Category', 'Stay_In_Current_City_Years', 'Marital_Status', 'Product_Category_1', 'Product_Category_2', 'Product_Category_3']:\n",
        "    print(i + ' values: ' + str(df[i].unique()) + ' - Total: ' + str(len(df[i].unique())))\n"
      ]
    },
    {
      "cell_type": "code",
      "execution_count": 68,
      "metadata": {},
      "outputs": [
        {
          "data": {
            "text/plain": [
              "Text(721.8320000000001, 0.5, 'Product_Category_3')"
            ]
          },
          "execution_count": 68,
          "metadata": {},
          "output_type": "execute_result"
        },
        {
          "data": {
            "image/png": "[encoded data removed]",
            "text/plain": [
              "<Figure size 1440x504 with 3 Axes>"
            ]
          },
          "metadata": {},
          "output_type": "display_data"
        }
      ],
      "source": [
        "import seaborn as sns\n",
        "\n",
        "corr_spearman = df.corr(method='spearman')\n",
        "\n",
        "fig, axes = plt.subplots(1,2,figsize=(20,7), )\n",
        "plt.tight_layout()\n",
        "\n",
        "axes[0].set_title(\"Pearson\")\n",
        "sns.heatmap(corr_spearman, cmap=sns.diverging_palette(220,10,as_cmap=True),fmt=\".2f\",ax=axes[0])\n",
        "sns.set(font_scale=0.9)\n",
        "\n",
        "axes[1].set_title(\"Distribution\")\n",
        "plt.scatter(np.sort(df['Product_Category_1']), np.sort(df['Product_Category_3']))\n",
        "plt.xlabel('Product_Category_1')\n",
        "plt.ylabel('Product_Category_3')"
      ]
    },
    {
      "attachments": {},
      "cell_type": "markdown",
      "metadata": {},
      "source": [
        "Correlación: el análisis de correlación de Spearman no muestra una gran correlación entre los features. La mayor correlación se da entre las categorías 1 y 3, llegando a ser de 0.5. Sin embargo, un análisis de las distribuciones de una contra la otra muestra que la categoría 3 nos aporta gran cantidad de información que la 1 no tiene (notar alrededor del 8 de categoría 1). Por lo tanto , no podemos reducir dimensionalidad sin perder información significativa que puede ser útil para el problema final."
      ]
    },
    {
      "cell_type": "code",
      "execution_count": 69,
      "metadata": {},
      "outputs": [
        {
          "data": {
            "text/html": [
              "<div>\n",
              "<style scoped>\n",
              "    .dataframe tbody tr th:only-of-type {\n",
              "        vertical-align: middle;\n",
              "    }\n",
              "\n",
              "    .dataframe tbody tr th {\n",
              "        vertical-align: top;\n",
              "    }\n",
              "\n",
              "    .dataframe thead th {\n",
              "        text-align: right;\n",
              "    }\n",
              "</style>\n",
              "<table border=\"1\" class=\"dataframe\">\n",
              "  <thead>\n",
              "    <tr style=\"text-align: right;\">\n",
              "      <th></th>\n",
              "      <th>User_ID</th>\n",
              "      <th>Product_ID</th>\n",
              "      <th>Gender</th>\n",
              "      <th>Age</th>\n",
              "      <th>Occupation</th>\n",
              "      <th>City_Category</th>\n",
              "      <th>Stay_In_Current_City_Years</th>\n",
              "      <th>Marital_Status</th>\n",
              "      <th>Product_Category_1</th>\n",
              "      <th>Product_Category_2</th>\n",
              "      <th>Product_Category_3</th>\n",
              "      <th>Purchase</th>\n",
              "    </tr>\n",
              "    <tr>\n",
              "      <th>y</th>\n",
              "      <th></th>\n",
              "      <th></th>\n",
              "      <th></th>\n",
              "      <th></th>\n",
              "      <th></th>\n",
              "      <th></th>\n",
              "      <th></th>\n",
              "      <th></th>\n",
              "      <th></th>\n",
              "      <th></th>\n",
              "      <th></th>\n",
              "      <th></th>\n",
              "    </tr>\n",
              "  </thead>\n",
              "  <tbody>\n",
              "    <tr>\n",
              "      <th>False</th>\n",
              "      <td>5890</td>\n",
              "      <td>3559</td>\n",
              "      <td>2</td>\n",
              "      <td>7</td>\n",
              "      <td>21</td>\n",
              "      <td>3</td>\n",
              "      <td>5</td>\n",
              "      <td>2</td>\n",
              "      <td>20</td>\n",
              "      <td>18</td>\n",
              "      <td>16</td>\n",
              "      <td>7304</td>\n",
              "    </tr>\n",
              "    <tr>\n",
              "      <th>True</th>\n",
              "      <td>5874</td>\n",
              "      <td>2031</td>\n",
              "      <td>2</td>\n",
              "      <td>7</td>\n",
              "      <td>21</td>\n",
              "      <td>3</td>\n",
              "      <td>5</td>\n",
              "      <td>2</td>\n",
              "      <td>12</td>\n",
              "      <td>17</td>\n",
              "      <td>16</td>\n",
              "      <td>10801</td>\n",
              "    </tr>\n",
              "  </tbody>\n",
              "</table>\n",
              "</div>"
            ],
            "text/plain": [
              "       User_ID  Product_ID  Gender  Age  Occupation  City_Category  \\\n",
              "y                                                                    \n",
              "False     5890        3559       2    7          21              3   \n",
              "True      5874        2031       2    7          21              3   \n",
              "\n",
              "       Stay_In_Current_City_Years  Marital_Status  Product_Category_1  \\\n",
              "y                                                                       \n",
              "False                           5               2                  20   \n",
              "True                            5               2                  12   \n",
              "\n",
              "       Product_Category_2  Product_Category_3  Purchase  \n",
              "y                                                        \n",
              "False                  18                  16      7304  \n",
              "True                   17                  16     10801  "
            ]
          },
          "execution_count": 69,
          "metadata": {},
          "output_type": "execute_result"
        }
      ],
      "source": [
        "# Veamos la relación de otras variables con la salida\n",
        "# plt.figure(figsize=(12,12))\n",
        "# df.plot(x='Age', y='Purchase', figsize=(12,12))\n",
        "df['y'] = df['Purchase'] >= 9000\n",
        "# df.hist(column='Purchase', by='Age', figsize=(12,12))\n",
        "df.groupby('y').nunique()"
      ]
    },
    {
      "attachments": {},
      "cell_type": "markdown",
      "metadata": {},
      "source": [
        "### Analizamos las variables categóricas respecto a la variable de salida"
      ]
    },
    {
      "attachments": {},
      "cell_type": "markdown",
      "metadata": {},
      "source": [
        "#### Stay_In_Current_City_Years"
      ]
    },
    {
      "cell_type": "code",
      "execution_count": 130,
      "metadata": {},
      "outputs": [
        {
          "data": {
            "text/plain": [
              "array([<AxesSubplot:title={'center':'False'}>,\n",
              "       <AxesSubplot:title={'center':'True'}>], dtype=object)"
            ]
          },
          "execution_count": 130,
          "metadata": {},
          "output_type": "execute_result"
        },
        {
          "data": {
            "image/png": "[encoded data removed]",
            "text/plain": [
              "<Figure size 864x432 with 2 Axes>"
            ]
          },
          "metadata": {},
          "output_type": "display_data"
        }
      ],
      "source": [
        "df_temp = df.copy()\n",
        "df_temp['Stay_In_Current_City_Years'].replace(['2', '4+', '3', '1', '0'], [2, 4, 3, 1, 0], inplace=True)\n",
        "df_temp.hist(column='Stay_In_Current_City_Years', by='y', figsize=(12,6), density=1, sharex=True) # density=1 para normalizar entre ambos histogramas (ya sabemos que va a haber menos gente que compra > 9000)\n",
        "\n",
        "# Del gráfico se puede ver que la distribución es prácticamente la misma para y=0 e y=1, por lo que esta variable no nos aporta tanta información"
      ]
    },
    {
      "cell_type": "code",
      "execution_count": 169,
      "metadata": {},
      "outputs": [
        {
          "name": "stderr",
          "output_type": "stream",
          "text": [
            "No artists with labels found to put in legend.  Note that artists whose label start with an underscore are ignored when legend() is called with no argument.\n"
          ]
        },
        {
          "data": {
            "image/png": "[encoded data removed]",
            "text/plain": [
              "<Figure size 432x288 with 1 Axes>"
            ]
          },
          "metadata": {},
          "output_type": "display_data"
        }
      ],
      "source": [
        "sns.set(style=\"darkgrid\")\n",
        "sns.histplot(data=df[df['y']==True], x=\"Stay_In_Current_City_Years\", color=\"red\", label=\"Sepal Width\",  stat = \"probability\")\n",
        "sns.histplot(data=df[df['y']==False], x=\"Stay_In_Current_City_Years\", color=\"skyblue\", label=\"Sepal Length\",  stat = \"probability\")\n",
        "plt.legend() \n",
        "plt.show()"
      ]
    },
    {
      "attachments": {},
      "cell_type": "markdown",
      "metadata": {},
      "source": [
        "#### City_Category"
      ]
    },
    {
      "cell_type": "code",
      "execution_count": 181,
      "metadata": {},
      "outputs": [
        {
          "data": {
            "image/png": "[encoded data removed]",
            "text/plain": [
              "<Figure size 432x288 with 1 Axes>"
            ]
          },
          "metadata": {},
          "output_type": "display_data"
        }
      ],
      "source": [
        "sns.set(style=\"darkgrid\")\n",
        "sns.histplot(data=df[df['y']==True], x=\"City_Category\", color=\"red\", label=\"y = 1\",  stat = \"probability\")\n",
        "sns.histplot(data=df[df['y']==False], x=\"City_Category\", color=\"skyblue\", label=\"y = 0\",  stat = \"probability\")\n",
        "plt.legend() \n",
        "plt.show()\n",
        "# La categoría de la ciudad sí influye en la salida"
      ]
    },
    {
      "attachments": {},
      "cell_type": "markdown",
      "metadata": {},
      "source": [
        "#### Marital_Status"
      ]
    },
    {
      "cell_type": "code",
      "execution_count": 182,
      "metadata": {},
      "outputs": [
        {
          "data": {
            "image/png": "[encoded data removed]",
            "text/plain": [
              "<Figure size 432x288 with 1 Axes>"
            ]
          },
          "metadata": {},
          "output_type": "display_data"
        }
      ],
      "source": [
        "# df.hist(column='', by='y', density=1)\n",
        "sns.set(style=\"darkgrid\")\n",
        "sns.histplot(data=df[df['y']==True], x=\"Marital_Status\", color=\"red\", label=\"y = 1\",  stat = \"probability\")\n",
        "sns.histplot(data=df[df['y']==False], x=\"Marital_Status\", color=\"skyblue\", label=\"y = 0\",  stat = \"probability\")\n",
        "plt.legend() \n",
        "plt.show()\n",
        "\n",
        "# El estado civil no afecta en la salida"
      ]
    },
    {
      "attachments": {},
      "cell_type": "markdown",
      "metadata": {},
      "source": [
        "#### Occupation"
      ]
    },
    {
      "cell_type": "code",
      "execution_count": 210,
      "metadata": {},
      "outputs": [
        {
          "data": {
            "image/png": "[encoded data removed]",
            "text/plain": [
              "<Figure size 864x720 with 1 Axes>"
            ]
          },
          "metadata": {},
          "output_type": "display_data"
        }
      ],
      "source": [
        "sns.set(style=\"darkgrid\")\n",
        "plt.figure(figsize=(12,10))\n",
        "sns.histplot(data=df[df['y']==True], x=\"Occupation\", color=\"red\", label=\"y = 1\",  stat = \"probability\", discrete=True)\n",
        "sns.histplot(data=df[df['y']==False], x=\"Occupation\", color=\"skyblue\", label=\"y = 0\",  stat = \"probability\", discrete=True)\n",
        "plt.legend() \n",
        "plt.show()\n",
        "# Para la ocupación, se empieza a ver impacto en la salida. Se nota que, para las ocupaciones menos frecuentes (menos muestras), no existe tanta \n",
        "# diferencia a la hora de predecir la variable de salida. Esto nos permite agrupar las N categorias con menor frecuencia en una sola, \n",
        "# ahorrando dimensiones finales.\n",
        "\n",
        "# Occupation values: [10 16 15  7 20  9  1 12 17  0  3  4 11  8 19  2 18  5 14 13  6] - Total: 21\n",
        "# df_temp['Occupation'] = df_temp['Occupation'].apply(lambda x: 0 if x<7 else (1 if x < 14 else 2))"
      ]
    },
    {
      "attachments": {},
      "cell_type": "markdown",
      "metadata": {},
      "source": [
        "#### Age"
      ]
    },
    {
      "cell_type": "code",
      "execution_count": 218,
      "metadata": {},
      "outputs": [
        {
          "data": {
            "text/plain": [
              "<seaborn.axisgrid.FacetGrid at 0x31ecc96c0>"
            ]
          },
          "execution_count": 218,
          "metadata": {},
          "output_type": "execute_result"
        },
        {
          "data": {
            "image/png": "[encoded data removed]",
            "text/plain": [
              "<Figure size 864x504 with 1 Axes>"
            ]
          },
          "metadata": {},
          "output_type": "display_data"
        },
        {
          "data": {
            "text/plain": [
              "<Figure size 360x360 with 0 Axes>"
            ]
          },
          "metadata": {},
          "output_type": "display_data"
        },
        {
          "data": {
            "image/png": "[encoded data removed]",
            "text/plain": [
              "<Figure size 426.35x360 with 1 Axes>"
            ]
          },
          "metadata": {},
          "output_type": "display_data"
        }
      ],
      "source": [
        "# Age values: ['0-17' '55+' '26-35' '46-50' '51-55' '36-45' '18-25'] - Total: 7\n",
        "df_temp = df.copy()\n",
        "# df_temp['Age'].replace(['0-17', '55+', '26-35', '46-50', '51-55', '36-45', '18-25'], [0, 55, 26, 46, 51, 36, 18], inplace=True)\n",
        "df_temp['Age'].replace(['0-17', '55+', '26-35', '46-50', '51-55', '36-45', '18-25'], [0, 6, 2, 4, 5, 3, 1], inplace=True)\n",
        "plt.figure(figsize=(12,7))\n",
        "sns.set(style=\"darkgrid\")\n",
        "sns.histplot(data=df_temp[df_temp['y']==True], x=\"Age\", color=\"red\", label=\"y = 1\",  stat = \"probability\", discrete=True)\n",
        "sns.histplot(data=df_temp[df_temp['y']==False], x=\"Age\", color=\"skyblue\", label=\"y = 0\",  stat = \"probability\", discrete=True)\n",
        "plt.legend() \n",
        "plt.figure(figsize=(5,5))\n",
        "df_temp = df.copy()\n",
        "sns.displot(df, x=\"Age\", hue=\"y\", multiple=\"dodge\")\n",
        "# Se ve una leve tendencia de las mayores edades a hacer compras grandes"
      ]
    },
    {
      "attachments": {},
      "cell_type": "markdown",
      "metadata": {},
      "source": [
        "#### Gender"
      ]
    },
    {
      "cell_type": "code",
      "execution_count": 223,
      "metadata": {},
      "outputs": [
        {
          "data": {
            "image/png": "[encoded data removed]",
            "text/plain": [
              "<Figure size 432x288 with 1 Axes>"
            ]
          },
          "metadata": {},
          "output_type": "display_data"
        },
        {
          "data": {
            "text/plain": [
              "<seaborn.axisgrid.FacetGrid at 0x3350e8c10>"
            ]
          },
          "execution_count": 223,
          "metadata": {},
          "output_type": "execute_result"
        },
        {
          "data": {
            "image/png": "[encoded data removed]",
            "text/plain": [
              "<Figure size 426.35x360 with 1 Axes>"
            ]
          },
          "metadata": {},
          "output_type": "display_data"
        }
      ],
      "source": [
        "sns.set(style=\"darkgrid\")\n",
        "sns.histplot(data=df[df['y']==True], x=\"Gender\", color=\"red\", label=\"y = 1\",  stat = \"probability\")\n",
        "sns.histplot(data=df[df['y']==False], x=\"Gender\", color=\"skyblue\", label=\"y = 0\",  stat = \"probability\")\n",
        "plt.legend() \n",
        "plt.show()\n",
        "sns.displot(df, x=\"Gender\", hue=\"y\", multiple=\"dodge\")\n",
        "# El gender nos da cierta información. Los hombres son más probables a hacer la compra más cara."
      ]
    },
    {
      "attachments": {},
      "cell_type": "markdown",
      "metadata": {
        "id": "Ay7lvsepha91"
      },
      "source": [
        "## Reducción de dimensionalidad y Codificación\n",
        "Según las conclusiones obtenidas en la exploración del dataset, y dado que en este punto de la consigna no se deben utilizar embeddings, procedemos a quitar las variables categóricas que tienen menor correlación con la variable de salida, ya que incluirlas durante el entrenamiento incurriría en un aumento significativo del dataset al hacer One-Hot Encoding o similar.\n",
        "\n",
        "Dado que no vamos a usar embeddings, el User_ID y el Product_ID son variables categóricas que se hace dificl codificar sin aumentar en gran cantidad las dimensiones."
      ]
    },
    {
      "cell_type": "code",
      "execution_count": 238,
      "metadata": {
        "colab": {
          "base_uri": "https://localhost:8080/"
        },
        "id": "7i82jZ6RkROb",
        "outputId": "d972aa84-2894-47c2-b20a-bc78d11d20b8"
      },
      "outputs": [
        {
          "data": {
            "text/html": [
              "<div>\n",
              "<style scoped>\n",
              "    .dataframe tbody tr th:only-of-type {\n",
              "        vertical-align: middle;\n",
              "    }\n",
              "\n",
              "    .dataframe tbody tr th {\n",
              "        vertical-align: top;\n",
              "    }\n",
              "\n",
              "    .dataframe thead th {\n",
              "        text-align: right;\n",
              "    }\n",
              "</style>\n",
              "<table border=\"1\" class=\"dataframe\">\n",
              "  <thead>\n",
              "    <tr style=\"text-align: right;\">\n",
              "      <th></th>\n",
              "      <th>Gender</th>\n",
              "      <th>Age</th>\n",
              "      <th>Occupation</th>\n",
              "      <th>City_Category</th>\n",
              "      <th>Product_Category_1</th>\n",
              "      <th>y</th>\n",
              "    </tr>\n",
              "  </thead>\n",
              "  <tbody>\n",
              "    <tr>\n",
              "      <th>0</th>\n",
              "      <td>F</td>\n",
              "      <td>0-17</td>\n",
              "      <td>10</td>\n",
              "      <td>A</td>\n",
              "      <td>3</td>\n",
              "      <td>False</td>\n",
              "    </tr>\n",
              "    <tr>\n",
              "      <th>1</th>\n",
              "      <td>F</td>\n",
              "      <td>0-17</td>\n",
              "      <td>10</td>\n",
              "      <td>A</td>\n",
              "      <td>1</td>\n",
              "      <td>True</td>\n",
              "    </tr>\n",
              "    <tr>\n",
              "      <th>2</th>\n",
              "      <td>F</td>\n",
              "      <td>0-17</td>\n",
              "      <td>10</td>\n",
              "      <td>A</td>\n",
              "      <td>12</td>\n",
              "      <td>False</td>\n",
              "    </tr>\n",
              "    <tr>\n",
              "      <th>3</th>\n",
              "      <td>F</td>\n",
              "      <td>0-17</td>\n",
              "      <td>10</td>\n",
              "      <td>A</td>\n",
              "      <td>12</td>\n",
              "      <td>False</td>\n",
              "    </tr>\n",
              "    <tr>\n",
              "      <th>4</th>\n",
              "      <td>M</td>\n",
              "      <td>55+</td>\n",
              "      <td>16</td>\n",
              "      <td>C</td>\n",
              "      <td>8</td>\n",
              "      <td>False</td>\n",
              "    </tr>\n",
              "  </tbody>\n",
              "</table>\n",
              "</div>"
            ],
            "text/plain": [
              "  Gender   Age  Occupation City_Category  Product_Category_1      y\n",
              "0      F  0-17          10             A                   3  False\n",
              "1      F  0-17          10             A                   1   True\n",
              "2      F  0-17          10             A                  12  False\n",
              "3      F  0-17          10             A                  12  False\n",
              "4      M   55+          16             C                   8  False"
            ]
          },
          "execution_count": 238,
          "metadata": {},
          "output_type": "execute_result"
        }
      ],
      "source": [
        "dfa = df.copy()\n",
        "dfa = dfa.drop(['User_ID', 'Product_ID', 'Product_Category_2', 'Product_Category_3', 'Marital_Status', 'Stay_In_Current_City_Years', 'Purchase'], axis=1)\n",
        "dfa.head()"
      ]
    },
    {
      "cell_type": "code",
      "execution_count": 239,
      "metadata": {
        "colab": {
          "base_uri": "https://localhost:8080/"
        },
        "id": "-jwlYIPkknhL",
        "outputId": "76a06483-4201-47da-c8e5-5914345b1749"
      },
      "outputs": [
        {
          "data": {
            "text/html": [
              "<div>\n",
              "<style scoped>\n",
              "    .dataframe tbody tr th:only-of-type {\n",
              "        vertical-align: middle;\n",
              "    }\n",
              "\n",
              "    .dataframe tbody tr th {\n",
              "        vertical-align: top;\n",
              "    }\n",
              "\n",
              "    .dataframe thead th {\n",
              "        text-align: right;\n",
              "    }\n",
              "</style>\n",
              "<table border=\"1\" class=\"dataframe\">\n",
              "  <thead>\n",
              "    <tr style=\"text-align: right;\">\n",
              "      <th></th>\n",
              "      <th>Gender</th>\n",
              "      <th>Occupation</th>\n",
              "      <th>City_Category</th>\n",
              "      <th>Product_Category_1</th>\n",
              "      <th>y</th>\n",
              "      <th>age_0-17</th>\n",
              "      <th>age_18-25</th>\n",
              "      <th>age_26-35</th>\n",
              "      <th>age_36-45</th>\n",
              "      <th>age_46-50</th>\n",
              "      <th>age_51-55</th>\n",
              "      <th>age_55+</th>\n",
              "    </tr>\n",
              "  </thead>\n",
              "  <tbody>\n",
              "    <tr>\n",
              "      <th>0</th>\n",
              "      <td>0</td>\n",
              "      <td>10</td>\n",
              "      <td>A</td>\n",
              "      <td>3</td>\n",
              "      <td>False</td>\n",
              "      <td>1</td>\n",
              "      <td>0</td>\n",
              "      <td>0</td>\n",
              "      <td>0</td>\n",
              "      <td>0</td>\n",
              "      <td>0</td>\n",
              "      <td>0</td>\n",
              "    </tr>\n",
              "    <tr>\n",
              "      <th>1</th>\n",
              "      <td>0</td>\n",
              "      <td>10</td>\n",
              "      <td>A</td>\n",
              "      <td>1</td>\n",
              "      <td>True</td>\n",
              "      <td>1</td>\n",
              "      <td>0</td>\n",
              "      <td>0</td>\n",
              "      <td>0</td>\n",
              "      <td>0</td>\n",
              "      <td>0</td>\n",
              "      <td>0</td>\n",
              "    </tr>\n",
              "    <tr>\n",
              "      <th>2</th>\n",
              "      <td>0</td>\n",
              "      <td>10</td>\n",
              "      <td>A</td>\n",
              "      <td>12</td>\n",
              "      <td>False</td>\n",
              "      <td>1</td>\n",
              "      <td>0</td>\n",
              "      <td>0</td>\n",
              "      <td>0</td>\n",
              "      <td>0</td>\n",
              "      <td>0</td>\n",
              "      <td>0</td>\n",
              "    </tr>\n",
              "    <tr>\n",
              "      <th>3</th>\n",
              "      <td>0</td>\n",
              "      <td>10</td>\n",
              "      <td>A</td>\n",
              "      <td>12</td>\n",
              "      <td>False</td>\n",
              "      <td>1</td>\n",
              "      <td>0</td>\n",
              "      <td>0</td>\n",
              "      <td>0</td>\n",
              "      <td>0</td>\n",
              "      <td>0</td>\n",
              "      <td>0</td>\n",
              "    </tr>\n",
              "    <tr>\n",
              "      <th>4</th>\n",
              "      <td>1</td>\n",
              "      <td>16</td>\n",
              "      <td>C</td>\n",
              "      <td>8</td>\n",
              "      <td>False</td>\n",
              "      <td>0</td>\n",
              "      <td>0</td>\n",
              "      <td>0</td>\n",
              "      <td>0</td>\n",
              "      <td>0</td>\n",
              "      <td>0</td>\n",
              "      <td>1</td>\n",
              "    </tr>\n",
              "  </tbody>\n",
              "</table>\n",
              "</div>"
            ],
            "text/plain": [
              "   Gender  Occupation City_Category  Product_Category_1      y  age_0-17  \\\n",
              "0       0          10             A                   3  False         1   \n",
              "1       0          10             A                   1   True         1   \n",
              "2       0          10             A                  12  False         1   \n",
              "3       0          10             A                  12  False         1   \n",
              "4       1          16             C                   8  False         0   \n",
              "\n",
              "   age_18-25  age_26-35  age_36-45  age_46-50  age_51-55  age_55+  \n",
              "0          0          0          0          0          0        0  \n",
              "1          0          0          0          0          0        0  \n",
              "2          0          0          0          0          0        0  \n",
              "3          0          0          0          0          0        0  \n",
              "4          0          0          0          0          0        1  "
            ]
          },
          "execution_count": 239,
          "metadata": {},
          "output_type": "execute_result"
        }
      ],
      "source": [
        "# Gender lo codificamos binario\n",
        "dfa['Gender'] = dfa['Gender'].apply(lambda x: 1 if x == 'M' else 0)\n",
        "\n",
        "# Age con One-hot encoding\n",
        "age_dummies = pd.get_dummies(dfa['Age'], prefix=\"age\")\n",
        "dfa = pd.concat([dfa,age_dummies], axis = 1)\n",
        "dfa = dfa.drop(['Age'], axis=1)\n",
        "dfa.head()\n",
        "\n",
        "# Asumimos que Occupation ya fue codificado con Integer encoding (ya que no tenemos datos de cómo se asignaron números a las categorías).\n",
        "# Sin embargo, "
      ]
    },
    {
      "cell_type": "code",
      "execution_count": 7,
      "metadata": {
        "colab": {
          "base_uri": "https://localhost:8080/",
          "height": 423
        },
        "id": "hwnhhYwHk-yf",
        "outputId": "8cf14adc-0848-4fcd-93e7-334f1740cbd6"
      },
      "outputs": [
        {
          "data": {
            "text/html": [
              "\n",
              "  <div id=\"df-9cb90b31-95c0-4708-b147-d09ae6542ec3\">\n",
              "    <div class=\"colab-df-container\">\n",
              "      <div>\n",
              "<style scoped>\n",
              "    .dataframe tbody tr th:only-of-type {\n",
              "        vertical-align: middle;\n",
              "    }\n",
              "\n",
              "    .dataframe tbody tr th {\n",
              "        vertical-align: top;\n",
              "    }\n",
              "\n",
              "    .dataframe thead th {\n",
              "        text-align: right;\n",
              "    }\n",
              "</style>\n",
              "<table border=\"1\" class=\"dataframe\">\n",
              "  <thead>\n",
              "    <tr style=\"text-align: right;\">\n",
              "      <th></th>\n",
              "      <th>type_red</th>\n",
              "      <th>type_white</th>\n",
              "    </tr>\n",
              "  </thead>\n",
              "  <tbody>\n",
              "    <tr>\n",
              "      <th>0</th>\n",
              "      <td>0</td>\n",
              "      <td>1</td>\n",
              "    </tr>\n",
              "    <tr>\n",
              "      <th>1</th>\n",
              "      <td>0</td>\n",
              "      <td>1</td>\n",
              "    </tr>\n",
              "    <tr>\n",
              "      <th>2</th>\n",
              "      <td>0</td>\n",
              "      <td>1</td>\n",
              "    </tr>\n",
              "    <tr>\n",
              "      <th>3</th>\n",
              "      <td>0</td>\n",
              "      <td>1</td>\n",
              "    </tr>\n",
              "    <tr>\n",
              "      <th>4</th>\n",
              "      <td>0</td>\n",
              "      <td>1</td>\n",
              "    </tr>\n",
              "    <tr>\n",
              "      <th>...</th>\n",
              "      <td>...</td>\n",
              "      <td>...</td>\n",
              "    </tr>\n",
              "    <tr>\n",
              "      <th>6492</th>\n",
              "      <td>1</td>\n",
              "      <td>0</td>\n",
              "    </tr>\n",
              "    <tr>\n",
              "      <th>6493</th>\n",
              "      <td>1</td>\n",
              "      <td>0</td>\n",
              "    </tr>\n",
              "    <tr>\n",
              "      <th>6494</th>\n",
              "      <td>1</td>\n",
              "      <td>0</td>\n",
              "    </tr>\n",
              "    <tr>\n",
              "      <th>6495</th>\n",
              "      <td>1</td>\n",
              "      <td>0</td>\n",
              "    </tr>\n",
              "    <tr>\n",
              "      <th>6496</th>\n",
              "      <td>1</td>\n",
              "      <td>0</td>\n",
              "    </tr>\n",
              "  </tbody>\n",
              "</table>\n",
              "<p>6497 rows × 2 columns</p>\n",
              "</div>\n",
              "      <button class=\"colab-df-convert\" onclick=\"convertToInteractive('df-9cb90b31-95c0-4708-b147-d09ae6542ec3')\"\n",
              "              title=\"Convert this dataframe to an interactive table.\"\n",
              "              style=\"display:none;\">\n",
              "        \n",
              "  <svg xmlns=\"http://www.w3.org/2000/svg\" height=\"24px\"viewBox=\"0 0 24 24\"\n",
              "       width=\"24px\">\n",
              "    <path d=\"M0 0h24v24H0V0z\" fill=\"none\"/>\n",
              "    <path d=\"M18.56 5.44l.94 2.06.94-2.06 2.06-.94-2.06-.94-.94-2.06-.94 2.06-2.06.94zm-11 1L8.5 8.5l.94-2.06 2.06-.94-2.06-.94L8.5 2.5l-.94 2.06-2.06.94zm10 10l.94 2.06.94-2.06 2.06-.94-2.06-.94-.94-2.06-.94 2.06-2.06.94z\"/><path d=\"M17.41 7.96l-1.37-1.37c-.4-.4-.92-.59-1.43-.59-.52 0-1.04.2-1.43.59L10.3 9.45l-7.72 7.72c-.78.78-.78 2.05 0 2.83L4 21.41c.39.39.9.59 1.41.59.51 0 1.02-.2 1.41-.59l7.78-7.78 2.81-2.81c.8-.78.8-2.07 0-2.86zM5.41 20L4 18.59l7.72-7.72 1.47 1.35L5.41 20z\"/>\n",
              "  </svg>\n",
              "      </button>\n",
              "      \n",
              "  <style>\n",
              "    .colab-df-container {\n",
              "      display:flex;\n",
              "      flex-wrap:wrap;\n",
              "      gap: 12px;\n",
              "    }\n",
              "\n",
              "    .colab-df-convert {\n",
              "      background-color: #E8F0FE;\n",
              "      border: none;\n",
              "      border-radius: 50%;\n",
              "      cursor: pointer;\n",
              "      display: none;\n",
              "      fill: #1967D2;\n",
              "      height: 32px;\n",
              "      padding: 0 0 0 0;\n",
              "      width: 32px;\n",
              "    }\n",
              "\n",
              "    .colab-df-convert:hover {\n",
              "      background-color: #E2EBFA;\n",
              "      box-shadow: 0px 1px 2px rgba(60, 64, 67, 0.3), 0px 1px 3px 1px rgba(60, 64, 67, 0.15);\n",
              "      fill: #174EA6;\n",
              "    }\n",
              "\n",
              "    [theme=dark] .colab-df-convert {\n",
              "      background-color: #3B4455;\n",
              "      fill: #D2E3FC;\n",
              "    }\n",
              "\n",
              "    [theme=dark] .colab-df-convert:hover {\n",
              "      background-color: #434B5C;\n",
              "      box-shadow: 0px 1px 3px 1px rgba(0, 0, 0, 0.15);\n",
              "      filter: drop-shadow(0px 1px 2px rgba(0, 0, 0, 0.3));\n",
              "      fill: #FFFFFF;\n",
              "    }\n",
              "  </style>\n",
              "\n",
              "      <script>\n",
              "        const buttonEl =\n",
              "          document.querySelector('#df-9cb90b31-95c0-4708-b147-d09ae6542ec3 button.colab-df-convert');\n",
              "        buttonEl.style.display =\n",
              "          google.colab.kernel.accessAllowed ? 'block' : 'none';\n",
              "\n",
              "        async function convertToInteractive(key) {\n",
              "          const element = document.querySelector('#df-9cb90b31-95c0-4708-b147-d09ae6542ec3');\n",
              "          const dataTable =\n",
              "            await google.colab.kernel.invokeFunction('convertToInteractive',\n",
              "                                                     [key], {});\n",
              "          if (!dataTable) return;\n",
              "\n",
              "          const docLinkHtml = 'Like what you see? Visit the ' +\n",
              "            '<a target=\"_blank\" href=https://colab.research.google.com/notebooks/data_table.ipynb>data table notebook</a>'\n",
              "            + ' to learn more about interactive tables.';\n",
              "          element.innerHTML = '';\n",
              "          dataTable['output_type'] = 'display_data';\n",
              "          await google.colab.output.renderOutput(dataTable, element);\n",
              "          const docLink = document.createElement('div');\n",
              "          docLink.innerHTML = docLinkHtml;\n",
              "          element.appendChild(docLink);\n",
              "        }\n",
              "      </script>\n",
              "    </div>\n",
              "  </div>\n",
              "  "
            ],
            "text/plain": [
              "      type_red  type_white\n",
              "0            0           1\n",
              "1            0           1\n",
              "2            0           1\n",
              "3            0           1\n",
              "4            0           1\n",
              "...        ...         ...\n",
              "6492         1           0\n",
              "6493         1           0\n",
              "6494         1           0\n",
              "6495         1           0\n",
              "6496         1           0\n",
              "\n",
              "[6497 rows x 2 columns]"
            ]
          },
          "execution_count": 7,
          "metadata": {},
          "output_type": "execute_result"
        }
      ],
      "source": [
        "# Type es tipo categórica, transformamos con One Hot Encoding\n",
        "type_dummies = pd.get_dummies(df['type'], prefix=\"type\")\n",
        "type_dummies"
      ]
    },
    {
      "cell_type": "code",
      "execution_count": 8,
      "metadata": {
        "colab": {
          "base_uri": "https://localhost:8080/"
        },
        "id": "iZQcwiXclslE",
        "outputId": "3c5f3102-0b7d-44a5-e9cc-34bcdbf18392"
      },
      "outputs": [
        {
          "name": "stdout",
          "output_type": "stream",
          "text": [
            "<class 'pandas.core.frame.DataFrame'>\n",
            "RangeIndex: 6497 entries, 0 to 6496\n",
            "Data columns (total 17 columns):\n",
            " #   Column                Non-Null Count  Dtype  \n",
            "---  ------                --------------  -----  \n",
            " 0   Unnamed: 0            6497 non-null   int64  \n",
            " 1   type                  6497 non-null   object \n",
            " 2   fixed acidity         6487 non-null   float64\n",
            " 3   volatile acidity      6489 non-null   float64\n",
            " 4   citric acid           6494 non-null   float64\n",
            " 5   residual sugar        6495 non-null   float64\n",
            " 6   chlorides             6495 non-null   float64\n",
            " 7   free sulfur dioxide   6497 non-null   float64\n",
            " 8   total sulfur dioxide  6497 non-null   float64\n",
            " 9   density               6497 non-null   float64\n",
            " 10  pH                    6488 non-null   float64\n",
            " 11  sulphates             6493 non-null   float64\n",
            " 12  alcohol               6497 non-null   float64\n",
            " 13  quality               6497 non-null   int64  \n",
            " 14  vendor_id             6497 non-null   int64  \n",
            " 15  type_red              6497 non-null   uint8  \n",
            " 16  type_white            6497 non-null   uint8  \n",
            "dtypes: float64(11), int64(3), object(1), uint8(2)\n",
            "memory usage: 774.2+ KB\n"
          ]
        }
      ],
      "source": [
        "df = pd.concat([df,type_dummies], axis = 1)\n",
        "df.info()"
      ]
    },
    {
      "cell_type": "code",
      "execution_count": 9,
      "metadata": {
        "colab": {
          "base_uri": "https://localhost:8080/"
        },
        "id": "k1Mkg0cVmHKA",
        "outputId": "a6c2720d-745c-40d8-d7c8-3214fa47f1f0"
      },
      "outputs": [
        {
          "data": {
            "text/plain": [
              "500"
            ]
          },
          "execution_count": 9,
          "metadata": {},
          "output_type": "execute_result"
        }
      ],
      "source": [
        "# Exploramos vendor_id\n",
        "len(df['vendor_id'].unique())"
      ]
    },
    {
      "cell_type": "markdown",
      "metadata": {
        "id": "fktUT520h8TI"
      },
      "source": [
        "vendor_id es tipo categórica con gran cantidad de valores diferentes, no podemos aplicar One Hot Encoding. Por el momento se descarta, en un futuro utilizaremos capas de embeddings con esta variable."
      ]
    },
    {
      "cell_type": "code",
      "execution_count": 10,
      "metadata": {
        "colab": {
          "base_uri": "https://localhost:8080/"
        },
        "id": "aIdVWG16m4_L",
        "outputId": "65c66cd1-0885-4342-9919-858c23d5db02"
      },
      "outputs": [
        {
          "data": {
            "text/plain": [
              "array([6, 5, 7, 8, 4, 3, 9])"
            ]
          },
          "execution_count": 10,
          "metadata": {},
          "output_type": "execute_result"
        }
      ],
      "source": [
        "# Mi variable a predecir es quality, la calidad del vino.\n",
        "df['quality'].unique()"
      ]
    },
    {
      "cell_type": "code",
      "execution_count": 11,
      "metadata": {
        "colab": {
          "base_uri": "https://localhost:8080/",
          "height": 334
        },
        "id": "Hpp5eluMokzM",
        "outputId": "80e398d1-4dae-4a2b-d916-1dae9d12bc05"
      },
      "outputs": [
        {
          "data": {
            "text/plain": [
              "(array([  30.,  216.,    0., 2138.,    0., 2836., 1079.,    0.,  193.,\n",
              "           5.]),\n",
              " array([3. , 3.6, 4.2, 4.8, 5.4, 6. , 6.6, 7.2, 7.8, 8.4, 9. ]),\n",
              " <a list of 10 Patch objects>)"
            ]
          },
          "execution_count": 11,
          "metadata": {},
          "output_type": "execute_result"
        },
        {
          "data": {
            "image/png": "[encoded data removed]",
            "text/plain": [
              "<Figure size 432x288 with 1 Axes>"
            ]
          },
          "metadata": {
            "needs_background": "light"
          },
          "output_type": "display_data"
        }
      ],
      "source": [
        "quality = df['quality'].to_numpy()\n",
        "fig, ax1 = plt.subplots(1,1)\n",
        "ax1.hist(quality)"
      ]
    },
    {
      "cell_type": "markdown",
      "metadata": {
        "id": "k4Ggzy_oiQqq"
      },
      "source": [
        "Por simplicidad convertimos el problema en un problema de clasificación binaria: 0 si el vino es \"malo\", 1 si el vino es \"bueno\""
      ]
    },
    {
      "cell_type": "code",
      "execution_count": 12,
      "metadata": {
        "id": "oRo9kIhLo-44"
      },
      "outputs": [],
      "source": [
        "df[\"quality_label\"] = df[\"quality\"].apply(lambda q:0 if q<=6 else 1)"
      ]
    },
    {
      "cell_type": "code",
      "execution_count": 13,
      "metadata": {
        "colab": {
          "base_uri": "https://localhost:8080/",
          "height": 367
        },
        "id": "BMUg8dDNpr5v",
        "outputId": "0e35d779-9215-4ee8-e547-c73f304794cd"
      },
      "outputs": [
        {
          "data": {
            "text/html": [
              "\n",
              "  <div id=\"df-18fa19a0-e7a6-49cd-a4ba-722674107942\">\n",
              "    <div class=\"colab-df-container\">\n",
              "      <div>\n",
              "<style scoped>\n",
              "    .dataframe tbody tr th:only-of-type {\n",
              "        vertical-align: middle;\n",
              "    }\n",
              "\n",
              "    .dataframe tbody tr th {\n",
              "        vertical-align: top;\n",
              "    }\n",
              "\n",
              "    .dataframe thead th {\n",
              "        text-align: right;\n",
              "    }\n",
              "</style>\n",
              "<table border=\"1\" class=\"dataframe\">\n",
              "  <thead>\n",
              "    <tr style=\"text-align: right;\">\n",
              "      <th></th>\n",
              "      <th>Unnamed: 0</th>\n",
              "      <th>type</th>\n",
              "      <th>fixed acidity</th>\n",
              "      <th>volatile acidity</th>\n",
              "      <th>citric acid</th>\n",
              "      <th>residual sugar</th>\n",
              "      <th>chlorides</th>\n",
              "      <th>free sulfur dioxide</th>\n",
              "      <th>total sulfur dioxide</th>\n",
              "      <th>density</th>\n",
              "      <th>pH</th>\n",
              "      <th>sulphates</th>\n",
              "      <th>alcohol</th>\n",
              "      <th>quality</th>\n",
              "      <th>vendor_id</th>\n",
              "      <th>type_red</th>\n",
              "      <th>type_white</th>\n",
              "      <th>quality_label</th>\n",
              "    </tr>\n",
              "  </thead>\n",
              "  <tbody>\n",
              "    <tr>\n",
              "      <th>3952</th>\n",
              "      <td>3952</td>\n",
              "      <td>white</td>\n",
              "      <td>7.0</td>\n",
              "      <td>0.16</td>\n",
              "      <td>0.30</td>\n",
              "      <td>2.6</td>\n",
              "      <td>0.043</td>\n",
              "      <td>34.0</td>\n",
              "      <td>90.0</td>\n",
              "      <td>0.99047</td>\n",
              "      <td>2.88</td>\n",
              "      <td>0.47</td>\n",
              "      <td>11.2</td>\n",
              "      <td>6</td>\n",
              "      <td>326</td>\n",
              "      <td>0</td>\n",
              "      <td>1</td>\n",
              "      <td>0</td>\n",
              "    </tr>\n",
              "    <tr>\n",
              "      <th>3678</th>\n",
              "      <td>3678</td>\n",
              "      <td>white</td>\n",
              "      <td>7.2</td>\n",
              "      <td>0.23</td>\n",
              "      <td>0.25</td>\n",
              "      <td>18.8</td>\n",
              "      <td>0.085</td>\n",
              "      <td>19.0</td>\n",
              "      <td>111.0</td>\n",
              "      <td>1.00044</td>\n",
              "      <td>3.10</td>\n",
              "      <td>0.51</td>\n",
              "      <td>8.7</td>\n",
              "      <td>5</td>\n",
              "      <td>208</td>\n",
              "      <td>0</td>\n",
              "      <td>1</td>\n",
              "      <td>0</td>\n",
              "    </tr>\n",
              "    <tr>\n",
              "      <th>859</th>\n",
              "      <td>859</td>\n",
              "      <td>white</td>\n",
              "      <td>6.6</td>\n",
              "      <td>0.30</td>\n",
              "      <td>0.30</td>\n",
              "      <td>4.8</td>\n",
              "      <td>0.170</td>\n",
              "      <td>60.0</td>\n",
              "      <td>166.0</td>\n",
              "      <td>0.99460</td>\n",
              "      <td>3.18</td>\n",
              "      <td>0.47</td>\n",
              "      <td>9.4</td>\n",
              "      <td>5</td>\n",
              "      <td>232</td>\n",
              "      <td>0</td>\n",
              "      <td>1</td>\n",
              "      <td>0</td>\n",
              "    </tr>\n",
              "    <tr>\n",
              "      <th>189</th>\n",
              "      <td>189</td>\n",
              "      <td>white</td>\n",
              "      <td>6.5</td>\n",
              "      <td>0.28</td>\n",
              "      <td>0.28</td>\n",
              "      <td>8.5</td>\n",
              "      <td>0.047</td>\n",
              "      <td>54.0</td>\n",
              "      <td>210.0</td>\n",
              "      <td>0.99620</td>\n",
              "      <td>3.09</td>\n",
              "      <td>0.54</td>\n",
              "      <td>8.9</td>\n",
              "      <td>4</td>\n",
              "      <td>180</td>\n",
              "      <td>0</td>\n",
              "      <td>1</td>\n",
              "      <td>0</td>\n",
              "    </tr>\n",
              "    <tr>\n",
              "      <th>3182</th>\n",
              "      <td>3182</td>\n",
              "      <td>white</td>\n",
              "      <td>5.5</td>\n",
              "      <td>0.12</td>\n",
              "      <td>0.33</td>\n",
              "      <td>1.0</td>\n",
              "      <td>0.038</td>\n",
              "      <td>23.0</td>\n",
              "      <td>131.0</td>\n",
              "      <td>0.99164</td>\n",
              "      <td>3.25</td>\n",
              "      <td>0.45</td>\n",
              "      <td>9.8</td>\n",
              "      <td>5</td>\n",
              "      <td>292</td>\n",
              "      <td>0</td>\n",
              "      <td>1</td>\n",
              "      <td>0</td>\n",
              "    </tr>\n",
              "    <tr>\n",
              "      <th>5229</th>\n",
              "      <td>5229</td>\n",
              "      <td>red</td>\n",
              "      <td>10.2</td>\n",
              "      <td>0.36</td>\n",
              "      <td>0.64</td>\n",
              "      <td>2.9</td>\n",
              "      <td>0.122</td>\n",
              "      <td>10.0</td>\n",
              "      <td>41.0</td>\n",
              "      <td>0.99800</td>\n",
              "      <td>3.23</td>\n",
              "      <td>0.66</td>\n",
              "      <td>12.5</td>\n",
              "      <td>6</td>\n",
              "      <td>303</td>\n",
              "      <td>1</td>\n",
              "      <td>0</td>\n",
              "      <td>0</td>\n",
              "    </tr>\n",
              "    <tr>\n",
              "      <th>4148</th>\n",
              "      <td>4148</td>\n",
              "      <td>white</td>\n",
              "      <td>6.2</td>\n",
              "      <td>0.20</td>\n",
              "      <td>0.25</td>\n",
              "      <td>15.0</td>\n",
              "      <td>0.055</td>\n",
              "      <td>8.0</td>\n",
              "      <td>120.0</td>\n",
              "      <td>0.99767</td>\n",
              "      <td>3.19</td>\n",
              "      <td>0.53</td>\n",
              "      <td>9.6</td>\n",
              "      <td>6</td>\n",
              "      <td>308</td>\n",
              "      <td>0</td>\n",
              "      <td>1</td>\n",
              "      <td>0</td>\n",
              "    </tr>\n",
              "  </tbody>\n",
              "</table>\n",
              "</div>\n",
              "      <button class=\"colab-df-convert\" onclick=\"convertToInteractive('df-18fa19a0-e7a6-49cd-a4ba-722674107942')\"\n",
              "              title=\"Convert this dataframe to an interactive table.\"\n",
              "              style=\"display:none;\">\n",
              "        \n",
              "  <svg xmlns=\"http://www.w3.org/2000/svg\" height=\"24px\"viewBox=\"0 0 24 24\"\n",
              "       width=\"24px\">\n",
              "    <path d=\"M0 0h24v24H0V0z\" fill=\"none\"/>\n",
              "    <path d=\"M18.56 5.44l.94 2.06.94-2.06 2.06-.94-2.06-.94-.94-2.06-.94 2.06-2.06.94zm-11 1L8.5 8.5l.94-2.06 2.06-.94-2.06-.94L8.5 2.5l-.94 2.06-2.06.94zm10 10l.94 2.06.94-2.06 2.06-.94-2.06-.94-.94-2.06-.94 2.06-2.06.94z\"/><path d=\"M17.41 7.96l-1.37-1.37c-.4-.4-.92-.59-1.43-.59-.52 0-1.04.2-1.43.59L10.3 9.45l-7.72 7.72c-.78.78-.78 2.05 0 2.83L4 21.41c.39.39.9.59 1.41.59.51 0 1.02-.2 1.41-.59l7.78-7.78 2.81-2.81c.8-.78.8-2.07 0-2.86zM5.41 20L4 18.59l7.72-7.72 1.47 1.35L5.41 20z\"/>\n",
              "  </svg>\n",
              "      </button>\n",
              "      \n",
              "  <style>\n",
              "    .colab-df-container {\n",
              "      display:flex;\n",
              "      flex-wrap:wrap;\n",
              "      gap: 12px;\n",
              "    }\n",
              "\n",
              "    .colab-df-convert {\n",
              "      background-color: #E8F0FE;\n",
              "      border: none;\n",
              "      border-radius: 50%;\n",
              "      cursor: pointer;\n",
              "      display: none;\n",
              "      fill: #1967D2;\n",
              "      height: 32px;\n",
              "      padding: 0 0 0 0;\n",
              "      width: 32px;\n",
              "    }\n",
              "\n",
              "    .colab-df-convert:hover {\n",
              "      background-color: #E2EBFA;\n",
              "      box-shadow: 0px 1px 2px rgba(60, 64, 67, 0.3), 0px 1px 3px 1px rgba(60, 64, 67, 0.15);\n",
              "      fill: #174EA6;\n",
              "    }\n",
              "\n",
              "    [theme=dark] .colab-df-convert {\n",
              "      background-color: #3B4455;\n",
              "      fill: #D2E3FC;\n",
              "    }\n",
              "\n",
              "    [theme=dark] .colab-df-convert:hover {\n",
              "      background-color: #434B5C;\n",
              "      box-shadow: 0px 1px 3px 1px rgba(0, 0, 0, 0.15);\n",
              "      filter: drop-shadow(0px 1px 2px rgba(0, 0, 0, 0.3));\n",
              "      fill: #FFFFFF;\n",
              "    }\n",
              "  </style>\n",
              "\n",
              "      <script>\n",
              "        const buttonEl =\n",
              "          document.querySelector('#df-18fa19a0-e7a6-49cd-a4ba-722674107942 button.colab-df-convert');\n",
              "        buttonEl.style.display =\n",
              "          google.colab.kernel.accessAllowed ? 'block' : 'none';\n",
              "\n",
              "        async function convertToInteractive(key) {\n",
              "          const element = document.querySelector('#df-18fa19a0-e7a6-49cd-a4ba-722674107942');\n",
              "          const dataTable =\n",
              "            await google.colab.kernel.invokeFunction('convertToInteractive',\n",
              "                                                     [key], {});\n",
              "          if (!dataTable) return;\n",
              "\n",
              "          const docLinkHtml = 'Like what you see? Visit the ' +\n",
              "            '<a target=\"_blank\" href=https://colab.research.google.com/notebooks/data_table.ipynb>data table notebook</a>'\n",
              "            + ' to learn more about interactive tables.';\n",
              "          element.innerHTML = '';\n",
              "          dataTable['output_type'] = 'display_data';\n",
              "          await google.colab.output.renderOutput(dataTable, element);\n",
              "          const docLink = document.createElement('div');\n",
              "          docLink.innerHTML = docLinkHtml;\n",
              "          element.appendChild(docLink);\n",
              "        }\n",
              "      </script>\n",
              "    </div>\n",
              "  </div>\n",
              "  "
            ],
            "text/plain": [
              "      Unnamed: 0   type  fixed acidity  volatile acidity  citric acid  \\\n",
              "3952        3952  white            7.0              0.16         0.30   \n",
              "3678        3678  white            7.2              0.23         0.25   \n",
              "859          859  white            6.6              0.30         0.30   \n",
              "189          189  white            6.5              0.28         0.28   \n",
              "3182        3182  white            5.5              0.12         0.33   \n",
              "5229        5229    red           10.2              0.36         0.64   \n",
              "4148        4148  white            6.2              0.20         0.25   \n",
              "\n",
              "      residual sugar  chlorides  free sulfur dioxide  total sulfur dioxide  \\\n",
              "3952             2.6      0.043                 34.0                  90.0   \n",
              "3678            18.8      0.085                 19.0                 111.0   \n",
              "859              4.8      0.170                 60.0                 166.0   \n",
              "189              8.5      0.047                 54.0                 210.0   \n",
              "3182             1.0      0.038                 23.0                 131.0   \n",
              "5229             2.9      0.122                 10.0                  41.0   \n",
              "4148            15.0      0.055                  8.0                 120.0   \n",
              "\n",
              "      density    pH  sulphates  alcohol  quality  vendor_id  type_red  \\\n",
              "3952  0.99047  2.88       0.47     11.2        6        326         0   \n",
              "3678  1.00044  3.10       0.51      8.7        5        208         0   \n",
              "859   0.99460  3.18       0.47      9.4        5        232         0   \n",
              "189   0.99620  3.09       0.54      8.9        4        180         0   \n",
              "3182  0.99164  3.25       0.45      9.8        5        292         0   \n",
              "5229  0.99800  3.23       0.66     12.5        6        303         1   \n",
              "4148  0.99767  3.19       0.53      9.6        6        308         0   \n",
              "\n",
              "      type_white  quality_label  \n",
              "3952           1              0  \n",
              "3678           1              0  \n",
              "859            1              0  \n",
              "189            1              0  \n",
              "3182           1              0  \n",
              "5229           0              0  \n",
              "4148           1              0  "
            ]
          },
          "execution_count": 13,
          "metadata": {},
          "output_type": "execute_result"
        }
      ],
      "source": [
        "df.sample(7)"
      ]
    },
    {
      "cell_type": "code",
      "execution_count": 14,
      "metadata": {
        "colab": {
          "base_uri": "https://localhost:8080/"
        },
        "id": "gveBjHckptPv",
        "outputId": "f8fd6500-bb11-4e97-97c6-306bf00b7d5b"
      },
      "outputs": [
        {
          "data": {
            "text/plain": [
              "Unnamed: 0               0\n",
              "type                     0\n",
              "fixed acidity           10\n",
              "volatile acidity         8\n",
              "citric acid              3\n",
              "residual sugar           2\n",
              "chlorides                2\n",
              "free sulfur dioxide      0\n",
              "total sulfur dioxide     0\n",
              "density                  0\n",
              "pH                       9\n",
              "sulphates                4\n",
              "alcohol                  0\n",
              "quality                  0\n",
              "vendor_id                0\n",
              "type_red                 0\n",
              "type_white               0\n",
              "quality_label            0\n",
              "dtype: int64"
            ]
          },
          "execution_count": 14,
          "metadata": {},
          "output_type": "execute_result"
        }
      ],
      "source": [
        "# Comprobamos la existencia de nan\n",
        "df.isna().sum(axis=0)"
      ]
    },
    {
      "cell_type": "code",
      "execution_count": 15,
      "metadata": {
        "id": "ddfgs8-oqdJh"
      },
      "outputs": [],
      "source": [
        "# Como tenemos pocos nan, borramos las filas donde hay nan y trabajamos con un dataset completo\n",
        "ds = df[df.isna().sum(axis = 1) == 0]"
      ]
    },
    {
      "cell_type": "code",
      "execution_count": 16,
      "metadata": {
        "colab": {
          "base_uri": "https://localhost:8080/"
        },
        "id": "znDdmuclrCMO",
        "outputId": "eaef8ce8-cece-4b49-ca47-9ecc5b37a25b"
      },
      "outputs": [
        {
          "data": {
            "text/plain": [
              "Unnamed: 0              0\n",
              "type                    0\n",
              "fixed acidity           0\n",
              "volatile acidity        0\n",
              "citric acid             0\n",
              "residual sugar          0\n",
              "chlorides               0\n",
              "free sulfur dioxide     0\n",
              "total sulfur dioxide    0\n",
              "density                 0\n",
              "pH                      0\n",
              "sulphates               0\n",
              "alcohol                 0\n",
              "quality                 0\n",
              "vendor_id               0\n",
              "type_red                0\n",
              "type_white              0\n",
              "quality_label           0\n",
              "dtype: int64"
            ]
          },
          "execution_count": 16,
          "metadata": {},
          "output_type": "execute_result"
        }
      ],
      "source": [
        "ds.isna().sum()"
      ]
    },
    {
      "cell_type": "markdown",
      "metadata": {
        "id": "TmBJD3siinlF"
      },
      "source": [
        "## Armado del dataset"
      ]
    },
    {
      "cell_type": "code",
      "execution_count": 17,
      "metadata": {
        "id": "zE5f2XsqrTr_"
      },
      "outputs": [],
      "source": [
        "# Guardo vendor_id para un futuro modelo con embeddings\n",
        "vendor_id = ds['vendor_id']\n",
        "# Recordar que debo borrar del dataset de entrada mi columna de salida!\n",
        "x = ds.drop(['Unnamed: 0','type','vendor_id','quality','quality_label'], axis=1) \n",
        "y = ds['quality_label']"
      ]
    },
    {
      "cell_type": "code",
      "execution_count": 18,
      "metadata": {
        "colab": {
          "base_uri": "https://localhost:8080/"
        },
        "id": "SpU9XA4yr8wv",
        "outputId": "650e6e3c-1c83-4b41-d327-fc208ca7cf23"
      },
      "outputs": [
        {
          "name": "stdout",
          "output_type": "stream",
          "text": [
            "<class 'pandas.core.frame.DataFrame'>\n",
            "Int64Index: 6463 entries, 0 to 6496\n",
            "Data columns (total 13 columns):\n",
            " #   Column                Non-Null Count  Dtype  \n",
            "---  ------                --------------  -----  \n",
            " 0   fixed acidity         6463 non-null   float64\n",
            " 1   volatile acidity      6463 non-null   float64\n",
            " 2   citric acid           6463 non-null   float64\n",
            " 3   residual sugar        6463 non-null   float64\n",
            " 4   chlorides             6463 non-null   float64\n",
            " 5   free sulfur dioxide   6463 non-null   float64\n",
            " 6   total sulfur dioxide  6463 non-null   float64\n",
            " 7   density               6463 non-null   float64\n",
            " 8   pH                    6463 non-null   float64\n",
            " 9   sulphates             6463 non-null   float64\n",
            " 10  alcohol               6463 non-null   float64\n",
            " 11  type_red              6463 non-null   uint8  \n",
            " 12  type_white            6463 non-null   uint8  \n",
            "dtypes: float64(11), uint8(2)\n",
            "memory usage: 618.5 KB\n"
          ]
        }
      ],
      "source": [
        "x.info()"
      ]
    },
    {
      "cell_type": "code",
      "execution_count": 19,
      "metadata": {
        "colab": {
          "base_uri": "https://localhost:8080/"
        },
        "id": "kkDSrAhusE5E",
        "outputId": "d36f6639-49e4-4c6c-ec6e-531269ea79d8"
      },
      "outputs": [
        {
          "data": {
            "text/plain": [
              "0       0\n",
              "1       0\n",
              "2       0\n",
              "3       0\n",
              "4       0\n",
              "       ..\n",
              "6491    0\n",
              "6492    0\n",
              "6494    0\n",
              "6495    0\n",
              "6496    0\n",
              "Name: quality_label, Length: 6463, dtype: int64"
            ]
          },
          "execution_count": 19,
          "metadata": {},
          "output_type": "execute_result"
        }
      ],
      "source": [
        "y"
      ]
    },
    {
      "cell_type": "markdown",
      "metadata": {
        "id": "oNDPgGUNsvR8"
      },
      "source": [
        "## Normalizacion\n",
        "\n",
        "Las redes neuronales no requieren que los datos esten normalizados, pero la normalización ayuda a que el algoritmo de gradient descent converga más rápido."
      ]
    },
    {
      "cell_type": "code",
      "execution_count": 20,
      "metadata": {
        "id": "T6PPDNHIsHMM"
      },
      "outputs": [],
      "source": [
        "x = x.to_numpy()\n",
        "y = y.to_numpy()"
      ]
    },
    {
      "cell_type": "code",
      "execution_count": 21,
      "metadata": {
        "colab": {
          "base_uri": "https://localhost:8080/"
        },
        "id": "hFBgMAuJtoSF",
        "outputId": "8d6e33c9-7501-471f-c85c-c94c36a96d21"
      },
      "outputs": [
        {
          "data": {
            "text/plain": [
              "array([[ 7.   ,  0.27 ,  0.36 , ...,  8.8  ,  0.   ,  1.   ],\n",
              "       [ 6.3  ,  0.3  ,  0.34 , ...,  9.5  ,  0.   ,  1.   ],\n",
              "       [ 8.1  ,  0.28 ,  0.4  , ..., 10.1  ,  0.   ,  1.   ],\n",
              "       ...,\n",
              "       [ 6.3  ,  0.51 ,  0.13 , ..., 11.   ,  1.   ,  0.   ],\n",
              "       [ 5.9  ,  0.645,  0.12 , ..., 10.2  ,  1.   ,  0.   ],\n",
              "       [ 6.   ,  0.31 ,  0.47 , ..., 11.   ,  1.   ,  0.   ]])"
            ]
          },
          "execution_count": 21,
          "metadata": {},
          "output_type": "execute_result"
        }
      ],
      "source": [
        "x"
      ]
    },
    {
      "cell_type": "code",
      "execution_count": 22,
      "metadata": {
        "colab": {
          "base_uri": "https://localhost:8080/"
        },
        "id": "kA14bCLftvy5",
        "outputId": "5dccbbc1-739d-4191-dcda-b1be5a925e45"
      },
      "outputs": [
        {
          "data": {
            "text/plain": [
              "array([3.8    , 0.08   , 0.     , 0.6    , 0.009  , 1.     , 6.     ,\n",
              "       0.98711, 2.72   , 0.22   , 8.     , 0.     , 0.     ])"
            ]
          },
          "execution_count": 22,
          "metadata": {},
          "output_type": "execute_result"
        }
      ],
      "source": [
        "np.min(x, axis=0)"
      ]
    },
    {
      "cell_type": "code",
      "execution_count": 23,
      "metadata": {
        "id": "N6MXPnges8HE"
      },
      "outputs": [],
      "source": [
        "# Normalización min max\n",
        "x_norm = (x - np.min(x, axis=0)) / (np.max(x, axis=0 ) - np.min(x, axis=0))"
      ]
    },
    {
      "cell_type": "code",
      "execution_count": 24,
      "metadata": {
        "colab": {
          "base_uri": "https://localhost:8080/"
        },
        "id": "oq4hhxBNuGAy",
        "outputId": "5ac30d50-32bc-4ff2-e5ad-0291827e1676"
      },
      "outputs": [
        {
          "name": "stdout",
          "output_type": "stream",
          "text": [
            "[0. 0. 0. 0. 0. 0. 0. 0. 0. 0. 0. 0. 0.]\n",
            "[1. 1. 1. 1. 1. 1. 1. 1. 1. 1. 1. 1. 1.]\n"
          ]
        }
      ],
      "source": [
        "print(np.min(x_norm, axis=0))\n",
        "print(np.max(x_norm, axis=0))"
      ]
    },
    {
      "cell_type": "markdown",
      "metadata": {
        "id": "1VVapvoTjvCm"
      },
      "source": [
        "## División del dataset\n",
        "Divido en entrenamiento y validación"
      ]
    },
    {
      "cell_type": "code",
      "execution_count": 25,
      "metadata": {
        "colab": {
          "base_uri": "https://localhost:8080/"
        },
        "id": "wrABCXQzyRem",
        "outputId": "07ddc190-3ad7-426a-a82b-c45b9f156132"
      },
      "outputs": [
        {
          "data": {
            "text/plain": [
              "array([5884,  405, 5556, ..., 5788, 5800, 6167])"
            ]
          },
          "execution_count": 25,
          "metadata": {},
          "output_type": "execute_result"
        }
      ],
      "source": [
        "idx = np.random.permutation(x_norm.shape[0])\n",
        "idx"
      ]
    },
    {
      "cell_type": "code",
      "execution_count": 26,
      "metadata": {
        "colab": {
          "base_uri": "https://localhost:8080/"
        },
        "id": "C9dDhJqfyjkE",
        "outputId": "0e78d1ff-776a-4645-cd6d-c5ba3081e269"
      },
      "outputs": [
        {
          "name": "stdout",
          "output_type": "stream",
          "text": [
            "(5493,)\n",
            "(970,)\n"
          ]
        }
      ],
      "source": [
        "train_idx = idx[0:int(0.85*len(idx))]\n",
        "valid_idx = idx[int(0.85*len(idx)):]\n",
        "print(train_idx.shape)\n",
        "print(valid_idx.shape)"
      ]
    },
    {
      "cell_type": "code",
      "execution_count": 27,
      "metadata": {
        "id": "-VbD8cR8yzD4"
      },
      "outputs": [],
      "source": [
        "train_x = x_norm[train_idx]\n",
        "train_y = y[train_idx]\n",
        "valid_x = x_norm[valid_idx]\n",
        "valid_y = y[valid_idx]\n",
        "\n",
        "n_train = train_x.shape[0]\n",
        "n_valid = valid_x.shape[0]"
      ]
    },
    {
      "cell_type": "markdown",
      "metadata": {
        "id": "bTEFahXrwte2"
      },
      "source": [
        "## Pytorch"
      ]
    },
    {
      "cell_type": "code",
      "execution_count": 28,
      "metadata": {
        "id": "sCQz7nDkuK7S"
      },
      "outputs": [],
      "source": [
        "import torch\n",
        "from torch.utils.data import Dataset, DataLoader\n",
        "from sklearn import metrics"
      ]
    },
    {
      "cell_type": "code",
      "execution_count": 29,
      "metadata": {
        "id": "gUpc_S5Fw_Nk"
      },
      "outputs": [],
      "source": [
        "# Pytorch necesita de una clase de dataset que extienda de torch.utils.data.Dataset\n",
        "# Esta clase dataset debe sobreescribir los métodos init, len y getitem\n",
        "class MyDataset(Dataset):\n",
        "\n",
        "  #__init__ guarda el dataset en una variable de clase\n",
        "  def __init__(self, x, y):\n",
        "    self.x = x\n",
        "    self.y = y\n",
        "\n",
        "  # __len__ define el comportamiento de la función len() sobre el objeto\n",
        "  def __len__(self):\n",
        "    return self.x.shape[0]\n",
        "\n",
        "  # __getitem__ define el comportamiento de los []\n",
        "  def __getitem__(self, idx):\n",
        "    return self.x[idx], self.y[idx]"
      ]
    },
    {
      "cell_type": "code",
      "execution_count": 30,
      "metadata": {
        "id": "eGbN4tbtzU6o"
      },
      "outputs": [],
      "source": [
        "# Creo el dataset de entrenamiento\n",
        "train_ds = MyDataset(train_x, train_y)"
      ]
    },
    {
      "cell_type": "code",
      "execution_count": 31,
      "metadata": {
        "colab": {
          "base_uri": "https://localhost:8080/"
        },
        "id": "hU2JCW3Bz8iI",
        "outputId": "869ba2e1-0eb5-4377-8cf4-80f44e5535c9"
      },
      "outputs": [
        {
          "data": {
            "text/plain": [
              "(array([0.17355372, 0.23666667, 0.09638554, 0.08895706, 0.03654485,\n",
              "        0.06944444, 0.29493088, 0.08482745, 0.40310078, 0.13483146,\n",
              "        0.60869565, 0.        , 1.        ]), 0)"
            ]
          },
          "execution_count": 31,
          "metadata": {},
          "output_type": "execute_result"
        }
      ],
      "source": [
        "# Testeo funcionamiento de __getitem__\n",
        "train_ds[20]"
      ]
    },
    {
      "cell_type": "code",
      "execution_count": 32,
      "metadata": {
        "id": "gJMd5ESO0f2E"
      },
      "outputs": [],
      "source": [
        "# Creo el dataset de validación\n",
        "valid_ds = MyDataset(valid_x, valid_y)"
      ]
    },
    {
      "cell_type": "code",
      "execution_count": 33,
      "metadata": {
        "colab": {
          "base_uri": "https://localhost:8080/"
        },
        "id": "gsD6j7d30aRf",
        "outputId": "d9dcd963-2ba3-40ee-8ccd-8b1ec5d4cd58"
      },
      "outputs": [
        {
          "data": {
            "text/plain": [
              "970"
            ]
          },
          "execution_count": 33,
          "metadata": {},
          "output_type": "execute_result"
        }
      ],
      "source": [
        "# Testeo funcionamiento de __len__\n",
        "len(valid_ds)"
      ]
    },
    {
      "cell_type": "code",
      "execution_count": 34,
      "metadata": {
        "id": "6sFTrMOJ073s"
      },
      "outputs": [],
      "source": [
        "# Pytorch utiliza DataLoader para entregar los dataset de a batches\n",
        "train_dataloader = DataLoader(train_ds, batch_size = 64, shuffle= True)\n",
        "valid_dataloader = DataLoader(valid_ds, batch_size=64)"
      ]
    },
    {
      "cell_type": "code",
      "execution_count": 35,
      "metadata": {
        "colab": {
          "base_uri": "https://localhost:8080/"
        },
        "id": "Otgc-P5o1-vo",
        "outputId": "3e745fc4-f805-4f55-eeac-912fca1d611e"
      },
      "outputs": [
        {
          "data": {
            "text/plain": [
              "torch.Size([64])"
            ]
          },
          "execution_count": 35,
          "metadata": {},
          "output_type": "execute_result"
        }
      ],
      "source": [
        "# Test dataloader\n",
        "batch_1 = next(iter(train_dataloader))\n",
        "batch_1[1].shape"
      ]
    },
    {
      "cell_type": "code",
      "execution_count": 36,
      "metadata": {
        "colab": {
          "base_uri": "https://localhost:8080/"
        },
        "id": "76QcEVR528XM",
        "outputId": "da20c111-cfd4-4971-b76b-64f26a2245b2"
      },
      "outputs": [
        {
          "name": "stdout",
          "output_type": "stream",
          "text": [
            "<class 'torch.Tensor'>\n"
          ]
        }
      ],
      "source": [
        "print(type(batch_1[0]))"
      ]
    },
    {
      "cell_type": "markdown",
      "metadata": {
        "id": "J6qXvzZyklbV"
      },
      "source": [
        "### Tensores\n",
        "Los objetos torch.Tensor son vectores muy parecidos a los vectores de numpy pero pueden ejecutar funciones en GPU (numpy solo corre en CPU) y pueden guardar información del grafo de cómputos para realizar luego el backpropagation"
      ]
    },
    {
      "cell_type": "code",
      "execution_count": 37,
      "metadata": {
        "colab": {
          "base_uri": "https://localhost:8080/"
        },
        "id": "K0ueT1EA3U9Y",
        "outputId": "986f5465-9288-47cd-ebf7-0b1505c98133"
      },
      "outputs": [
        {
          "name": "stdout",
          "output_type": "stream",
          "text": [
            "tensor([1.], requires_grad=True)\n",
            "tensor([5.], requires_grad=True)\n"
          ]
        }
      ],
      "source": [
        "# Defino 2 tensores con seguimiento del grafo de cómputos\n",
        "w = torch.tensor([1.0], requires_grad=True)\n",
        "q = torch.tensor([5.0], requires_grad=True)\n",
        "print(w)\n",
        "print(q)"
      ]
    },
    {
      "cell_type": "code",
      "execution_count": 38,
      "metadata": {
        "id": "aq0_bv024ae7"
      },
      "outputs": [],
      "source": [
        "# Defino z y p como cálculos sobre w y q\n",
        "z = w * q \n",
        "p = z**2"
      ]
    },
    {
      "cell_type": "code",
      "execution_count": 39,
      "metadata": {
        "colab": {
          "base_uri": "https://localhost:8080/"
        },
        "id": "tPtUbun15FbA",
        "outputId": "719d6f13-1855-4782-8171-c5d2ee9ee440"
      },
      "outputs": [
        {
          "name": "stdout",
          "output_type": "stream",
          "text": [
            "tensor([5.], grad_fn=<MulBackward0>)\n",
            "tensor([25.], grad_fn=<PowBackward0>)\n"
          ]
        }
      ],
      "source": [
        "# z y p almacenen información de como fueron cálculados para facilitar el backpropagation\n",
        "print(z)\n",
        "print(p)"
      ]
    },
    {
      "cell_type": "code",
      "execution_count": 40,
      "metadata": {
        "id": "qINfEncc4sWt"
      },
      "outputs": [],
      "source": [
        "# Ejecutamos el cálculo del backpropagation\n",
        "p.backward()"
      ]
    },
    {
      "cell_type": "code",
      "execution_count": 41,
      "metadata": {
        "colab": {
          "base_uri": "https://localhost:8080/"
        },
        "id": "6-0jWvpO4zlf",
        "outputId": "58c27c1c-011f-4ac6-e228-783e2b35e94c"
      },
      "outputs": [
        {
          "name": "stdout",
          "output_type": "stream",
          "text": [
            "tensor([50.])\n",
            "tensor([10.])\n"
          ]
        }
      ],
      "source": [
        "# w y q poseen en grad el cálculo del dp/dw y dp/dz respectivamente\n",
        "print(w.grad)\n",
        "print(q.grad)"
      ]
    },
    {
      "cell_type": "markdown",
      "metadata": {
        "id": "-KNcY4ApllNa"
      },
      "source": [
        "### Arquitectura NNet Pytorch\n",
        "La red neuronal en Pytorch se define extendiendo torch.nn.Module"
      ]
    },
    {
      "cell_type": "code",
      "execution_count": 42,
      "metadata": {
        "id": "1B95zN1m5r6c"
      },
      "outputs": [],
      "source": [
        "class NNet(torch.nn.Module):\n",
        "\n",
        "  def __init__(self):\n",
        "    # Defino la arquitectura de la red\n",
        "    super().__init__()\n",
        "    self.linear_1 = torch.nn.Linear(in_features=13, out_features=200, bias=True)\n",
        "    self.relu_1 = torch.nn.ReLU()\n",
        "    self.linear_2 = torch.nn.Linear(in_features = 200, out_features=100, bias=True)\n",
        "    self.relu_2 = torch.nn.ReLU()\n",
        "    self.output = torch.nn.Linear(in_features = 100, out_features= 1, bias=True)\n",
        "\n",
        "  def forward(self, x):\n",
        "    # Defino el cálculo del paso forward\n",
        "    x = self.linear_1(x)\n",
        "    x = self.relu_1(x)\n",
        "    x = self.linear_2(x)\n",
        "    x = self.relu_2(x)\n",
        "    x = self.output(x)\n",
        "    return x"
      ]
    },
    {
      "cell_type": "code",
      "execution_count": 43,
      "metadata": {
        "id": "QLOh2lz4_NXl"
      },
      "outputs": [],
      "source": [
        "# Instanciamos la red\n",
        "nnet = NNet()"
      ]
    },
    {
      "cell_type": "code",
      "execution_count": 44,
      "metadata": {
        "colab": {
          "base_uri": "https://localhost:8080/"
        },
        "id": "S5d2IfRlBpOG",
        "outputId": "931f2831-9194-4dc3-ddb2-b37aff0564a4"
      },
      "outputs": [
        {
          "name": "stdout",
          "output_type": "stream",
          "text": [
            "NNet(\n",
            "  (linear_1): Linear(in_features=13, out_features=200, bias=True)\n",
            "  (relu_1): ReLU()\n",
            "  (linear_2): Linear(in_features=200, out_features=100, bias=True)\n",
            "  (relu_2): ReLU()\n",
            "  (output): Linear(in_features=100, out_features=1, bias=True)\n",
            ")\n"
          ]
        }
      ],
      "source": [
        "print(nnet)"
      ]
    },
    {
      "cell_type": "code",
      "execution_count": 45,
      "metadata": {
        "colab": {
          "base_uri": "https://localhost:8080/"
        },
        "id": "d0PXhPXNBrp5",
        "outputId": "c14fbacb-378a-4823-b442-99a18950c613"
      },
      "outputs": [
        {
          "name": "stdout",
          "output_type": "stream",
          "text": [
            "[Parameter containing:\n",
            "tensor([[ 0.1896,  0.1583,  0.0041,  ..., -0.1601,  0.1996, -0.0217],\n",
            "        [ 0.2530, -0.0420,  0.0492,  ..., -0.2264, -0.2078,  0.1821],\n",
            "        [ 0.1809,  0.0487, -0.2173,  ...,  0.0866,  0.0461, -0.0011],\n",
            "        ...,\n",
            "        [-0.1602,  0.0437, -0.0569,  ...,  0.0164,  0.1584,  0.1844],\n",
            "        [-0.1635, -0.2118,  0.0296,  ..., -0.1963, -0.0106,  0.1936],\n",
            "        [-0.2279, -0.0059, -0.1513,  ..., -0.1411,  0.1050,  0.1379]],\n",
            "       requires_grad=True), Parameter containing:\n",
            "tensor([ 0.2530, -0.2613,  0.0945,  0.2165, -0.1833, -0.0903, -0.1350, -0.0996,\n",
            "         0.2623, -0.2207, -0.0649,  0.1594,  0.1566,  0.1588,  0.0787, -0.2267,\n",
            "        -0.1646, -0.1894, -0.1136, -0.0121, -0.1304, -0.0592, -0.1330,  0.0070,\n",
            "         0.0682,  0.1506, -0.1436,  0.1322, -0.1771,  0.1771,  0.1749, -0.0089,\n",
            "        -0.1078,  0.0609,  0.0110, -0.0656,  0.2594, -0.0937,  0.0523,  0.0753,\n",
            "         0.1967,  0.2412,  0.2519,  0.0022,  0.0246,  0.2104,  0.2088, -0.2626,\n",
            "         0.0978, -0.0015,  0.0352, -0.1029,  0.2349, -0.2008, -0.2183,  0.2707,\n",
            "        -0.2430, -0.1313, -0.0991, -0.0862,  0.2320, -0.0433, -0.0816, -0.2509,\n",
            "         0.2368,  0.2192, -0.1845,  0.1337,  0.1745,  0.0850, -0.1321,  0.0707,\n",
            "         0.1465, -0.2519, -0.0076,  0.2496, -0.0236, -0.0279,  0.0513,  0.0474,\n",
            "         0.1046, -0.0728,  0.0241, -0.2739,  0.2561,  0.1875,  0.1538, -0.1121,\n",
            "         0.2313,  0.1118, -0.2122, -0.0762, -0.1439, -0.1056,  0.1903, -0.1401,\n",
            "        -0.1786, -0.2023, -0.2080,  0.1158,  0.0832,  0.0257,  0.0450,  0.1715,\n",
            "         0.2504, -0.1103,  0.2223, -0.0681,  0.0597, -0.2401,  0.0860, -0.0338,\n",
            "         0.0994, -0.0875, -0.1103, -0.1441,  0.1694, -0.1652, -0.2507,  0.1497,\n",
            "         0.0008,  0.1169, -0.0776,  0.1874,  0.2204, -0.1959, -0.1187, -0.0250,\n",
            "        -0.2053, -0.2011, -0.2742,  0.0786, -0.0614,  0.0502,  0.1420, -0.2033,\n",
            "         0.1731, -0.2056,  0.1502, -0.1392,  0.2524,  0.1224, -0.0193,  0.0405,\n",
            "         0.1892,  0.1420, -0.1208, -0.2276,  0.0399, -0.2360, -0.2573,  0.1640,\n",
            "        -0.1925, -0.0719, -0.1361, -0.1973, -0.2584, -0.2200,  0.1616, -0.1801,\n",
            "        -0.2196, -0.0095,  0.0423, -0.0313, -0.2286,  0.0165,  0.0754,  0.1691,\n",
            "         0.2368, -0.0754, -0.2315, -0.1259,  0.1700,  0.1618, -0.1592,  0.1369,\n",
            "        -0.1419,  0.1291,  0.0493, -0.0828,  0.0206, -0.2703,  0.2350,  0.2376,\n",
            "        -0.2138,  0.1884, -0.1147, -0.2275, -0.1564,  0.2213,  0.0791, -0.1292,\n",
            "        -0.2583,  0.1161,  0.2318,  0.2548, -0.1547,  0.0061,  0.2324,  0.0529],\n",
            "       requires_grad=True), Parameter containing:\n",
            "tensor([[ 0.0048, -0.0253,  0.0032,  ...,  0.0207,  0.0168, -0.0514],\n",
            "        [ 0.0064,  0.0214,  0.0184,  ...,  0.0259, -0.0054,  0.0652],\n",
            "        [ 0.0440, -0.0507, -0.0689,  ...,  0.0155,  0.0320, -0.0304],\n",
            "        ...,\n",
            "        [ 0.0222,  0.0568, -0.0690,  ..., -0.0331, -0.0247, -0.0459],\n",
            "        [ 0.0344, -0.0206, -0.0494,  ..., -0.0597,  0.0408,  0.0595],\n",
            "        [-0.0415,  0.0105, -0.0329,  ...,  0.0675,  0.0702, -0.0158]],\n",
            "       requires_grad=True), Parameter containing:\n",
            "tensor([ 0.0461,  0.0195, -0.0522, -0.0108, -0.0568, -0.0198, -0.0385, -0.0155,\n",
            "        -0.0133,  0.0690, -0.0342,  0.0167,  0.0687, -0.0387, -0.0687,  0.0575,\n",
            "        -0.0277,  0.0458, -0.0419, -0.0275,  0.0214, -0.0451,  0.0358,  0.0706,\n",
            "         0.0683,  0.0158, -0.0595,  0.0454, -0.0039, -0.0246,  0.0310,  0.0522,\n",
            "        -0.0673, -0.0394,  0.0338,  0.0625,  0.0200,  0.0272, -0.0311, -0.0238,\n",
            "        -0.0016, -0.0177,  0.0185,  0.0056, -0.0317,  0.0659,  0.0452, -0.0422,\n",
            "         0.0280,  0.0698, -0.0540, -0.0526, -0.0428, -0.0524, -0.0079,  0.0521,\n",
            "         0.0349,  0.0113,  0.0124, -0.0613, -0.0298,  0.0285,  0.0409, -0.0629,\n",
            "         0.0275, -0.0242, -0.0461, -0.0662, -0.0064,  0.0518,  0.0271, -0.0303,\n",
            "         0.0688, -0.0327,  0.0411, -0.0396, -0.0356, -0.0257,  0.0579,  0.0386,\n",
            "        -0.0507, -0.0130,  0.0167,  0.0146, -0.0099, -0.0678, -0.0186,  0.0543,\n",
            "        -0.0633, -0.0466, -0.0176, -0.0668,  0.0369,  0.0271, -0.0231,  0.0546,\n",
            "         0.0576, -0.0238, -0.0292, -0.0323], requires_grad=True), Parameter containing:\n",
            "tensor([[-0.0734,  0.0253, -0.0293, -0.0661, -0.0825, -0.0921, -0.0934,  0.0041,\n",
            "         -0.0074, -0.0583,  0.0324,  0.0285,  0.0313, -0.0050,  0.0242,  0.0037,\n",
            "          0.0801, -0.0052,  0.0713,  0.0149,  0.0938,  0.0360, -0.0085, -0.0541,\n",
            "         -0.0007, -0.0032,  0.0468, -0.0807,  0.0856, -0.0556,  0.0728, -0.0159,\n",
            "          0.0080,  0.0293,  0.0737,  0.0678, -0.0904,  0.0983,  0.0048,  0.0489,\n",
            "          0.0550, -0.0950, -0.0692,  0.0809, -0.0188,  0.0190, -0.0365, -0.0836,\n",
            "          0.0214,  0.0909,  0.0356,  0.0483,  0.0527, -0.0827,  0.0391, -0.0625,\n",
            "          0.0041,  0.0602, -0.0387,  0.0384, -0.0850,  0.0516,  0.0989,  0.0231,\n",
            "         -0.0794, -0.0577, -0.0246,  0.0238, -0.0547, -0.0835,  0.0759,  0.0102,\n",
            "          0.0866,  0.0054, -0.0718, -0.0093, -0.0431, -0.0122,  0.0625,  0.0593,\n",
            "          0.0103, -0.0261, -0.0084, -0.0440,  0.0661,  0.0819, -0.0745,  0.0659,\n",
            "          0.0908,  0.0681, -0.0825,  0.0992, -0.0036, -0.0713, -0.0342, -0.0780,\n",
            "         -0.0828,  0.0787, -0.0949, -0.0383]], requires_grad=True), Parameter containing:\n",
            "tensor([0.0509], requires_grad=True)]\n"
          ]
        }
      ],
      "source": [
        "# Imprimimos los parámetros optimizables de la red\n",
        "print([p for p in nnet.parameters()])"
      ]
    },
    {
      "cell_type": "code",
      "execution_count": 46,
      "metadata": {
        "colab": {
          "base_uri": "https://localhost:8080/"
        },
        "id": "D6idB_t1BveQ",
        "outputId": "e9ec17a9-ae66-4e56-d2f6-8bdf5a7ee8c3"
      },
      "outputs": [
        {
          "name": "stdout",
          "output_type": "stream",
          "text": [
            "23001\n"
          ]
        }
      ],
      "source": [
        "# Imprimo la cantidad de parámetros optimizables de la red\n",
        "print(sum(p.numel() for p in nnet.parameters()))"
      ]
    },
    {
      "cell_type": "markdown",
      "metadata": {
        "id": "T8sc7rsBmEBS"
      },
      "source": [
        "### Loss y optimizador\n",
        "- Como loss function utilizo BCE por ser un problema de clasificación binaria.\n",
        "\n",
        "**Nota**: la función sigmoid de salida no se definió en la arquitectura de la red neuronal porque utilizo BCEWithLogitsLoss que combina sigmoid+BCE. Hago esto para tener mejor estabilidad numérica: [link](https://pytorch.org/docs/stable/generated/torch.nn.BCEWithLogitsLoss.html).\n",
        "\n",
        "Podría utilizar BCELoss y agregar la capa sigmoid en la clase NNet\n",
        "\n",
        "- Como optimizador utilizo Adam"
      ]
    },
    {
      "cell_type": "code",
      "execution_count": 47,
      "metadata": {
        "id": "GjJ2wX6wChK4"
      },
      "outputs": [],
      "source": [
        "loss_function = torch.nn.BCEWithLogitsLoss(reduction='sum')\n",
        "optimizer = torch.optim.Adam(nnet.parameters(), lr=0.01)"
      ]
    },
    {
      "cell_type": "markdown",
      "metadata": {
        "id": "h6Rj4g1AnGYJ"
      },
      "source": [
        "Pytorch puede correr en GPU. Con el siguiente código chequeo si hay una GPU compatible disponible y la utilizo en ese caso.\n",
        "\n",
        "**Como utilizar GPU con colab**: Ir a Entorno de ejecucion -> Cambiar tipo de entorno de ejecución. Seleccionar GPU"
      ]
    },
    {
      "cell_type": "code",
      "execution_count": 48,
      "metadata": {
        "colab": {
          "base_uri": "https://localhost:8080/",
          "height": 36
        },
        "id": "ducia7gqEBJz",
        "outputId": "cb6fa34e-cbee-478d-a912-75139d863b5a"
      },
      "outputs": [
        {
          "data": {
            "application/vnd.google.colaboratory.intrinsic+json": {
              "type": "string"
            },
            "text/plain": [
              "'cuda:0'"
            ]
          },
          "execution_count": 48,
          "metadata": {},
          "output_type": "execute_result"
        }
      ],
      "source": [
        "device = \"cpu\"\n",
        "if torch.cuda.is_available():\n",
        "  device = \"cuda:0\"\n",
        "\n",
        "device"
      ]
    },
    {
      "cell_type": "code",
      "execution_count": 49,
      "metadata": {
        "id": "5dECiZZVEfC5"
      },
      "outputs": [],
      "source": [
        "# Copio la red neuronal al dispositivo donde entrene la red neuronal\n",
        "nnet = nnet.to(device)"
      ]
    },
    {
      "cell_type": "markdown",
      "metadata": {
        "id": "7Tf8PPFRnlzk"
      },
      "source": [
        "### Entrenamiento y validación red neuronal\n",
        "\n",
        "Entreno con algoritmo Mini-Batch"
      ]
    },
    {
      "cell_type": "code",
      "execution_count": 50,
      "metadata": {
        "colab": {
          "base_uri": "https://localhost:8080/"
        },
        "id": "L9UeuiOmErqk",
        "outputId": "c96ede9c-e6ac-453e-cf48-a1ebc7a46cab"
      },
      "outputs": [
        {
          "name": "stdout",
          "output_type": "stream",
          "text": [
            " Epoch 0 | Train/Valid loss: 0.430 / 0.416 | Train/Valid accuracy: 0.803 / 0.823\n",
            " Epoch 1 | Train/Valid loss: 0.402 / 0.419 | Train/Valid accuracy: 0.815 / 0.809\n",
            " Epoch 2 | Train/Valid loss: 0.396 / 0.426 | Train/Valid accuracy: 0.816 / 0.811\n",
            " Epoch 3 | Train/Valid loss: 0.396 / 0.403 | Train/Valid accuracy: 0.818 / 0.816\n",
            " Epoch 4 | Train/Valid loss: 0.383 / 0.403 | Train/Valid accuracy: 0.817 / 0.821\n",
            " Epoch 5 | Train/Valid loss: 0.386 / 0.395 | Train/Valid accuracy: 0.820 / 0.806\n",
            " Epoch 6 | Train/Valid loss: 0.377 / 0.385 | Train/Valid accuracy: 0.823 / 0.819\n",
            " Epoch 7 | Train/Valid loss: 0.374 / 0.394 | Train/Valid accuracy: 0.823 / 0.818\n",
            " Epoch 8 | Train/Valid loss: 0.374 / 0.391 | Train/Valid accuracy: 0.827 / 0.825\n",
            " Epoch 9 | Train/Valid loss: 0.371 / 0.375 | Train/Valid accuracy: 0.821 / 0.828\n",
            " Epoch 10 | Train/Valid loss: 0.365 / 0.387 | Train/Valid accuracy: 0.828 / 0.814\n",
            " Epoch 11 | Train/Valid loss: 0.372 / 0.393 | Train/Valid accuracy: 0.825 / 0.820\n",
            " Epoch 12 | Train/Valid loss: 0.370 / 0.379 | Train/Valid accuracy: 0.828 / 0.816\n",
            " Epoch 13 | Train/Valid loss: 0.363 / 0.373 | Train/Valid accuracy: 0.830 / 0.821\n",
            " Epoch 14 | Train/Valid loss: 0.364 / 0.372 | Train/Valid accuracy: 0.827 / 0.823\n",
            " Epoch 15 | Train/Valid loss: 0.360 / 0.368 | Train/Valid accuracy: 0.833 / 0.825\n",
            " Epoch 16 | Train/Valid loss: 0.360 / 0.368 | Train/Valid accuracy: 0.831 / 0.823\n",
            " Epoch 17 | Train/Valid loss: 0.360 / 0.377 | Train/Valid accuracy: 0.830 / 0.825\n",
            " Epoch 18 | Train/Valid loss: 0.364 / 0.394 | Train/Valid accuracy: 0.832 / 0.830\n",
            " Epoch 19 | Train/Valid loss: 0.358 / 0.370 | Train/Valid accuracy: 0.831 / 0.823\n",
            " Epoch 20 | Train/Valid loss: 0.358 / 0.365 | Train/Valid accuracy: 0.832 / 0.835\n",
            " Epoch 21 | Train/Valid loss: 0.355 / 0.367 | Train/Valid accuracy: 0.831 / 0.831\n",
            " Epoch 22 | Train/Valid loss: 0.358 / 0.366 | Train/Valid accuracy: 0.836 / 0.822\n",
            " Epoch 23 | Train/Valid loss: 0.355 / 0.384 | Train/Valid accuracy: 0.833 / 0.825\n",
            " Epoch 24 | Train/Valid loss: 0.358 / 0.381 | Train/Valid accuracy: 0.835 / 0.825\n",
            " Epoch 25 | Train/Valid loss: 0.352 / 0.371 | Train/Valid accuracy: 0.835 / 0.819\n",
            " Epoch 26 | Train/Valid loss: 0.355 / 0.367 | Train/Valid accuracy: 0.825 / 0.830\n",
            " Epoch 27 | Train/Valid loss: 0.357 / 0.370 | Train/Valid accuracy: 0.830 / 0.830\n",
            " Epoch 28 | Train/Valid loss: 0.355 / 0.376 | Train/Valid accuracy: 0.835 / 0.830\n",
            " Epoch 29 | Train/Valid loss: 0.353 / 0.370 | Train/Valid accuracy: 0.831 / 0.836\n",
            " Epoch 30 | Train/Valid loss: 0.350 / 0.376 | Train/Valid accuracy: 0.835 / 0.820\n",
            " Epoch 31 | Train/Valid loss: 0.351 / 0.366 | Train/Valid accuracy: 0.828 / 0.831\n",
            " Epoch 32 | Train/Valid loss: 0.353 / 0.363 | Train/Valid accuracy: 0.831 / 0.829\n",
            " Epoch 33 | Train/Valid loss: 0.351 / 0.364 | Train/Valid accuracy: 0.835 / 0.821\n",
            " Epoch 34 | Train/Valid loss: 0.346 / 0.362 | Train/Valid accuracy: 0.835 / 0.835\n",
            " Epoch 35 | Train/Valid loss: 0.347 / 0.379 | Train/Valid accuracy: 0.838 / 0.829\n",
            " Epoch 36 | Train/Valid loss: 0.349 / 0.365 | Train/Valid accuracy: 0.835 / 0.823\n",
            " Epoch 37 | Train/Valid loss: 0.344 / 0.367 | Train/Valid accuracy: 0.837 / 0.816\n",
            " Epoch 38 | Train/Valid loss: 0.345 / 0.363 | Train/Valid accuracy: 0.839 / 0.830\n",
            " Epoch 39 | Train/Valid loss: 0.347 / 0.379 | Train/Valid accuracy: 0.832 / 0.827\n",
            " Epoch 40 | Train/Valid loss: 0.346 / 0.364 | Train/Valid accuracy: 0.837 / 0.820\n",
            " Epoch 41 | Train/Valid loss: 0.343 / 0.362 | Train/Valid accuracy: 0.837 / 0.821\n",
            " Epoch 42 | Train/Valid loss: 0.344 / 0.367 | Train/Valid accuracy: 0.837 / 0.821\n",
            " Epoch 43 | Train/Valid loss: 0.342 / 0.360 | Train/Valid accuracy: 0.837 / 0.832\n",
            " Epoch 44 | Train/Valid loss: 0.345 / 0.368 | Train/Valid accuracy: 0.837 / 0.828\n",
            " Epoch 45 | Train/Valid loss: 0.344 / 0.361 | Train/Valid accuracy: 0.835 / 0.831\n",
            " Epoch 46 | Train/Valid loss: 0.340 / 0.363 | Train/Valid accuracy: 0.841 / 0.823\n",
            " Epoch 47 | Train/Valid loss: 0.340 / 0.365 | Train/Valid accuracy: 0.840 / 0.829\n",
            " Epoch 48 | Train/Valid loss: 0.343 / 0.362 | Train/Valid accuracy: 0.838 / 0.828\n",
            " Epoch 49 | Train/Valid loss: 0.341 / 0.360 | Train/Valid accuracy: 0.841 / 0.806\n",
            " Epoch 50 | Train/Valid loss: 0.339 / 0.362 | Train/Valid accuracy: 0.835 / 0.837\n",
            " Epoch 51 | Train/Valid loss: 0.339 / 0.365 | Train/Valid accuracy: 0.838 / 0.836\n",
            " Epoch 52 | Train/Valid loss: 0.336 / 0.356 | Train/Valid accuracy: 0.842 / 0.826\n",
            " Epoch 53 | Train/Valid loss: 0.337 / 0.365 | Train/Valid accuracy: 0.844 / 0.822\n",
            " Epoch 54 | Train/Valid loss: 0.338 / 0.356 | Train/Valid accuracy: 0.844 / 0.832\n",
            " Epoch 55 | Train/Valid loss: 0.338 / 0.375 | Train/Valid accuracy: 0.839 / 0.818\n",
            " Epoch 56 | Train/Valid loss: 0.339 / 0.361 | Train/Valid accuracy: 0.842 / 0.826\n",
            " Epoch 57 | Train/Valid loss: 0.336 / 0.362 | Train/Valid accuracy: 0.841 / 0.832\n",
            " Epoch 58 | Train/Valid loss: 0.332 / 0.364 | Train/Valid accuracy: 0.846 / 0.824\n",
            " Epoch 59 | Train/Valid loss: 0.335 / 0.358 | Train/Valid accuracy: 0.842 / 0.823\n",
            " Epoch 60 | Train/Valid loss: 0.338 / 0.366 | Train/Valid accuracy: 0.841 / 0.819\n",
            " Epoch 61 | Train/Valid loss: 0.337 / 0.369 | Train/Valid accuracy: 0.843 / 0.832\n",
            " Epoch 62 | Train/Valid loss: 0.335 / 0.356 | Train/Valid accuracy: 0.843 / 0.829\n",
            " Epoch 63 | Train/Valid loss: 0.333 / 0.370 | Train/Valid accuracy: 0.838 / 0.824\n",
            " Epoch 64 | Train/Valid loss: 0.332 / 0.355 | Train/Valid accuracy: 0.845 / 0.828\n",
            " Epoch 65 | Train/Valid loss: 0.331 / 0.358 | Train/Valid accuracy: 0.843 / 0.827\n",
            " Epoch 66 | Train/Valid loss: 0.331 / 0.356 | Train/Valid accuracy: 0.846 / 0.828\n",
            " Epoch 67 | Train/Valid loss: 0.331 / 0.366 | Train/Valid accuracy: 0.845 / 0.828\n",
            " Epoch 68 | Train/Valid loss: 0.329 / 0.363 | Train/Valid accuracy: 0.843 / 0.831\n",
            " Epoch 69 | Train/Valid loss: 0.327 / 0.365 | Train/Valid accuracy: 0.844 / 0.823\n",
            " Epoch 70 | Train/Valid loss: 0.329 / 0.363 | Train/Valid accuracy: 0.845 / 0.821\n",
            " Epoch 71 | Train/Valid loss: 0.330 / 0.366 | Train/Valid accuracy: 0.844 / 0.821\n",
            " Epoch 72 | Train/Valid loss: 0.335 / 0.368 | Train/Valid accuracy: 0.842 / 0.820\n",
            " Epoch 73 | Train/Valid loss: 0.329 / 0.358 | Train/Valid accuracy: 0.843 / 0.828\n",
            " Epoch 74 | Train/Valid loss: 0.322 / 0.353 | Train/Valid accuracy: 0.845 / 0.827\n",
            " Epoch 75 | Train/Valid loss: 0.325 / 0.361 | Train/Valid accuracy: 0.845 / 0.825\n",
            " Epoch 76 | Train/Valid loss: 0.327 / 0.367 | Train/Valid accuracy: 0.845 / 0.820\n",
            " Epoch 77 | Train/Valid loss: 0.326 / 0.365 | Train/Valid accuracy: 0.846 / 0.828\n",
            " Epoch 78 | Train/Valid loss: 0.326 / 0.366 | Train/Valid accuracy: 0.845 / 0.820\n",
            " Epoch 79 | Train/Valid loss: 0.324 / 0.356 | Train/Valid accuracy: 0.848 / 0.828\n",
            " Epoch 80 | Train/Valid loss: 0.322 / 0.361 | Train/Valid accuracy: 0.848 / 0.823\n",
            " Epoch 81 | Train/Valid loss: 0.322 / 0.356 | Train/Valid accuracy: 0.843 / 0.821\n",
            " Epoch 82 | Train/Valid loss: 0.322 / 0.363 | Train/Valid accuracy: 0.847 / 0.823\n",
            " Epoch 83 | Train/Valid loss: 0.320 / 0.363 | Train/Valid accuracy: 0.847 / 0.818\n",
            " Epoch 84 | Train/Valid loss: 0.323 / 0.373 | Train/Valid accuracy: 0.852 / 0.829\n",
            " Epoch 85 | Train/Valid loss: 0.317 / 0.362 | Train/Valid accuracy: 0.849 / 0.827\n",
            " Epoch 86 | Train/Valid loss: 0.321 / 0.361 | Train/Valid accuracy: 0.846 / 0.835\n",
            " Epoch 87 | Train/Valid loss: 0.320 / 0.369 | Train/Valid accuracy: 0.850 / 0.827\n",
            " Epoch 88 | Train/Valid loss: 0.321 / 0.357 | Train/Valid accuracy: 0.849 / 0.830\n",
            " Epoch 89 | Train/Valid loss: 0.319 / 0.372 | Train/Valid accuracy: 0.849 / 0.832\n",
            " Epoch 90 | Train/Valid loss: 0.318 / 0.379 | Train/Valid accuracy: 0.849 / 0.821\n",
            " Epoch 91 | Train/Valid loss: 0.318 / 0.378 | Train/Valid accuracy: 0.851 / 0.814\n",
            " Epoch 92 | Train/Valid loss: 0.319 / 0.383 | Train/Valid accuracy: 0.847 / 0.836\n",
            " Epoch 93 | Train/Valid loss: 0.315 / 0.370 | Train/Valid accuracy: 0.851 / 0.830\n",
            " Epoch 94 | Train/Valid loss: 0.315 / 0.373 | Train/Valid accuracy: 0.849 / 0.823\n",
            " Epoch 95 | Train/Valid loss: 0.310 / 0.357 | Train/Valid accuracy: 0.851 / 0.832\n",
            " Epoch 96 | Train/Valid loss: 0.312 / 0.361 | Train/Valid accuracy: 0.851 / 0.831\n",
            " Epoch 97 | Train/Valid loss: 0.311 / 0.376 | Train/Valid accuracy: 0.853 / 0.826\n",
            " Epoch 98 | Train/Valid loss: 0.308 / 0.368 | Train/Valid accuracy: 0.853 / 0.836\n",
            " Epoch 99 | Train/Valid loss: 0.309 / 0.370 | Train/Valid accuracy: 0.849 / 0.831\n"
          ]
        }
      ],
      "source": [
        "# cantidad de epochs\n",
        "epochs = 100\n",
        "\n",
        "train_loss_by_epoch=[]\n",
        "valid_loss_by_epoch=[]\n",
        "\n",
        "# Doble loop algoritmo Mini-Batch\n",
        "for epoch in range(epochs):\n",
        "  \n",
        "  ############################################\n",
        "  ## Entrenamiento\n",
        "  ############################################\n",
        "  nnet.train(True)\n",
        "\n",
        "  epoch_loss = 0\n",
        "  epoch_y_hat = []\n",
        "  epoch_y = []\n",
        "  \n",
        "  for i,data in enumerate(train_dataloader):\n",
        "    # Obtengo los datos del batch de entrenamiento\n",
        "    x_batch, y_batch = data\n",
        "    # Copio el batch al dispositivo donde entreno la red neuronal\n",
        "    x_batch = x_batch.to(device).float()\n",
        "    y_batch = y_batch.to(device).float().reshape(-1, 1)\n",
        "\n",
        "    # Paso forward\n",
        "    # Limpio optimizer para empezar un nuevo cálculo de gradiente\n",
        "    optimizer.zero_grad()\n",
        "    nnet_output = nnet(x_batch)\n",
        "    y_batch_hat = torch.sigmoid(nnet_output)\n",
        "    \n",
        "    # Calculo el loss\n",
        "    loss = loss_function(nnet_output, y_batch)\n",
        "\n",
        "    # Backpropagation\n",
        "    loss.backward()\n",
        "\n",
        "    # Actualizar los parámetros\n",
        "    optimizer.step()\n",
        "\n",
        "    # Almaceno los valores reales y mis predicciones para cálcular las métricas\n",
        "    epoch_y += list(y_batch.detach().cpu().numpy())\n",
        "    epoch_y_hat += list(y_batch_hat.detach().cpu().numpy())\n",
        "    # Acumulo la loss del batch\n",
        "    epoch_loss = epoch_loss + loss.item()\n",
        "\n",
        "  # Calculo la media de la loss\n",
        "  epoch_loss = epoch_loss / n_train\n",
        "  # Almaceno la loss de la epoch para graficar\n",
        "  train_loss_by_epoch.append(epoch_loss)\n",
        "  # Cálculo la métrica de la epoch\n",
        "  accuracy = metrics.accuracy_score(epoch_y, [j>=0.5 for j in epoch_y_hat])\n",
        "\n",
        "  ############################################\n",
        "  ## Validación\n",
        "  ############################################\n",
        "  # Desactivo el cálculo de gradiente para validación\n",
        "  nnet.train(False)\n",
        "\n",
        "  valid_epoch_loss = 0\n",
        "  valid_epoch_y_hat = []\n",
        "  valid_epoch_y = []\n",
        "\n",
        "  for i,data in enumerate(valid_dataloader):\n",
        "    # Obtengo los datos del batch de validación\n",
        "    x_batch, y_batch = data\n",
        "    # Copio el batch al dispositivo donde entreno la red neuronal\n",
        "    x_batch = x_batch.to(device).float()\n",
        "    y_batch = y_batch.to(device).float().reshape(-1, 1)\n",
        "\n",
        "    # Paso forward\n",
        "    nnet_output = nnet(x_batch)\n",
        "    y_batch_hat = torch.sigmoid(nnet_output)\n",
        "    \n",
        "    # Calculo el loss\n",
        "    loss = loss_function(nnet_output, y_batch)\n",
        "\n",
        "    # En validación no hago backpropagation!!\n",
        "\n",
        "    # Almaceno los valores reales y mis predicciones para cálcular las métricas\n",
        "    valid_epoch_y += list(y_batch.detach().cpu().numpy())\n",
        "    valid_epoch_y_hat += list(y_batch_hat.detach().cpu().numpy())\n",
        "    # Acumulo la loss del batch\n",
        "    valid_epoch_loss = valid_epoch_loss + loss.item()\n",
        "\n",
        "  # Calculo la media de la loss\n",
        "  valid_epoch_loss = valid_epoch_loss / n_valid\n",
        "  # Almaceno la loss de la epoch para graficar\n",
        "  valid_loss_by_epoch.append(valid_epoch_loss)\n",
        "  # Cálculo la métrica de la epoch\n",
        "  valid_accuracy = metrics.accuracy_score(valid_epoch_y, [j>=0.5 for j in valid_epoch_y_hat])\n",
        "\n",
        "  ############################################\n",
        "  ## Impresión de resultados por epoch\n",
        "  ############################################\n",
        "  print(f\" Epoch {epoch} | \" \\\n",
        "        f\"Train/Valid loss: {epoch_loss:.3f} / {valid_epoch_loss:.3f} | \" \\\n",
        "        f\"Train/Valid accuracy: {accuracy:.3f} / {valid_accuracy:.3f}\")"
      ]
    },
    {
      "cell_type": "code",
      "execution_count": 52,
      "metadata": {
        "colab": {
          "base_uri": "https://localhost:8080/",
          "height": 312
        },
        "id": "AOmgUAKKGH05",
        "outputId": "4d66afeb-299d-4df9-c682-4d473b3d0c5a"
      },
      "outputs": [
        {
          "data": {
            "text/plain": [
              "Text(0, 0.5, 'BCE')"
            ]
          },
          "execution_count": 52,
          "metadata": {},
          "output_type": "execute_result"
        },
        {
          "data": {
            "image/png": "[encoded data removed]",
            "text/plain": [
              "<Figure size 432x288 with 1 Axes>"
            ]
          },
          "metadata": {
            "needs_background": "light"
          },
          "output_type": "display_data"
        }
      ],
      "source": [
        "fig, ax1= plt.subplots(1,1)\n",
        "ax1.plot(train_loss_by_epoch, label=\"Train loss\")\n",
        "ax1.plot(valid_loss_by_epoch, label=\"Validation loss\")\n",
        "ax1.legend()\n",
        "ax1.set_title(\"Loss by epoch\")\n",
        "ax1.set_xlabel(\"epoch\")\n",
        "ax1.set_ylabel(\"BCE\")"
      ]
    },
    {
      "cell_type": "code",
      "execution_count": 51,
      "metadata": {
        "id": "qIxq7cfEMY2F"
      },
      "outputs": [],
      "source": []
    }
  ],
  "metadata": {
    "accelerator": "GPU",
    "colab": {
      "provenance": [],
      "toc_visible": true
    },
    "gpuClass": "standard",
    "kernelspec": {
      "display_name": "pytorch",
      "language": "python",
      "name": "python3"
    },
    "language_info": {
      "codemirror_mode": {
        "name": "ipython",
        "version": 3
      },
      "file_extension": ".py",
      "mimetype": "text/x-python",
      "name": "python",
      "nbconvert_exporter": "python",
      "pygments_lexer": "ipython3",
      "version": "3.10.6"
    },
    "vscode": {
      "interpreter": {
        "hash": "b49e0765e4a16a08c24abfcabbb0a59b7391929f6c139a67008d70625e2fd730"
      }
    }
  },
  "nbformat": 4,
  "nbformat_minor": 0
}
