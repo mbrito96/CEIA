{
  "cells": [
    {
      "attachments": {},
      "cell_type": "markdown",
      "metadata": {
        "id": "6hnAb_E0gZFA"
      },
      "source": [
        "# Ejercicio 4 - Consigna\n",
        "Descargar el dataset del siguiente link: https://drive.google.com/file/d/1X8_G5BpQMi-Nnbtms2RL8lcWSxzD8ixd/view?usp=sharing. El dataset son compras de productos que diferentes clientes realizaron durante un black sales. El dataset contiene información sobre las transacciones y el objetivo es poder utilizar el dataset para crear diferentes modelos que puedan predecir cuánto un cliente está dispuesto a gastar en un producto en el futuro. Particularmente, vamos a tratar este problema como una clasificación binaria donde queremos averiguar si el cliente va a gastar mucha plata (más de 9000) o poca plata (menos de 9000).\n",
        "\n",
        "- a)\tEntrenar un modelo de deep learning que no utilice embeddings.\n",
        "- b)\tEntrenar un modelo de deep learning que utilice embeddings tanto para los productos como los usuarios. Realizar el mapeo de identificador de producto y usuarios a indices antes de separar el dataset en training, validation y testing.\n",
        "- c)\tCompare el score de cada modelo y comente lo necesario.\n"
      ]
    },
    {
      "cell_type": "code",
      "execution_count": 61,
      "metadata": {
        "id": "TUEjdowba98t"
      },
      "outputs": [],
      "source": [
        "import pandas as pd\n",
        "import numpy as np\n",
        "import matplotlib.pyplot as plt"
      ]
    },
    {
      "attachments": {},
      "cell_type": "markdown",
      "metadata": {},
      "source": [
        "# (a)"
      ]
    },
    {
      "attachments": {},
      "cell_type": "markdown",
      "metadata": {
        "id": "fVMKJ1DihXiv"
      },
      "source": [
        "## Cargamos el dataset"
      ]
    },
    {
      "cell_type": "code",
      "execution_count": 62,
      "metadata": {
        "id": "dF9wgHw5jTW8"
      },
      "outputs": [],
      "source": [
        "df = pd.read_csv(\"dataset_black_sales.csv\")"
      ]
    },
    {
      "attachments": {},
      "cell_type": "markdown",
      "metadata": {},
      "source": [
        "## Analisis exploratorio"
      ]
    },
    {
      "cell_type": "code",
      "execution_count": 63,
      "metadata": {
        "colab": {
          "base_uri": "https://localhost:8080/"
        },
        "id": "gJRi8PDykHgL",
        "outputId": "7f59d10e-563f-47af-ab79-031db0919cb6"
      },
      "outputs": [
        {
          "name": "stdout",
          "output_type": "stream",
          "text": [
            "<class 'pandas.core.frame.DataFrame'>\n",
            "RangeIndex: 550068 entries, 0 to 550067\n",
            "Data columns (total 12 columns):\n",
            " #   Column                      Non-Null Count   Dtype  \n",
            "---  ------                      --------------   -----  \n",
            " 0   User_ID                     550068 non-null  int64  \n",
            " 1   Product_ID                  550068 non-null  object \n",
            " 2   Gender                      550068 non-null  object \n",
            " 3   Age                         550068 non-null  object \n",
            " 4   Occupation                  550068 non-null  int64  \n",
            " 5   City_Category               550068 non-null  object \n",
            " 6   Stay_In_Current_City_Years  550068 non-null  object \n",
            " 7   Marital_Status              550068 non-null  int64  \n",
            " 8   Product_Category_1          550068 non-null  int64  \n",
            " 9   Product_Category_2          376430 non-null  float64\n",
            " 10  Product_Category_3          166821 non-null  float64\n",
            " 11  Purchase                    550068 non-null  int64  \n",
            "dtypes: float64(2), int64(5), object(5)\n",
            "memory usage: 50.4+ MB\n"
          ]
        }
      ],
      "source": [
        "df.info()"
      ]
    },
    {
      "cell_type": "code",
      "execution_count": 64,
      "metadata": {},
      "outputs": [
        {
          "data": {
            "text/html": [
              "<div>\n",
              "<style scoped>\n",
              "    .dataframe tbody tr th:only-of-type {\n",
              "        vertical-align: middle;\n",
              "    }\n",
              "\n",
              "    .dataframe tbody tr th {\n",
              "        vertical-align: top;\n",
              "    }\n",
              "\n",
              "    .dataframe thead th {\n",
              "        text-align: right;\n",
              "    }\n",
              "</style>\n",
              "<table border=\"1\" class=\"dataframe\">\n",
              "  <thead>\n",
              "    <tr style=\"text-align: right;\">\n",
              "      <th></th>\n",
              "      <th>User_ID</th>\n",
              "      <th>Product_ID</th>\n",
              "      <th>Gender</th>\n",
              "      <th>Age</th>\n",
              "      <th>Occupation</th>\n",
              "      <th>City_Category</th>\n",
              "      <th>Stay_In_Current_City_Years</th>\n",
              "      <th>Marital_Status</th>\n",
              "      <th>Product_Category_1</th>\n",
              "      <th>Product_Category_2</th>\n",
              "      <th>Product_Category_3</th>\n",
              "      <th>Purchase</th>\n",
              "    </tr>\n",
              "  </thead>\n",
              "  <tbody>\n",
              "    <tr>\n",
              "      <th>0</th>\n",
              "      <td>1000001</td>\n",
              "      <td>P00069042</td>\n",
              "      <td>F</td>\n",
              "      <td>0-17</td>\n",
              "      <td>10</td>\n",
              "      <td>A</td>\n",
              "      <td>2</td>\n",
              "      <td>0</td>\n",
              "      <td>3</td>\n",
              "      <td>NaN</td>\n",
              "      <td>NaN</td>\n",
              "      <td>8370</td>\n",
              "    </tr>\n",
              "    <tr>\n",
              "      <th>1</th>\n",
              "      <td>1000001</td>\n",
              "      <td>P00248942</td>\n",
              "      <td>F</td>\n",
              "      <td>0-17</td>\n",
              "      <td>10</td>\n",
              "      <td>A</td>\n",
              "      <td>2</td>\n",
              "      <td>0</td>\n",
              "      <td>1</td>\n",
              "      <td>6.0</td>\n",
              "      <td>14.0</td>\n",
              "      <td>15200</td>\n",
              "    </tr>\n",
              "    <tr>\n",
              "      <th>2</th>\n",
              "      <td>1000001</td>\n",
              "      <td>P00087842</td>\n",
              "      <td>F</td>\n",
              "      <td>0-17</td>\n",
              "      <td>10</td>\n",
              "      <td>A</td>\n",
              "      <td>2</td>\n",
              "      <td>0</td>\n",
              "      <td>12</td>\n",
              "      <td>NaN</td>\n",
              "      <td>NaN</td>\n",
              "      <td>1422</td>\n",
              "    </tr>\n",
              "    <tr>\n",
              "      <th>3</th>\n",
              "      <td>1000001</td>\n",
              "      <td>P00085442</td>\n",
              "      <td>F</td>\n",
              "      <td>0-17</td>\n",
              "      <td>10</td>\n",
              "      <td>A</td>\n",
              "      <td>2</td>\n",
              "      <td>0</td>\n",
              "      <td>12</td>\n",
              "      <td>14.0</td>\n",
              "      <td>NaN</td>\n",
              "      <td>1057</td>\n",
              "    </tr>\n",
              "    <tr>\n",
              "      <th>4</th>\n",
              "      <td>1000002</td>\n",
              "      <td>P00285442</td>\n",
              "      <td>M</td>\n",
              "      <td>55+</td>\n",
              "      <td>16</td>\n",
              "      <td>C</td>\n",
              "      <td>4+</td>\n",
              "      <td>0</td>\n",
              "      <td>8</td>\n",
              "      <td>NaN</td>\n",
              "      <td>NaN</td>\n",
              "      <td>7969</td>\n",
              "    </tr>\n",
              "  </tbody>\n",
              "</table>\n",
              "</div>"
            ],
            "text/plain": [
              "   User_ID Product_ID Gender   Age  Occupation City_Category  \\\n",
              "0  1000001  P00069042      F  0-17          10             A   \n",
              "1  1000001  P00248942      F  0-17          10             A   \n",
              "2  1000001  P00087842      F  0-17          10             A   \n",
              "3  1000001  P00085442      F  0-17          10             A   \n",
              "4  1000002  P00285442      M   55+          16             C   \n",
              "\n",
              "  Stay_In_Current_City_Years  Marital_Status  Product_Category_1  \\\n",
              "0                          2               0                   3   \n",
              "1                          2               0                   1   \n",
              "2                          2               0                  12   \n",
              "3                          2               0                  12   \n",
              "4                         4+               0                   8   \n",
              "\n",
              "   Product_Category_2  Product_Category_3  Purchase  \n",
              "0                 NaN                 NaN      8370  \n",
              "1                 6.0                14.0     15200  \n",
              "2                 NaN                 NaN      1422  \n",
              "3                14.0                 NaN      1057  \n",
              "4                 NaN                 NaN      7969  "
            ]
          },
          "execution_count": 64,
          "metadata": {},
          "output_type": "execute_result"
        }
      ],
      "source": [
        "df.head()"
      ]
    },
    {
      "cell_type": "code",
      "execution_count": 65,
      "metadata": {},
      "outputs": [
        {
          "data": {
            "text/plain": [
              "User_ID                            0\n",
              "Product_ID                         0\n",
              "Gender                             0\n",
              "Age                                0\n",
              "Occupation                         0\n",
              "City_Category                      0\n",
              "Stay_In_Current_City_Years         0\n",
              "Marital_Status                     0\n",
              "Product_Category_1                 0\n",
              "Product_Category_2            173638\n",
              "Product_Category_3            383247\n",
              "Purchase                           0\n",
              "dtype: int64"
            ]
          },
          "execution_count": 65,
          "metadata": {},
          "output_type": "execute_result"
        }
      ],
      "source": [
        "df.isnull().sum()"
      ]
    },
    {
      "attachments": {},
      "cell_type": "markdown",
      "metadata": {},
      "source": [
        "Valores Nulos encontrados para las categorías secundarias y terciarias. Dado que no tenemos más información sobre a qué referencia hacen, las pondremos en 0 ya que actualmente no se utiliza ese valor (ver siguientes secciones)."
      ]
    },
    {
      "cell_type": "code",
      "execution_count": 66,
      "metadata": {},
      "outputs": [],
      "source": [
        "df.fillna(0,inplace=True)  # reemplazamos los N/A por 0"
      ]
    },
    {
      "cell_type": "code",
      "execution_count": 406,
      "metadata": {},
      "outputs": [
        {
          "data": {
            "text/html": [
              "<div>\n",
              "<style scoped>\n",
              "    .dataframe tbody tr th:only-of-type {\n",
              "        vertical-align: middle;\n",
              "    }\n",
              "\n",
              "    .dataframe tbody tr th {\n",
              "        vertical-align: top;\n",
              "    }\n",
              "\n",
              "    .dataframe thead th {\n",
              "        text-align: right;\n",
              "    }\n",
              "</style>\n",
              "<table border=\"1\" class=\"dataframe\">\n",
              "  <thead>\n",
              "    <tr style=\"text-align: right;\">\n",
              "      <th></th>\n",
              "      <th>count</th>\n",
              "      <th>mean</th>\n",
              "      <th>std</th>\n",
              "      <th>min</th>\n",
              "      <th>25%</th>\n",
              "      <th>50%</th>\n",
              "      <th>75%</th>\n",
              "      <th>max</th>\n",
              "    </tr>\n",
              "    <tr>\n",
              "      <th>Product_ID</th>\n",
              "      <th></th>\n",
              "      <th></th>\n",
              "      <th></th>\n",
              "      <th></th>\n",
              "      <th></th>\n",
              "      <th></th>\n",
              "      <th></th>\n",
              "      <th></th>\n",
              "    </tr>\n",
              "  </thead>\n",
              "  <tbody>\n",
              "    <tr>\n",
              "      <th>P00000142</th>\n",
              "      <td>1152.0</td>\n",
              "      <td>11143.642361</td>\n",
              "      <td>2305.175261</td>\n",
              "      <td>2725.0</td>\n",
              "      <td>10591.75</td>\n",
              "      <td>10927.0</td>\n",
              "      <td>13379.25</td>\n",
              "      <td>13716.0</td>\n",
              "    </tr>\n",
              "    <tr>\n",
              "      <th>P00000242</th>\n",
              "      <td>376.0</td>\n",
              "      <td>10551.851064</td>\n",
              "      <td>3170.603417</td>\n",
              "      <td>3214.0</td>\n",
              "      <td>9588.00</td>\n",
              "      <td>10023.0</td>\n",
              "      <td>13029.00</td>\n",
              "      <td>16503.0</td>\n",
              "    </tr>\n",
              "    <tr>\n",
              "      <th>P00000342</th>\n",
              "      <td>244.0</td>\n",
              "      <td>5313.422131</td>\n",
              "      <td>1824.925693</td>\n",
              "      <td>1727.0</td>\n",
              "      <td>3702.75</td>\n",
              "      <td>5287.0</td>\n",
              "      <td>6928.75</td>\n",
              "      <td>8896.0</td>\n",
              "    </tr>\n",
              "    <tr>\n",
              "      <th>P00000442</th>\n",
              "      <td>92.0</td>\n",
              "      <td>4795.358696</td>\n",
              "      <td>1664.088125</td>\n",
              "      <td>1764.0</td>\n",
              "      <td>3599.75</td>\n",
              "      <td>5194.0</td>\n",
              "      <td>5394.75</td>\n",
              "      <td>8891.0</td>\n",
              "    </tr>\n",
              "    <tr>\n",
              "      <th>P00000542</th>\n",
              "      <td>149.0</td>\n",
              "      <td>5417.530201</td>\n",
              "      <td>1724.458154</td>\n",
              "      <td>1730.0</td>\n",
              "      <td>3750.00</td>\n",
              "      <td>5376.0</td>\n",
              "      <td>6955.00</td>\n",
              "      <td>8903.0</td>\n",
              "    </tr>\n",
              "    <tr>\n",
              "      <th>...</th>\n",
              "      <td>...</td>\n",
              "      <td>...</td>\n",
              "      <td>...</td>\n",
              "      <td>...</td>\n",
              "      <td>...</td>\n",
              "      <td>...</td>\n",
              "      <td>...</td>\n",
              "      <td>...</td>\n",
              "    </tr>\n",
              "    <tr>\n",
              "      <th>P0099442</th>\n",
              "      <td>200.0</td>\n",
              "      <td>14351.915000</td>\n",
              "      <td>3689.310564</td>\n",
              "      <td>4093.0</td>\n",
              "      <td>12189.00</td>\n",
              "      <td>16007.5</td>\n",
              "      <td>16406.50</td>\n",
              "      <td>20684.0</td>\n",
              "    </tr>\n",
              "    <tr>\n",
              "      <th>P0099642</th>\n",
              "      <td>13.0</td>\n",
              "      <td>6439.230769</td>\n",
              "      <td>2108.412442</td>\n",
              "      <td>3903.0</td>\n",
              "      <td>4222.00</td>\n",
              "      <td>5972.0</td>\n",
              "      <td>7862.00</td>\n",
              "      <td>10056.0</td>\n",
              "    </tr>\n",
              "    <tr>\n",
              "      <th>P0099742</th>\n",
              "      <td>126.0</td>\n",
              "      <td>7872.603175</td>\n",
              "      <td>2921.579042</td>\n",
              "      <td>2670.0</td>\n",
              "      <td>5626.00</td>\n",
              "      <td>8183.5</td>\n",
              "      <td>10636.75</td>\n",
              "      <td>13661.0</td>\n",
              "    </tr>\n",
              "    <tr>\n",
              "      <th>P0099842</th>\n",
              "      <td>102.0</td>\n",
              "      <td>7228.549020</td>\n",
              "      <td>1627.706572</td>\n",
              "      <td>1735.0</td>\n",
              "      <td>6926.75</td>\n",
              "      <td>7129.0</td>\n",
              "      <td>8664.75</td>\n",
              "      <td>8891.0</td>\n",
              "    </tr>\n",
              "    <tr>\n",
              "      <th>P0099942</th>\n",
              "      <td>14.0</td>\n",
              "      <td>5572.785714</td>\n",
              "      <td>2009.364277</td>\n",
              "      <td>1791.0</td>\n",
              "      <td>5210.00</td>\n",
              "      <td>5384.5</td>\n",
              "      <td>7016.50</td>\n",
              "      <td>8833.0</td>\n",
              "    </tr>\n",
              "  </tbody>\n",
              "</table>\n",
              "<p>3631 rows × 8 columns</p>\n",
              "</div>"
            ],
            "text/plain": [
              "             count          mean          std     min       25%      50%  \\\n",
              "Product_ID                                                                 \n",
              "P00000142   1152.0  11143.642361  2305.175261  2725.0  10591.75  10927.0   \n",
              "P00000242    376.0  10551.851064  3170.603417  3214.0   9588.00  10023.0   \n",
              "P00000342    244.0   5313.422131  1824.925693  1727.0   3702.75   5287.0   \n",
              "P00000442     92.0   4795.358696  1664.088125  1764.0   3599.75   5194.0   \n",
              "P00000542    149.0   5417.530201  1724.458154  1730.0   3750.00   5376.0   \n",
              "...            ...           ...          ...     ...       ...      ...   \n",
              "P0099442     200.0  14351.915000  3689.310564  4093.0  12189.00  16007.5   \n",
              "P0099642      13.0   6439.230769  2108.412442  3903.0   4222.00   5972.0   \n",
              "P0099742     126.0   7872.603175  2921.579042  2670.0   5626.00   8183.5   \n",
              "P0099842     102.0   7228.549020  1627.706572  1735.0   6926.75   7129.0   \n",
              "P0099942      14.0   5572.785714  2009.364277  1791.0   5210.00   5384.5   \n",
              "\n",
              "                 75%      max  \n",
              "Product_ID                     \n",
              "P00000142   13379.25  13716.0  \n",
              "P00000242   13029.00  16503.0  \n",
              "P00000342    6928.75   8896.0  \n",
              "P00000442    5394.75   8891.0  \n",
              "P00000542    6955.00   8903.0  \n",
              "...              ...      ...  \n",
              "P0099442    16406.50  20684.0  \n",
              "P0099642     7862.00  10056.0  \n",
              "P0099742    10636.75  13661.0  \n",
              "P0099842     8664.75   8891.0  \n",
              "P0099942     7016.50   8833.0  \n",
              "\n",
              "[3631 rows x 8 columns]"
            ]
          },
          "execution_count": 406,
          "metadata": {},
          "output_type": "execute_result"
        }
      ],
      "source": [
        "df.groupby('Product_ID').describe()['Purchase']\n",
        "# Para cada producto, la compra final que se hizo varia. Esto"
      ]
    },
    {
      "cell_type": "code",
      "execution_count": 67,
      "metadata": {},
      "outputs": [
        {
          "name": "stdout",
          "output_type": "stream",
          "text": [
            "User_ID unique values: 5891\n",
            "Product_ID unique values: 3631\n",
            "Gender values: ['F' 'M'] - Total: 2\n",
            "Age values: ['0-17' '55+' '26-35' '46-50' '51-55' '36-45' '18-25'] - Total: 7\n",
            "Occupation values: [10 16 15  7 20  9  1 12 17  0  3  4 11  8 19  2 18  5 14 13  6] - Total: 21\n",
            "City_Category values: ['A' 'C' 'B'] - Total: 3\n",
            "Stay_In_Current_City_Years values: ['2' '4+' '3' '1' '0'] - Total: 5\n",
            "Marital_Status values: [0 1] - Total: 2\n",
            "Product_Category_1 values: [ 3  1 12  8  5  4  2  6 14 11 13 15  7 16 18 10 17  9 20 19] - Total: 20\n",
            "Product_Category_2 values: [ 0.  6. 14.  2.  8. 15. 16. 11.  5.  3.  4. 12.  9. 10. 17. 13.  7. 18.] - Total: 18\n",
            "Product_Category_3 values: [ 0. 14. 17.  5.  4. 16. 15.  8.  9. 13.  6. 12.  3. 18. 11. 10.] - Total: 16\n"
          ]
        }
      ],
      "source": [
        "# Veamos la cantidad de valores únicos de algunos otros features\n",
        "for i in ['User_ID', 'Product_ID']:\n",
        "    print(i + ' unique values: ' + str(len(df[i].unique())))\n",
        "# Veamos los valores unicos de algunos de los features\n",
        "for i in ['Gender', 'Age', 'Occupation', 'City_Category', 'Stay_In_Current_City_Years', 'Marital_Status', 'Product_Category_1', 'Product_Category_2', 'Product_Category_3']:\n",
        "    print(i + ' values: ' + str(df[i].unique()) + ' - Total: ' + str(len(df[i].unique())))\n"
      ]
    },
    {
      "cell_type": "code",
      "execution_count": 68,
      "metadata": {},
      "outputs": [
        {
          "data": {
            "text/plain": [
              "Text(721.8320000000001, 0.5, 'Product_Category_3')"
            ]
          },
          "execution_count": 68,
          "metadata": {},
          "output_type": "execute_result"
        },
        {
          "data": {
            "image/png": "[encoded data removed]",
            "text/plain": [
              "<Figure size 1440x504 with 3 Axes>"
            ]
          },
          "metadata": {},
          "output_type": "display_data"
        }
      ],
      "source": [
        "import seaborn as sns\n",
        "\n",
        "corr_spearman = df.corr(method='spearman')\n",
        "\n",
        "fig, axes = plt.subplots(1,2,figsize=(20,7), )\n",
        "plt.tight_layout()\n",
        "\n",
        "axes[0].set_title(\"Pearson\")\n",
        "sns.heatmap(corr_spearman, cmap=sns.diverging_palette(220,10,as_cmap=True),fmt=\".2f\",ax=axes[0])\n",
        "sns.set(font_scale=0.9)\n",
        "\n",
        "axes[1].set_title(\"Distribution\")\n",
        "plt.scatter(np.sort(df['Product_Category_1']), np.sort(df['Product_Category_3']))\n",
        "plt.xlabel('Product_Category_1')\n",
        "plt.ylabel('Product_Category_3')"
      ]
    },
    {
      "attachments": {},
      "cell_type": "markdown",
      "metadata": {},
      "source": [
        "Correlación: el análisis de correlación de Spearman no muestra una gran correlación entre los features. La mayor correlación se da entre las categorías 1 y 3, llegando a ser de 0.5. Sin embargo, un análisis de las distribuciones de una contra la otra muestra que la categoría 3 nos aporta gran cantidad de información que la 1 no tiene (notar alrededor del 8 de categoría 1). Por lo tanto , no podemos reducir dimensionalidad sin perder información significativa que puede ser útil para el problema final."
      ]
    },
    {
      "cell_type": "code",
      "execution_count": 69,
      "metadata": {},
      "outputs": [
        {
          "data": {
            "text/html": [
              "<div>\n",
              "<style scoped>\n",
              "    .dataframe tbody tr th:only-of-type {\n",
              "        vertical-align: middle;\n",
              "    }\n",
              "\n",
              "    .dataframe tbody tr th {\n",
              "        vertical-align: top;\n",
              "    }\n",
              "\n",
              "    .dataframe thead th {\n",
              "        text-align: right;\n",
              "    }\n",
              "</style>\n",
              "<table border=\"1\" class=\"dataframe\">\n",
              "  <thead>\n",
              "    <tr style=\"text-align: right;\">\n",
              "      <th></th>\n",
              "      <th>User_ID</th>\n",
              "      <th>Product_ID</th>\n",
              "      <th>Gender</th>\n",
              "      <th>Age</th>\n",
              "      <th>Occupation</th>\n",
              "      <th>City_Category</th>\n",
              "      <th>Stay_In_Current_City_Years</th>\n",
              "      <th>Marital_Status</th>\n",
              "      <th>Product_Category_1</th>\n",
              "      <th>Product_Category_2</th>\n",
              "      <th>Product_Category_3</th>\n",
              "      <th>Purchase</th>\n",
              "    </tr>\n",
              "    <tr>\n",
              "      <th>y</th>\n",
              "      <th></th>\n",
              "      <th></th>\n",
              "      <th></th>\n",
              "      <th></th>\n",
              "      <th></th>\n",
              "      <th></th>\n",
              "      <th></th>\n",
              "      <th></th>\n",
              "      <th></th>\n",
              "      <th></th>\n",
              "      <th></th>\n",
              "      <th></th>\n",
              "    </tr>\n",
              "  </thead>\n",
              "  <tbody>\n",
              "    <tr>\n",
              "      <th>False</th>\n",
              "      <td>5890</td>\n",
              "      <td>3559</td>\n",
              "      <td>2</td>\n",
              "      <td>7</td>\n",
              "      <td>21</td>\n",
              "      <td>3</td>\n",
              "      <td>5</td>\n",
              "      <td>2</td>\n",
              "      <td>20</td>\n",
              "      <td>18</td>\n",
              "      <td>16</td>\n",
              "      <td>7304</td>\n",
              "    </tr>\n",
              "    <tr>\n",
              "      <th>True</th>\n",
              "      <td>5874</td>\n",
              "      <td>2031</td>\n",
              "      <td>2</td>\n",
              "      <td>7</td>\n",
              "      <td>21</td>\n",
              "      <td>3</td>\n",
              "      <td>5</td>\n",
              "      <td>2</td>\n",
              "      <td>12</td>\n",
              "      <td>17</td>\n",
              "      <td>16</td>\n",
              "      <td>10801</td>\n",
              "    </tr>\n",
              "  </tbody>\n",
              "</table>\n",
              "</div>"
            ],
            "text/plain": [
              "       User_ID  Product_ID  Gender  Age  Occupation  City_Category  \\\n",
              "y                                                                    \n",
              "False     5890        3559       2    7          21              3   \n",
              "True      5874        2031       2    7          21              3   \n",
              "\n",
              "       Stay_In_Current_City_Years  Marital_Status  Product_Category_1  \\\n",
              "y                                                                       \n",
              "False                           5               2                  20   \n",
              "True                            5               2                  12   \n",
              "\n",
              "       Product_Category_2  Product_Category_3  Purchase  \n",
              "y                                                        \n",
              "False                  18                  16      7304  \n",
              "True                   17                  16     10801  "
            ]
          },
          "execution_count": 69,
          "metadata": {},
          "output_type": "execute_result"
        }
      ],
      "source": [
        "# Veamos la relación de otras variables con la salida\n",
        "# plt.figure(figsize=(12,12))\n",
        "# df.plot(x='Age', y='Purchase', figsize=(12,12))\n",
        "df['y'] = df['Purchase'] >= 9000    \n",
        "# df.hist(column='Purchase', by='Age', figsize=(12,12))\n",
        "df.groupby('y').nunique()"
      ]
    },
    {
      "attachments": {},
      "cell_type": "markdown",
      "metadata": {},
      "source": [
        "### Analizamos las variables categóricas respecto a la variable de salida"
      ]
    },
    {
      "attachments": {},
      "cell_type": "markdown",
      "metadata": {},
      "source": [
        "#### Stay_In_Current_City_Years"
      ]
    },
    {
      "cell_type": "code",
      "execution_count": 130,
      "metadata": {},
      "outputs": [
        {
          "data": {
            "text/plain": [
              "array([<AxesSubplot:title={'center':'False'}>,\n",
              "       <AxesSubplot:title={'center':'True'}>], dtype=object)"
            ]
          },
          "execution_count": 130,
          "metadata": {},
          "output_type": "execute_result"
        },
        {
          "data": {
            "image/png": "[encoded data removed]",
            "text/plain": [
              "<Figure size 864x432 with 2 Axes>"
            ]
          },
          "metadata": {},
          "output_type": "display_data"
        }
      ],
      "source": [
        "df_temp = df.copy()\n",
        "df_temp['Stay_In_Current_City_Years'].replace(['2', '4+', '3', '1', '0'], [2, 4, 3, 1, 0], inplace=True)\n",
        "df_temp.hist(column='Stay_In_Current_City_Years', by='y', figsize=(12,6), density=1, sharex=True) # density=1 para normalizar entre ambos histogramas (ya sabemos que va a haber menos gente que compra > 9000)\n",
        "\n",
        "# Del gráfico se puede ver que la distribución es prácticamente la misma para y=0 e y=1, por lo que esta variable no nos aporta tanta información"
      ]
    },
    {
      "cell_type": "code",
      "execution_count": 169,
      "metadata": {},
      "outputs": [
        {
          "name": "stderr",
          "output_type": "stream",
          "text": [
            "No artists with labels found to put in legend.  Note that artists whose label start with an underscore are ignored when legend() is called with no argument.\n"
          ]
        },
        {
          "data": {
            "image/png": "[encoded data removed]",
            "text/plain": [
              "<Figure size 432x288 with 1 Axes>"
            ]
          },
          "metadata": {},
          "output_type": "display_data"
        }
      ],
      "source": [
        "sns.set(style=\"darkgrid\")\n",
        "sns.histplot(data=df[df['y']==True], x=\"Stay_In_Current_City_Years\", color=\"red\", label=\"Sepal Width\",  stat = \"probability\")\n",
        "sns.histplot(data=df[df['y']==False], x=\"Stay_In_Current_City_Years\", color=\"skyblue\", label=\"Sepal Length\",  stat = \"probability\")\n",
        "plt.legend() \n",
        "plt.show()"
      ]
    },
    {
      "attachments": {},
      "cell_type": "markdown",
      "metadata": {},
      "source": [
        "#### City_Category"
      ]
    },
    {
      "cell_type": "code",
      "execution_count": 181,
      "metadata": {},
      "outputs": [
        {
          "data": {
            "image/png": "[encoded data removed]",
            "text/plain": [
              "<Figure size 432x288 with 1 Axes>"
            ]
          },
          "metadata": {},
          "output_type": "display_data"
        }
      ],
      "source": [
        "sns.set(style=\"darkgrid\")\n",
        "sns.histplot(data=df[df['y']==True], x=\"City_Category\", color=\"red\", label=\"y = 1\",  stat = \"probability\")\n",
        "sns.histplot(data=df[df['y']==False], x=\"City_Category\", color=\"skyblue\", label=\"y = 0\",  stat = \"probability\")\n",
        "plt.legend() \n",
        "plt.show()\n",
        "# La categoría de la ciudad sí influye en la salida"
      ]
    },
    {
      "attachments": {},
      "cell_type": "markdown",
      "metadata": {},
      "source": [
        "#### Marital_Status"
      ]
    },
    {
      "cell_type": "code",
      "execution_count": 182,
      "metadata": {},
      "outputs": [
        {
          "data": {
            "image/png": "[encoded data removed]",
            "text/plain": [
              "<Figure size 432x288 with 1 Axes>"
            ]
          },
          "metadata": {},
          "output_type": "display_data"
        }
      ],
      "source": [
        "# df.hist(column='', by='y', density=1)\n",
        "sns.set(style=\"darkgrid\")\n",
        "sns.histplot(data=df[df['y']==True], x=\"Marital_Status\", color=\"red\", label=\"y = 1\",  stat = \"probability\")\n",
        "sns.histplot(data=df[df['y']==False], x=\"Marital_Status\", color=\"skyblue\", label=\"y = 0\",  stat = \"probability\")\n",
        "plt.legend() \n",
        "plt.show()\n",
        "\n",
        "# El estado civil no afecta en la salida"
      ]
    },
    {
      "attachments": {},
      "cell_type": "markdown",
      "metadata": {},
      "source": [
        "#### Occupation"
      ]
    },
    {
      "cell_type": "code",
      "execution_count": 210,
      "metadata": {},
      "outputs": [
        {
          "data": {
            "image/png": "[encoded data removed]",
            "text/plain": [
              "<Figure size 864x720 with 1 Axes>"
            ]
          },
          "metadata": {},
          "output_type": "display_data"
        }
      ],
      "source": [
        "sns.set(style=\"darkgrid\")\n",
        "plt.figure(figsize=(12,10))\n",
        "sns.histplot(data=df[df['y']==True], x=\"Occupation\", color=\"red\", label=\"y = 1\",  stat = \"probability\", discrete=True)\n",
        "sns.histplot(data=df[df['y']==False], x=\"Occupation\", color=\"skyblue\", label=\"y = 0\",  stat = \"probability\", discrete=True)\n",
        "plt.legend() \n",
        "plt.show()\n",
        "# Para la ocupación, se empieza a ver impacto en la salida. Se nota que, para las ocupaciones menos frecuentes (menos muestras), no existe tanta \n",
        "# diferencia a la hora de predecir la variable de salida. Esto nos permite agrupar las N categorias con menor frecuencia en una sola, \n",
        "# ahorrando dimensiones finales.\n",
        "\n",
        "# Occupation values: [10 16 15  7 20  9  1 12 17  0  3  4 11  8 19  2 18  5 14 13  6] - Total: 21\n",
        "# df_temp['Occupation'] = df_temp['Occupation'].apply(lambda x: 0 if x<7 else (1 if x < 14 else 2))"
      ]
    },
    {
      "attachments": {},
      "cell_type": "markdown",
      "metadata": {},
      "source": [
        "#### Age"
      ]
    },
    {
      "cell_type": "code",
      "execution_count": 218,
      "metadata": {},
      "outputs": [
        {
          "data": {
            "text/plain": [
              "<seaborn.axisgrid.FacetGrid at 0x31ecc96c0>"
            ]
          },
          "execution_count": 218,
          "metadata": {},
          "output_type": "execute_result"
        },
        {
          "data": {
            "image/png": "[encoded data removed]",
            "text/plain": [
              "<Figure size 864x504 with 1 Axes>"
            ]
          },
          "metadata": {},
          "output_type": "display_data"
        },
        {
          "data": {
            "text/plain": [
              "<Figure size 360x360 with 0 Axes>"
            ]
          },
          "metadata": {},
          "output_type": "display_data"
        },
        {
          "data": {
            "image/png": "[encoded data removed]",
            "text/plain": [
              "<Figure size 426.35x360 with 1 Axes>"
            ]
          },
          "metadata": {},
          "output_type": "display_data"
        }
      ],
      "source": [
        "# Age values: ['0-17' '55+' '26-35' '46-50' '51-55' '36-45' '18-25'] - Total: 7\n",
        "df_temp = df.copy()\n",
        "# df_temp['Age'].replace(['0-17', '55+', '26-35', '46-50', '51-55', '36-45', '18-25'], [0, 55, 26, 46, 51, 36, 18], inplace=True)\n",
        "df_temp['Age'].replace(['0-17', '55+', '26-35', '46-50', '51-55', '36-45', '18-25'], [0, 6, 2, 4, 5, 3, 1], inplace=True)\n",
        "plt.figure(figsize=(12,7))\n",
        "sns.set(style=\"darkgrid\")\n",
        "sns.histplot(data=df_temp[df_temp['y']==True], x=\"Age\", color=\"red\", label=\"y = 1\",  stat = \"probability\", discrete=True)\n",
        "sns.histplot(data=df_temp[df_temp['y']==False], x=\"Age\", color=\"skyblue\", label=\"y = 0\",  stat = \"probability\", discrete=True)\n",
        "plt.legend() \n",
        "plt.figure(figsize=(5,5))\n",
        "df_temp = df.copy()\n",
        "sns.displot(df, x=\"Age\", hue=\"y\", multiple=\"dodge\")\n",
        "# Se ve una leve tendencia de las mayores edades a hacer compras grandes"
      ]
    },
    {
      "attachments": {},
      "cell_type": "markdown",
      "metadata": {},
      "source": [
        "#### Gender"
      ]
    },
    {
      "cell_type": "code",
      "execution_count": 223,
      "metadata": {},
      "outputs": [
        {
          "data": {
            "image/png": "[encoded data removed]",
            "text/plain": [
              "<Figure size 432x288 with 1 Axes>"
            ]
          },
          "metadata": {},
          "output_type": "display_data"
        },
        {
          "data": {
            "text/plain": [
              "<seaborn.axisgrid.FacetGrid at 0x3350e8c10>"
            ]
          },
          "execution_count": 223,
          "metadata": {},
          "output_type": "execute_result"
        },
        {
          "data": {
            "image/png": "[encoded data removed]",
            "text/plain": [
              "<Figure size 426.35x360 with 1 Axes>"
            ]
          },
          "metadata": {},
          "output_type": "display_data"
        }
      ],
      "source": [
        "sns.set(style=\"darkgrid\")\n",
        "sns.histplot(data=df[df['y']==True], x=\"Gender\", color=\"red\", label=\"y = 1\",  stat = \"probability\")\n",
        "sns.histplot(data=df[df['y']==False], x=\"Gender\", color=\"skyblue\", label=\"y = 0\",  stat = \"probability\")\n",
        "plt.legend() \n",
        "plt.show()\n",
        "sns.displot(df, x=\"Gender\", hue=\"y\", multiple=\"dodge\")\n",
        "# El gender nos da cierta información. Los hombres son más probables a hacer la compra más cara."
      ]
    },
    {
      "attachments": {},
      "cell_type": "markdown",
      "metadata": {
        "id": "Ay7lvsepha91"
      },
      "source": [
        "## Reducción de dimensionalidad y Codificación\n",
        "Según las conclusiones obtenidas en la exploración del dataset, y dado que en este punto de la consigna no se deben utilizar embeddings, procedemos a quitar las variables categóricas que tienen menor correlación con la variable de salida, ya que incluirlas durante el entrenamiento incurriría en un aumento significativo del dataset al hacer One-Hot Encoding o similar.\n",
        "\n",
        "Dado que no vamos a usar embeddings, el User_ID y el Product_ID son variables categóricas que se hace dificl codificar sin aumentar en gran cantidad las dimensiones."
      ]
    },
    {
      "cell_type": "code",
      "execution_count": 241,
      "metadata": {
        "colab": {
          "base_uri": "https://localhost:8080/"
        },
        "id": "7i82jZ6RkROb",
        "outputId": "d972aa84-2894-47c2-b20a-bc78d11d20b8"
      },
      "outputs": [
        {
          "data": {
            "text/html": [
              "<div>\n",
              "<style scoped>\n",
              "    .dataframe tbody tr th:only-of-type {\n",
              "        vertical-align: middle;\n",
              "    }\n",
              "\n",
              "    .dataframe tbody tr th {\n",
              "        vertical-align: top;\n",
              "    }\n",
              "\n",
              "    .dataframe thead th {\n",
              "        text-align: right;\n",
              "    }\n",
              "</style>\n",
              "<table border=\"1\" class=\"dataframe\">\n",
              "  <thead>\n",
              "    <tr style=\"text-align: right;\">\n",
              "      <th></th>\n",
              "      <th>Gender</th>\n",
              "      <th>Age</th>\n",
              "      <th>Occupation</th>\n",
              "      <th>City_Category</th>\n",
              "      <th>Product_Category_1</th>\n",
              "      <th>y</th>\n",
              "    </tr>\n",
              "  </thead>\n",
              "  <tbody>\n",
              "    <tr>\n",
              "      <th>0</th>\n",
              "      <td>F</td>\n",
              "      <td>0-17</td>\n",
              "      <td>10</td>\n",
              "      <td>A</td>\n",
              "      <td>3</td>\n",
              "      <td>False</td>\n",
              "    </tr>\n",
              "    <tr>\n",
              "      <th>1</th>\n",
              "      <td>F</td>\n",
              "      <td>0-17</td>\n",
              "      <td>10</td>\n",
              "      <td>A</td>\n",
              "      <td>1</td>\n",
              "      <td>True</td>\n",
              "    </tr>\n",
              "    <tr>\n",
              "      <th>2</th>\n",
              "      <td>F</td>\n",
              "      <td>0-17</td>\n",
              "      <td>10</td>\n",
              "      <td>A</td>\n",
              "      <td>12</td>\n",
              "      <td>False</td>\n",
              "    </tr>\n",
              "    <tr>\n",
              "      <th>3</th>\n",
              "      <td>F</td>\n",
              "      <td>0-17</td>\n",
              "      <td>10</td>\n",
              "      <td>A</td>\n",
              "      <td>12</td>\n",
              "      <td>False</td>\n",
              "    </tr>\n",
              "    <tr>\n",
              "      <th>4</th>\n",
              "      <td>M</td>\n",
              "      <td>55+</td>\n",
              "      <td>16</td>\n",
              "      <td>C</td>\n",
              "      <td>8</td>\n",
              "      <td>False</td>\n",
              "    </tr>\n",
              "  </tbody>\n",
              "</table>\n",
              "</div>"
            ],
            "text/plain": [
              "  Gender   Age  Occupation City_Category  Product_Category_1      y\n",
              "0      F  0-17          10             A                   3  False\n",
              "1      F  0-17          10             A                   1   True\n",
              "2      F  0-17          10             A                  12  False\n",
              "3      F  0-17          10             A                  12  False\n",
              "4      M   55+          16             C                   8  False"
            ]
          },
          "execution_count": 241,
          "metadata": {},
          "output_type": "execute_result"
        }
      ],
      "source": [
        "dfa = df.copy()\n",
        "dfa = dfa.drop(['User_ID', 'Product_ID', 'Product_Category_2', 'Product_Category_3', 'Marital_Status', 'Stay_In_Current_City_Years', 'Purchase'], axis=1)\n",
        "dfa.head()"
      ]
    },
    {
      "cell_type": "code",
      "execution_count": 242,
      "metadata": {
        "colab": {
          "base_uri": "https://localhost:8080/"
        },
        "id": "-jwlYIPkknhL",
        "outputId": "76a06483-4201-47da-c8e5-5914345b1749"
      },
      "outputs": [],
      "source": [
        "# Gender lo codificamos binario\n",
        "dfa['Gender'] = dfa['Gender'].apply(lambda x: 1 if x == 'M' else 0)\n",
        "\n",
        "# Age con One-hot encoding\n",
        "age_dummies = pd.get_dummies(dfa['Age'], prefix=\"age\")\n",
        "dfa = pd.concat([dfa,age_dummies], axis = 1)\n",
        "dfa = dfa.drop(['Age'], axis=1)\n",
        "\n",
        "# Occupation ya fue codificado, asumimos una asignación random e.g. Integer encoding (ya que no tenemos datos de cómo se asignaron números a las categorías).\n",
        "# En primera instancia, probaremos como está. Luego, si es necesario, intentaremos hacer Mean encoding\n",
        "\n",
        "# City_Category con One-hot encoding\n",
        "dfa = pd.concat([dfa, pd.get_dummies(dfa['City_Category'], prefix=\"city\")], axis = 1)\n",
        "dfa = dfa.drop(['City_Category'], axis=1)\n",
        "\n",
        "# Product_Category_1 idem Occupation\n",
        "\n",
        "# Transformamos la salida a binario\n",
        "dfa['y'] = dfa['y'].apply(lambda x: 1 if x==True else 0)\n",
        "dfa.sample(5)"
      ]
    },
    {
      "cell_type": "code",
      "execution_count": 246,
      "metadata": {
        "colab": {
          "base_uri": "https://localhost:8080/"
        },
        "id": "gveBjHckptPv",
        "outputId": "f8fd6500-bb11-4e97-97c6-306bf00b7d5b"
      },
      "outputs": [
        {
          "data": {
            "text/plain": [
              "Gender                0\n",
              "Occupation            0\n",
              "Product_Category_1    0\n",
              "y                     0\n",
              "age_0-17              0\n",
              "age_18-25             0\n",
              "age_26-35             0\n",
              "age_36-45             0\n",
              "age_46-50             0\n",
              "age_51-55             0\n",
              "age_55+               0\n",
              "city_A                0\n",
              "city_B                0\n",
              "city_C                0\n",
              "dtype: int64"
            ]
          },
          "execution_count": 246,
          "metadata": {},
          "output_type": "execute_result"
        }
      ],
      "source": [
        "# Comprobamos la existencia de nan\n",
        "dfa.isna().sum(axis=0)"
      ]
    },
    {
      "cell_type": "markdown",
      "metadata": {
        "id": "TmBJD3siinlF"
      },
      "source": [
        "## Armado del dataset"
      ]
    },
    {
      "cell_type": "code",
      "execution_count": 258,
      "metadata": {
        "id": "zE5f2XsqrTr_"
      },
      "outputs": [],
      "source": [
        "x = dfa.drop(['y'], axis=1) \n",
        "y = dfa['y']\n",
        "\n",
        "# Normalizamos para que el algoritmo de gradient descent converga más rápido.\n",
        "x = x.to_numpy()\n",
        "y = y.to_numpy()\n",
        "x_norm = (x - np.min(x, axis=0)) / (np.max(x, axis=0 ) - np.min(x, axis=0))\n"
      ]
    },
    {
      "cell_type": "markdown",
      "metadata": {
        "id": "1VVapvoTjvCm"
      },
      "source": [
        "## División del dataset\n",
        "Divido en entrenamiento y validación"
      ]
    },
    {
      "cell_type": "code",
      "execution_count": 408,
      "metadata": {
        "colab": {
          "base_uri": "https://localhost:8080/"
        },
        "id": "C9dDhJqfyjkE",
        "outputId": "0e78d1ff-776a-4645-cd6d-c5ba3081e269"
      },
      "outputs": [
        {
          "name": "stdout",
          "output_type": "stream",
          "text": [
            "Train:  (467557, 13) Target = 1:  39.84904514315902 %\n",
            "Test:  (82511,) Target = 1:  39.84923222358231 %\n",
            "El dataset está levemente desbalanceado (~40%). Dada la gran cantidad de datos que tenemos no debería ser un problema.\n"
          ]
        }
      ],
      "source": [
        "from sklearn.model_selection import train_test_split\n",
        "x_train, x_test, y_train, y_test = train_test_split(x_norm, y, test_size=0.15, stratify = y, random_state=0)\n",
        "print('Train: ', x_train.shape, 'Target = 1: ', 100*y_train.sum()/len(y_train), '%')\n",
        "print('Test: ', y_test.shape, 'Target = 1: ', 100*y_test.sum()/len(y_test), '%')\n",
        "print(\"El dataset está levemente desbalanceado (~40%). Dada la gran cantidad de datos que tenemos no debería ser un problema.\")\n",
        "n_train = x_train.shape[0]\n",
        "n_valid = x_test.shape[0]"
      ]
    },
    {
      "cell_type": "markdown",
      "metadata": {
        "id": "bTEFahXrwte2"
      },
      "source": [
        "## Pytorch"
      ]
    },
    {
      "cell_type": "code",
      "execution_count": 262,
      "metadata": {
        "id": "sCQz7nDkuK7S"
      },
      "outputs": [],
      "source": [
        "import torch\n",
        "from torch.utils.data import Dataset, DataLoader\n",
        "from sklearn import metrics"
      ]
    },
    {
      "cell_type": "code",
      "execution_count": 317,
      "metadata": {
        "id": "gUpc_S5Fw_Nk"
      },
      "outputs": [],
      "source": [
        "# Pytorch necesita de una clase de dataset que extienda de torch.utils.data.Dataset\n",
        "# Esta clase dataset debe sobreescribir los métodos init, len y getitem\n",
        "class MyDataset(Dataset):\n",
        "\n",
        "  #__init__ guarda el dataset en una variable de clase\n",
        "  def __init__(self, x, y):\n",
        "    self.x = x\n",
        "    self.y = y\n",
        "\n",
        "  # __len__ define el comportamiento de la función len() sobre el objeto\n",
        "  def __len__(self):\n",
        "    return self.x.shape[0]\n",
        "\n",
        "  # __getitem__ define el comportamiento de los []\n",
        "  def __getitem__(self, idx):\n",
        "    # return np.float32(self.x[idx]), np.float32(self.y[idx])\n",
        "    return self.x[idx], self.y[idx]"
      ]
    },
    {
      "cell_type": "code",
      "execution_count": 318,
      "metadata": {
        "id": "eGbN4tbtzU6o"
      },
      "outputs": [],
      "source": [
        "# Creo el dataset de entrenamiento\n",
        "train_ds = MyDataset(x_train, y_train)\n",
        "# Creo el dataset de validación\n",
        "valid_ds = MyDataset(x_test, y_test)"
      ]
    },
    {
      "cell_type": "code",
      "execution_count": 319,
      "metadata": {
        "id": "6sFTrMOJ073s"
      },
      "outputs": [],
      "source": [
        "# Pytorch utiliza DataLoader para entregar los dataset de a batches\n",
        "train_dataloader = DataLoader(train_ds, batch_size = 64, shuffle= True)\n",
        "valid_dataloader = DataLoader(valid_ds, batch_size=64)"
      ]
    },
    {
      "cell_type": "markdown",
      "metadata": {
        "id": "-KNcY4ApllNa"
      },
      "source": [
        "### Arquitectura NNet Pytorch\n",
        "La red neuronal en Pytorch se define extendiendo torch.nn.Module"
      ]
    },
    {
      "cell_type": "code",
      "execution_count": 387,
      "metadata": {
        "id": "1B95zN1m5r6c"
      },
      "outputs": [],
      "source": [
        "class NNet(torch.nn.Module):\n",
        "\n",
        "  def __init__(self):\n",
        "    # Defino la arquitectura de la red\n",
        "    super().__init__()\n",
        "    self.linear_1 = torch.nn.Linear(in_features=13, out_features=16, bias=True)\n",
        "    self.relu_1 = torch.nn.Sigmoid()\n",
        "    self.linear_2 = torch.nn.Linear(in_features = 16, out_features=32, bias=True)\n",
        "    self.relu_2 = torch.nn.ReLU()\n",
        "    self.output = torch.nn.Linear(in_features = 32, out_features= 1, bias=True)\n",
        "\n",
        "  def forward(self, x):\n",
        "    # Defino el cálculo del paso forward\n",
        "    x = self.linear_1(x)\n",
        "    x = self.relu_1(x)\n",
        "    x = self.linear_2(x)\n",
        "    x = self.relu_2(x)\n",
        "    x = self.output(x)\n",
        "    return x"
      ]
    },
    {
      "cell_type": "code",
      "execution_count": 388,
      "metadata": {
        "id": "QLOh2lz4_NXl"
      },
      "outputs": [],
      "source": [
        "# Instanciamos la red\n",
        "nnet = NNet()"
      ]
    },
    {
      "cell_type": "code",
      "execution_count": 389,
      "metadata": {
        "colab": {
          "base_uri": "https://localhost:8080/"
        },
        "id": "S5d2IfRlBpOG",
        "outputId": "931f2831-9194-4dc3-ddb2-b37aff0564a4"
      },
      "outputs": [
        {
          "name": "stdout",
          "output_type": "stream",
          "text": [
            "NNet(\n",
            "  (linear_1): Linear(in_features=13, out_features=16, bias=True)\n",
            "  (relu_1): Sigmoid()\n",
            "  (linear_2): Linear(in_features=16, out_features=32, bias=True)\n",
            "  (relu_2): ReLU()\n",
            "  (output): Linear(in_features=32, out_features=1, bias=True)\n",
            ")\n"
          ]
        }
      ],
      "source": [
        "print(nnet)"
      ]
    },
    {
      "cell_type": "code",
      "execution_count": 390,
      "metadata": {
        "colab": {
          "base_uri": "https://localhost:8080/"
        },
        "id": "D6idB_t1BveQ",
        "outputId": "e9ec17a9-ae66-4e56-d2f6-8bdf5a7ee8c3"
      },
      "outputs": [
        {
          "name": "stdout",
          "output_type": "stream",
          "text": [
            "801\n"
          ]
        }
      ],
      "source": [
        "# Imprimo la cantidad de parámetros optimizables de la red\n",
        "print(sum(p.numel() for p in nnet.parameters()))"
      ]
    },
    {
      "cell_type": "markdown",
      "metadata": {
        "id": "T8sc7rsBmEBS"
      },
      "source": [
        "### Loss y optimizador\n",
        "- Como loss function utilizo BCE por ser un problema de clasificación binaria.\n",
        "\n",
        "**Nota**: la función sigmoid de salida no se definió en la arquitectura de la red neuronal porque utilizo BCEWithLogitsLoss que combina sigmoid+BCE. Hago esto para tener mejor estabilidad numérica: [link](https://pytorch.org/docs/stable/generated/torch.nn.BCEWithLogitsLoss.html).\n",
        "\n",
        "Podría utilizar BCELoss y agregar la capa sigmoid en la clase NNet\n",
        "\n",
        "- Como optimizador utilizo Adam"
      ]
    },
    {
      "cell_type": "code",
      "execution_count": 396,
      "metadata": {
        "id": "GjJ2wX6wChK4"
      },
      "outputs": [],
      "source": [
        "loss_function = torch.nn.BCEWithLogitsLoss(reduction='sum')\n",
        "optimizer = torch.optim.Adam(nnet.parameters(), lr=0.01)"
      ]
    },
    {
      "cell_type": "code",
      "execution_count": 397,
      "metadata": {
        "colab": {
          "base_uri": "https://localhost:8080/",
          "height": 36
        },
        "id": "ducia7gqEBJz",
        "outputId": "cb6fa34e-cbee-478d-a912-75139d863b5a"
      },
      "outputs": [
        {
          "name": "stdout",
          "output_type": "stream",
          "text": [
            "Python Platform: macOS-12.6-arm64-arm-64bit\n",
            "PyTorch Version: 1.13.0\n",
            "\n",
            "Python 3.10.6 (main, Oct 24 2022, 11:04:07) [Clang 12.0.0 ]\n",
            "Pandas 1.4.2\n",
            "Scikit-Learn 1.0.2\n",
            "GPU is NOT AVAILABLE\n",
            "MPS (Apple Metal) is NOT AVAILABLE\n",
            "----> Target device is cpu\n"
          ]
        }
      ],
      "source": [
        "# Pytorch puede correr en GPU. Con el siguiente código chequeo si hay una GPU compatible disponible y la utilizo en ese caso.\n",
        "\n",
        "import sys\n",
        "import platform\n",
        "import torch\n",
        "import pandas as pd\n",
        "import sklearn as sk\n",
        "\n",
        "has_gpu = torch.cuda.is_available()\n",
        "has_mps = getattr(torch,'has_mps',False)\n",
        "has_mps = False     # Hay incompatibilidad de Float64 de PyTorch con MPS de procesadores M1. Intente hacer casteo a Float32 pero era mas lento que correr con CPU\n",
        "device = \"mps\" if has_mps else \"gpu\" if has_gpu else \"cpu\"\n",
        "\n",
        "print(f\"Python Platform: {platform.platform()}\")\n",
        "print(f\"PyTorch Version: {torch.__version__}\")\n",
        "print()\n",
        "print(f\"Python {sys.version}\")\n",
        "print(f\"Pandas {pd.__version__}\")\n",
        "print(f\"Scikit-Learn {sk.__version__}\")\n",
        "print(\"GPU is\", \"available\" if has_gpu else \"NOT AVAILABLE\")\n",
        "print(\"MPS (Apple Metal) is\", \"AVAILABLE\" if has_mps else \"NOT AVAILABLE\")\n",
        "print(f\"----> Target device is {device}\")"
      ]
    },
    {
      "cell_type": "code",
      "execution_count": 398,
      "metadata": {
        "id": "5dECiZZVEfC5"
      },
      "outputs": [],
      "source": [
        "# Copio la red neuronal al dispositivo donde entrene la red neuronal\n",
        "nnet = nnet.to(device)"
      ]
    },
    {
      "attachments": {},
      "cell_type": "markdown",
      "metadata": {
        "id": "7Tf8PPFRnlzk"
      },
      "source": [
        "## Entrenamiento y validación red neuronal\n",
        "\n",
        "Entreno con algoritmo Mini-Batch"
      ]
    },
    {
      "cell_type": "code",
      "execution_count": 399,
      "metadata": {
        "colab": {
          "base_uri": "https://localhost:8080/"
        },
        "id": "L9UeuiOmErqk",
        "outputId": "c96ede9c-e6ac-453e-cf48-a1ebc7a46cab"
      },
      "outputs": [
        {
          "name": "stdout",
          "output_type": "stream",
          "text": [
            " Epoch 0 | Train/Valid loss: 0.322 / 0.336 | Train/Valid accuracy: 0.863 / 0.855\n",
            " Epoch 1 | Train/Valid loss: 0.322 / 0.324 | Train/Valid accuracy: 0.863 / 0.865\n",
            " Epoch 2 | Train/Valid loss: 0.321 / 0.318 | Train/Valid accuracy: 0.863 / 0.864\n",
            " Epoch 3 | Train/Valid loss: 0.321 / 0.320 | Train/Valid accuracy: 0.864 / 0.865\n",
            " Epoch 4 | Train/Valid loss: 0.321 / 0.319 | Train/Valid accuracy: 0.864 / 0.865\n",
            " Epoch 5 | Train/Valid loss: 0.321 / 0.320 | Train/Valid accuracy: 0.863 / 0.865\n",
            " Epoch 6 | Train/Valid loss: 0.321 / 0.332 | Train/Valid accuracy: 0.864 / 0.862\n",
            " Epoch 7 | Train/Valid loss: 0.321 / 0.320 | Train/Valid accuracy: 0.864 / 0.865\n",
            " Epoch 8 | Train/Valid loss: 0.321 / 0.321 | Train/Valid accuracy: 0.864 / 0.864\n",
            " Epoch 9 | Train/Valid loss: 0.320 / 0.321 | Train/Valid accuracy: 0.864 / 0.863\n",
            " Epoch 10 | Train/Valid loss: 0.320 / 0.319 | Train/Valid accuracy: 0.864 / 0.865\n",
            " Epoch 11 | Train/Valid loss: 0.320 / 0.318 | Train/Valid accuracy: 0.864 / 0.865\n",
            " Epoch 12 | Train/Valid loss: 0.320 / 0.320 | Train/Valid accuracy: 0.864 / 0.865\n",
            " Epoch 13 | Train/Valid loss: 0.319 / 0.318 | Train/Valid accuracy: 0.864 / 0.865\n",
            " Epoch 14 | Train/Valid loss: 0.319 / 0.317 | Train/Valid accuracy: 0.864 / 0.865\n",
            " Epoch 15 | Train/Valid loss: 0.319 / 0.324 | Train/Valid accuracy: 0.864 / 0.862\n",
            " Epoch 16 | Train/Valid loss: 0.319 / 0.317 | Train/Valid accuracy: 0.864 / 0.865\n",
            " Epoch 17 | Train/Valid loss: 0.319 / 0.319 | Train/Valid accuracy: 0.864 / 0.865\n",
            " Epoch 18 | Train/Valid loss: 0.318 / 0.322 | Train/Valid accuracy: 0.864 / 0.862\n",
            " Epoch 19 | Train/Valid loss: 0.318 / 0.316 | Train/Valid accuracy: 0.865 / 0.865\n",
            " Epoch 20 | Train/Valid loss: 0.318 / 0.326 | Train/Valid accuracy: 0.864 / 0.865\n",
            " Epoch 21 | Train/Valid loss: 0.318 / 0.321 | Train/Valid accuracy: 0.864 / 0.865\n",
            " Epoch 22 | Train/Valid loss: 0.318 / 0.317 | Train/Valid accuracy: 0.865 / 0.865\n",
            " Epoch 23 | Train/Valid loss: 0.318 / 0.316 | Train/Valid accuracy: 0.864 / 0.865\n",
            " Epoch 24 | Train/Valid loss: 0.318 / 0.317 | Train/Valid accuracy: 0.864 / 0.865\n",
            " Epoch 25 | Train/Valid loss: 0.318 / 0.317 | Train/Valid accuracy: 0.864 / 0.865\n",
            " Epoch 26 | Train/Valid loss: 0.318 / 0.318 | Train/Valid accuracy: 0.864 / 0.864\n",
            " Epoch 27 | Train/Valid loss: 0.318 / 0.317 | Train/Valid accuracy: 0.864 / 0.865\n",
            " Epoch 28 | Train/Valid loss: 0.318 / 0.317 | Train/Valid accuracy: 0.865 / 0.865\n",
            " Epoch 29 | Train/Valid loss: 0.318 / 0.318 | Train/Valid accuracy: 0.864 / 0.865\n",
            " Epoch 30 | Train/Valid loss: 0.318 / 0.317 | Train/Valid accuracy: 0.865 / 0.865\n",
            " Epoch 31 | Train/Valid loss: 0.318 / 0.316 | Train/Valid accuracy: 0.864 / 0.865\n",
            " Epoch 32 | Train/Valid loss: 0.318 / 0.317 | Train/Valid accuracy: 0.865 / 0.865\n",
            " Epoch 33 | Train/Valid loss: 0.318 / 0.316 | Train/Valid accuracy: 0.865 / 0.865\n",
            " Epoch 34 | Train/Valid loss: 0.318 / 0.317 | Train/Valid accuracy: 0.865 / 0.865\n",
            " Epoch 35 | Train/Valid loss: 0.318 / 0.316 | Train/Valid accuracy: 0.865 / 0.865\n",
            " Epoch 36 | Train/Valid loss: 0.318 / 0.317 | Train/Valid accuracy: 0.865 / 0.865\n",
            " Epoch 37 | Train/Valid loss: 0.318 / 0.316 | Train/Valid accuracy: 0.865 / 0.865\n",
            " Epoch 38 | Train/Valid loss: 0.317 / 0.316 | Train/Valid accuracy: 0.865 / 0.865\n",
            " Epoch 39 | Train/Valid loss: 0.318 / 0.316 | Train/Valid accuracy: 0.865 / 0.865\n",
            " Epoch 40 | Train/Valid loss: 0.318 / 0.316 | Train/Valid accuracy: 0.865 / 0.865\n",
            " Epoch 41 | Train/Valid loss: 0.318 / 0.318 | Train/Valid accuracy: 0.865 / 0.865\n",
            " Epoch 42 | Train/Valid loss: 0.318 / 0.318 | Train/Valid accuracy: 0.865 / 0.865\n",
            " Epoch 43 | Train/Valid loss: 0.320 / 0.323 | Train/Valid accuracy: 0.863 / 0.865\n",
            " Epoch 44 | Train/Valid loss: 0.321 / 0.319 | Train/Valid accuracy: 0.864 / 0.865\n",
            " Epoch 45 | Train/Valid loss: 0.319 / 0.316 | Train/Valid accuracy: 0.864 / 0.865\n",
            " Epoch 46 | Train/Valid loss: 0.318 / 0.342 | Train/Valid accuracy: 0.865 / 0.864\n",
            " Epoch 47 | Train/Valid loss: 0.318 / 0.316 | Train/Valid accuracy: 0.865 / 0.865\n",
            " Epoch 48 | Train/Valid loss: 0.318 / 0.318 | Train/Valid accuracy: 0.865 / 0.865\n",
            " Epoch 49 | Train/Valid loss: 0.318 / 0.318 | Train/Valid accuracy: 0.864 / 0.865\n",
            " Epoch 50 | Train/Valid loss: 0.318 / 0.320 | Train/Valid accuracy: 0.865 / 0.865\n",
            " Epoch 51 | Train/Valid loss: 0.318 / 0.316 | Train/Valid accuracy: 0.865 / 0.865\n",
            " Epoch 52 | Train/Valid loss: 0.318 / 0.317 | Train/Valid accuracy: 0.864 / 0.865\n",
            " Epoch 53 | Train/Valid loss: 0.318 / 0.317 | Train/Valid accuracy: 0.864 / 0.865\n",
            " Epoch 54 | Train/Valid loss: 0.317 / 0.317 | Train/Valid accuracy: 0.864 / 0.865\n",
            " Epoch 55 | Train/Valid loss: 0.318 / 0.316 | Train/Valid accuracy: 0.865 / 0.865\n",
            " Epoch 56 | Train/Valid loss: 0.318 / 0.319 | Train/Valid accuracy: 0.865 / 0.865\n",
            " Epoch 57 | Train/Valid loss: 0.318 / 0.317 | Train/Valid accuracy: 0.865 / 0.865\n",
            " Epoch 58 | Train/Valid loss: 0.318 / 0.318 | Train/Valid accuracy: 0.865 / 0.865\n",
            " Epoch 59 | Train/Valid loss: 0.318 / 0.317 | Train/Valid accuracy: 0.865 / 0.865\n",
            " Epoch 60 | Train/Valid loss: 0.318 / 0.320 | Train/Valid accuracy: 0.864 / 0.865\n",
            " Epoch 61 | Train/Valid loss: 0.318 / 0.317 | Train/Valid accuracy: 0.865 / 0.865\n",
            " Epoch 62 | Train/Valid loss: 0.318 / 0.318 | Train/Valid accuracy: 0.864 / 0.865\n",
            " Epoch 63 | Train/Valid loss: 0.318 / 0.316 | Train/Valid accuracy: 0.864 / 0.865\n",
            " Epoch 64 | Train/Valid loss: 0.318 / 0.316 | Train/Valid accuracy: 0.864 / 0.865\n",
            " Epoch 65 | Train/Valid loss: 0.318 / 0.317 | Train/Valid accuracy: 0.864 / 0.865\n",
            " Epoch 66 | Train/Valid loss: 0.318 / 0.317 | Train/Valid accuracy: 0.865 / 0.865\n",
            " Epoch 67 | Train/Valid loss: 0.318 / 0.316 | Train/Valid accuracy: 0.865 / 0.865\n",
            " Epoch 68 | Train/Valid loss: 0.317 / 0.317 | Train/Valid accuracy: 0.865 / 0.865\n",
            " Epoch 69 | Train/Valid loss: 0.318 / 0.317 | Train/Valid accuracy: 0.864 / 0.865\n",
            " Epoch 70 | Train/Valid loss: 0.317 / 0.318 | Train/Valid accuracy: 0.865 / 0.864\n",
            " Epoch 71 | Train/Valid loss: 0.317 / 0.317 | Train/Valid accuracy: 0.865 / 0.865\n",
            " Epoch 72 | Train/Valid loss: 0.317 / 0.317 | Train/Valid accuracy: 0.865 / 0.865\n",
            " Epoch 73 | Train/Valid loss: 0.317 / 0.317 | Train/Valid accuracy: 0.865 / 0.865\n",
            " Epoch 74 | Train/Valid loss: 0.317 / 0.318 | Train/Valid accuracy: 0.865 / 0.865\n",
            " Epoch 75 | Train/Valid loss: 0.317 / 0.317 | Train/Valid accuracy: 0.865 / 0.865\n",
            " Epoch 76 | Train/Valid loss: 0.317 / 0.317 | Train/Valid accuracy: 0.865 / 0.865\n",
            " Epoch 77 | Train/Valid loss: 0.318 / 0.317 | Train/Valid accuracy: 0.864 / 0.865\n",
            " Epoch 78 | Train/Valid loss: 0.317 / 0.317 | Train/Valid accuracy: 0.865 / 0.865\n",
            " Epoch 79 | Train/Valid loss: 0.317 / 0.317 | Train/Valid accuracy: 0.865 / 0.865\n",
            " Epoch 80 | Train/Valid loss: 0.317 / 0.317 | Train/Valid accuracy: 0.865 / 0.865\n",
            " Epoch 81 | Train/Valid loss: 0.318 / 0.316 | Train/Valid accuracy: 0.864 / 0.865\n",
            " Epoch 82 | Train/Valid loss: 0.317 / 0.317 | Train/Valid accuracy: 0.864 / 0.865\n",
            " Epoch 83 | Train/Valid loss: 0.318 / 0.318 | Train/Valid accuracy: 0.864 / 0.865\n",
            " Epoch 84 | Train/Valid loss: 0.318 / 0.317 | Train/Valid accuracy: 0.865 / 0.865\n",
            " Epoch 85 | Train/Valid loss: 0.317 / 0.316 | Train/Valid accuracy: 0.864 / 0.865\n",
            " Epoch 86 | Train/Valid loss: 0.317 / 0.316 | Train/Valid accuracy: 0.864 / 0.865\n",
            " Epoch 87 | Train/Valid loss: 0.317 / 0.317 | Train/Valid accuracy: 0.865 / 0.865\n",
            " Epoch 88 | Train/Valid loss: 0.317 / 0.316 | Train/Valid accuracy: 0.865 / 0.865\n",
            " Epoch 89 | Train/Valid loss: 0.318 / 0.317 | Train/Valid accuracy: 0.864 / 0.865\n",
            " Epoch 90 | Train/Valid loss: 0.317 / 0.317 | Train/Valid accuracy: 0.865 / 0.865\n",
            " Epoch 91 | Train/Valid loss: 0.317 / 0.317 | Train/Valid accuracy: 0.865 / 0.865\n",
            " Epoch 92 | Train/Valid loss: 0.317 / 0.317 | Train/Valid accuracy: 0.865 / 0.865\n",
            " Epoch 93 | Train/Valid loss: 0.318 / 0.319 | Train/Valid accuracy: 0.865 / 0.865\n",
            " Epoch 94 | Train/Valid loss: 0.317 / 0.316 | Train/Valid accuracy: 0.865 / 0.865\n",
            " Epoch 95 | Train/Valid loss: 0.317 / 0.317 | Train/Valid accuracy: 0.865 / 0.865\n",
            " Epoch 96 | Train/Valid loss: 0.318 / 0.317 | Train/Valid accuracy: 0.865 / 0.865\n",
            " Epoch 97 | Train/Valid loss: 0.317 / 0.317 | Train/Valid accuracy: 0.865 / 0.865\n",
            " Epoch 98 | Train/Valid loss: 0.317 / 0.317 | Train/Valid accuracy: 0.865 / 0.865\n",
            " Epoch 99 | Train/Valid loss: 0.317 / 0.318 | Train/Valid accuracy: 0.865 / 0.865\n"
          ]
        }
      ],
      "source": [
        "# cantidad de epochs\n",
        "epochs = 100\n",
        "\n",
        "train_loss_by_epoch=[]\n",
        "valid_loss_by_epoch=[]\n",
        "\n",
        "# Doble loop algoritmo Mini-Batch\n",
        "for epoch in range(epochs):\n",
        "  \n",
        "  ############################################\n",
        "  ## Entrenamiento\n",
        "  ############################################\n",
        "  nnet.train(True)\n",
        "\n",
        "  epoch_loss = 0\n",
        "  epoch_y_hat = []\n",
        "  epoch_y = []\n",
        "  \n",
        "  for i,data in enumerate(train_dataloader):\n",
        "    # Obtengo los datos del batch de entrenamiento\n",
        "    x_batch, y_batch = data\n",
        "    # Copio el batch al dispositivo donde entreno la red neuronal\n",
        "    x_batch = x_batch.to(device).float()\n",
        "    y_batch = y_batch.to(device).float().reshape(-1, 1)\n",
        "\n",
        "    # Paso forward\n",
        "    # Limpio optimizer para empezar un nuevo cálculo de gradiente\n",
        "    optimizer.zero_grad()\n",
        "    nnet_output = nnet(x_batch)\n",
        "    y_batch_hat = torch.sigmoid(nnet_output)\n",
        "    \n",
        "    # Calculo el loss\n",
        "    loss = loss_function(nnet_output, y_batch)\n",
        "\n",
        "    # Backpropagation\n",
        "    loss.backward()\n",
        "\n",
        "    # Actualizar los parámetros\n",
        "    optimizer.step()\n",
        "\n",
        "    # Almaceno los valores reales y mis predicciones para cálcular las métricas\n",
        "    epoch_y += list(y_batch.detach().cpu().numpy())\n",
        "    epoch_y_hat += list(y_batch_hat.detach().cpu().numpy())\n",
        "    # Acumulo la loss del batch\n",
        "    epoch_loss = epoch_loss + loss.item()\n",
        "\n",
        "  # Calculo la media de la loss\n",
        "  epoch_loss = epoch_loss / n_train\n",
        "  # Almaceno la loss de la epoch para graficar\n",
        "  train_loss_by_epoch.append(epoch_loss)\n",
        "  # Cálculo la métrica de la epoch\n",
        "  accuracy = metrics.accuracy_score(epoch_y, [j>=0.5 for j in epoch_y_hat])\n",
        "\n",
        "  ############################################\n",
        "  ## Validación\n",
        "  ############################################\n",
        "  # Desactivo el cálculo de gradiente para validación\n",
        "  nnet.train(False)\n",
        "\n",
        "  valid_epoch_loss = 0\n",
        "  valid_epoch_y_hat = []\n",
        "  valid_epoch_y = []\n",
        "\n",
        "  for i,data in enumerate(valid_dataloader):\n",
        "    # Obtengo los datos del batch de validación\n",
        "    x_batch, y_batch = data\n",
        "    # Copio el batch al dispositivo donde entreno la red neuronal\n",
        "    x_batch = x_batch.to(device).float()\n",
        "    y_batch = y_batch.to(device).float().reshape(-1, 1)\n",
        "\n",
        "    # Paso forward\n",
        "    nnet_output = nnet(x_batch)\n",
        "    y_batch_hat = torch.sigmoid(nnet_output)\n",
        "    \n",
        "    # Calculo el loss\n",
        "    loss = loss_function(nnet_output, y_batch)\n",
        "\n",
        "    # En validación no hago backpropagation!!\n",
        "\n",
        "    # Almaceno los valores reales y mis predicciones para cálcular las métricas\n",
        "    valid_epoch_y += list(y_batch.detach().cpu().numpy())\n",
        "    valid_epoch_y_hat += list(y_batch_hat.detach().cpu().numpy())\n",
        "    # Acumulo la loss del batch\n",
        "    valid_epoch_loss = valid_epoch_loss + loss.item()\n",
        "\n",
        "  # Calculo la media de la loss\n",
        "  valid_epoch_loss = valid_epoch_loss / n_valid\n",
        "  # Almaceno la loss de la epoch para graficar\n",
        "  valid_loss_by_epoch.append(valid_epoch_loss)\n",
        "  # Cálculo la métrica de la epoch\n",
        "  valid_accuracy = metrics.accuracy_score(valid_epoch_y, [j>=0.5 for j in valid_epoch_y_hat])\n",
        "\n",
        "  ############################################\n",
        "  ## Impresión de resultados por epoch\n",
        "  ############################################\n",
        "  print(f\" Epoch {epoch} | \" \\\n",
        "        f\"Train/Valid loss: {epoch_loss:.3f} / {valid_epoch_loss:.3f} | \" \\\n",
        "        f\"Train/Valid accuracy: {accuracy:.3f} / {valid_accuracy:.3f}\")"
      ]
    },
    {
      "attachments": {},
      "cell_type": "markdown",
      "metadata": {},
      "source": [
        "## Resultados"
      ]
    },
    {
      "cell_type": "code",
      "execution_count": 400,
      "metadata": {
        "colab": {
          "base_uri": "https://localhost:8080/",
          "height": 312
        },
        "id": "AOmgUAKKGH05",
        "outputId": "4d66afeb-299d-4df9-c682-4d473b3d0c5a"
      },
      "outputs": [
        {
          "data": {
            "image/png": "[encoded data removed]",
            "text/plain": [
              "<Figure size 1296x432 with 3 Axes>"
            ]
          },
          "metadata": {},
          "output_type": "display_data"
        }
      ],
      "source": [
        "plt.figure(figsize=(18,6))\n",
        "ax1= plt.subplot(1,2,1)\n",
        "ax1.plot(train_loss_by_epoch, label=\"Train loss\")\n",
        "ax1.plot(valid_loss_by_epoch, label=\"Validation loss\")\n",
        "ax1.legend()\n",
        "ax1.set_title(\"Loss by epoch\")\n",
        "ax1.set_xlabel(\"epoch\")\n",
        "ax1.set_ylabel(\"BCE\")\n",
        "ax2= plt.subplot(1,2,2)\n",
        "cm = metrics.confusion_matrix(valid_epoch_y, [j>=0.5 for j in valid_epoch_y_hat])\n",
        "sns.heatmap(cm, annot=True, fmt='g', ax=ax2)\n",
        "plt.title('Confusion matrix')\n",
        "plt.xlabel('Predicted value')\n",
        "plt.ylabel('True value')\n",
        "plt.show()"
      ]
    }
  ],
  "metadata": {
    "accelerator": "GPU",
    "colab": {
      "provenance": [],
      "toc_visible": true
    },
    "gpuClass": "standard",
    "kernelspec": {
      "display_name": "pytorch",
      "language": "python",
      "name": "python3"
    },
    "language_info": {
      "codemirror_mode": {
        "name": "ipython",
        "version": 3
      },
      "file_extension": ".py",
      "mimetype": "text/x-python",
      "name": "python",
      "nbconvert_exporter": "python",
      "pygments_lexer": "ipython3",
      "version": "3.10.6"
    },
    "vscode": {
      "interpreter": {
        "hash": "b49e0765e4a16a08c24abfcabbb0a59b7391929f6c139a67008d70625e2fd730"
      }
    }
  },
  "nbformat": 4,
  "nbformat_minor": 0
}
