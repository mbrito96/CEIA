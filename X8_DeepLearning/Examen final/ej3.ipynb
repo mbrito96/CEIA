{
 "cells": [
  {
   "cell_type": "markdown",
   "metadata": {},
   "source": [
    "## Ejercicio 3\n",
    "\n",
    "Para la siguiente red neuronal recurrente, se pide expresar las ecuaciones \"*unfolded*\" de la salida de la misma y de sus estados ocultos, si el vector de entrada son 3 muestras secuenciadas de la variable $x(t)$.\n",
    "\n",
    "![b](https://drive.google.com/uc?export=view&id=1Fz46GTK7Oy_w5OEgwLCLfHFMr7b6-AnL)\n",
    "\n",
    "\n",
    "\n",
    "\n",
    "Ecuaciones de la RNN:\n",
    "\n",
    "$$ \\hat{y}(t) = w_{h1y} * h1(t) + w_{h2y} * h2(t) + by$$\n",
    "\n",
    "$$ h1(t) = w_{xh1} * x(t) + w_{h1h1} * h1(t-1) + w_{h2h1} * h2(t-1)+ bh1$$ \n",
    "$$ h2(t) = w_{xh2} * x(t) + w_{h2h2} * h2(t-1) + w_{h1h2} * h1(t-1)+ bh2 $$ "
   ]
  },
  {
   "cell_type": "markdown",
   "metadata": {},
   "source": [
    "En t=0:\n",
    "\n",
    "$$ \\hat{y}(0) = w_{h1y} * h1(0) + w_{h2y} * h2(0) + by$$\n",
    "$$ h1(0) = w_{xh1} * x(0)+ bh1$$ \n",
    "$$ h2(0) = w_{xh2} * x(0)+ bh2 $$ \n",
    "\n",
    "En t=1:\n",
    "\n",
    "$$ \\hat{y}(1) = w_{h1y} * h1(1) + w_{h2y} * h2(1) + by$$\n",
    "$$ h1(1) = w_{xh1} * x(1) + w_{h1h1} * h1(0) + w_{h2h1} * h2(0)+ bh1$$ \n",
    "$$ h2(1) = w_{xh2} * x(1) + w_{h2h2} * h2(0) + w_{h1h2} * h1(0)+ bh2 $$ \n",
    "\n",
    "En t=2:\n",
    "\n",
    "$$ \\hat{y}(2) = w_{h1y} * h1(2) + w_{h2y} * h2(2) + by$$\n",
    "$$ h1(2) = w_{xh1} * x(2) + w_{h1h1} * h1(1) + w_{h2h1} * h2(1)+ bh1$$ \n",
    "$$ h2(2) = w_{xh2} * x(2) + w_{h2h2} * h2(1) + w_{h1h2} * h1(1)+ bh2 $$ "
   ]
  }
 ],
 "metadata": {
  "kernelspec": {
   "display_name": "Python 3.10.6 ('pytorch')",
   "language": "python",
   "name": "python3"
  },
  "language_info": {
   "codemirror_mode": {
    "name": "ipython",
    "version": 3
   },
   "file_extension": ".py",
   "mimetype": "text/x-python",
   "name": "python",
   "nbconvert_exporter": "python",
   "pygments_lexer": "ipython3",
   "version": "3.10.6"
  },
  "orig_nbformat": 4,
  "vscode": {
   "interpreter": {
    "hash": "b49e0765e4a16a08c24abfcabbb0a59b7391929f6c139a67008d70625e2fd730"
   }
  }
 },
 "nbformat": 4,
 "nbformat_minor": 2
}
