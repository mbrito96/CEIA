{
  "cells": [
    {
      "attachments": {},
      "cell_type": "markdown",
      "metadata": {
        "id": "6hnAb_E0gZFA"
      },
      "source": [
        "# Ejercicio 4 - Consigna\n",
        "Descargar el dataset del siguiente link: https://drive.google.com/file/d/1X8_G5BpQMi-Nnbtms2RL8lcWSxzD8ixd/view?usp=sharing. El dataset son compras de productos que diferentes clientes realizaron durante un black sales. El dataset contiene información sobre las transacciones y el objetivo es poder utilizar el dataset para crear diferentes modelos que puedan predecir cuánto un cliente está dispuesto a gastar en un producto en el futuro. Particularmente, vamos a tratar este problema como una clasificación binaria donde queremos averiguar si el cliente va a gastar mucha plata (más de 9000) o poca plata (menos de 9000).\n",
        "\n",
        "- a)\tEntrenar un modelo de deep learning que no utilice embeddings.\n",
        "- b)\tEntrenar un modelo de deep learning que utilice embeddings tanto para los productos como los usuarios. Realizar el mapeo de identificador de producto y usuarios a indices antes de separar el dataset en training, validation y testing.\n",
        "- c)\tCompare el score de cada modelo y comente lo necesario.\n"
      ]
    },
    {
      "cell_type": "code",
      "execution_count": 44,
      "metadata": {
        "id": "TUEjdowba98t"
      },
      "outputs": [],
      "source": [
        "import pandas as pd\n",
        "import numpy as np\n",
        "import matplotlib.pyplot as plt\n",
        "import seaborn as sns"
      ]
    },
    {
      "attachments": {},
      "cell_type": "markdown",
      "metadata": {},
      "source": [
        "# (b)"
      ]
    },
    {
      "attachments": {},
      "cell_type": "markdown",
      "metadata": {
        "id": "fVMKJ1DihXiv"
      },
      "source": [
        "## Cargamos el dataset"
      ]
    },
    {
      "cell_type": "code",
      "execution_count": 45,
      "metadata": {
        "id": "dF9wgHw5jTW8"
      },
      "outputs": [],
      "source": [
        "df = pd.read_csv(\"dataset_black_sales.csv\")\n",
        "df.fillna(0,inplace=True)  # reemplazamos los N/A de Product_Category_2 y Product_Category_3 por 0\n",
        "df['y'] = df['Purchase'] >= 9000\n"
      ]
    },
    {
      "attachments": {},
      "cell_type": "markdown",
      "metadata": {},
      "source": [
        "## Analisis exploratorio\n",
        "\n",
        "Gran parte del análisis exploratorio se realizó en el notebook del punto (a). En esta sección se harán análisis puntuales relacionados con el embedding."
      ]
    },
    {
      "cell_type": "code",
      "execution_count": 46,
      "metadata": {},
      "outputs": [
        {
          "data": {
            "text/html": [
              "<div>\n",
              "<style scoped>\n",
              "    .dataframe tbody tr th:only-of-type {\n",
              "        vertical-align: middle;\n",
              "    }\n",
              "\n",
              "    .dataframe tbody tr th {\n",
              "        vertical-align: top;\n",
              "    }\n",
              "\n",
              "    .dataframe thead th {\n",
              "        text-align: right;\n",
              "    }\n",
              "</style>\n",
              "<table border=\"1\" class=\"dataframe\">\n",
              "  <thead>\n",
              "    <tr style=\"text-align: right;\">\n",
              "      <th></th>\n",
              "      <th>User_ID</th>\n",
              "      <th>Product_ID</th>\n",
              "      <th>Gender</th>\n",
              "      <th>Age</th>\n",
              "      <th>Occupation</th>\n",
              "      <th>City_Category</th>\n",
              "      <th>Stay_In_Current_City_Years</th>\n",
              "      <th>Marital_Status</th>\n",
              "      <th>Product_Category_1</th>\n",
              "      <th>Product_Category_2</th>\n",
              "      <th>Product_Category_3</th>\n",
              "      <th>Purchase</th>\n",
              "      <th>y</th>\n",
              "    </tr>\n",
              "  </thead>\n",
              "  <tbody>\n",
              "    <tr>\n",
              "      <th>0</th>\n",
              "      <td>1000001</td>\n",
              "      <td>P00069042</td>\n",
              "      <td>F</td>\n",
              "      <td>0-17</td>\n",
              "      <td>10</td>\n",
              "      <td>A</td>\n",
              "      <td>2</td>\n",
              "      <td>0</td>\n",
              "      <td>3</td>\n",
              "      <td>0.0</td>\n",
              "      <td>0.0</td>\n",
              "      <td>8370</td>\n",
              "      <td>False</td>\n",
              "    </tr>\n",
              "    <tr>\n",
              "      <th>1</th>\n",
              "      <td>1000001</td>\n",
              "      <td>P00248942</td>\n",
              "      <td>F</td>\n",
              "      <td>0-17</td>\n",
              "      <td>10</td>\n",
              "      <td>A</td>\n",
              "      <td>2</td>\n",
              "      <td>0</td>\n",
              "      <td>1</td>\n",
              "      <td>6.0</td>\n",
              "      <td>14.0</td>\n",
              "      <td>15200</td>\n",
              "      <td>True</td>\n",
              "    </tr>\n",
              "    <tr>\n",
              "      <th>2</th>\n",
              "      <td>1000001</td>\n",
              "      <td>P00087842</td>\n",
              "      <td>F</td>\n",
              "      <td>0-17</td>\n",
              "      <td>10</td>\n",
              "      <td>A</td>\n",
              "      <td>2</td>\n",
              "      <td>0</td>\n",
              "      <td>12</td>\n",
              "      <td>0.0</td>\n",
              "      <td>0.0</td>\n",
              "      <td>1422</td>\n",
              "      <td>False</td>\n",
              "    </tr>\n",
              "    <tr>\n",
              "      <th>3</th>\n",
              "      <td>1000001</td>\n",
              "      <td>P00085442</td>\n",
              "      <td>F</td>\n",
              "      <td>0-17</td>\n",
              "      <td>10</td>\n",
              "      <td>A</td>\n",
              "      <td>2</td>\n",
              "      <td>0</td>\n",
              "      <td>12</td>\n",
              "      <td>14.0</td>\n",
              "      <td>0.0</td>\n",
              "      <td>1057</td>\n",
              "      <td>False</td>\n",
              "    </tr>\n",
              "    <tr>\n",
              "      <th>4</th>\n",
              "      <td>1000002</td>\n",
              "      <td>P00285442</td>\n",
              "      <td>M</td>\n",
              "      <td>55+</td>\n",
              "      <td>16</td>\n",
              "      <td>C</td>\n",
              "      <td>4+</td>\n",
              "      <td>0</td>\n",
              "      <td>8</td>\n",
              "      <td>0.0</td>\n",
              "      <td>0.0</td>\n",
              "      <td>7969</td>\n",
              "      <td>False</td>\n",
              "    </tr>\n",
              "  </tbody>\n",
              "</table>\n",
              "</div>"
            ],
            "text/plain": [
              "   User_ID Product_ID Gender   Age  Occupation City_Category  \\\n",
              "0  1000001  P00069042      F  0-17          10             A   \n",
              "1  1000001  P00248942      F  0-17          10             A   \n",
              "2  1000001  P00087842      F  0-17          10             A   \n",
              "3  1000001  P00085442      F  0-17          10             A   \n",
              "4  1000002  P00285442      M   55+          16             C   \n",
              "\n",
              "  Stay_In_Current_City_Years  Marital_Status  Product_Category_1  \\\n",
              "0                          2               0                   3   \n",
              "1                          2               0                   1   \n",
              "2                          2               0                  12   \n",
              "3                          2               0                  12   \n",
              "4                         4+               0                   8   \n",
              "\n",
              "   Product_Category_2  Product_Category_3  Purchase      y  \n",
              "0                 0.0                 0.0      8370  False  \n",
              "1                 6.0                14.0     15200   True  \n",
              "2                 0.0                 0.0      1422  False  \n",
              "3                14.0                 0.0      1057  False  \n",
              "4                 0.0                 0.0      7969  False  "
            ]
          },
          "execution_count": 46,
          "metadata": {},
          "output_type": "execute_result"
        }
      ],
      "source": [
        "df.head()"
      ]
    },
    {
      "cell_type": "code",
      "execution_count": 47,
      "metadata": {},
      "outputs": [],
      "source": [
        "# df.groupby('Product_ID').describe()['Purchase']\n",
        "# Para cada producto, varia la compra final que se hizo "
      ]
    },
    {
      "cell_type": "code",
      "execution_count": 48,
      "metadata": {},
      "outputs": [
        {
          "name": "stdout",
          "output_type": "stream",
          "text": [
            "User_ID unique values: 5891\n",
            "Product_ID unique values: 3631\n",
            "Gender values: ['F' 'M'] - Total: 2\n",
            "Age values: ['0-17' '55+' '26-35' '46-50' '51-55' '36-45' '18-25'] - Total: 7\n",
            "Occupation values: [10 16 15  7 20  9  1 12 17  0  3  4 11  8 19  2 18  5 14 13  6] - Total: 21\n",
            "City_Category values: ['A' 'C' 'B'] - Total: 3\n",
            "Stay_In_Current_City_Years values: ['2' '4+' '3' '1' '0'] - Total: 5\n",
            "Marital_Status values: [0 1] - Total: 2\n",
            "Product_Category_1 values: [ 3  1 12  8  5  4  2  6 14 11 13 15  7 16 18 10 17  9 20 19] - Total: 20\n",
            "Product_Category_2 values: [ 0.  6. 14.  2.  8. 15. 16. 11.  5.  3.  4. 12.  9. 10. 17. 13.  7. 18.] - Total: 18\n",
            "Product_Category_3 values: [ 0. 14. 17.  5.  4. 16. 15.  8.  9. 13.  6. 12.  3. 18. 11. 10.] - Total: 16\n"
          ]
        }
      ],
      "source": [
        "# Veamos la cantidad de valores únicos de algunos otros features\n",
        "for i in ['User_ID', 'Product_ID']:\n",
        "    print(i + ' unique values: ' + str(len(df[i].unique())))\n",
        "# Veamos los valores unicos de algunos de los features\n",
        "for i in ['Gender', 'Age', 'Occupation', 'City_Category', 'Stay_In_Current_City_Years', 'Marital_Status', 'Product_Category_1', 'Product_Category_2', 'Product_Category_3']:\n",
        "    print(i + ' values: ' + str(df[i].unique()) + ' - Total: ' + str(len(df[i].unique())))\n"
      ]
    },
    {
      "attachments": {},
      "cell_type": "markdown",
      "metadata": {
        "id": "Ay7lvsepha91"
      },
      "source": [
        "## Reducción de dimensionalidad y Codificación\n",
        "Según las conclusiones obtenidas anteriormente en la exploración del dataset, procedemos a quitar algunas variables categóricas que tienen menor correlación con la variable de salida, ya que incluirlas durante el entrenamiento incurriría en un aumento significativo del dataset al hacer One-Hot Encoding o similar.\n",
        "Sin embargo, nos quedamos con las features User_ID y Product_ID para aplicar embeddings."
      ]
    },
    {
      "cell_type": "code",
      "execution_count": 49,
      "metadata": {
        "colab": {
          "base_uri": "https://localhost:8080/"
        },
        "id": "7i82jZ6RkROb",
        "outputId": "d972aa84-2894-47c2-b20a-bc78d11d20b8"
      },
      "outputs": [
        {
          "data": {
            "text/html": [
              "<div>\n",
              "<style scoped>\n",
              "    .dataframe tbody tr th:only-of-type {\n",
              "        vertical-align: middle;\n",
              "    }\n",
              "\n",
              "    .dataframe tbody tr th {\n",
              "        vertical-align: top;\n",
              "    }\n",
              "\n",
              "    .dataframe thead th {\n",
              "        text-align: right;\n",
              "    }\n",
              "</style>\n",
              "<table border=\"1\" class=\"dataframe\">\n",
              "  <thead>\n",
              "    <tr style=\"text-align: right;\">\n",
              "      <th></th>\n",
              "      <th>User_ID</th>\n",
              "      <th>Product_ID</th>\n",
              "      <th>Gender</th>\n",
              "      <th>Age</th>\n",
              "      <th>Occupation</th>\n",
              "      <th>City_Category</th>\n",
              "      <th>Product_Category_1</th>\n",
              "      <th>y</th>\n",
              "    </tr>\n",
              "  </thead>\n",
              "  <tbody>\n",
              "    <tr>\n",
              "      <th>0</th>\n",
              "      <td>1000001</td>\n",
              "      <td>P00069042</td>\n",
              "      <td>F</td>\n",
              "      <td>0-17</td>\n",
              "      <td>10</td>\n",
              "      <td>A</td>\n",
              "      <td>3</td>\n",
              "      <td>False</td>\n",
              "    </tr>\n",
              "    <tr>\n",
              "      <th>1</th>\n",
              "      <td>1000001</td>\n",
              "      <td>P00248942</td>\n",
              "      <td>F</td>\n",
              "      <td>0-17</td>\n",
              "      <td>10</td>\n",
              "      <td>A</td>\n",
              "      <td>1</td>\n",
              "      <td>True</td>\n",
              "    </tr>\n",
              "    <tr>\n",
              "      <th>2</th>\n",
              "      <td>1000001</td>\n",
              "      <td>P00087842</td>\n",
              "      <td>F</td>\n",
              "      <td>0-17</td>\n",
              "      <td>10</td>\n",
              "      <td>A</td>\n",
              "      <td>12</td>\n",
              "      <td>False</td>\n",
              "    </tr>\n",
              "    <tr>\n",
              "      <th>3</th>\n",
              "      <td>1000001</td>\n",
              "      <td>P00085442</td>\n",
              "      <td>F</td>\n",
              "      <td>0-17</td>\n",
              "      <td>10</td>\n",
              "      <td>A</td>\n",
              "      <td>12</td>\n",
              "      <td>False</td>\n",
              "    </tr>\n",
              "    <tr>\n",
              "      <th>4</th>\n",
              "      <td>1000002</td>\n",
              "      <td>P00285442</td>\n",
              "      <td>M</td>\n",
              "      <td>55+</td>\n",
              "      <td>16</td>\n",
              "      <td>C</td>\n",
              "      <td>8</td>\n",
              "      <td>False</td>\n",
              "    </tr>\n",
              "  </tbody>\n",
              "</table>\n",
              "</div>"
            ],
            "text/plain": [
              "   User_ID Product_ID Gender   Age  Occupation City_Category  \\\n",
              "0  1000001  P00069042      F  0-17          10             A   \n",
              "1  1000001  P00248942      F  0-17          10             A   \n",
              "2  1000001  P00087842      F  0-17          10             A   \n",
              "3  1000001  P00085442      F  0-17          10             A   \n",
              "4  1000002  P00285442      M   55+          16             C   \n",
              "\n",
              "   Product_Category_1      y  \n",
              "0                   3  False  \n",
              "1                   1   True  \n",
              "2                  12  False  \n",
              "3                  12  False  \n",
              "4                   8  False  "
            ]
          },
          "execution_count": 49,
          "metadata": {},
          "output_type": "execute_result"
        }
      ],
      "source": [
        "dfa = df.copy()\n",
        "dfa = dfa.drop(['Product_Category_2', 'Product_Category_3', 'Marital_Status', 'Stay_In_Current_City_Years', 'Purchase'], axis=1)\n",
        "dfa.head()"
      ]
    },
    {
      "cell_type": "code",
      "execution_count": 50,
      "metadata": {
        "colab": {
          "base_uri": "https://localhost:8080/"
        },
        "id": "-jwlYIPkknhL",
        "outputId": "76a06483-4201-47da-c8e5-5914345b1749"
      },
      "outputs": [
        {
          "name": "stdout",
          "output_type": "stream",
          "text": [
            "Index(['User_ID', 'Product_ID', 'Gender', 'Product_Category_1', 'y',\n",
            "       'age_0-17', 'age_18-25', 'age_26-35', 'age_36-45', 'age_46-50',\n",
            "       'age_51-55', 'age_55+', 'occu_0', 'occu_1', 'occu_2', 'occu_3',\n",
            "       'occu_4', 'occu_5', 'occu_6', 'occu_7', 'occu_8', 'occu_9', 'occu_10',\n",
            "       'occu_11', 'occu_12', 'occu_13', 'occu_14', 'occu_15', 'occu_16',\n",
            "       'occu_17', 'occu_18', 'occu_19', 'occu_20', 'city_A', 'city_B',\n",
            "       'city_C'],\n",
            "      dtype='object')\n"
          ]
        }
      ],
      "source": [
        "# Gender lo codificamos binario\n",
        "dfa['Gender'] = dfa['Gender'].apply(lambda x: 1 if x == 'M' else 0)\n",
        "\n",
        "# Age con One-hot encoding\n",
        "age_dummies = pd.get_dummies(dfa['Age'], prefix=\"age\")\n",
        "dfa = pd.concat([dfa,age_dummies], axis = 1)\n",
        "dfa = dfa.drop(['Age'], axis=1)\n",
        "\n",
        "# Occupation ya fue codificado, asumimos una asignación random e.g. Integer encoding (ya que no tenemos datos de cómo se asignaron números a las categorías).\n",
        "# Probamos con OHE\n",
        "occu_dummies = pd.get_dummies(dfa['Occupation'], prefix=\"occu\")\n",
        "dfa = pd.concat([dfa,occu_dummies], axis = 1)\n",
        "dfa = dfa.drop(['Occupation'], axis=1)\n",
        "\n",
        "# City_Category con One-hot encoding\n",
        "dfa = pd.concat([dfa, pd.get_dummies(dfa['City_Category'], prefix=\"city\")], axis = 1)\n",
        "dfa = dfa.drop(['City_Category'], axis=1)\n",
        "\n",
        "# Product_Category_1 idem Occupation\n",
        "\n",
        "# Transformamos la salida a binario\n",
        "dfa['y'] = dfa['y'].apply(lambda x: 1 if x==True else 0)\n",
        "\n",
        "# Para el Product_ID, convertimos los string a numeros para optimizar el proceso con los embeddings\n",
        "dfa['Product_ID'] = dfa['Product_ID'].apply(lambda x: int(x[1:]))\n",
        "\n",
        "print(dfa.columns)"
      ]
    },
    {
      "attachments": {},
      "cell_type": "markdown",
      "metadata": {},
      "source": [
        "## Preparacion Embeddings"
      ]
    },
    {
      "cell_type": "code",
      "execution_count": 51,
      "metadata": {},
      "outputs": [
        {
          "name": "stdout",
          "output_type": "stream",
          "text": [
            "User_ID: nUniques = 5891\n",
            "Min val: 1000001 - Max val: 1006040 - Delta: 6039\n",
            "Continuous? No\n",
            "\n",
            "Product_ID: nUniques = 3631\n",
            "Min val: 142 - Max val: 375436 - Delta: 375294\n",
            "Continuous? No\n"
          ]
        }
      ],
      "source": [
        "user_nuniques = dfa['User_ID'].nunique()\n",
        "user_min_val = dfa['User_ID'].min()\n",
        "user_max_val = dfa['User_ID'].max()\n",
        "print(f'User_ID: nUniques = {user_nuniques}')\n",
        "print(f'Min val: {user_min_val} - Max val: {user_max_val} - Delta: {user_max_val-user_min_val}')\n",
        "print('Continuous? ' + ('Yes' if (user_max_val-user_min_val) == user_nuniques else 'No'))\n",
        "print()\n",
        "\n",
        "product_nuniques = dfa['Product_ID'].nunique()\n",
        "product_min_val = dfa['Product_ID'].min()\n",
        "product_max_val = dfa['Product_ID'].max()\n",
        "print(f'Product_ID: nUniques = {product_nuniques}')\n",
        "print(f'Min val: {product_min_val} - Max val: {product_max_val} - Delta: {product_max_val-product_min_val}')\n",
        "print('Continuous? ' + ('Yes' if (product_max_val-product_min_val) == product_nuniques else 'No'))\n"
      ]
    },
    {
      "cell_type": "code",
      "execution_count": 52,
      "metadata": {},
      "outputs": [],
      "source": [
        "# Preparo dictionary para ir de User_ID y Product_ID a indice consecutivos de embeddings\n",
        "userID_to_idx = {value:i for i,value in enumerate(dfa['User_ID'].unique())}\n",
        "productID_to_idx = {value:i for i,value in enumerate(dfa['Product_ID'].unique())}"
      ]
    },
    {
      "cell_type": "markdown",
      "metadata": {
        "id": "TmBJD3siinlF"
      },
      "source": [
        "## Armado del dataset"
      ]
    },
    {
      "cell_type": "code",
      "execution_count": 53,
      "metadata": {},
      "outputs": [
        {
          "data": {
            "text/html": [
              "<div>\n",
              "<style scoped>\n",
              "    .dataframe tbody tr th:only-of-type {\n",
              "        vertical-align: middle;\n",
              "    }\n",
              "\n",
              "    .dataframe tbody tr th {\n",
              "        vertical-align: top;\n",
              "    }\n",
              "\n",
              "    .dataframe thead th {\n",
              "        text-align: right;\n",
              "    }\n",
              "</style>\n",
              "<table border=\"1\" class=\"dataframe\">\n",
              "  <thead>\n",
              "    <tr style=\"text-align: right;\">\n",
              "      <th></th>\n",
              "      <th>User_ID</th>\n",
              "      <th>Product_ID</th>\n",
              "      <th>Gender</th>\n",
              "      <th>Product_Category_1</th>\n",
              "      <th>y</th>\n",
              "      <th>age_0-17</th>\n",
              "      <th>age_18-25</th>\n",
              "      <th>age_26-35</th>\n",
              "      <th>age_36-45</th>\n",
              "      <th>age_46-50</th>\n",
              "      <th>...</th>\n",
              "      <th>occu_14</th>\n",
              "      <th>occu_15</th>\n",
              "      <th>occu_16</th>\n",
              "      <th>occu_17</th>\n",
              "      <th>occu_18</th>\n",
              "      <th>occu_19</th>\n",
              "      <th>occu_20</th>\n",
              "      <th>city_A</th>\n",
              "      <th>city_B</th>\n",
              "      <th>city_C</th>\n",
              "    </tr>\n",
              "  </thead>\n",
              "  <tbody>\n",
              "    <tr>\n",
              "      <th>0</th>\n",
              "      <td>1000001</td>\n",
              "      <td>69042</td>\n",
              "      <td>0</td>\n",
              "      <td>3</td>\n",
              "      <td>0</td>\n",
              "      <td>1</td>\n",
              "      <td>0</td>\n",
              "      <td>0</td>\n",
              "      <td>0</td>\n",
              "      <td>0</td>\n",
              "      <td>...</td>\n",
              "      <td>0</td>\n",
              "      <td>0</td>\n",
              "      <td>0</td>\n",
              "      <td>0</td>\n",
              "      <td>0</td>\n",
              "      <td>0</td>\n",
              "      <td>0</td>\n",
              "      <td>1</td>\n",
              "      <td>0</td>\n",
              "      <td>0</td>\n",
              "    </tr>\n",
              "    <tr>\n",
              "      <th>1</th>\n",
              "      <td>1000001</td>\n",
              "      <td>248942</td>\n",
              "      <td>0</td>\n",
              "      <td>1</td>\n",
              "      <td>1</td>\n",
              "      <td>1</td>\n",
              "      <td>0</td>\n",
              "      <td>0</td>\n",
              "      <td>0</td>\n",
              "      <td>0</td>\n",
              "      <td>...</td>\n",
              "      <td>0</td>\n",
              "      <td>0</td>\n",
              "      <td>0</td>\n",
              "      <td>0</td>\n",
              "      <td>0</td>\n",
              "      <td>0</td>\n",
              "      <td>0</td>\n",
              "      <td>1</td>\n",
              "      <td>0</td>\n",
              "      <td>0</td>\n",
              "    </tr>\n",
              "    <tr>\n",
              "      <th>2</th>\n",
              "      <td>1000001</td>\n",
              "      <td>87842</td>\n",
              "      <td>0</td>\n",
              "      <td>12</td>\n",
              "      <td>0</td>\n",
              "      <td>1</td>\n",
              "      <td>0</td>\n",
              "      <td>0</td>\n",
              "      <td>0</td>\n",
              "      <td>0</td>\n",
              "      <td>...</td>\n",
              "      <td>0</td>\n",
              "      <td>0</td>\n",
              "      <td>0</td>\n",
              "      <td>0</td>\n",
              "      <td>0</td>\n",
              "      <td>0</td>\n",
              "      <td>0</td>\n",
              "      <td>1</td>\n",
              "      <td>0</td>\n",
              "      <td>0</td>\n",
              "    </tr>\n",
              "    <tr>\n",
              "      <th>3</th>\n",
              "      <td>1000001</td>\n",
              "      <td>85442</td>\n",
              "      <td>0</td>\n",
              "      <td>12</td>\n",
              "      <td>0</td>\n",
              "      <td>1</td>\n",
              "      <td>0</td>\n",
              "      <td>0</td>\n",
              "      <td>0</td>\n",
              "      <td>0</td>\n",
              "      <td>...</td>\n",
              "      <td>0</td>\n",
              "      <td>0</td>\n",
              "      <td>0</td>\n",
              "      <td>0</td>\n",
              "      <td>0</td>\n",
              "      <td>0</td>\n",
              "      <td>0</td>\n",
              "      <td>1</td>\n",
              "      <td>0</td>\n",
              "      <td>0</td>\n",
              "    </tr>\n",
              "    <tr>\n",
              "      <th>4</th>\n",
              "      <td>1000002</td>\n",
              "      <td>285442</td>\n",
              "      <td>1</td>\n",
              "      <td>8</td>\n",
              "      <td>0</td>\n",
              "      <td>0</td>\n",
              "      <td>0</td>\n",
              "      <td>0</td>\n",
              "      <td>0</td>\n",
              "      <td>0</td>\n",
              "      <td>...</td>\n",
              "      <td>0</td>\n",
              "      <td>0</td>\n",
              "      <td>1</td>\n",
              "      <td>0</td>\n",
              "      <td>0</td>\n",
              "      <td>0</td>\n",
              "      <td>0</td>\n",
              "      <td>0</td>\n",
              "      <td>0</td>\n",
              "      <td>1</td>\n",
              "    </tr>\n",
              "  </tbody>\n",
              "</table>\n",
              "<p>5 rows × 36 columns</p>\n",
              "</div>"
            ],
            "text/plain": [
              "   User_ID  Product_ID  Gender  Product_Category_1  y  age_0-17  age_18-25  \\\n",
              "0  1000001       69042       0                   3  0         1          0   \n",
              "1  1000001      248942       0                   1  1         1          0   \n",
              "2  1000001       87842       0                  12  0         1          0   \n",
              "3  1000001       85442       0                  12  0         1          0   \n",
              "4  1000002      285442       1                   8  0         0          0   \n",
              "\n",
              "   age_26-35  age_36-45  age_46-50  ...  occu_14  occu_15  occu_16  occu_17  \\\n",
              "0          0          0          0  ...        0        0        0        0   \n",
              "1          0          0          0  ...        0        0        0        0   \n",
              "2          0          0          0  ...        0        0        0        0   \n",
              "3          0          0          0  ...        0        0        0        0   \n",
              "4          0          0          0  ...        0        0        1        0   \n",
              "\n",
              "   occu_18  occu_19  occu_20  city_A  city_B  city_C  \n",
              "0        0        0        0       1       0       0  \n",
              "1        0        0        0       1       0       0  \n",
              "2        0        0        0       1       0       0  \n",
              "3        0        0        0       1       0       0  \n",
              "4        0        0        0       0       0       1  \n",
              "\n",
              "[5 rows x 36 columns]"
            ]
          },
          "execution_count": 53,
          "metadata": {},
          "output_type": "execute_result"
        }
      ],
      "source": [
        "dfa.head()"
      ]
    },
    {
      "cell_type": "code",
      "execution_count": 54,
      "metadata": {
        "id": "zE5f2XsqrTr_"
      },
      "outputs": [
        {
          "name": "stdout",
          "output_type": "stream",
          "text": [
            "Index(['Gender', 'Product_Category_1', 'age_0-17', 'age_18-25', 'age_26-35',\n",
            "       'age_36-45', 'age_46-50', 'age_51-55', 'age_55+', 'occu_0', 'occu_1',\n",
            "       'occu_2', 'occu_3', 'occu_4', 'occu_5', 'occu_6', 'occu_7', 'occu_8',\n",
            "       'occu_9', 'occu_10', 'occu_11', 'occu_12', 'occu_13', 'occu_14',\n",
            "       'occu_15', 'occu_16', 'occu_17', 'occu_18', 'occu_19', 'occu_20',\n",
            "       'city_A', 'city_B', 'city_C'],\n",
            "      dtype='object')\n"
          ]
        }
      ],
      "source": [
        "x = dfa.drop(['y', 'User_ID', 'Product_ID'], axis=1) \n",
        "print(x.columns)\n",
        "y = dfa['y']\n",
        "\n",
        "# Normalizamos para que el algoritmo de gradient descent converga más rápido.\n",
        "x = x.to_numpy()\n",
        "y = y.to_numpy()\n",
        "x_norm = (x - np.min(x, axis=0)) / (np.max(x, axis=0 ) - np.min(x, axis=0))\n",
        "\n",
        "# Creo vector de input para embeddings\n",
        "dfa_userID_emb = np.array([userID_to_idx[value] for value in dfa['User_ID']])\n",
        "dfa_productID_emb = np.array([productID_to_idx[value] for value in dfa['Product_ID']])\n"
      ]
    },
    {
      "cell_type": "code",
      "execution_count": 55,
      "metadata": {
        "colab": {
          "base_uri": "https://localhost:8080/"
        },
        "id": "C9dDhJqfyjkE",
        "outputId": "0e78d1ff-776a-4645-cd6d-c5ba3081e269"
      },
      "outputs": [],
      "source": [
        "# Divido en entrenamiento y validación\n",
        "\n",
        "from sklearn.model_selection import train_test_split\n",
        "# Divido el dataset\n",
        "train_percentage = 0.85 \n",
        "idx = np.random.permutation(x_norm.shape[0])\n",
        "train_idx = idx[0:int(train_percentage*len(idx))]\n",
        "valid_idx = idx[int(train_percentage*len(idx)):]\n",
        "\n",
        "n_train = train_idx.shape[0]\n",
        "n_valid = valid_idx.shape[0]\n",
        "\n",
        "# Divido features originales\n",
        "x_train = x_norm[train_idx]\n",
        "y_train = y[train_idx]\n",
        "x_valid = x_norm[valid_idx]\n",
        "y_valid = y[valid_idx]\n",
        "\n",
        "# Divido embeddings\n",
        "x_userID_train = dfa_userID_emb[train_idx]\n",
        "x_userID_valid = dfa_userID_emb[valid_idx]\n",
        "\n",
        "x_productID_train = dfa_productID_emb[train_idx]\n",
        "x_productID_valid = dfa_productID_emb[valid_idx]"
      ]
    },
    {
      "cell_type": "markdown",
      "metadata": {
        "id": "bTEFahXrwte2"
      },
      "source": [
        "## Pytorch"
      ]
    },
    {
      "cell_type": "code",
      "execution_count": 56,
      "metadata": {
        "id": "sCQz7nDkuK7S"
      },
      "outputs": [],
      "source": [
        "import torch\n",
        "from torch.utils.data import Dataset, DataLoader\n",
        "from sklearn import metrics"
      ]
    },
    {
      "cell_type": "code",
      "execution_count": 69,
      "metadata": {
        "id": "gUpc_S5Fw_Nk"
      },
      "outputs": [],
      "source": [
        "# Pytorch necesita de una clase de dataset que extienda de torch.utils.data.Dataset\n",
        "# Esta clase dataset debe sobreescribir los métodos init, len y getitem\n",
        "class MyDatasetWithEmbddings(Dataset):\n",
        "  def __init__(self, x, x_userID, x_productID, y):\n",
        "    self.x = x\n",
        "    self.x_userID = x_userID\n",
        "    self.x_productID = x_productID\n",
        "    self.y = y\n",
        "\n",
        "  def __len__(self):\n",
        "    return self.x.shape[0]\n",
        "\n",
        "  def __getitem__(self, idx):\n",
        "    return self.x[idx], self.x_userID[idx], self.x_productID[idx], self.y[idx]"
      ]
    },
    {
      "cell_type": "code",
      "execution_count": 70,
      "metadata": {
        "id": "eGbN4tbtzU6o"
      },
      "outputs": [],
      "source": [
        "train_ds_embeddings = MyDatasetWithEmbddings(x_train, x_userID_train, x_productID_train, y_train)\n",
        "valid_ds_embeddings = MyDatasetWithEmbddings(x_valid, x_userID_valid, x_productID_valid, y_valid)"
      ]
    },
    {
      "cell_type": "code",
      "execution_count": 71,
      "metadata": {
        "id": "6sFTrMOJ073s"
      },
      "outputs": [],
      "source": [
        "# Pytorch utiliza DataLoader para entregar los dataset de a batches\n",
        "train_dataloader = DataLoader(train_ds_embeddings, batch_size = 128, shuffle= True)\n",
        "valid_dataloader = DataLoader(valid_ds_embeddings, batch_size = 128)"
      ]
    },
    {
      "cell_type": "markdown",
      "metadata": {
        "id": "-KNcY4ApllNa"
      },
      "source": [
        "### Arquitectura NNet Pytorch\n",
        "La red neuronal en Pytorch se define extendiendo torch.nn.Module"
      ]
    },
    {
      "cell_type": "code",
      "execution_count": 72,
      "metadata": {
        "id": "1B95zN1m5r6c"
      },
      "outputs": [],
      "source": [
        "class NNetWithEmbeddings(torch.nn.Module):\n",
        "\n",
        "  def __init__(self):\n",
        "    # Defino la arquitectura de la red\n",
        "    super().__init__()\n",
        "\n",
        "    global user_nuniques\n",
        "    global product_nuniques\n",
        "    dim_user = 8  # dimensiones del embedding de user\n",
        "    dim_product = 8  # dimensiones del embedding de product\n",
        "    \n",
        "    # Embeddings\n",
        "    self.emb_user = torch.nn.Embedding(num_embeddings=user_nuniques, embedding_dim=dim_user)\n",
        "    self.emb_product = torch.nn.Embedding(num_embeddings=product_nuniques, embedding_dim=dim_product)\n",
        "    \n",
        "    # NN architecture\n",
        "    self.linear_1 = torch.nn.Linear(in_features=33 + dim_user + dim_product, out_features=64, bias=True)\n",
        "    self.relu_1 = torch.nn.ReLU()\n",
        "    self.linear_2 = torch.nn.Linear(in_features = 64, out_features=64, bias=True)\n",
        "    self.relu_2 = torch.nn.ReLU()\n",
        "    self.linear_3 = torch.nn.Linear(in_features = 64, out_features=128, bias=True)\n",
        "    self.relu_3 = torch.nn.ReLU()\n",
        "    self.output = torch.nn.Linear(in_features = 128, out_features= 1, bias=True)\n",
        "\n",
        "  def forward(self, x, x_emb_user, x_emb_product):\n",
        "    values_emb_user = self.emb_user(x_emb_user)\n",
        "    values_emb_product = self.emb_product(x_emb_product)\n",
        "    x = torch.cat([x, values_emb_user, values_emb_product], dim=1)\n",
        "    x = self.linear_1(x)\n",
        "    x = self.relu_1(x)\n",
        "    x = self.linear_2(x)\n",
        "    x = self.relu_2(x)\n",
        "    x = self.linear_3(x)\n",
        "    x = self.relu_3(x)\n",
        "    x = self.output(x)\n",
        "    return x"
      ]
    },
    {
      "cell_type": "code",
      "execution_count": 73,
      "metadata": {
        "id": "QLOh2lz4_NXl"
      },
      "outputs": [],
      "source": [
        "# Instanciamos la red\n",
        "device = \"cpu\"\n",
        "nnetWithEmbeddings = NNetWithEmbeddings()\n",
        "nnetWithEmbeddings = nnetWithEmbeddings.to(device)"
      ]
    },
    {
      "cell_type": "markdown",
      "metadata": {
        "id": "T8sc7rsBmEBS"
      },
      "source": [
        "### Loss y optimizador\n",
        "- Como loss function utilizo BCE por ser un problema de clasificación binaria.\n",
        "\n",
        "**Nota**: la función sigmoid de salida no se definió en la arquitectura de la red neuronal porque utilizo BCEWithLogitsLoss que combina sigmoid+BCE. Hago esto para tener mejor estabilidad numérica: [link](https://pytorch.org/docs/stable/generated/torch.nn.BCEWithLogitsLoss.html).\n",
        "\n",
        "Podría utilizar BCELoss y agregar la capa sigmoid en la clase NNet\n",
        "\n",
        "- Como optimizador utilizo Adam"
      ]
    },
    {
      "cell_type": "code",
      "execution_count": 76,
      "metadata": {
        "id": "GjJ2wX6wChK4"
      },
      "outputs": [],
      "source": [
        "loss_function = torch.nn.BCEWithLogitsLoss(reduction='sum')\n",
        "optimizer = torch.optim.Adam(nnetWithEmbeddings.parameters(), lr=0.001, weight_decay=0.05)"
      ]
    },
    {
      "attachments": {},
      "cell_type": "markdown",
      "metadata": {
        "id": "7Tf8PPFRnlzk"
      },
      "source": [
        "## Entrenamiento y validación red neuronal\n",
        "\n",
        "Entreno con algoritmo Mini-Batch"
      ]
    },
    {
      "cell_type": "code",
      "execution_count": 77,
      "metadata": {
        "colab": {
          "base_uri": "https://localhost:8080/"
        },
        "id": "L9UeuiOmErqk",
        "outputId": "c96ede9c-e6ac-453e-cf48-a1ebc7a46cab"
      },
      "outputs": [
        {
          "name": "stdout",
          "output_type": "stream",
          "text": [
            " Epoch 0 | Train/Valid loss: 0.266 / 0.267 | Train/Valid accuracy: 0.881 / 0.881\n",
            " Epoch 1 | Train/Valid loss: 0.260 / 0.263 | Train/Valid accuracy: 0.884 / 0.882\n",
            " Epoch 2 | Train/Valid loss: 0.257 / 0.260 | Train/Valid accuracy: 0.885 / 0.882\n",
            " Epoch 3 | Train/Valid loss: 0.255 / 0.259 | Train/Valid accuracy: 0.886 / 0.884\n",
            " Epoch 4 | Train/Valid loss: 0.254 / 0.259 | Train/Valid accuracy: 0.886 / 0.883\n",
            " Epoch 5 | Train/Valid loss: 0.253 / 0.259 | Train/Valid accuracy: 0.886 / 0.883\n",
            " Epoch 6 | Train/Valid loss: 0.253 / 0.259 | Train/Valid accuracy: 0.887 / 0.883\n",
            " Epoch 7 | Train/Valid loss: 0.252 / 0.259 | Train/Valid accuracy: 0.887 / 0.883\n",
            " Epoch 8 | Train/Valid loss: 0.252 / 0.260 | Train/Valid accuracy: 0.887 / 0.883\n",
            " Epoch 9 | Train/Valid loss: 0.252 / 0.259 | Train/Valid accuracy: 0.887 / 0.884\n",
            " Epoch 10 | Train/Valid loss: 0.251 / 0.259 | Train/Valid accuracy: 0.887 / 0.883\n",
            " Epoch 11 | Train/Valid loss: 0.251 / 0.260 | Train/Valid accuracy: 0.888 / 0.883\n",
            " Epoch 12 | Train/Valid loss: 0.251 / 0.259 | Train/Valid accuracy: 0.887 / 0.883\n",
            " Epoch 13 | Train/Valid loss: 0.251 / 0.258 | Train/Valid accuracy: 0.887 / 0.884\n",
            " Epoch 14 | Train/Valid loss: 0.251 / 0.259 | Train/Valid accuracy: 0.888 / 0.884\n",
            " Epoch 15 | Train/Valid loss: 0.251 / 0.259 | Train/Valid accuracy: 0.888 / 0.883\n",
            " Epoch 16 | Train/Valid loss: 0.251 / 0.262 | Train/Valid accuracy: 0.888 / 0.882\n",
            " Epoch 17 | Train/Valid loss: 0.251 / 0.258 | Train/Valid accuracy: 0.888 / 0.885\n",
            " Epoch 18 | Train/Valid loss: 0.250 / 0.259 | Train/Valid accuracy: 0.888 / 0.884\n",
            " Epoch 19 | Train/Valid loss: 0.250 / 0.258 | Train/Valid accuracy: 0.888 / 0.883\n",
            " Epoch 20 | Train/Valid loss: 0.250 / 0.258 | Train/Valid accuracy: 0.888 / 0.884\n",
            " Epoch 21 | Train/Valid loss: 0.250 / 0.259 | Train/Valid accuracy: 0.888 / 0.883\n",
            " Epoch 22 | Train/Valid loss: 0.250 / 0.258 | Train/Valid accuracy: 0.888 / 0.884\n",
            " Epoch 23 | Train/Valid loss: 0.250 / 0.258 | Train/Valid accuracy: 0.888 / 0.885\n",
            " Epoch 24 | Train/Valid loss: 0.250 / 0.259 | Train/Valid accuracy: 0.888 / 0.884\n",
            " Epoch 25 | Train/Valid loss: 0.250 / 0.258 | Train/Valid accuracy: 0.888 / 0.884\n",
            " Epoch 26 | Train/Valid loss: 0.250 / 0.259 | Train/Valid accuracy: 0.888 / 0.884\n",
            " Epoch 27 | Train/Valid loss: 0.250 / 0.259 | Train/Valid accuracy: 0.888 / 0.883\n",
            " Epoch 28 | Train/Valid loss: 0.250 / 0.259 | Train/Valid accuracy: 0.888 / 0.883\n",
            " Epoch 29 | Train/Valid loss: 0.250 / 0.259 | Train/Valid accuracy: 0.888 / 0.883\n",
            " Epoch 30 | Train/Valid loss: 0.250 / 0.260 | Train/Valid accuracy: 0.888 / 0.884\n",
            " Epoch 31 | Train/Valid loss: 0.250 / 0.260 | Train/Valid accuracy: 0.888 / 0.881\n",
            " Epoch 32 | Train/Valid loss: 0.250 / 0.259 | Train/Valid accuracy: 0.888 / 0.883\n",
            " Epoch 33 | Train/Valid loss: 0.250 / 0.258 | Train/Valid accuracy: 0.888 / 0.884\n",
            " Epoch 34 | Train/Valid loss: 0.250 / 0.260 | Train/Valid accuracy: 0.888 / 0.883\n",
            " Epoch 35 | Train/Valid loss: 0.250 / 0.260 | Train/Valid accuracy: 0.888 / 0.882\n",
            " Epoch 36 | Train/Valid loss: 0.250 / 0.258 | Train/Valid accuracy: 0.888 / 0.884\n",
            " Epoch 37 | Train/Valid loss: 0.250 / 0.259 | Train/Valid accuracy: 0.888 / 0.884\n",
            " Epoch 38 | Train/Valid loss: 0.250 / 0.259 | Train/Valid accuracy: 0.888 / 0.883\n",
            " Epoch 39 | Train/Valid loss: 0.250 / 0.259 | Train/Valid accuracy: 0.888 / 0.883\n",
            " Epoch 40 | Train/Valid loss: 0.250 / 0.261 | Train/Valid accuracy: 0.888 / 0.882\n",
            " Epoch 41 | Train/Valid loss: 0.250 / 0.258 | Train/Valid accuracy: 0.888 / 0.883\n",
            " Epoch 42 | Train/Valid loss: 0.250 / 0.259 | Train/Valid accuracy: 0.888 / 0.883\n",
            " Epoch 43 | Train/Valid loss: 0.250 / 0.259 | Train/Valid accuracy: 0.888 / 0.883\n",
            " Epoch 44 | Train/Valid loss: 0.250 / 0.258 | Train/Valid accuracy: 0.888 / 0.884\n",
            " Epoch 45 | Train/Valid loss: 0.250 / 0.258 | Train/Valid accuracy: 0.888 / 0.885\n",
            " Epoch 46 | Train/Valid loss: 0.250 / 0.259 | Train/Valid accuracy: 0.888 / 0.884\n",
            " Epoch 47 | Train/Valid loss: 0.250 / 0.259 | Train/Valid accuracy: 0.888 / 0.883\n",
            " Epoch 48 | Train/Valid loss: 0.250 / 0.258 | Train/Valid accuracy: 0.888 / 0.884\n",
            " Epoch 49 | Train/Valid loss: 0.250 / 0.258 | Train/Valid accuracy: 0.888 / 0.884\n",
            " Epoch 50 | Train/Valid loss: 0.250 / 0.258 | Train/Valid accuracy: 0.888 / 0.883\n",
            " Epoch 51 | Train/Valid loss: 0.250 / 0.259 | Train/Valid accuracy: 0.888 / 0.884\n",
            " Epoch 52 | Train/Valid loss: 0.250 / 0.260 | Train/Valid accuracy: 0.888 / 0.883\n",
            " Epoch 53 | Train/Valid loss: 0.250 / 0.260 | Train/Valid accuracy: 0.888 / 0.883\n",
            " Epoch 54 | Train/Valid loss: 0.249 / 0.258 | Train/Valid accuracy: 0.888 / 0.884\n",
            " Epoch 55 | Train/Valid loss: 0.250 / 0.258 | Train/Valid accuracy: 0.888 / 0.884\n",
            " Epoch 56 | Train/Valid loss: 0.250 / 0.259 | Train/Valid accuracy: 0.888 / 0.883\n",
            " Epoch 57 | Train/Valid loss: 0.250 / 0.259 | Train/Valid accuracy: 0.888 / 0.883\n",
            " Epoch 58 | Train/Valid loss: 0.250 / 0.258 | Train/Valid accuracy: 0.888 / 0.884\n",
            " Epoch 59 | Train/Valid loss: 0.250 / 0.258 | Train/Valid accuracy: 0.888 / 0.883\n",
            " Epoch 60 | Train/Valid loss: 0.250 / 0.260 | Train/Valid accuracy: 0.888 / 0.883\n",
            " Epoch 61 | Train/Valid loss: 0.250 / 0.258 | Train/Valid accuracy: 0.888 / 0.884\n",
            " Epoch 62 | Train/Valid loss: 0.249 / 0.258 | Train/Valid accuracy: 0.889 / 0.883\n",
            " Epoch 63 | Train/Valid loss: 0.250 / 0.259 | Train/Valid accuracy: 0.888 / 0.884\n",
            " Epoch 64 | Train/Valid loss: 0.249 / 0.260 | Train/Valid accuracy: 0.888 / 0.883\n",
            " Epoch 65 | Train/Valid loss: 0.250 / 0.258 | Train/Valid accuracy: 0.888 / 0.884\n",
            " Epoch 66 | Train/Valid loss: 0.250 / 0.259 | Train/Valid accuracy: 0.889 / 0.883\n",
            " Epoch 67 | Train/Valid loss: 0.250 / 0.259 | Train/Valid accuracy: 0.888 / 0.884\n",
            " Epoch 68 | Train/Valid loss: 0.250 / 0.259 | Train/Valid accuracy: 0.888 / 0.884\n",
            " Epoch 69 | Train/Valid loss: 0.250 / 0.258 | Train/Valid accuracy: 0.888 / 0.885\n",
            " Epoch 70 | Train/Valid loss: 0.250 / 0.260 | Train/Valid accuracy: 0.888 / 0.883\n",
            " Epoch 71 | Train/Valid loss: 0.249 / 0.259 | Train/Valid accuracy: 0.888 / 0.883\n",
            " Epoch 72 | Train/Valid loss: 0.250 / 0.259 | Train/Valid accuracy: 0.888 / 0.884\n",
            " Epoch 73 | Train/Valid loss: 0.250 / 0.260 | Train/Valid accuracy: 0.888 / 0.882\n",
            " Epoch 74 | Train/Valid loss: 0.250 / 0.260 | Train/Valid accuracy: 0.888 / 0.883\n",
            " Epoch 75 | Train/Valid loss: 0.250 / 0.262 | Train/Valid accuracy: 0.888 / 0.883\n",
            " Epoch 76 | Train/Valid loss: 0.250 / 0.258 | Train/Valid accuracy: 0.888 / 0.884\n",
            " Epoch 77 | Train/Valid loss: 0.250 / 0.258 | Train/Valid accuracy: 0.888 / 0.884\n",
            " Epoch 78 | Train/Valid loss: 0.250 / 0.258 | Train/Valid accuracy: 0.888 / 0.885\n",
            " Epoch 79 | Train/Valid loss: 0.250 / 0.258 | Train/Valid accuracy: 0.888 / 0.885\n",
            " Epoch 80 | Train/Valid loss: 0.250 / 0.258 | Train/Valid accuracy: 0.888 / 0.884\n",
            " Epoch 81 | Train/Valid loss: 0.249 / 0.258 | Train/Valid accuracy: 0.888 / 0.884\n",
            " Epoch 82 | Train/Valid loss: 0.250 / 0.260 | Train/Valid accuracy: 0.888 / 0.884\n",
            " Epoch 83 | Train/Valid loss: 0.250 / 0.259 | Train/Valid accuracy: 0.888 / 0.884\n",
            " Epoch 84 | Train/Valid loss: 0.250 / 0.258 | Train/Valid accuracy: 0.888 / 0.884\n",
            " Epoch 85 | Train/Valid loss: 0.250 / 0.260 | Train/Valid accuracy: 0.888 / 0.883\n",
            " Epoch 86 | Train/Valid loss: 0.250 / 0.258 | Train/Valid accuracy: 0.888 / 0.884\n",
            " Epoch 87 | Train/Valid loss: 0.250 / 0.260 | Train/Valid accuracy: 0.888 / 0.884\n",
            " Epoch 88 | Train/Valid loss: 0.250 / 0.259 | Train/Valid accuracy: 0.888 / 0.884\n",
            " Epoch 89 | Train/Valid loss: 0.250 / 0.258 | Train/Valid accuracy: 0.888 / 0.884\n",
            " Epoch 90 | Train/Valid loss: 0.250 / 0.259 | Train/Valid accuracy: 0.889 / 0.885\n",
            " Epoch 91 | Train/Valid loss: 0.250 / 0.259 | Train/Valid accuracy: 0.888 / 0.884\n",
            " Epoch 92 | Train/Valid loss: 0.250 / 0.260 | Train/Valid accuracy: 0.888 / 0.884\n",
            " Epoch 93 | Train/Valid loss: 0.249 / 0.259 | Train/Valid accuracy: 0.888 / 0.884\n",
            " Epoch 94 | Train/Valid loss: 0.249 / 0.260 | Train/Valid accuracy: 0.888 / 0.883\n",
            " Epoch 95 | Train/Valid loss: 0.250 / 0.259 | Train/Valid accuracy: 0.888 / 0.884\n",
            " Epoch 96 | Train/Valid loss: 0.250 / 0.259 | Train/Valid accuracy: 0.888 / 0.884\n",
            " Epoch 97 | Train/Valid loss: 0.250 / 0.257 | Train/Valid accuracy: 0.888 / 0.885\n",
            " Epoch 98 | Train/Valid loss: 0.250 / 0.259 | Train/Valid accuracy: 0.888 / 0.883\n",
            " Epoch 99 | Train/Valid loss: 0.250 / 0.257 | Train/Valid accuracy: 0.888 / 0.884\n"
          ]
        }
      ],
      "source": [
        "# cantidad de epochs\n",
        "epochs = 100\n",
        "\n",
        "train_loss_by_epoch=[]\n",
        "valid_loss_by_epoch=[]\n",
        "\n",
        "# Doble loop algoritmo Mini-Batch\n",
        "for epoch in range(epochs):\n",
        "  \n",
        "  ############################################\n",
        "  ## Entrenamiento\n",
        "  ############################################\n",
        "  nnetWithEmbeddings.train(True)\n",
        "\n",
        "  epoch_loss = 0\n",
        "  epoch_y_hat = []\n",
        "  epoch_y = []\n",
        "  \n",
        "  for i,data in enumerate(train_dataloader):\n",
        "    # Obtengo los datos del batch de entrenamiento\n",
        "    x_batch, x_user_batch, x_product_batch, y_batch = data\n",
        "    # Copio el batch al dispositivo donde entreno la red neuronal\n",
        "    x_batch = x_batch.to(device).float()\n",
        "    x_user_batch = x_user_batch.to(device).int()\n",
        "    x_product_batch = x_product_batch.to(device).int()\n",
        "    y_batch = y_batch.to(device).float().reshape(-1, 1)\n",
        "\n",
        "    # Paso forward\n",
        "    # Limpio optimizer para empezar un nuevo cálculo de gradiente\n",
        "    optimizer.zero_grad()\n",
        "    nnet_output = nnetWithEmbeddings(x_batch, x_user_batch, x_product_batch)\n",
        "    y_batch_hat = torch.sigmoid(nnet_output)\n",
        "    \n",
        "    # Calculo el loss\n",
        "    loss = loss_function(nnet_output, y_batch)\n",
        "\n",
        "    # Backpropagation\n",
        "    loss.backward()\n",
        "\n",
        "    # Actualizar los parámetros\n",
        "    optimizer.step()\n",
        "\n",
        "    # Almaceno los valores reales y mis predicciones para cálcular las métricas\n",
        "    epoch_y += list(y_batch.detach().cpu().numpy())\n",
        "    epoch_y_hat += list(y_batch_hat.detach().cpu().numpy())\n",
        "    # Acumulo la loss del batch\n",
        "    epoch_loss = epoch_loss + loss.item()\n",
        "\n",
        "  # Calculo la media de la loss\n",
        "  epoch_loss = epoch_loss / n_train\n",
        "  # Almaceno la loss de la epoch para graficar\n",
        "  train_loss_by_epoch.append(epoch_loss)\n",
        "  # Cálculo la métrica de la epoch\n",
        "  accuracy = metrics.accuracy_score(epoch_y, [j>=0.5 for j in epoch_y_hat])\n",
        "\n",
        "  ############################################\n",
        "  ## Validación\n",
        "  ############################################\n",
        "  # Desactivo el cálculo de gradiente para validación\n",
        "  nnetWithEmbeddings.train(False)\n",
        "\n",
        "  valid_epoch_loss = 0\n",
        "  valid_epoch_y_hat = []\n",
        "  valid_epoch_y = []\n",
        "\n",
        "  for i,data in enumerate(valid_dataloader):\n",
        "    # Obtengo los datos del batch de validación\n",
        "    x_batch, x_user_batch, x_product_batch, y_batch = data\n",
        "    # Copio el batch al dispositivo donde entreno la red neuronal\n",
        "    x_batch = x_batch.to(device).float()\n",
        "    x_user_batch = x_user_batch.to(device).int()\n",
        "    x_product_batch = x_product_batch.to(device).int()\n",
        "    y_batch = y_batch.to(device).float().reshape(-1, 1)\n",
        "\n",
        "    # Paso forward\n",
        "    nnet_output = nnetWithEmbeddings(x_batch, x_user_batch, x_product_batch)\n",
        "    y_batch_hat = torch.sigmoid(nnet_output)\n",
        "    \n",
        "    # Calculo el loss\n",
        "    loss = loss_function(nnet_output, y_batch)\n",
        "\n",
        "    # En validación no hago backpropagation!!\n",
        "\n",
        "    # Almaceno los valores reales y mis predicciones para cálcular las métricas\n",
        "    valid_epoch_y += list(y_batch.detach().cpu().numpy())\n",
        "    valid_epoch_y_hat += list(y_batch_hat.detach().cpu().numpy())\n",
        "    # Acumulo la loss del batch\n",
        "    valid_epoch_loss = valid_epoch_loss + loss.item()\n",
        "\n",
        "  # Calculo la media de la loss\n",
        "  valid_epoch_loss = valid_epoch_loss / n_valid\n",
        "  # Almaceno la loss de la epoch para graficar\n",
        "  valid_loss_by_epoch.append(valid_epoch_loss)\n",
        "  # Cálculo la métrica de la epoch\n",
        "  valid_accuracy = metrics.accuracy_score(valid_epoch_y, [j>=0.5 for j in valid_epoch_y_hat])\n",
        "\n",
        "  ############################################\n",
        "  ## Impresión de resultados por epoch\n",
        "  ############################################\n",
        "  print(f\" Epoch {epoch} | \" \\\n",
        "        f\"Train/Valid loss: {epoch_loss:.3f} / {valid_epoch_loss:.3f} | \" \\\n",
        "        f\"Train/Valid accuracy: {accuracy:.3f} / {valid_accuracy:.3f}\")"
      ]
    },
    {
      "attachments": {},
      "cell_type": "markdown",
      "metadata": {},
      "source": [
        "## Resultados"
      ]
    },
    {
      "cell_type": "code",
      "execution_count": 78,
      "metadata": {
        "colab": {
          "base_uri": "https://localhost:8080/",
          "height": 312
        },
        "id": "AOmgUAKKGH05",
        "outputId": "4d66afeb-299d-4df9-c682-4d473b3d0c5a"
      },
      "outputs": [
        {
          "data": {
            "image/png": "[encoded data removed]",
            "text/plain": [
              "<Figure size 1296x432 with 3 Axes>"
            ]
          },
          "metadata": {
            "needs_background": "light"
          },
          "output_type": "display_data"
        }
      ],
      "source": [
        "plt.figure(figsize=(18,6))\n",
        "ax1= plt.subplot(1,2,1)\n",
        "ax1.plot(train_loss_by_epoch, label=\"Train loss\")\n",
        "ax1.plot(valid_loss_by_epoch, label=\"Validation loss\")\n",
        "ax1.legend()\n",
        "ax1.set_title(\"Loss by epoch\")\n",
        "ax1.set_xlabel(\"epoch\")\n",
        "ax1.set_ylabel(\"BCE\")\n",
        "ax2= plt.subplot(1,2,2)\n",
        "cm = metrics.confusion_matrix(valid_epoch_y, [j>=0.5 for j in valid_epoch_y_hat])\n",
        "sns.heatmap(cm, annot=True, fmt='g', ax=ax2)\n",
        "plt.title('Confusion matrix')\n",
        "plt.xlabel('Predicted value')\n",
        "plt.ylabel('True value')\n",
        "plt.show()"
      ]
    }
  ],
  "metadata": {
    "accelerator": "GPU",
    "colab": {
      "provenance": [],
      "toc_visible": true
    },
    "gpuClass": "standard",
    "kernelspec": {
      "display_name": "pytorch",
      "language": "python",
      "name": "python3"
    },
    "language_info": {
      "codemirror_mode": {
        "name": "ipython",
        "version": 3
      },
      "file_extension": ".py",
      "mimetype": "text/x-python",
      "name": "python",
      "nbconvert_exporter": "python",
      "pygments_lexer": "ipython3",
      "version": "3.10.6"
    },
    "vscode": {
      "interpreter": {
        "hash": "b49e0765e4a16a08c24abfcabbb0a59b7391929f6c139a67008d70625e2fd730"
      }
    }
  },
  "nbformat": 4,
  "nbformat_minor": 0
}
